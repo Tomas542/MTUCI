{
 "cells": [
  {
   "cell_type": "code",
   "execution_count": 1,
   "metadata": {},
   "outputs": [],
   "source": [
    "import math as m"
   ]
  },
  {
   "cell_type": "code",
   "execution_count": 2,
   "metadata": {},
   "outputs": [
    {
     "name": "stdout",
     "output_type": "stream",
     "text": [
      "Длина здания = 15.59 м, ширина = 41.31 м, общая площадь = 3220.115 м^2, общая рабочая площадь = 1932.069 м^2, размер аппаратной = 14.000 м^2\n"
     ]
    }
   ],
   "source": [
    "# modify_it\n",
    "length = (6.37 * 2 + 2.85)\n",
    "width = (3.4 + 2.9 + 5.9 + 2.83 + 2.88 + 2.9 + 2.85 + 5.7 + 5.6 + 6.35)\n",
    "floor = 5\n",
    "# stop_modifying\n",
    "\n",
    "square = length * width * floor\n",
    "working_square = 0.6 * square\n",
    "\n",
    "apparat = max(working_square * 0.007, 14)\n",
    "\n",
    "print(f\"Длина здания = {length} м, ширина = {width} м, общая площадь = {square:.3f} м^2, общая рабочая площадь = {working_square:.3f} м^2, \\\n",
    "размер аппаратной = {apparat:.3f} м^2\")"
   ]
  },
  {
   "cell_type": "code",
   "execution_count": 3,
   "metadata": {},
   "outputs": [
    {
     "name": "stdout",
     "output_type": "stream",
     "text": [
      "кол-во ИР = 483, кол-во рабочих мест = 96, площадь КЭ = 6.720 м^2,\n",
      "совмещённое помещение аппаратной и кроссовой должно быть не менее 20.720 м^2\n"
     ]
    }
   ],
   "source": [
    "N = working_square / 4\n",
    "\n",
    "#если 250, то нужна 2 кроссовых, но такого быть не должно в теории\n",
    "num_of_working_space = m.floor(min(N / floor, 250))\n",
    "\n",
    "square_ke = max(num_of_working_space * 0.07, 6)\n",
    "print(f\"кол-во ИР = {m.floor(N)}, кол-во рабочих мест = {m.floor(num_of_working_space)}, площадь КЭ = {square_ke:.3f} м^2,\\n\\\n",
    "совмещённое помещение аппаратной и кроссовой должно быть не менее {(square_ke+apparat):.3f} м^2\")"
   ]
  },
  {
   "cell_type": "code",
   "execution_count": 7,
   "metadata": {},
   "outputs": [
    {
     "name": "stdout",
     "output_type": "stream",
     "text": [
      "48.160000000000004\n",
      "Расстояние до самой дальней розетки = 48.160 м, до ближайшей = 18.150 м, средняя длина = 36.870 м,\n",
      "кол-во кабельный пробросов = 8, кол-во розеточных модулей = 192, кол-во упаковок кабеля = 24,\n",
      "общая длина кабеля на этаж = 7320 м, общая длина кабеля на здание = 36600 м\n"
     ]
    }
   ],
   "source": [
    "# modify_it\n",
    "down = 3 + 1 + 3.5 + 2 + 2.85 + 1.88 + 2.9 + 2.85 + 5.7 + 5.6 + 1 + 1 + 6.35 + 6\n",
    "up = 3 + 1 + 3.5 + 2 + 2.85 + 1.88 + 2.9 + 2.85 + 5.7 + 5.6 + 2.8 + 1.5 + 6.38 + 6.2\n",
    "\n",
    "print(up)\n",
    "l_max = max(up, down)\n",
    "\n",
    "l_min = 3 + 1 + 3.5 + 2 + 2.85 + 1.2 + 2 + 2.6\n",
    "# stop_modifying\n",
    "\n",
    "k = 1.1\n",
    "x = 0.4\n",
    "l = ((l_max + l_min) / 2) * k + x\n",
    "\n",
    "l_cb = 305\n",
    "n_cl = m.floor(l_cb / l)\n",
    "\n",
    "n = num_of_working_space * 2\n",
    "n_box = m.ceil(n / n_cl)\n",
    "\n",
    "l_sum = l_cb * n_box\n",
    "l_sum_total = l_sum * floor\n",
    "\n",
    "print(f\"Расстояние до самой дальней розетки = {l_max:.3f} м, до ближайшей = {l_min:.3f} м, средняя длина = {l:.3f} м,\\n\\\n",
    "кол-во кабельный пробросов = {n_cl}, кол-во розеточных модулей = {n}, кол-во упаковок кабеля = {n_box},\\n\\\n",
    "общая длина кабеля на этаж = {l_sum} м, общая длина кабеля на здание = {l_sum_total} м\")"
   ]
  },
  {
   "cell_type": "code",
   "execution_count": null,
   "metadata": {},
   "outputs": [],
   "source": [
    "def diff(s1:str, s2:str) -> int:\n",
    "    diff_count = 0\n",
    "    for i in range(len(s1)):\n",
    "        if s1[i] != s2[i]:\n",
    "            diff_count += 1\n",
    "    return 0\n"
   ]
  }
 ],
 "metadata": {
  "kernelspec": {
   "display_name": ".venv",
   "language": "python",
   "name": "python3"
  },
  "language_info": {
   "codemirror_mode": {
    "name": "ipython",
    "version": 3
   },
   "file_extension": ".py",
   "mimetype": "text/x-python",
   "name": "python",
   "nbconvert_exporter": "python",
   "pygments_lexer": "ipython3",
   "version": "3.9.7"
  },
  "orig_nbformat": 4
 },
 "nbformat": 4,
 "nbformat_minor": 2
}
