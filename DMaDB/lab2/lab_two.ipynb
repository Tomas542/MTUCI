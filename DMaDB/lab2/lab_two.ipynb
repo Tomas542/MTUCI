{
 "cells": [
  {
   "cell_type": "markdown",
   "metadata": {},
   "source": [
    "# Lab2\n",
    "\n",
    "## Artyom Iudin BVT2101\n",
    "\n",
    "<div class=\"alert alert-block alert-info\">\n",
    "<b>Chapter navigation</b> isn't working on github. Download .ipynb to use it.\n",
    "\n",
    "If it is still not working close tab with notebook and open it again.\n",
    "</div>"
   ]
  },
  {
   "cell_type": "markdown",
   "metadata": {},
   "source": [
    "# Chapters <a class=\"anchor\" id=\"chapters\"></a>\n",
    "0. [Import](#import)\n",
    "1. [Tail of CSV](#tail)\n",
    "2. [How many rows and how many unique item names](#item_name)\n",
    "3. [Is there null values?](#null_val)\n",
    "4. [Price column](#price_col)\n",
    "5. [Top 5 items](#top_five)\n",
    "6. [One chicken bowl](#chicken_bowl)\n",
    "7. [Mean price for order and mean quantity](#order_id)\n",
    "8. [Only 1 quantity in order](#one_quantity)\n",
    "9. [Most popular item name](#most_popular_item)\n",
    "10. [Self-made DataFrame](#df_np)\n",
    "11. [Hist plots](#hists)\n",
    "12. [Sum dependece of days](#plot)\n",
    "13. [Scatter plot](#scatter)\n",
    "      1. [In general](#in_general)\n",
    "      2. [Per order](#per_order)"
   ]
  },
  {
   "cell_type": "markdown",
   "metadata": {},
   "source": [
    "# 0. [Import](#chapters) <a class=\"anchor\" id=\"import\"></a>"
   ]
  },
  {
   "cell_type": "code",
   "execution_count": 1,
   "metadata": {},
   "outputs": [],
   "source": [
    "import numpy as np              # for 10 task\n",
    "import pandas as pd\n",
    "import matplotlib.pyplot as plt # for 11 task"
   ]
  },
  {
   "cell_type": "markdown",
   "metadata": {},
   "source": [
    "# 1. [Tail of CSV](#chapters) <a class=\"anchor\" id=\"tail\"></a>"
   ]
  },
  {
   "cell_type": "code",
   "execution_count": 2,
   "metadata": {},
   "outputs": [
    {
     "data": {
      "text/html": [
       "<div>\n",
       "<style scoped>\n",
       "    .dataframe tbody tr th:only-of-type {\n",
       "        vertical-align: middle;\n",
       "    }\n",
       "\n",
       "    .dataframe tbody tr th {\n",
       "        vertical-align: top;\n",
       "    }\n",
       "\n",
       "    .dataframe thead th {\n",
       "        text-align: right;\n",
       "    }\n",
       "</style>\n",
       "<table border=\"1\" class=\"dataframe\">\n",
       "  <thead>\n",
       "    <tr style=\"text-align: right;\">\n",
       "      <th></th>\n",
       "      <th>order_id</th>\n",
       "      <th>quantity</th>\n",
       "      <th>item_name</th>\n",
       "      <th>choice_description</th>\n",
       "      <th>item_price</th>\n",
       "    </tr>\n",
       "  </thead>\n",
       "  <tbody>\n",
       "    <tr>\n",
       "      <th>4617</th>\n",
       "      <td>1833</td>\n",
       "      <td>1</td>\n",
       "      <td>Steak Burrito</td>\n",
       "      <td>[Fresh Tomato Salsa, [Rice, Black Beans, Sour ...</td>\n",
       "      <td>$11.75</td>\n",
       "    </tr>\n",
       "    <tr>\n",
       "      <th>4618</th>\n",
       "      <td>1833</td>\n",
       "      <td>1</td>\n",
       "      <td>Steak Burrito</td>\n",
       "      <td>[Fresh Tomato Salsa, [Rice, Sour Cream, Cheese...</td>\n",
       "      <td>$11.75</td>\n",
       "    </tr>\n",
       "    <tr>\n",
       "      <th>4619</th>\n",
       "      <td>1834</td>\n",
       "      <td>1</td>\n",
       "      <td>Chicken Salad Bowl</td>\n",
       "      <td>[Fresh Tomato Salsa, [Fajita Vegetables, Pinto...</td>\n",
       "      <td>$11.25</td>\n",
       "    </tr>\n",
       "    <tr>\n",
       "      <th>4620</th>\n",
       "      <td>1834</td>\n",
       "      <td>1</td>\n",
       "      <td>Chicken Salad Bowl</td>\n",
       "      <td>[Fresh Tomato Salsa, [Fajita Vegetables, Lettu...</td>\n",
       "      <td>$8.75</td>\n",
       "    </tr>\n",
       "    <tr>\n",
       "      <th>4621</th>\n",
       "      <td>1834</td>\n",
       "      <td>1</td>\n",
       "      <td>Chicken Salad Bowl</td>\n",
       "      <td>[Fresh Tomato Salsa, [Fajita Vegetables, Pinto...</td>\n",
       "      <td>$8.75</td>\n",
       "    </tr>\n",
       "  </tbody>\n",
       "</table>\n",
       "</div>"
      ],
      "text/plain": [
       "      order_id  quantity           item_name  \\\n",
       "4617      1833         1       Steak Burrito   \n",
       "4618      1833         1       Steak Burrito   \n",
       "4619      1834         1  Chicken Salad Bowl   \n",
       "4620      1834         1  Chicken Salad Bowl   \n",
       "4621      1834         1  Chicken Salad Bowl   \n",
       "\n",
       "                                     choice_description item_price  \n",
       "4617  [Fresh Tomato Salsa, [Rice, Black Beans, Sour ...    $11.75   \n",
       "4618  [Fresh Tomato Salsa, [Rice, Sour Cream, Cheese...    $11.75   \n",
       "4619  [Fresh Tomato Salsa, [Fajita Vegetables, Pinto...    $11.25   \n",
       "4620  [Fresh Tomato Salsa, [Fajita Vegetables, Lettu...     $8.75   \n",
       "4621  [Fresh Tomato Salsa, [Fajita Vegetables, Pinto...     $8.75   "
      ]
     },
     "execution_count": 2,
     "metadata": {},
     "output_type": "execute_result"
    }
   ],
   "source": [
    "df = pd.read_csv('../datasets/data.csv')\n",
    "df.tail()"
   ]
  },
  {
   "cell_type": "markdown",
   "metadata": {},
   "source": [
    "# 2. [How many rows and how many unique item names](#chapters) <a class=\"anchor\" id=\"item_name\"></a>"
   ]
  },
  {
   "cell_type": "code",
   "execution_count": 3,
   "metadata": {},
   "outputs": [
    {
     "name": "stdout",
     "output_type": "stream",
     "text": [
      "There are 1834 sales in the table\n"
     ]
    }
   ],
   "source": [
    "print(f\"There are {df.order_id.value_counts().count()} sales in the table\")"
   ]
  },
  {
   "cell_type": "code",
   "execution_count": 4,
   "metadata": {},
   "outputs": [
    {
     "name": "stdout",
     "output_type": "stream",
     "text": [
      "There are 50 unique sales\n"
     ]
    }
   ],
   "source": [
    "print(f\"There are {df.item_name.value_counts().count()} unique sales\")"
   ]
  },
  {
   "cell_type": "markdown",
   "metadata": {},
   "source": [
    "# 3. [Is there null values?](#chapters) <a class=\"anchor\" id=\"null_val\"></a>"
   ]
  },
  {
   "cell_type": "code",
   "execution_count": 5,
   "metadata": {},
   "outputs": [
    {
     "data": {
      "text/plain": [
       "order_id                 0\n",
       "quantity                 0\n",
       "item_name                0\n",
       "choice_description    1246\n",
       "item_price               0\n",
       "dtype: int64"
      ]
     },
     "execution_count": 5,
     "metadata": {},
     "output_type": "execute_result"
    }
   ],
   "source": [
    "df.isnull().sum()"
   ]
  },
  {
   "cell_type": "markdown",
   "metadata": {},
   "source": [
    "In 'choice_description'"
   ]
  },
  {
   "cell_type": "code",
   "execution_count": 6,
   "metadata": {},
   "outputs": [],
   "source": [
    "df.fillna({'choice_description':\"\"}, inplace=True)"
   ]
  },
  {
   "cell_type": "code",
   "execution_count": 7,
   "metadata": {},
   "outputs": [
    {
     "data": {
      "text/plain": [
       "order_id              0\n",
       "quantity              0\n",
       "item_name             0\n",
       "choice_description    0\n",
       "item_price            0\n",
       "dtype: int64"
      ]
     },
     "execution_count": 7,
     "metadata": {},
     "output_type": "execute_result"
    }
   ],
   "source": [
    "df.isnull().sum()"
   ]
  },
  {
   "cell_type": "markdown",
   "metadata": {},
   "source": [
    "# 4. [Price column](#chapters) <a class=\"anchor\" id=\"price_col\"></a>"
   ]
  },
  {
   "cell_type": "code",
   "execution_count": 8,
   "metadata": {},
   "outputs": [
    {
     "name": "stdout",
     "output_type": "stream",
     "text": [
      "Price column type is object\n"
     ]
    }
   ],
   "source": [
    "print(f\"Price column type is {df['item_price'].dtype}\")"
   ]
  },
  {
   "cell_type": "markdown",
   "metadata": {},
   "source": [
    "It is object (string)"
   ]
  },
  {
   "cell_type": "code",
   "execution_count": 9,
   "metadata": {},
   "outputs": [
    {
     "data": {
      "text/html": [
       "<div>\n",
       "<style scoped>\n",
       "    .dataframe tbody tr th:only-of-type {\n",
       "        vertical-align: middle;\n",
       "    }\n",
       "\n",
       "    .dataframe tbody tr th {\n",
       "        vertical-align: top;\n",
       "    }\n",
       "\n",
       "    .dataframe thead th {\n",
       "        text-align: right;\n",
       "    }\n",
       "</style>\n",
       "<table border=\"1\" class=\"dataframe\">\n",
       "  <thead>\n",
       "    <tr style=\"text-align: right;\">\n",
       "      <th></th>\n",
       "      <th>order_id</th>\n",
       "      <th>quantity</th>\n",
       "      <th>item_name</th>\n",
       "      <th>choice_description</th>\n",
       "      <th>item_price</th>\n",
       "      <th>prices</th>\n",
       "    </tr>\n",
       "  </thead>\n",
       "  <tbody>\n",
       "    <tr>\n",
       "      <th>735</th>\n",
       "      <td>304</td>\n",
       "      <td>1</td>\n",
       "      <td>Canned Soft Drink</td>\n",
       "      <td>[Sprite]</td>\n",
       "      <td>$1.25</td>\n",
       "      <td>1.25</td>\n",
       "    </tr>\n",
       "    <tr>\n",
       "      <th>1613</th>\n",
       "      <td>652</td>\n",
       "      <td>1</td>\n",
       "      <td>Chicken Burrito</td>\n",
       "      <td>[Fresh Tomato Salsa (Mild), [Black Beans, Rice...</td>\n",
       "      <td>$10.98</td>\n",
       "      <td>10.98</td>\n",
       "    </tr>\n",
       "    <tr>\n",
       "      <th>180</th>\n",
       "      <td>81</td>\n",
       "      <td>1</td>\n",
       "      <td>Canned Soda</td>\n",
       "      <td>[Dr. Pepper]</td>\n",
       "      <td>$1.09</td>\n",
       "      <td>1.09</td>\n",
       "    </tr>\n",
       "    <tr>\n",
       "      <th>3821</th>\n",
       "      <td>1532</td>\n",
       "      <td>1</td>\n",
       "      <td>Veggie Burrito</td>\n",
       "      <td>[[Tomatillo-Green Chili Salsa (Medium), Roaste...</td>\n",
       "      <td>$8.49</td>\n",
       "      <td>8.49</td>\n",
       "    </tr>\n",
       "    <tr>\n",
       "      <th>2056</th>\n",
       "      <td>829</td>\n",
       "      <td>1</td>\n",
       "      <td>Canned Soft Drink</td>\n",
       "      <td>[Sprite]</td>\n",
       "      <td>$1.25</td>\n",
       "      <td>1.25</td>\n",
       "    </tr>\n",
       "    <tr>\n",
       "      <th>4483</th>\n",
       "      <td>1786</td>\n",
       "      <td>1</td>\n",
       "      <td>Chicken Bowl</td>\n",
       "      <td>[Fresh Tomato Salsa, [Rice, Pinto Beans, Chees...</td>\n",
       "      <td>$11.25</td>\n",
       "      <td>11.25</td>\n",
       "    </tr>\n",
       "    <tr>\n",
       "      <th>31</th>\n",
       "      <td>16</td>\n",
       "      <td>1</td>\n",
       "      <td>Steak Burrito</td>\n",
       "      <td>[[Roasted Chili Corn Salsa (Medium), Fresh Tom...</td>\n",
       "      <td>$8.99</td>\n",
       "      <td>8.99</td>\n",
       "    </tr>\n",
       "    <tr>\n",
       "      <th>975</th>\n",
       "      <td>400</td>\n",
       "      <td>1</td>\n",
       "      <td>Chicken Bowl</td>\n",
       "      <td>[Tomatillo Red Chili Salsa, [Rice, Black Beans...</td>\n",
       "      <td>$11.25</td>\n",
       "      <td>11.25</td>\n",
       "    </tr>\n",
       "    <tr>\n",
       "      <th>741</th>\n",
       "      <td>305</td>\n",
       "      <td>1</td>\n",
       "      <td>Steak Burrito</td>\n",
       "      <td>[Roasted Chili Corn Salsa]</td>\n",
       "      <td>$9.25</td>\n",
       "      <td>9.25</td>\n",
       "    </tr>\n",
       "    <tr>\n",
       "      <th>94</th>\n",
       "      <td>41</td>\n",
       "      <td>1</td>\n",
       "      <td>Chips and Guacamole</td>\n",
       "      <td></td>\n",
       "      <td>$4.45</td>\n",
       "      <td>4.45</td>\n",
       "    </tr>\n",
       "  </tbody>\n",
       "</table>\n",
       "</div>"
      ],
      "text/plain": [
       "      order_id  quantity            item_name  \\\n",
       "735        304         1    Canned Soft Drink   \n",
       "1613       652         1      Chicken Burrito   \n",
       "180         81         1          Canned Soda   \n",
       "3821      1532         1       Veggie Burrito   \n",
       "2056       829         1    Canned Soft Drink   \n",
       "4483      1786         1         Chicken Bowl   \n",
       "31          16         1        Steak Burrito   \n",
       "975        400         1         Chicken Bowl   \n",
       "741        305         1        Steak Burrito   \n",
       "94          41         1  Chips and Guacamole   \n",
       "\n",
       "                                     choice_description item_price  prices  \n",
       "735                                            [Sprite]     $1.25     1.25  \n",
       "1613  [Fresh Tomato Salsa (Mild), [Black Beans, Rice...    $10.98    10.98  \n",
       "180                                        [Dr. Pepper]     $1.09     1.09  \n",
       "3821  [[Tomatillo-Green Chili Salsa (Medium), Roaste...     $8.49     8.49  \n",
       "2056                                           [Sprite]     $1.25     1.25  \n",
       "4483  [Fresh Tomato Salsa, [Rice, Pinto Beans, Chees...    $11.25    11.25  \n",
       "31    [[Roasted Chili Corn Salsa (Medium), Fresh Tom...     $8.99     8.99  \n",
       "975   [Tomatillo Red Chili Salsa, [Rice, Black Beans...    $11.25    11.25  \n",
       "741                          [Roasted Chili Corn Salsa]     $9.25     9.25  \n",
       "94                                                          $4.45     4.45  "
      ]
     },
     "execution_count": 9,
     "metadata": {},
     "output_type": "execute_result"
    }
   ],
   "source": [
    "df['prices'] = df['item_price'].replace('[\\$,]', '', regex=True).astype(np.float32)\n",
    "df.sample(10)"
   ]
  },
  {
   "cell_type": "code",
   "execution_count": 10,
   "metadata": {},
   "outputs": [
    {
     "name": "stdout",
     "output_type": "stream",
     "text": [
      "Mean price = 7.46, min = 1.090000033378601, max = 44.25\n"
     ]
    }
   ],
   "source": [
    "prices_stats = df['prices'].describe()\n",
    "print(f\"Mean price = {prices_stats['mean']:.2f},\\\n",
    " min = {prices_stats['min']}, max = {prices_stats['max']}\")"
   ]
  },
  {
   "cell_type": "code",
   "execution_count": 11,
   "metadata": {},
   "outputs": [
    {
     "data": {
      "text/html": [
       "<div>\n",
       "<style scoped>\n",
       "    .dataframe tbody tr th:only-of-type {\n",
       "        vertical-align: middle;\n",
       "    }\n",
       "\n",
       "    .dataframe tbody tr th {\n",
       "        vertical-align: top;\n",
       "    }\n",
       "\n",
       "    .dataframe thead th {\n",
       "        text-align: right;\n",
       "    }\n",
       "</style>\n",
       "<table border=\"1\" class=\"dataframe\">\n",
       "  <thead>\n",
       "    <tr style=\"text-align: right;\">\n",
       "      <th></th>\n",
       "      <th>order_id</th>\n",
       "      <th>quantity</th>\n",
       "      <th>item_name</th>\n",
       "      <th>choice_description</th>\n",
       "      <th>prices</th>\n",
       "    </tr>\n",
       "  </thead>\n",
       "  <tbody>\n",
       "    <tr>\n",
       "      <th>2580</th>\n",
       "      <td>1023</td>\n",
       "      <td>2</td>\n",
       "      <td>Chicken Bowl</td>\n",
       "      <td>[[Roasted Chili Corn Salsa (Medium), Fresh Tom...</td>\n",
       "      <td>16.98</td>\n",
       "    </tr>\n",
       "    <tr>\n",
       "      <th>3100</th>\n",
       "      <td>1236</td>\n",
       "      <td>1</td>\n",
       "      <td>Chips and Guacamole</td>\n",
       "      <td></td>\n",
       "      <td>3.99</td>\n",
       "    </tr>\n",
       "    <tr>\n",
       "      <th>1151</th>\n",
       "      <td>475</td>\n",
       "      <td>1</td>\n",
       "      <td>Barbacoa Burrito</td>\n",
       "      <td>[Tomatillo Green Chili Salsa, [Rice, Black Bea...</td>\n",
       "      <td>9.25</td>\n",
       "    </tr>\n",
       "    <tr>\n",
       "      <th>2867</th>\n",
       "      <td>1140</td>\n",
       "      <td>1</td>\n",
       "      <td>Chicken Bowl</td>\n",
       "      <td>[Tomatillo Red Chili Salsa, [Rice, Black Beans...</td>\n",
       "      <td>8.75</td>\n",
       "    </tr>\n",
       "    <tr>\n",
       "      <th>2686</th>\n",
       "      <td>1067</td>\n",
       "      <td>1</td>\n",
       "      <td>Carnitas Burrito</td>\n",
       "      <td>[Fresh Tomato Salsa, [Cheese, Lettuce]]</td>\n",
       "      <td>9.25</td>\n",
       "    </tr>\n",
       "    <tr>\n",
       "      <th>3962</th>\n",
       "      <td>1587</td>\n",
       "      <td>1</td>\n",
       "      <td>Canned Soft Drink</td>\n",
       "      <td>[Coke]</td>\n",
       "      <td>1.25</td>\n",
       "    </tr>\n",
       "    <tr>\n",
       "      <th>157</th>\n",
       "      <td>71</td>\n",
       "      <td>1</td>\n",
       "      <td>Veggie Bowl</td>\n",
       "      <td>[Tomatillo Red Chili Salsa, [Fajita Vegetables...</td>\n",
       "      <td>11.25</td>\n",
       "    </tr>\n",
       "    <tr>\n",
       "      <th>450</th>\n",
       "      <td>195</td>\n",
       "      <td>1</td>\n",
       "      <td>Barbacoa Burrito</td>\n",
       "      <td>[Fresh Tomato Salsa, [Fajita Vegetables, Rice,...</td>\n",
       "      <td>11.75</td>\n",
       "    </tr>\n",
       "    <tr>\n",
       "      <th>3655</th>\n",
       "      <td>1461</td>\n",
       "      <td>1</td>\n",
       "      <td>Chicken Bowl</td>\n",
       "      <td>[Fresh Tomato Salsa, [Fajita Vegetables, Rice,...</td>\n",
       "      <td>11.25</td>\n",
       "    </tr>\n",
       "    <tr>\n",
       "      <th>4195</th>\n",
       "      <td>1674</td>\n",
       "      <td>1</td>\n",
       "      <td>Chips and Guacamole</td>\n",
       "      <td></td>\n",
       "      <td>4.45</td>\n",
       "    </tr>\n",
       "  </tbody>\n",
       "</table>\n",
       "</div>"
      ],
      "text/plain": [
       "      order_id  quantity            item_name  \\\n",
       "2580      1023         2         Chicken Bowl   \n",
       "3100      1236         1  Chips and Guacamole   \n",
       "1151       475         1     Barbacoa Burrito   \n",
       "2867      1140         1         Chicken Bowl   \n",
       "2686      1067         1     Carnitas Burrito   \n",
       "3962      1587         1    Canned Soft Drink   \n",
       "157         71         1          Veggie Bowl   \n",
       "450        195         1     Barbacoa Burrito   \n",
       "3655      1461         1         Chicken Bowl   \n",
       "4195      1674         1  Chips and Guacamole   \n",
       "\n",
       "                                     choice_description  prices  \n",
       "2580  [[Roasted Chili Corn Salsa (Medium), Fresh Tom...   16.98  \n",
       "3100                                                       3.99  \n",
       "1151  [Tomatillo Green Chili Salsa, [Rice, Black Bea...    9.25  \n",
       "2867  [Tomatillo Red Chili Salsa, [Rice, Black Beans...    8.75  \n",
       "2686            [Fresh Tomato Salsa, [Cheese, Lettuce]]    9.25  \n",
       "3962                                             [Coke]    1.25  \n",
       "157   [Tomatillo Red Chili Salsa, [Fajita Vegetables...   11.25  \n",
       "450   [Fresh Tomato Salsa, [Fajita Vegetables, Rice,...   11.75  \n",
       "3655  [Fresh Tomato Salsa, [Fajita Vegetables, Rice,...   11.25  \n",
       "4195                                                       4.45  "
      ]
     },
     "execution_count": 11,
     "metadata": {},
     "output_type": "execute_result"
    }
   ],
   "source": [
    "df.drop('item_price', axis='columns', inplace=True)\n",
    "df.sample(10)"
   ]
  },
  {
   "cell_type": "markdown",
   "metadata": {},
   "source": [
    "# 5. [Top 5 items](#chapters) <a class=\"anchor\" id=\"top_five\"></a>"
   ]
  },
  {
   "cell_type": "code",
   "execution_count": 12,
   "metadata": {},
   "outputs": [
    {
     "name": "stdout",
     "output_type": "stream",
     "text": [
      "Топ 5 самых дешёвых\n",
      "    choice_description  prices\n",
      "117  [Diet Dr. Pepper]    1.09\n",
      "126        [Coca Cola]    1.09\n",
      "28        [Dr. Pepper]    1.09\n",
      "346         [Lemonade]    1.25\n",
      "263             [Coke]    1.25\n",
      "Топ 5 самых дорогих\n",
      "                                     choice_description     prices\n",
      "2954  [[Tomatillo-Green Chili Salsa (Medium), Roaste...  22.959999\n",
      "4427  [Fresh Tomato Salsa, [Rice, Pinto Beans, Sour ...  23.500000\n",
      "1753  [Tomatillo Green Chili Salsa, [Fajita Vegetabl...  23.500000\n",
      "3334  [Tomatillo Green Chili (Medium), [Rice, Black ...  26.070000\n",
      "409   [[Fresh Tomato Salsa (Mild), Tomatillo-Green C...  32.939999\n"
     ]
    }
   ],
   "source": [
    "df_without_dub = df.drop_duplicates(['choice_description'])\n",
    "df_without_dub = df_without_dub.sort_values(['prices'])\n",
    "\n",
    "print('Топ 5 самых дешёвых')\n",
    "print(df_without_dub[['choice_description', 'prices']].head(5))\n",
    "print('Топ 5 самых дорогих')\n",
    "print(df_without_dub[['choice_description', 'prices']].tail(5))"
   ]
  },
  {
   "cell_type": "markdown",
   "metadata": {},
   "source": [
    "# 6. [One chicken bowl](#chapters) <a class=\"anchor\" id=\"chicken_bowl\"></a>"
   ]
  },
  {
   "cell_type": "code",
   "execution_count": 13,
   "metadata": {},
   "outputs": [
    {
     "name": "stdout",
     "output_type": "stream",
     "text": [
      "There are 33 chicken bowl orders\n"
     ]
    }
   ],
   "source": [
    "print(f\"There are\\\n",
    " {df[(df['item_name'] == 'Chicken Bowl') & (df['quantity'] > 1)].quantity.count()}\\\n",
    " chicken bowl orders\")"
   ]
  },
  {
   "cell_type": "markdown",
   "metadata": {},
   "source": [
    "# 7. [Mean price for order and mean quantity](#chapters) <a class=\"anchor\" id=\"order_id\"></a>"
   ]
  },
  {
   "cell_type": "code",
   "execution_count": 14,
   "metadata": {},
   "outputs": [
    {
     "name": "stdout",
     "output_type": "stream",
     "text": [
      "Mean price for order is 18.81 $, mean quantity for order is 3\n"
     ]
    }
   ],
   "source": [
    "print(f\"Mean price for order is {df.groupby('order_id').prices.sum().mean():.2f} $,\\\n",
    " mean quantity for order is {df.groupby('order_id').quantity.sum().mean():.0f}\")"
   ]
  },
  {
   "cell_type": "markdown",
   "metadata": {},
   "source": [
    "# 8. [Only 1 quantity in order](#chapters) <a class=\"anchor\" id=\"one_quantity\"></a>"
   ]
  },
  {
   "cell_type": "code",
   "execution_count": 15,
   "metadata": {},
   "outputs": [
    {
     "name": "stdout",
     "output_type": "stream",
     "text": [
      "There are 56 orders with only 1 quantity\n"
     ]
    }
   ],
   "source": [
    "print(f\"There are\\\n",
    " {(df.groupby('order_id').quantity.sum() == 1).sum()} orders with only 1 quantity\")"
   ]
  },
  {
   "cell_type": "markdown",
   "metadata": {},
   "source": [
    "# 9. [Most popular item name](#chapters) <a class=\"anchor\" id=\"most_popular_item\"></a>"
   ]
  },
  {
   "cell_type": "code",
   "execution_count": 16,
   "metadata": {},
   "outputs": [
    {
     "name": "stdout",
     "output_type": "stream",
     "text": [
      "Most popular product is Chicken Bowl with 761 quantities\n"
     ]
    }
   ],
   "source": [
    "print(f\"Most popular product is\\\n",
    " {df.groupby('item_name').quantity.sum().sort_values().index[-1]} with\\\n",
    " {df.groupby('item_name').quantity.sum().sort_values().iloc[-1]} quantities\")\n"
   ]
  },
  {
   "cell_type": "markdown",
   "metadata": {},
   "source": [
    "# 10. [Self-made DataFrame](#chapters) <a class=\"anchor\" id=\"df_np\"></a>"
   ]
  },
  {
   "cell_type": "code",
   "execution_count": 17,
   "metadata": {},
   "outputs": [
    {
     "data": {
      "text/plain": [
       "array([[0.36632915, 0.3710707 , 0.04577698],\n",
       "       [0.06067883, 0.20767963, 0.82772593],\n",
       "       [0.86004425, 0.55161199, 0.50232145],\n",
       "       [0.27419027, 0.07957964, 0.80666697],\n",
       "       [0.44121259, 0.96733896, 0.36061607],\n",
       "       [0.19255986, 0.28553002, 0.70121006],\n",
       "       [0.87283938, 0.59448014, 0.01197074],\n",
       "       [0.61084597, 0.02327528, 0.66824193],\n",
       "       [0.40460464, 0.68551038, 0.49919461],\n",
       "       [0.24136426, 0.5544214 , 0.21365148]])"
      ]
     },
     "execution_count": 17,
     "metadata": {},
     "output_type": "execute_result"
    }
   ],
   "source": [
    "matrix = np.random.rand(10, 3)\n",
    "matrix"
   ]
  },
  {
   "cell_type": "code",
   "execution_count": 18,
   "metadata": {},
   "outputs": [
    {
     "data": {
      "text/html": [
       "<div>\n",
       "<style scoped>\n",
       "    .dataframe tbody tr th:only-of-type {\n",
       "        vertical-align: middle;\n",
       "    }\n",
       "\n",
       "    .dataframe tbody tr th {\n",
       "        vertical-align: top;\n",
       "    }\n",
       "\n",
       "    .dataframe thead th {\n",
       "        text-align: right;\n",
       "    }\n",
       "</style>\n",
       "<table border=\"1\" class=\"dataframe\">\n",
       "  <thead>\n",
       "    <tr style=\"text-align: right;\">\n",
       "      <th></th>\n",
       "      <th>column1</th>\n",
       "      <th>column2</th>\n",
       "    </tr>\n",
       "  </thead>\n",
       "  <tbody>\n",
       "    <tr>\n",
       "      <th>0.366329</th>\n",
       "      <td>0.371071</td>\n",
       "      <td>0.045777</td>\n",
       "    </tr>\n",
       "    <tr>\n",
       "      <th>0.060679</th>\n",
       "      <td>0.207680</td>\n",
       "      <td>0.827726</td>\n",
       "    </tr>\n",
       "    <tr>\n",
       "      <th>0.860044</th>\n",
       "      <td>0.551612</td>\n",
       "      <td>0.502321</td>\n",
       "    </tr>\n",
       "    <tr>\n",
       "      <th>0.274190</th>\n",
       "      <td>0.079580</td>\n",
       "      <td>0.806667</td>\n",
       "    </tr>\n",
       "    <tr>\n",
       "      <th>0.441213</th>\n",
       "      <td>0.967339</td>\n",
       "      <td>0.360616</td>\n",
       "    </tr>\n",
       "    <tr>\n",
       "      <th>0.192560</th>\n",
       "      <td>0.285530</td>\n",
       "      <td>0.701210</td>\n",
       "    </tr>\n",
       "    <tr>\n",
       "      <th>0.872839</th>\n",
       "      <td>0.594480</td>\n",
       "      <td>0.011971</td>\n",
       "    </tr>\n",
       "    <tr>\n",
       "      <th>0.610846</th>\n",
       "      <td>0.023275</td>\n",
       "      <td>0.668242</td>\n",
       "    </tr>\n",
       "    <tr>\n",
       "      <th>0.404605</th>\n",
       "      <td>0.685510</td>\n",
       "      <td>0.499195</td>\n",
       "    </tr>\n",
       "    <tr>\n",
       "      <th>0.241364</th>\n",
       "      <td>0.554421</td>\n",
       "      <td>0.213651</td>\n",
       "    </tr>\n",
       "  </tbody>\n",
       "</table>\n",
       "</div>"
      ],
      "text/plain": [
       "           column1   column2\n",
       "0.366329  0.371071  0.045777\n",
       "0.060679  0.207680  0.827726\n",
       "0.860044  0.551612  0.502321\n",
       "0.274190  0.079580  0.806667\n",
       "0.441213  0.967339  0.360616\n",
       "0.192560  0.285530  0.701210\n",
       "0.872839  0.594480  0.011971\n",
       "0.610846  0.023275  0.668242\n",
       "0.404605  0.685510  0.499195\n",
       "0.241364  0.554421  0.213651"
      ]
     },
     "execution_count": 18,
     "metadata": {},
     "output_type": "execute_result"
    }
   ],
   "source": [
    "df_np = pd.DataFrame(data=matrix[:, 1:],\n",
    "                     columns=['column1', 'column2'],\n",
    "                     index=matrix[:, 0])\n",
    "\n",
    "df_np"
   ]
  },
  {
   "cell_type": "code",
   "execution_count": 19,
   "metadata": {},
   "outputs": [],
   "source": [
    "df_np.to_csv('./df_np.csv',index=False, header=False)"
   ]
  },
  {
   "cell_type": "markdown",
   "metadata": {},
   "source": [
    "# 11. [Hist plots](#chapters) <a class=\"anchor\" id=\"hists\"></a>"
   ]
  },
  {
   "cell_type": "code",
   "execution_count": 20,
   "metadata": {},
   "outputs": [
    {
     "data": {
      "image/png": "[encoded data removed]",
      "text/plain": [
       "<Figure size 900x300 with 2 Axes>"
      ]
     },
     "metadata": {},
     "output_type": "display_data"
    }
   ],
   "source": [
    "fig, ax = plt.subplots(nrows=1, ncols=2, figsize=(9,3))\n",
    "\n",
    "df.groupby('item_name').prices.sum().hist(bins=40, ax=ax[0])\n",
    "df.groupby('item_name').prices.mean().hist(bins=40, ax=ax[1], color='orange')\n",
    "\n",
    "ax[0].set_xlabel(\"Sum price for item\")\n",
    "ax[0].set_ylabel(\"Count\")\n",
    "\n",
    "ax[0].grid(which='major',\n",
    "        color = 'k')\n",
    "\n",
    "ax[0].minorticks_on()\n",
    "ax[0].grid(which='minor',\n",
    "        color = 'gray',\n",
    "        linestyle = ':')\n",
    "\n",
    "ax[1].set_xlabel(\"Mean price for item\")\n",
    "ax[1].set_ylabel(\"Count\")\n",
    "\n",
    "ax[1].grid(which='major',\n",
    "        color = 'k')"
   ]
  },
  {
   "cell_type": "markdown",
   "metadata": {},
   "source": [
    "# 12. [Sum dependeces of days](#chapters) <a class=\"anchor\" id=\"plot\"></a>"
   ]
  },
  {
   "cell_type": "code",
   "execution_count": 37,
   "metadata": {},
   "outputs": [
    {
     "data": {
      "text/html": [
       "<div>\n",
       "<style scoped>\n",
       "    .dataframe tbody tr th:only-of-type {\n",
       "        vertical-align: middle;\n",
       "    }\n",
       "\n",
       "    .dataframe tbody tr th {\n",
       "        vertical-align: top;\n",
       "    }\n",
       "\n",
       "    .dataframe thead th {\n",
       "        text-align: right;\n",
       "    }\n",
       "</style>\n",
       "<table border=\"1\" class=\"dataframe\">\n",
       "  <thead>\n",
       "    <tr style=\"text-align: right;\">\n",
       "      <th></th>\n",
       "      <th>order_id</th>\n",
       "      <th>quantity</th>\n",
       "      <th>item_name</th>\n",
       "      <th>choice_description</th>\n",
       "      <th>prices</th>\n",
       "      <th>dates</th>\n",
       "      <th>date</th>\n",
       "    </tr>\n",
       "  </thead>\n",
       "  <tbody>\n",
       "    <tr>\n",
       "      <th>2416</th>\n",
       "      <td>958</td>\n",
       "      <td>1</td>\n",
       "      <td>Bottled Water</td>\n",
       "      <td></td>\n",
       "      <td>1.50</td>\n",
       "      <td>2024-03-03</td>\n",
       "      <td>2024-03-14</td>\n",
       "    </tr>\n",
       "    <tr>\n",
       "      <th>623</th>\n",
       "      <td>257</td>\n",
       "      <td>1</td>\n",
       "      <td>Veggie Burrito</td>\n",
       "      <td>[Tomatillo Green Chili Salsa]</td>\n",
       "      <td>8.75</td>\n",
       "      <td>2024-03-28</td>\n",
       "      <td>2024-04-15</td>\n",
       "    </tr>\n",
       "    <tr>\n",
       "      <th>2333</th>\n",
       "      <td>929</td>\n",
       "      <td>1</td>\n",
       "      <td>Bottled Water</td>\n",
       "      <td></td>\n",
       "      <td>1.50</td>\n",
       "      <td>2024-04-29</td>\n",
       "      <td>2024-04-11</td>\n",
       "    </tr>\n",
       "  </tbody>\n",
       "</table>\n",
       "</div>"
      ],
      "text/plain": [
       "      order_id  quantity       item_name             choice_description  \\\n",
       "2416       958         1   Bottled Water                                  \n",
       "623        257         1  Veggie Burrito  [Tomatillo Green Chili Salsa]   \n",
       "2333       929         1   Bottled Water                                  \n",
       "\n",
       "      prices      dates       date  \n",
       "2416    1.50 2024-03-03 2024-03-14  \n",
       "623     8.75 2024-03-28 2024-04-15  \n",
       "2333    1.50 2024-04-29 2024-04-11  "
      ]
     },
     "execution_count": 37,
     "metadata": {},
     "output_type": "execute_result"
    },
    {
     "data": {
      "image/png": "[encoded data removed]",
      "text/plain": [
       "<Figure size 640x480 with 1 Axes>"
      ]
     },
     "metadata": {},
     "output_type": "display_data"
    }
   ],
   "source": [
    "np.random.seed(42)\n",
    "base_date = np.datetime64('2024-03-01')\n",
    "bimonthly_days = np.random.randint(1, 60, df.shape[0])\n",
    "dates = base_date + bimonthly_days\n",
    "df['date'] = dates\n",
    "\n",
    "df.groupby('date').prices.sum().plot(grid=True, ylabel='Price')\n",
    "df.sample(3)"
   ]
  },
  {
   "cell_type": "markdown",
   "metadata": {},
   "source": [
    "# 13. [Price dependecy on quantity](#chapters) <a class=\"anchor\" id=\"scatter\"></a>"
   ]
  },
  {
   "cell_type": "markdown",
   "metadata": {},
   "source": [
    "## 13.1 [In general](#chapters) <a class=\"anchor\" id=\"in_general\"></a>"
   ]
  },
  {
   "cell_type": "code",
   "execution_count": 22,
   "metadata": {},
   "outputs": [
    {
     "data": {
      "text/plain": [
       "<Axes: xlabel='quantity', ylabel='prices'>"
      ]
     },
     "execution_count": 22,
     "metadata": {},
     "output_type": "execute_result"
    },
    {
     "data": {
      "image/png": "[encoded data removed]",
      "text/plain": [
       "<Figure size 640x480 with 1 Axes>"
      ]
     },
     "metadata": {},
     "output_type": "display_data"
    }
   ],
   "source": [
    "df.plot.scatter(x='quantity', y='prices', grid=True)"
   ]
  },
  {
   "cell_type": "markdown",
   "metadata": {},
   "source": [
    "## 13.2 [Per order](#chapters) <a class=\"anchor\" id=\"per_order\"></a>"
   ]
  },
  {
   "cell_type": "code",
   "execution_count": 23,
   "metadata": {},
   "outputs": [
    {
     "data": {
      "image/png": "[encoded data removed]",
      "text/plain": [
       "<Figure size 640x480 with 1 Axes>"
      ]
     },
     "metadata": {},
     "output_type": "display_data"
    }
   ],
   "source": [
    "x = df.groupby('order_id').quantity.sum().values\n",
    "y = df.groupby('order_id').prices.sum().values\n",
    "\n",
    "plt.scatter(x=x, y=y, s=17)\n",
    "\n",
    "plt.xlabel(\"quantity\")\n",
    "plt.ylabel(\"price\")\n",
    "plt.title('Price dependecy on quantity')\n",
    "\n",
    "plt.grid(which='major',\n",
    "        color = 'k')\n",
    "\n",
    "plt.minorticks_on()\n",
    "plt.grid(which='minor',\n",
    "        color = 'gray',\n",
    "        linestyle = ':')\n",
    "\n",
    "plt.savefig(\"./scatter.pdf\")"
   ]
  }
 ],
 "metadata": {
  "kernelspec": {
   "display_name": ".venv",
   "language": "python",
   "name": "python3"
  },
  "language_info": {
   "codemirror_mode": {
    "name": "ipython",
    "version": 3
   },
   "file_extension": ".py",
   "mimetype": "text/x-python",
   "name": "python",
   "nbconvert_exporter": "python",
   "pygments_lexer": "ipython3",
   "version": "3.9.7"
  }
 },
 "nbformat": 4,
 "nbformat_minor": 2
}
