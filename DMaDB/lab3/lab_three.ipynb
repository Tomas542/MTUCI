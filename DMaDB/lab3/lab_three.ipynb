{
 "cells": [
  {
   "cell_type": "markdown",
   "metadata": {},
   "source": [
    "# Lab 3\n",
    "\n",
    "## Artyom Iudin BVT2101\n",
    "\n",
    "<div class=\"alert alert-block alert-info\">\n",
    "<b>Chapter navigation</b> isn't working on github. Download .ipynb to use it.\n",
    "\n",
    "If it is still not working close tab with notebook and open it again.\n",
    "</div>"
   ]
  },
  {
   "cell_type": "markdown",
   "metadata": {},
   "source": [
    "# Chapters <a class=\"anchor\" id=\"chapters\"></a>\n",
    "0. [Import](#import)\n",
    "1. [Z-score](#z)\n",
    "      1. [Read test results](#test_res)\n",
    "      2. [Student histogram](#hist)\n",
    "      3. [TOEFL](#toefl)\n",
    "      4. [IELTS](#ielts)\n",
    "      5. [Z-Score calculation for one student](#z_calc_one)\n",
    "      6. [Z-Score calculation](#z_calc)\n",
    "2. [Anomaly](#anomaly)\n",
    "      1. [Interquantile range](#iqr)\n",
    "      2. [IQR outliners](#outliners)\n",
    "      3. [Anomalies by hours](#by_hours)\n",
    "      4. [Anomalies by seasons](#by_seasons)\n",
    "      5. [Mean, std and outliners for bikes](#mean_std)\n",
    "      6. [Anomalies with shape](#shape)\n",
    "      7. [Anomalies with seasons again](#season_two)\n",
    "3. [Missing values](#missing)\n",
    "      1. [NA values](#na)\n",
    "      2. [Not NA values](#notna)\n",
    "      3. [Filling with temperature 42](#fourty_two)\n",
    "      4. [Drop NA](#drop)\n",
    "      5. [Filling temperature with median](#median)\n",
    "      6. [NumPy random for filling](#np)\n",
    "      7. [Filling with median again](#median_two)\n",
    "4. [Correlation](#corr)\n",
    "      1. [Reading new dataset](#read)\n",
    "      2. [Mean and sum](#mean_sum)\n",
    "      3. [United DataFrame](#united)\n",
    "      4. [First five rows](#ff)\n",
    "      5. [X and Y](#xy)\n",
    "      6. [Squares and product](#sap)\n",
    "      7. [Correlation calculation](#corr_calc)\n",
    "      8. [Correlation calculation with corr()](#pd_corr_calc)\n",
    "      9. [United DataFrame correlation](#united_corr)\n",
    "      10. [Scatter plot of Temperature and Rental Count](#temp_rent)"
   ]
  },
  {
   "cell_type": "markdown",
   "metadata": {},
   "source": [
    "# 0. [Import](#chapters) <a class=\"anchor\" id=\"import\"></a>"
   ]
  },
  {
   "cell_type": "code",
   "execution_count": 2,
   "metadata": {},
   "outputs": [],
   "source": [
    "import numpy as np\n",
    "import pandas as pd"
   ]
  },
  {
   "cell_type": "markdown",
   "metadata": {},
   "source": [
    "# 1. [Z-score](#chapters) <a class=\"anchor\" id=\"z\"></a>"
   ]
  },
  {
   "cell_type": "markdown",
   "metadata": {},
   "source": [
    "## 1.1 [Read test results](#chapters) <a class=\"anchor\" id=\"test_res\"></a>"
   ]
  },
  {
   "cell_type": "code",
   "execution_count": 3,
   "metadata": {},
   "outputs": [
    {
     "data": {
      "text/html": [
       "<div>\n",
       "<style scoped>\n",
       "    .dataframe tbody tr th:only-of-type {\n",
       "        vertical-align: middle;\n",
       "    }\n",
       "\n",
       "    .dataframe tbody tr th {\n",
       "        vertical-align: top;\n",
       "    }\n",
       "\n",
       "    .dataframe thead th {\n",
       "        text-align: right;\n",
       "    }\n",
       "</style>\n",
       "<table border=\"1\" class=\"dataframe\">\n",
       "  <thead>\n",
       "    <tr style=\"text-align: right;\">\n",
       "      <th></th>\n",
       "      <th>Id</th>\n",
       "      <th>Exam</th>\n",
       "      <th>Score</th>\n",
       "      <th>Advanced</th>\n",
       "    </tr>\n",
       "  </thead>\n",
       "  <tbody>\n",
       "    <tr>\n",
       "      <th>0</th>\n",
       "      <td>ID1</td>\n",
       "      <td>TOEFL</td>\n",
       "      <td>77.0</td>\n",
       "      <td>NO</td>\n",
       "    </tr>\n",
       "    <tr>\n",
       "      <th>1</th>\n",
       "      <td>ID10</td>\n",
       "      <td>TOEFL</td>\n",
       "      <td>105.0</td>\n",
       "      <td>NO</td>\n",
       "    </tr>\n",
       "    <tr>\n",
       "      <th>2</th>\n",
       "      <td>ID100</td>\n",
       "      <td>TOEFL</td>\n",
       "      <td>107.0</td>\n",
       "      <td>YES</td>\n",
       "    </tr>\n",
       "    <tr>\n",
       "      <th>3</th>\n",
       "      <td>ID101</td>\n",
       "      <td>TOEFL</td>\n",
       "      <td>72.0</td>\n",
       "      <td>NO</td>\n",
       "    </tr>\n",
       "    <tr>\n",
       "      <th>4</th>\n",
       "      <td>ID102</td>\n",
       "      <td>TOEFL</td>\n",
       "      <td>120.0</td>\n",
       "      <td>YES</td>\n",
       "    </tr>\n",
       "  </tbody>\n",
       "</table>\n",
       "</div>"
      ],
      "text/plain": [
       "      Id   Exam  Score Advanced\n",
       "0    ID1  TOEFL   77.0       NO\n",
       "1   ID10  TOEFL  105.0       NO\n",
       "2  ID100  TOEFL  107.0      YES\n",
       "3  ID101  TOEFL   72.0       NO\n",
       "4  ID102  TOEFL  120.0      YES"
      ]
     },
     "execution_count": 3,
     "metadata": {},
     "output_type": "execute_result"
    }
   ],
   "source": [
    "df = pd.read_csv('../datasets/eng_test.csv', sep=';')\n",
    "df.head(5)"
   ]
  },
  {
   "cell_type": "markdown",
   "metadata": {},
   "source": [
    "## 1.2 [Student's histogram](#chapters) <a class=\"anchor\" id=\"hist\"></a>"
   ]
  },
  {
   "cell_type": "code",
   "execution_count": 4,
   "metadata": {},
   "outputs": [
    {
     "data": {
      "text/plain": [
       "<Axes: >"
      ]
     },
     "execution_count": 4,
     "metadata": {},
     "output_type": "execute_result"
    },
    {
     "data": {
      "image/png": "[encoded data removed]",
      "text/plain": [
       "<Figure size 640x480 with 1 Axes>"
      ]
     },
     "metadata": {},
     "output_type": "display_data"
    }
   ],
   "source": [
    "df.Score.hist(bins=12)"
   ]
  },
  {
   "cell_type": "markdown",
   "metadata": {},
   "source": [
    "## 1.3 [TOEFL](#chapters) <a class=\"anchor\" id=\"toefl\"></a>"
   ]
  },
  {
   "cell_type": "code",
   "execution_count": 5,
   "metadata": {},
   "outputs": [
    {
     "name": "stdout",
     "output_type": "stream",
     "text": [
      "            Score\n",
      "count  125.000000\n",
      "mean    93.776000\n",
      "std     17.903804\n",
      "min     25.000000\n",
      "25%     81.000000\n",
      "50%     94.000000\n",
      "75%    107.000000\n",
      "max    120.000000\n"
     ]
    },
    {
     "data": {
      "text/plain": [
       "<Axes: >"
      ]
     },
     "execution_count": 5,
     "metadata": {},
     "output_type": "execute_result"
    },
    {
     "data": {
      "image/png": "[encoded data removed]",
      "text/plain": [
       "<Figure size 640x480 with 1 Axes>"
      ]
     },
     "metadata": {},
     "output_type": "display_data"
    }
   ],
   "source": [
    "toefl_df = df[df['Exam'] == 'TOEFL']\n",
    "print(toefl_df.describe())\n",
    "toefl_df.Score.hist(bins=12)"
   ]
  },
  {
   "cell_type": "markdown",
   "metadata": {},
   "source": [
    "## 1.4 [IELTS](#chapters) <a class=\"anchor\" id=\"ielts\"></a>"
   ]
  },
  {
   "cell_type": "code",
   "execution_count": 6,
   "metadata": {},
   "outputs": [
    {
     "name": "stdout",
     "output_type": "stream",
     "text": [
      "            Score\n",
      "count  149.000000\n",
      "mean     6.432886\n",
      "std      1.571126\n",
      "min      4.000000\n",
      "25%      5.000000\n",
      "50%      6.500000\n",
      "75%      8.000000\n",
      "max      9.000000\n"
     ]
    },
    {
     "data": {
      "text/plain": [
       "<Axes: >"
      ]
     },
     "execution_count": 6,
     "metadata": {},
     "output_type": "execute_result"
    },
    {
     "data": {
      "image/png": "[encoded data removed]",
      "text/plain": [
       "<Figure size 640x480 with 1 Axes>"
      ]
     },
     "metadata": {},
     "output_type": "display_data"
    }
   ],
   "source": [
    "ielts_df = df[df['Exam'] == 'IELTS']\n",
    "print(ielts_df.describe())\n",
    "ielts_df.Score.hist(bins=9)"
   ]
  },
  {
   "cell_type": "markdown",
   "metadata": {},
   "source": [
    "## 1.5 [Z-Score calcualtion for one student](#chapters) <a class=\"anchor\" id=\"z_calc_one\"></a>\n",
    "\n",
    "Z-score formula: $z=\\frac{x - \\mu}{\\sigma}$"
   ]
  },
  {
   "cell_type": "code",
   "execution_count": 7,
   "metadata": {},
   "outputs": [
    {
     "name": "stdout",
     "output_type": "stream",
     "text": [
      "Mean = 93.776, std = 17.90380388488399, z_score = -0.9370075827385381\n"
     ]
    }
   ],
   "source": [
    "z_score = ((toefl_df.iloc[0].Score - toefl_df.Score.mean()) / toefl_df.Score.std())\n",
    "print(f\"Mean = {toefl_df.Score.mean()}, std = {toefl_df.Score.std()},\\\n",
    " z_score = {z_score}\")"
   ]
  },
  {
   "cell_type": "markdown",
   "metadata": {},
   "source": [
    "## 1.6 [Z-Score calculation](#chapters) <a class=\"anchor\" id=\"z_calc\"></a>"
   ]
  },
  {
   "cell_type": "code",
   "execution_count": 8,
   "metadata": {},
   "outputs": [
    {
     "data": {
      "text/html": [
       "<div>\n",
       "<style scoped>\n",
       "    .dataframe tbody tr th:only-of-type {\n",
       "        vertical-align: middle;\n",
       "    }\n",
       "\n",
       "    .dataframe tbody tr th {\n",
       "        vertical-align: top;\n",
       "    }\n",
       "\n",
       "    .dataframe thead th {\n",
       "        text-align: right;\n",
       "    }\n",
       "</style>\n",
       "<table border=\"1\" class=\"dataframe\">\n",
       "  <thead>\n",
       "    <tr style=\"text-align: right;\">\n",
       "      <th></th>\n",
       "      <th>Id</th>\n",
       "      <th>Exam</th>\n",
       "      <th>Score</th>\n",
       "      <th>Advanced</th>\n",
       "      <th>z_score</th>\n",
       "    </tr>\n",
       "  </thead>\n",
       "  <tbody>\n",
       "    <tr>\n",
       "      <th>259</th>\n",
       "      <td>ID86</td>\n",
       "      <td>TOEFL</td>\n",
       "      <td>88.0</td>\n",
       "      <td>YES</td>\n",
       "      <td>-0.322613</td>\n",
       "    </tr>\n",
       "    <tr>\n",
       "      <th>246</th>\n",
       "      <td>ID74</td>\n",
       "      <td>TOEFL</td>\n",
       "      <td>106.0</td>\n",
       "      <td>YES</td>\n",
       "      <td>0.682760</td>\n",
       "    </tr>\n",
       "    <tr>\n",
       "      <th>56</th>\n",
       "      <td>ID15</td>\n",
       "      <td>TOEFL</td>\n",
       "      <td>106.0</td>\n",
       "      <td>NO</td>\n",
       "      <td>0.682760</td>\n",
       "    </tr>\n",
       "    <tr>\n",
       "      <th>157</th>\n",
       "      <td>ID240</td>\n",
       "      <td>IELTS</td>\n",
       "      <td>7.0</td>\n",
       "      <td>NO</td>\n",
       "      <td>0.360960</td>\n",
       "    </tr>\n",
       "    <tr>\n",
       "      <th>173</th>\n",
       "      <td>ID255</td>\n",
       "      <td>IELTS</td>\n",
       "      <td>6.0</td>\n",
       "      <td>NO</td>\n",
       "      <td>-0.275526</td>\n",
       "    </tr>\n",
       "    <tr>\n",
       "      <th>199</th>\n",
       "      <td>ID31</td>\n",
       "      <td>TOEFL</td>\n",
       "      <td>103.0</td>\n",
       "      <td>YES</td>\n",
       "      <td>0.515198</td>\n",
       "    </tr>\n",
       "    <tr>\n",
       "      <th>209</th>\n",
       "      <td>ID40</td>\n",
       "      <td>TOEFL</td>\n",
       "      <td>103.0</td>\n",
       "      <td>YES</td>\n",
       "      <td>0.515198</td>\n",
       "    </tr>\n",
       "    <tr>\n",
       "      <th>252</th>\n",
       "      <td>ID8</td>\n",
       "      <td>TOEFL</td>\n",
       "      <td>87.0</td>\n",
       "      <td>NO</td>\n",
       "      <td>-0.378467</td>\n",
       "    </tr>\n",
       "    <tr>\n",
       "      <th>28</th>\n",
       "      <td>ID124</td>\n",
       "      <td>TOEFL</td>\n",
       "      <td>97.0</td>\n",
       "      <td>YES</td>\n",
       "      <td>0.180073</td>\n",
       "    </tr>\n",
       "    <tr>\n",
       "      <th>38</th>\n",
       "      <td>ID133</td>\n",
       "      <td>IELTS</td>\n",
       "      <td>5.0</td>\n",
       "      <td>YES</td>\n",
       "      <td>-0.912012</td>\n",
       "    </tr>\n",
       "  </tbody>\n",
       "</table>\n",
       "</div>"
      ],
      "text/plain": [
       "        Id   Exam  Score Advanced   z_score\n",
       "259   ID86  TOEFL   88.0      YES -0.322613\n",
       "246   ID74  TOEFL  106.0      YES  0.682760\n",
       "56    ID15  TOEFL  106.0       NO  0.682760\n",
       "157  ID240  IELTS    7.0       NO  0.360960\n",
       "173  ID255  IELTS    6.0       NO -0.275526\n",
       "199   ID31  TOEFL  103.0      YES  0.515198\n",
       "209   ID40  TOEFL  103.0      YES  0.515198\n",
       "252    ID8  TOEFL   87.0       NO -0.378467\n",
       "28   ID124  TOEFL   97.0      YES  0.180073\n",
       "38   ID133  IELTS    5.0      YES -0.912012"
      ]
     },
     "execution_count": 8,
     "metadata": {},
     "output_type": "execute_result"
    }
   ],
   "source": [
    "toefl = (toefl_df.Score - toefl_df.Score.mean()) / toefl_df.Score.std()\n",
    "ielts = (ielts_df.Score - ielts_df.Score.mean()) / ielts_df.Score.std()\n",
    "\n",
    "res = pd.DataFrame(pd.concat([toefl, ielts]))\n",
    "df['z_score'] = res\n",
    "df.sample(10)"
   ]
  },
  {
   "cell_type": "markdown",
   "metadata": {},
   "source": [
    "# 2. [Anomaly](#chapters) <a class=\"anchor\" id=\"anomaly\"></a>"
   ]
  },
  {
   "cell_type": "code",
   "execution_count": 9,
   "metadata": {},
   "outputs": [
    {
     "data": {
      "text/html": [
       "<div>\n",
       "<style scoped>\n",
       "    .dataframe tbody tr th:only-of-type {\n",
       "        vertical-align: middle;\n",
       "    }\n",
       "\n",
       "    .dataframe tbody tr th {\n",
       "        vertical-align: top;\n",
       "    }\n",
       "\n",
       "    .dataframe thead th {\n",
       "        text-align: right;\n",
       "    }\n",
       "</style>\n",
       "<table border=\"1\" class=\"dataframe\">\n",
       "  <thead>\n",
       "    <tr style=\"text-align: right;\">\n",
       "      <th></th>\n",
       "      <th>Date</th>\n",
       "      <th>Hour</th>\n",
       "      <th>Temperature</th>\n",
       "      <th>Humidity</th>\n",
       "      <th>Wind speed</th>\n",
       "      <th>Rainfall</th>\n",
       "      <th>Snowfall</th>\n",
       "      <th>Seasons</th>\n",
       "      <th>Holiday</th>\n",
       "      <th>Functioning Day</th>\n",
       "      <th>Rental Count</th>\n",
       "      <th>Normal Humidity</th>\n",
       "      <th>Temperature Category</th>\n",
       "      <th>Good Weather</th>\n",
       "    </tr>\n",
       "  </thead>\n",
       "  <tbody>\n",
       "    <tr>\n",
       "      <th>5615</th>\n",
       "      <td>2018-07-22</td>\n",
       "      <td>23</td>\n",
       "      <td>31.2</td>\n",
       "      <td>52</td>\n",
       "      <td>1.5</td>\n",
       "      <td>0.0</td>\n",
       "      <td>0.0</td>\n",
       "      <td>Summer</td>\n",
       "      <td>0</td>\n",
       "      <td>True</td>\n",
       "      <td>1221</td>\n",
       "      <td>1</td>\n",
       "      <td>Hot</td>\n",
       "      <td>0</td>\n",
       "    </tr>\n",
       "    <tr>\n",
       "      <th>3358</th>\n",
       "      <td>2018-04-19</td>\n",
       "      <td>22</td>\n",
       "      <td>13.4</td>\n",
       "      <td>49</td>\n",
       "      <td>1.1</td>\n",
       "      <td>0.0</td>\n",
       "      <td>0.0</td>\n",
       "      <td>Spring</td>\n",
       "      <td>0</td>\n",
       "      <td>True</td>\n",
       "      <td>1654</td>\n",
       "      <td>1</td>\n",
       "      <td>Chilly</td>\n",
       "      <td>0</td>\n",
       "    </tr>\n",
       "    <tr>\n",
       "      <th>3190</th>\n",
       "      <td>2018-04-12</td>\n",
       "      <td>22</td>\n",
       "      <td>13.5</td>\n",
       "      <td>15</td>\n",
       "      <td>2.2</td>\n",
       "      <td>0.0</td>\n",
       "      <td>0.0</td>\n",
       "      <td>Spring</td>\n",
       "      <td>0</td>\n",
       "      <td>True</td>\n",
       "      <td>1863</td>\n",
       "      <td>0</td>\n",
       "      <td>Chilly</td>\n",
       "      <td>0</td>\n",
       "    </tr>\n",
       "    <tr>\n",
       "      <th>3881</th>\n",
       "      <td>2018-05-11</td>\n",
       "      <td>17</td>\n",
       "      <td>18.9</td>\n",
       "      <td>45</td>\n",
       "      <td>2.6</td>\n",
       "      <td>0.0</td>\n",
       "      <td>0.0</td>\n",
       "      <td>Spring</td>\n",
       "      <td>0</td>\n",
       "      <td>True</td>\n",
       "      <td>3106</td>\n",
       "      <td>1</td>\n",
       "      <td>Nice</td>\n",
       "      <td>1</td>\n",
       "    </tr>\n",
       "    <tr>\n",
       "      <th>7581</th>\n",
       "      <td>2018-10-12</td>\n",
       "      <td>21</td>\n",
       "      <td>11.0</td>\n",
       "      <td>60</td>\n",
       "      <td>1.1</td>\n",
       "      <td>0.0</td>\n",
       "      <td>0.0</td>\n",
       "      <td>Autumn</td>\n",
       "      <td>0</td>\n",
       "      <td>True</td>\n",
       "      <td>1294</td>\n",
       "      <td>1</td>\n",
       "      <td>Chilly</td>\n",
       "      <td>0</td>\n",
       "    </tr>\n",
       "    <tr>\n",
       "      <th>8709</th>\n",
       "      <td>2018-11-28</td>\n",
       "      <td>21</td>\n",
       "      <td>4.2</td>\n",
       "      <td>31</td>\n",
       "      <td>1.1</td>\n",
       "      <td>0.0</td>\n",
       "      <td>0.0</td>\n",
       "      <td>Autumn</td>\n",
       "      <td>0</td>\n",
       "      <td>True</td>\n",
       "      <td>692</td>\n",
       "      <td>0</td>\n",
       "      <td>Chilly</td>\n",
       "      <td>0</td>\n",
       "    </tr>\n",
       "    <tr>\n",
       "      <th>4405</th>\n",
       "      <td>2018-06-02</td>\n",
       "      <td>13</td>\n",
       "      <td>29.6</td>\n",
       "      <td>24</td>\n",
       "      <td>2.4</td>\n",
       "      <td>0.0</td>\n",
       "      <td>0.0</td>\n",
       "      <td>Summer</td>\n",
       "      <td>0</td>\n",
       "      <td>True</td>\n",
       "      <td>1374</td>\n",
       "      <td>0</td>\n",
       "      <td>Hot</td>\n",
       "      <td>0</td>\n",
       "    </tr>\n",
       "    <tr>\n",
       "      <th>1201</th>\n",
       "      <td>2018-01-20</td>\n",
       "      <td>1</td>\n",
       "      <td>-0.9</td>\n",
       "      <td>64</td>\n",
       "      <td>0.4</td>\n",
       "      <td>0.0</td>\n",
       "      <td>0.0</td>\n",
       "      <td>Winter</td>\n",
       "      <td>0</td>\n",
       "      <td>True</td>\n",
       "      <td>212</td>\n",
       "      <td>0</td>\n",
       "      <td>Freezing</td>\n",
       "      <td>0</td>\n",
       "    </tr>\n",
       "    <tr>\n",
       "      <th>3431</th>\n",
       "      <td>2018-04-22</td>\n",
       "      <td>23</td>\n",
       "      <td>11.3</td>\n",
       "      <td>94</td>\n",
       "      <td>1.6</td>\n",
       "      <td>3.0</td>\n",
       "      <td>0.0</td>\n",
       "      <td>Spring</td>\n",
       "      <td>0</td>\n",
       "      <td>True</td>\n",
       "      <td>29</td>\n",
       "      <td>0</td>\n",
       "      <td>Chilly</td>\n",
       "      <td>0</td>\n",
       "    </tr>\n",
       "    <tr>\n",
       "      <th>5176</th>\n",
       "      <td>2018-07-04</td>\n",
       "      <td>16</td>\n",
       "      <td>31.6</td>\n",
       "      <td>57</td>\n",
       "      <td>2.7</td>\n",
       "      <td>0.0</td>\n",
       "      <td>0.0</td>\n",
       "      <td>Summer</td>\n",
       "      <td>0</td>\n",
       "      <td>True</td>\n",
       "      <td>2325</td>\n",
       "      <td>1</td>\n",
       "      <td>Hot</td>\n",
       "      <td>0</td>\n",
       "    </tr>\n",
       "  </tbody>\n",
       "</table>\n",
       "</div>"
      ],
      "text/plain": [
       "           Date  Hour  Temperature  Humidity  Wind speed  Rainfall  Snowfall  \\\n",
       "5615 2018-07-22    23         31.2        52         1.5       0.0       0.0   \n",
       "3358 2018-04-19    22         13.4        49         1.1       0.0       0.0   \n",
       "3190 2018-04-12    22         13.5        15         2.2       0.0       0.0   \n",
       "3881 2018-05-11    17         18.9        45         2.6       0.0       0.0   \n",
       "7581 2018-10-12    21         11.0        60         1.1       0.0       0.0   \n",
       "8709 2018-11-28    21          4.2        31         1.1       0.0       0.0   \n",
       "4405 2018-06-02    13         29.6        24         2.4       0.0       0.0   \n",
       "1201 2018-01-20     1         -0.9        64         0.4       0.0       0.0   \n",
       "3431 2018-04-22    23         11.3        94         1.6       3.0       0.0   \n",
       "5176 2018-07-04    16         31.6        57         2.7       0.0       0.0   \n",
       "\n",
       "     Seasons  Holiday  Functioning Day  Rental Count  Normal Humidity  \\\n",
       "5615  Summer        0             True          1221                1   \n",
       "3358  Spring        0             True          1654                1   \n",
       "3190  Spring        0             True          1863                0   \n",
       "3881  Spring        0             True          3106                1   \n",
       "7581  Autumn        0             True          1294                1   \n",
       "8709  Autumn        0             True           692                0   \n",
       "4405  Summer        0             True          1374                0   \n",
       "1201  Winter        0             True           212                0   \n",
       "3431  Spring        0             True            29                0   \n",
       "5176  Summer        0             True          2325                1   \n",
       "\n",
       "     Temperature Category  Good Weather  \n",
       "5615                  Hot             0  \n",
       "3358               Chilly             0  \n",
       "3190               Chilly             0  \n",
       "3881                 Nice             1  \n",
       "7581               Chilly             0  \n",
       "8709               Chilly             0  \n",
       "4405                  Hot             0  \n",
       "1201             Freezing             0  \n",
       "3431               Chilly             0  \n",
       "5176                  Hot             0  "
      ]
     },
     "execution_count": 9,
     "metadata": {},
     "output_type": "execute_result"
    }
   ],
   "source": [
    "bikes = pd.read_pickle('../datasets/BikesDataVars.pkl')\n",
    "bikes.sample(10)"
   ]
  },
  {
   "cell_type": "markdown",
   "metadata": {},
   "source": [
    "## 2.1 [Interquantile range](#chapters) <a class=\"anchor\" id=\"iqr\"></a>"
   ]
  },
  {
   "cell_type": "code",
   "execution_count": 10,
   "metadata": {},
   "outputs": [
    {
     "name": "stdout",
     "output_type": "stream",
     "text": [
      "Interquantile range for 'Rental Count' is 852.0\n"
     ]
    }
   ],
   "source": [
    "q1, q3 = bikes['Rental Count'].quantile([0.25, 0.75])\n",
    "iqr = q3 - q1\n",
    "print(f\"Interquantile range for 'Rental Count' is {iqr}\")"
   ]
  },
  {
   "cell_type": "markdown",
   "metadata": {},
   "source": [
    "## 2.2 [IQR Outliners](#chapters) <a class=\"anchor\" id=\"outliners\"></a>"
   ]
  },
  {
   "cell_type": "code",
   "execution_count": 11,
   "metadata": {},
   "outputs": [
    {
     "name": "stdout",
     "output_type": "stream",
     "text": [
      "-1121.0 2287.0\n"
     ]
    }
   ],
   "source": [
    "outliner_bottom = q1 - 1.5 * iqr\n",
    "outliner_up = q3 + 1.5 * iqr\n",
    "print(outliner_bottom, outliner_up)"
   ]
  },
  {
   "cell_type": "markdown",
   "metadata": {},
   "source": [
    "## 2.3 [Anomalies by hours](#chapters) <a class=\"anchor\" id=\"by_hours\"></a>"
   ]
  },
  {
   "cell_type": "code",
   "execution_count": 12,
   "metadata": {},
   "outputs": [
    {
     "data": {
      "text/plain": [
       "Hour\n",
       "7      4\n",
       "8     38\n",
       "9      1\n",
       "13     7\n",
       "14     8\n",
       "15    10\n",
       "16    23\n",
       "17    51\n",
       "18    95\n",
       "19    64\n",
       "20    48\n",
       "21    39\n",
       "22    21\n",
       "23     4\n",
       "Name: count, dtype: int64"
      ]
     },
     "execution_count": 12,
     "metadata": {},
     "output_type": "execute_result"
    }
   ],
   "source": [
    "bikes[(bikes['Rental Count'] < outliner_bottom) | (bikes['Rental Count'] > outliner_up)]['Hour'].value_counts().sort_index()"
   ]
  },
  {
   "cell_type": "markdown",
   "metadata": {},
   "source": [
    "## 2.4 [Anomalies by seasons](#chapters) <a class=\"anchor\" id=\"by_seasons\"></a>"
   ]
  },
  {
   "cell_type": "code",
   "execution_count": 13,
   "metadata": {},
   "outputs": [
    {
     "data": {
      "text/plain": [
       "Seasons\n",
       "Summer    196\n",
       "Autumn    116\n",
       "Spring    101\n",
       "Name: count, dtype: int64"
      ]
     },
     "execution_count": 13,
     "metadata": {},
     "output_type": "execute_result"
    }
   ],
   "source": [
    "bikes[(bikes['Rental Count'] < outliner_bottom) | (bikes['Rental Count'] > outliner_up)]['Seasons'].value_counts()"
   ]
  },
  {
   "cell_type": "markdown",
   "metadata": {},
   "source": [
    "## 2.5 [Mean, std and outliners for bikes](#chapters) <a class=\"anchor\" id=\"mean_std\"></a>"
   ]
  },
  {
   "cell_type": "code",
   "execution_count": 14,
   "metadata": {},
   "outputs": [
    {
     "name": "stdout",
     "output_type": "stream",
     "text": [
      "mean: 696.58, std: 749.81, outliner bottom: -1973.0 up: 3139.0\n"
     ]
    }
   ],
   "source": [
    "mean = bikes['Rental Count'].mean()\n",
    "std = bikes['Rental Count'].std()\n",
    "outliner_bottom = q1 - 2.5 * iqr\n",
    "outliner_up = q3 + 2.5 * iqr\n",
    "\n",
    "print(f\"mean: {mean:.2f}, std: {std:.2f}, outliner bottom: {outliner_bottom},\\\n",
    " up: {outliner_up}\")"
   ]
  },
  {
   "cell_type": "markdown",
   "metadata": {},
   "source": [
    "## 2.6 [Anomalies with shape](#chapters) <a class=\"anchor\" id=\"shape\"></a>"
   ]
  },
  {
   "cell_type": "code",
   "execution_count": 15,
   "metadata": {},
   "outputs": [
    {
     "data": {
      "text/plain": [
       "(128, 14)"
      ]
     },
     "execution_count": 15,
     "metadata": {},
     "output_type": "execute_result"
    }
   ],
   "source": [
    "bikes[(bikes['Rental Count'] < outliner_bottom) | (bikes['Rental Count'] > outliner_up)].shape"
   ]
  },
  {
   "cell_type": "markdown",
   "metadata": {},
   "source": [
    "## 2.7 [Anomalies with seasons again](#chapters) <a class=\"anchor\" id=\"season_two\"></a>"
   ]
  },
  {
   "cell_type": "code",
   "execution_count": 16,
   "metadata": {},
   "outputs": [
    {
     "data": {
      "text/plain": [
       "Seasons\n",
       "Summer    71\n",
       "Autumn    32\n",
       "Spring    25\n",
       "Name: count, dtype: int64"
      ]
     },
     "execution_count": 16,
     "metadata": {},
     "output_type": "execute_result"
    }
   ],
   "source": [
    "bikes[(bikes['Rental Count'] < outliner_bottom) | (bikes['Rental Count'] > outliner_up)]['Seasons'].value_counts()"
   ]
  },
  {
   "cell_type": "markdown",
   "metadata": {},
   "source": [
    "# 3. [Missing values](#chapters) <a class=\"anchor\" id=\"missing\"></a>"
   ]
  },
  {
   "cell_type": "markdown",
   "metadata": {},
   "source": [
    "## 3.1 [NA values](#chapters) <a class=\"anchor\" id=\"na\"></a>"
   ]
  },
  {
   "cell_type": "code",
   "execution_count": 21,
   "metadata": {},
   "outputs": [
    {
     "data": {
      "text/plain": [
       "Date                      0\n",
       "Hour                      0\n",
       "Temperature             179\n",
       "Humidity                  0\n",
       "Wind speed                0\n",
       "Rainfall                  0\n",
       "Snowfall                  0\n",
       "Seasons                   0\n",
       "Holiday                   0\n",
       "Functioning Day           0\n",
       "Rental Count              0\n",
       "Normal Humidity           0\n",
       "Temperature Category    179\n",
       "Good Weather              0\n",
       "dtype: int64"
      ]
     },
     "execution_count": 21,
     "metadata": {},
     "output_type": "execute_result"
    }
   ],
   "source": [
    "bikes.isna().sum()"
   ]
  },
  {
   "cell_type": "markdown",
   "metadata": {},
   "source": [
    "## 3.2 [Not NA values](#chapters) <a class=\"anchor\" id=\"notna\"></a>"
   ]
  },
  {
   "cell_type": "code",
   "execution_count": 23,
   "metadata": {},
   "outputs": [
    {
     "data": {
      "text/plain": [
       "Date                    8760\n",
       "Hour                    8760\n",
       "Temperature             8581\n",
       "Humidity                8760\n",
       "Wind speed              8760\n",
       "Rainfall                8760\n",
       "Snowfall                8760\n",
       "Seasons                 8760\n",
       "Holiday                 8760\n",
       "Functioning Day         8760\n",
       "Rental Count            8760\n",
       "Normal Humidity         8760\n",
       "Temperature Category    8581\n",
       "Good Weather            8760\n",
       "dtype: int64"
      ]
     },
     "execution_count": 23,
     "metadata": {},
     "output_type": "execute_result"
    }
   ],
   "source": [
    "bikes.notna().sum()"
   ]
  },
  {
   "cell_type": "markdown",
   "metadata": {},
   "source": [
    "## 3.3 [Filling temperature with 42](#chapters) <a class=\"anchor\" id=\"fourty_two\"></a>"
   ]
  },
  {
   "cell_type": "code",
   "execution_count": 27,
   "metadata": {},
   "outputs": [
    {
     "data": {
      "text/plain": [
       "Date                      0\n",
       "Hour                      0\n",
       "Temperature               0\n",
       "Humidity                  0\n",
       "Wind speed                0\n",
       "Rainfall                  0\n",
       "Snowfall                  0\n",
       "Seasons                   0\n",
       "Holiday                   0\n",
       "Functioning Day           0\n",
       "Rental Count              0\n",
       "Normal Humidity           0\n",
       "Temperature Category    179\n",
       "Good Weather              0\n",
       "dtype: int64"
      ]
     },
     "execution_count": 27,
     "metadata": {},
     "output_type": "execute_result"
    }
   ],
   "source": [
    "bikes1 = bikes.copy()\n",
    "bikes1.fillna({'Temperature':42}, inplace=True)\n",
    "bikes1.isna().sum()"
   ]
  },
  {
   "cell_type": "markdown",
   "metadata": {},
   "source": [
    "## 3.4 [Drop NA](#chapters) <a class=\"anchor\" id=\"drop\"></a>"
   ]
  },
  {
   "cell_type": "code",
   "execution_count": 29,
   "metadata": {},
   "outputs": [
    {
     "data": {
      "text/plain": [
       "Date                    0\n",
       "Hour                    0\n",
       "Temperature             0\n",
       "Humidity                0\n",
       "Wind speed              0\n",
       "Rainfall                0\n",
       "Snowfall                0\n",
       "Seasons                 0\n",
       "Holiday                 0\n",
       "Functioning Day         0\n",
       "Rental Count            0\n",
       "Normal Humidity         0\n",
       "Temperature Category    0\n",
       "Good Weather            0\n",
       "dtype: int64"
      ]
     },
     "execution_count": 29,
     "metadata": {},
     "output_type": "execute_result"
    }
   ],
   "source": [
    "bikes1.dropna().isna().sum()"
   ]
  },
  {
   "cell_type": "markdown",
   "metadata": {},
   "source": [
    "## 3.5 [Filling temperature with median](#chapters) <a class=\"anchor\" id=\"median\"></a>"
   ]
  },
  {
   "cell_type": "code",
   "execution_count": 37,
   "metadata": {},
   "outputs": [
    {
     "data": {
      "text/plain": [
       "0"
      ]
     },
     "execution_count": 37,
     "metadata": {},
     "output_type": "execute_result"
    }
   ],
   "source": [
    "bikes['Temperature_Median'] = bikes['Temperature'].fillna(bikes['Temperature'].median())\n",
    "bikes.isna().sum().iloc[-1]"
   ]
  },
  {
   "cell_type": "markdown",
   "metadata": {},
   "source": [
    "## 3.6 [NumPy random for filling](#chapters) <a class=\"anchor\" id=\"np\"></a>"
   ]
  },
  {
   "cell_type": "code",
   "execution_count": 33,
   "metadata": {},
   "outputs": [
    {
     "data": {
      "text/plain": [
       "array([  1.9,  10. ,   4.3,   1.3,  27.1,   3.8,   6.4,  11.8,  42. ,\n",
       "        25.3,  17.7,  21.9,  27.6,   7.2,  16. ,   3. ,  -5.5,  22.3,\n",
       "        11.9,  -1.6,  29.8,  12.7,  14.4,   4.7,  22.8,   7.9,  33.4,\n",
       "        16.2,  11.3,  28.4,  11.3,  20.3,  19.4,  29.4,   4.6,   2.9,\n",
       "        20.4,   7.1,   4.4,  24.2, -11.7,  32.3,   9.5,   5.7,  19. ,\n",
       "        20.2,  10.2,  -0.2,  28.8,  16.4,  -0.6,  27.8,   0.6,  19.3,\n",
       "        11. ,  11.9,  24.4,  11.8,  32.3,   0.2,  29.5,  30.9,  -3.2,\n",
       "        -2.2,  12.4,  24.1,  24. ,  15.3,  10.8,  -6. ,   4.1,   0.9,\n",
       "         6.9,  25.4,  18.8,  27.8,  19.6,  12.3,  22.5,  -0.6,  25.7,\n",
       "         1.1, -10.2,   3.5,  -1.1,  10.2,   7.8,   8.6,   7.5,  10.1,\n",
       "         8.1,  -8.3, -14.6,   4.7,  22.3,  19.1,   0. ,  26.3,   0.5,\n",
       "        25.4])"
      ]
     },
     "execution_count": 33,
     "metadata": {},
     "output_type": "execute_result"
    }
   ],
   "source": [
    "temps = np.random.choice(bikes['Temperature'].dropna(), 8760)\n",
    "temps[:100]"
   ]
  },
  {
   "cell_type": "code",
   "execution_count": 38,
   "metadata": {},
   "outputs": [
    {
     "data": {
      "text/plain": [
       "0"
      ]
     },
     "execution_count": 38,
     "metadata": {},
     "output_type": "execute_result"
    }
   ],
   "source": [
    "bikes['Temperature_Random'] = bikes['Temperature'].fillna(pd.Series(temps))\n",
    "bikes.isna().sum().iloc[-1]"
   ]
  },
  {
   "cell_type": "markdown",
   "metadata": {},
   "source": [
    "## 3.7 [Filling with median again](#chapters) <a class=\"anchor\" id=\"median_two\"></a>"
   ]
  },
  {
   "cell_type": "code",
   "execution_count": 42,
   "metadata": {},
   "outputs": [
    {
     "data": {
      "text/plain": [
       "Date                      0\n",
       "Hour                      0\n",
       "Temperature               0\n",
       "Humidity                  0\n",
       "Wind speed                0\n",
       "Rainfall                  0\n",
       "Snowfall                  0\n",
       "Seasons                   0\n",
       "Holiday                   0\n",
       "Functioning Day           0\n",
       "Rental Count              0\n",
       "Normal Humidity           0\n",
       "Temperature Category    179\n",
       "Good Weather              0\n",
       "dtype: int64"
      ]
     },
     "execution_count": 42,
     "metadata": {},
     "output_type": "execute_result"
    }
   ],
   "source": [
    "bikes1.fillna({'Temperature': bikes1.Temperature.median()}, inplace=True)\n",
    "bikes1.isna().sum()"
   ]
  },
  {
   "cell_type": "markdown",
   "metadata": {},
   "source": [
    "# 4. [Correlation](#chapters) <a class=\"anchor\" id=\"corr\"></a>"
   ]
  },
  {
   "cell_type": "markdown",
   "metadata": {},
   "source": [
    "## 4.1 [Reading new dataset](#chapters) <a class=\"anchor\" id=\"read\"></a>"
   ]
  },
  {
   "cell_type": "code",
   "execution_count": 44,
   "metadata": {},
   "outputs": [],
   "source": [
    "bikes = pd.read_pickle('../datasets/BikesDataImputed.pkl')"
   ]
  },
  {
   "cell_type": "markdown",
   "metadata": {},
   "source": [
    "## 4.2 [Mean and sum](#chapters) <a class=\"anchor\" id=\"mean_sum\"></a>"
   ]
  },
  {
   "cell_type": "code",
   "execution_count": 46,
   "metadata": {},
   "outputs": [],
   "source": [
    "temp_mean = bikes.groupby(bikes['Date'].dt.isocalendar().week)['Temperature'].mean()\n",
    "bikes_sum = bikes.groupby(bikes['Date'].dt.isocalendar().week)['Rental Count'].sum()"
   ]
  },
  {
   "cell_type": "markdown",
   "metadata": {},
   "source": [
    "## 4.3 [United DataFrame](#chapters) <a class=\"anchor\" id=\"united\"></a>"
   ]
  },
  {
   "cell_type": "code",
   "execution_count": 47,
   "metadata": {},
   "outputs": [
    {
     "data": {
      "text/html": [
       "<div>\n",
       "<style scoped>\n",
       "    .dataframe tbody tr th:only-of-type {\n",
       "        vertical-align: middle;\n",
       "    }\n",
       "\n",
       "    .dataframe tbody tr th {\n",
       "        vertical-align: top;\n",
       "    }\n",
       "\n",
       "    .dataframe thead th {\n",
       "        text-align: right;\n",
       "    }\n",
       "</style>\n",
       "<table border=\"1\" class=\"dataframe\">\n",
       "  <thead>\n",
       "    <tr style=\"text-align: right;\">\n",
       "      <th></th>\n",
       "      <th>Temperature</th>\n",
       "      <th>Rental Count</th>\n",
       "    </tr>\n",
       "    <tr>\n",
       "      <th>week</th>\n",
       "      <th></th>\n",
       "      <th></th>\n",
       "    </tr>\n",
       "  </thead>\n",
       "  <tbody>\n",
       "    <tr>\n",
       "      <th>29</th>\n",
       "      <td>29.297619</td>\n",
       "      <td>172636</td>\n",
       "    </tr>\n",
       "    <tr>\n",
       "      <th>45</th>\n",
       "      <td>11.590774</td>\n",
       "      <td>66682</td>\n",
       "    </tr>\n",
       "    <tr>\n",
       "      <th>24</th>\n",
       "      <td>21.751190</td>\n",
       "      <td>220392</td>\n",
       "    </tr>\n",
       "    <tr>\n",
       "      <th>20</th>\n",
       "      <td>19.307738</td>\n",
       "      <td>142346</td>\n",
       "    </tr>\n",
       "    <tr>\n",
       "      <th>25</th>\n",
       "      <td>24.036012</td>\n",
       "      <td>213553</td>\n",
       "    </tr>\n",
       "    <tr>\n",
       "      <th>33</th>\n",
       "      <td>29.238690</td>\n",
       "      <td>166679</td>\n",
       "    </tr>\n",
       "    <tr>\n",
       "      <th>18</th>\n",
       "      <td>16.365476</td>\n",
       "      <td>146127</td>\n",
       "    </tr>\n",
       "    <tr>\n",
       "      <th>52</th>\n",
       "      <td>-1.651786</td>\n",
       "      <td>34460</td>\n",
       "    </tr>\n",
       "    <tr>\n",
       "      <th>1</th>\n",
       "      <td>-2.694940</td>\n",
       "      <td>39441</td>\n",
       "    </tr>\n",
       "    <tr>\n",
       "      <th>23</th>\n",
       "      <td>22.628869</td>\n",
       "      <td>211869</td>\n",
       "    </tr>\n",
       "  </tbody>\n",
       "</table>\n",
       "</div>"
      ],
      "text/plain": [
       "      Temperature  Rental Count\n",
       "week                           \n",
       "29      29.297619        172636\n",
       "45      11.590774         66682\n",
       "24      21.751190        220392\n",
       "20      19.307738        142346\n",
       "25      24.036012        213553\n",
       "33      29.238690        166679\n",
       "18      16.365476        146127\n",
       "52      -1.651786         34460\n",
       "1       -2.694940         39441\n",
       "23      22.628869        211869"
      ]
     },
     "execution_count": 47,
     "metadata": {},
     "output_type": "execute_result"
    }
   ],
   "source": [
    "united_df = pd.concat([temp_mean, bikes_sum], axis=1)\n",
    "united_df.sample(10)"
   ]
  },
  {
   "cell_type": "markdown",
   "metadata": {},
   "source": [
    "## 4.4 [First five rows](#chapters) <a class=\"anchor\" id=\"ff\"></a>"
   ]
  },
  {
   "cell_type": "code",
   "execution_count": 61,
   "metadata": {},
   "outputs": [],
   "source": [
    "first_five = united_df.iloc[:5]"
   ]
  },
  {
   "cell_type": "code",
   "execution_count": 63,
   "metadata": {},
   "outputs": [
    {
     "data": {
      "text/html": [
       "<div>\n",
       "<style scoped>\n",
       "    .dataframe tbody tr th:only-of-type {\n",
       "        vertical-align: middle;\n",
       "    }\n",
       "\n",
       "    .dataframe tbody tr th {\n",
       "        vertical-align: top;\n",
       "    }\n",
       "\n",
       "    .dataframe thead th {\n",
       "        text-align: right;\n",
       "    }\n",
       "</style>\n",
       "<table border=\"1\" class=\"dataframe\">\n",
       "  <thead>\n",
       "    <tr style=\"text-align: right;\">\n",
       "      <th></th>\n",
       "      <th>Temperature</th>\n",
       "      <th>Rental Count</th>\n",
       "      <th>X - Mx</th>\n",
       "      <th>Y - My</th>\n",
       "    </tr>\n",
       "    <tr>\n",
       "      <th>week</th>\n",
       "      <th></th>\n",
       "      <th></th>\n",
       "      <th></th>\n",
       "      <th></th>\n",
       "    </tr>\n",
       "  </thead>\n",
       "  <tbody>\n",
       "    <tr>\n",
       "      <th>1</th>\n",
       "      <td>-2.694940</td>\n",
       "      <td>39441</td>\n",
       "      <td>-15.598503</td>\n",
       "      <td>-77906.288462</td>\n",
       "    </tr>\n",
       "    <tr>\n",
       "      <th>2</th>\n",
       "      <td>-5.079762</td>\n",
       "      <td>30871</td>\n",
       "      <td>-17.983325</td>\n",
       "      <td>-86476.288462</td>\n",
       "    </tr>\n",
       "    <tr>\n",
       "      <th>3</th>\n",
       "      <td>2.662500</td>\n",
       "      <td>42193</td>\n",
       "      <td>-10.241063</td>\n",
       "      <td>-75154.288462</td>\n",
       "    </tr>\n",
       "    <tr>\n",
       "      <th>4</th>\n",
       "      <td>-10.038690</td>\n",
       "      <td>23079</td>\n",
       "      <td>-22.942253</td>\n",
       "      <td>-94268.288462</td>\n",
       "    </tr>\n",
       "    <tr>\n",
       "      <th>5</th>\n",
       "      <td>-5.650595</td>\n",
       "      <td>28415</td>\n",
       "      <td>-18.554158</td>\n",
       "      <td>-88932.288462</td>\n",
       "    </tr>\n",
       "  </tbody>\n",
       "</table>\n",
       "</div>"
      ],
      "text/plain": [
       "      Temperature  Rental Count     X - Mx        Y - My\n",
       "week                                                    \n",
       "1       -2.694940         39441 -15.598503 -77906.288462\n",
       "2       -5.079762         30871 -17.983325 -86476.288462\n",
       "3        2.662500         42193 -10.241063 -75154.288462\n",
       "4      -10.038690         23079 -22.942253 -94268.288462\n",
       "5       -5.650595         28415 -18.554158 -88932.288462"
      ]
     },
     "execution_count": 63,
     "metadata": {},
     "output_type": "execute_result"
    }
   ],
   "source": [
    "first_five.head()"
   ]
  },
  {
   "cell_type": "markdown",
   "metadata": {},
   "source": [
    "## 4.5 [X and Y](#chapters) <a class=\"anchor\" id=\"xy\"></a>"
   ]
  },
  {
   "cell_type": "code",
   "execution_count": 67,
   "metadata": {},
   "outputs": [],
   "source": [
    "first_five.loc[:, 'X - Mx'] = first_five['Temperature'] - first_five['Temperature'].mean()\n",
    "first_five.loc[:, 'Y - My'] = first_five['Rental Count'] - first_five['Rental Count'].mean()\n",
    "first_five.head()"
   ]
  },
  {
   "cell_type": "markdown",
   "metadata": {},
   "source": [
    "## 4.6 [Squares and product](#chapters) <a class=\"anchor\" id=\"sap\"></a>"
   ]
  },
  {
   "cell_type": "code",
   "execution_count": 70,
   "metadata": {},
   "outputs": [
    {
     "name": "stdout",
     "output_type": "stream",
     "text": [
      "Square x: 86.32, square y: 249778436.80 and their product: 139270.43\n"
     ]
    }
   ],
   "source": [
    "square_x = (first_five['X - Mx'] ** 2).sum()\n",
    "square_y = (first_five['Y - My'] ** 2).sum()\n",
    "product = (first_five['X - Mx'] * first_five['Y - My']).sum()\n",
    "print(f\"Square x: {square_x:.2f}, square y: {square_y:.2f} and their product: {product:.2f}\")"
   ]
  },
  {
   "cell_type": "markdown",
   "metadata": {},
   "source": [
    "## 4.7 [Correlation calculation](#chapters) <a class=\"anchor\" id=\"corr_calc\"></a>"
   ]
  },
  {
   "cell_type": "markdown",
   "metadata": {},
   "source": [
    "Pearson correlation formula: $\\rho =\\frac{n\\sum_{}^{}xy-\\sum_{}^{}x\\sum_{}^{}y}{\\sqrt{\\left[n\\sum_{}^{} x^{2} - (\\sum_{}^{}x)^{2} \\right]\\left[n\\sum_{}^{} y^{2} - (\\sum_{}^{}y)^{2}  \\right]}}$"
   ]
  },
  {
   "cell_type": "code",
   "execution_count": 71,
   "metadata": {},
   "outputs": [
    {
     "data": {
      "text/plain": [
       "0.9484760874616524"
      ]
     },
     "execution_count": 71,
     "metadata": {},
     "output_type": "execute_result"
    }
   ],
   "source": [
    "product / ((square_x * square_y) ** (0.5))"
   ]
  },
  {
   "cell_type": "markdown",
   "metadata": {},
   "source": [
    "## 4.8 [Correlation calculation with corr()](#chapters) <a class=\"anchor\" id=\"pd_corr_calc\"></a>"
   ]
  },
  {
   "cell_type": "code",
   "execution_count": 73,
   "metadata": {},
   "outputs": [
    {
     "data": {
      "text/plain": [
       "0.9484760874616526"
      ]
     },
     "execution_count": 73,
     "metadata": {},
     "output_type": "execute_result"
    }
   ],
   "source": [
    "first_five['Temperature'].corr(first_five['Rental Count'])"
   ]
  },
  {
   "cell_type": "markdown",
   "metadata": {},
   "source": [
    "## 4.9 [United DataFrame correlation](#chapters) <a class=\"anchor\" id=\"united_corr\"></a>"
   ]
  },
  {
   "cell_type": "code",
   "execution_count": 74,
   "metadata": {},
   "outputs": [
    {
     "data": {
      "text/plain": [
       "0.8458075200534891"
      ]
     },
     "execution_count": 74,
     "metadata": {},
     "output_type": "execute_result"
    }
   ],
   "source": [
    "united_df['Temperature'].corr(united_df['Rental Count'])"
   ]
  },
  {
   "cell_type": "markdown",
   "metadata": {},
   "source": [
    "## 4.10 [Scatter of Temperature and Rental Count](#chapters) <a class=\"anchor\" id=\"temp_rent\"></a>"
   ]
  },
  {
   "cell_type": "code",
   "execution_count": 76,
   "metadata": {},
   "outputs": [
    {
     "data": {
      "text/plain": [
       "<Axes: xlabel='Temperature', ylabel='Rental Count'>"
      ]
     },
     "execution_count": 76,
     "metadata": {},
     "output_type": "execute_result"
    },
    {
     "data": {
      "image/png": "[encoded data removed]",
      "text/plain": [
       "<Figure size 640x480 with 1 Axes>"
      ]
     },
     "metadata": {},
     "output_type": "display_data"
    }
   ],
   "source": [
    "united_df.plot.scatter('Temperature', 'Rental Count', grid=True)"
   ]
  }
 ],
 "metadata": {
  "kernelspec": {
   "display_name": ".venv",
   "language": "python",
   "name": "python3"
  },
  "language_info": {
   "codemirror_mode": {
    "name": "ipython",
    "version": 3
   },
   "file_extension": ".py",
   "mimetype": "text/x-python",
   "name": "python",
   "nbconvert_exporter": "python",
   "pygments_lexer": "ipython3",
   "version": "3.9.7"
  }
 },
 "nbformat": 4,
 "nbformat_minor": 2
}
