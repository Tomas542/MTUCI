{
 "cells": [
  {
   "cell_type": "markdown",
   "metadata": {},
   "source": [
    "# dataset generator"
   ]
  },
  {
   "cell_type": "code",
   "execution_count": 56,
   "metadata": {},
   "outputs": [],
   "source": [
    "from PIL import Image\n",
    "from PIL import ImageDraw\n",
    "from PIL import ImageFont\n",
    "import numpy as np"
   ]
  },
  {
   "cell_type": "code",
   "execution_count": 62,
   "metadata": {},
   "outputs": [],
   "source": [
    "from glob import glob\n",
    "import uuid"
   ]
  },
  {
   "cell_type": "code",
   "execution_count": 191,
   "metadata": {},
   "outputs": [],
   "source": [
    "fonts = glob('fonts/*')\n",
    "val_font = fonts[4]\n",
    "fonts = fonts[:4]"
   ]
  },
  {
   "cell_type": "code",
   "execution_count": 193,
   "metadata": {},
   "outputs": [],
   "source": [
    "symbols = ['a', 'b', 'v', 'x']"
   ]
  },
  {
   "cell_type": "code",
   "execution_count": 202,
   "metadata": {},
   "outputs": [],
   "source": [
    "def gen_one_symbol(c:str, font_path:str, dataset_path:str) -> dict[str: str]:\n",
    "    id_str = str(uuid.uuid4())\n",
    "    path = f'{dataset_path}/{id_str}.png'\n",
    "    w,h = 50,50\n",
    "    point = w//2-15, h//2-20\n",
    "    image = np.zeros((w,h),dtype=np.uint8)\n",
    "    image = Image.fromarray(image)\n",
    "    draw = ImageDraw.Draw(image)\n",
    "    font_size = 50\n",
    "    font = ImageFont.truetype(font_path, font_size)\n",
    "    draw.text(point, c, font=font,fill=(255), align='center')\n",
    "    image.save(path)\n",
    "    return {'label':c, 'path': path}"
   ]
  },
  {
   "cell_type": "code",
   "execution_count": 192,
   "metadata": {},
   "outputs": [
    {
     "ename": "NameError",
     "evalue": "name 'symbols' is not defined",
     "output_type": "error",
     "traceback": [
      "\u001b[0;31m---------------------------------------------------------------------------\u001b[0m",
      "\u001b[0;31mNameError\u001b[0m                                 Traceback (most recent call last)",
      "Cell \u001b[0;32mIn[192], line 2\u001b[0m\n\u001b[1;32m      1\u001b[0m dataset \u001b[38;5;241m=\u001b[39m []\n\u001b[0;32m----> 2\u001b[0m \u001b[38;5;28;01mfor\u001b[39;00m c \u001b[38;5;129;01min\u001b[39;00m \u001b[43msymbols\u001b[49m:\n\u001b[1;32m      3\u001b[0m     \u001b[38;5;28;01mfor\u001b[39;00m font \u001b[38;5;129;01min\u001b[39;00m fonts:\n\u001b[1;32m      4\u001b[0m         dataset\u001b[38;5;241m.\u001b[39mappend(gen_one_symbol(c,font, \u001b[38;5;124m'\u001b[39m\u001b[38;5;124mdataset\u001b[39m\u001b[38;5;124m'\u001b[39m))\n",
      "\u001b[0;31mNameError\u001b[0m: name 'symbols' is not defined"
     ]
    }
   ],
   "source": [
    "dataset = []\n",
    "for c in symbols:\n",
    "    for font in fonts:\n",
    "        dataset.append(gen_one_symbol(c,font, 'dataset'))"
   ]
  },
  {
   "cell_type": "code",
   "execution_count": 210,
   "metadata": {},
   "outputs": [],
   "source": [
    "dataset_val = []\n",
    "for c in symbols:\n",
    "    dataset_val.append(gen_one_symbol(c,val_font, 'dataset_validate'))"
   ]
  },
  {
   "cell_type": "code",
   "execution_count": 207,
   "metadata": {},
   "outputs": [],
   "source": [
    "from PIL import ImageFilter\n",
    "\n",
    "def crop(image: np.ndarray):\n",
    "    cols = np.where(image.mean(axis=0) > 10)\n",
    "    x0,x1=np.min(cols), np.max(cols)\n",
    "    rows = np.where(image.mean(axis=1) > 10)\n",
    "    y0,y1=np.min(rows), np.max(rows)\n",
    "    return image[y0:y1+1,x0:x1+1]\n",
    "def to_shape(cropped: np.ndarray, image_size = 28):\n",
    "    img_cr = Image.fromarray(cropped)\n",
    "    return img_cr.resize((image_size, image_size), Image.LANCZOS)\n",
    "\n",
    "def aug(image, label, dataset_path):\n",
    "    meta = [{'label': label, 'path': f'{dataset_path}/{uuid.uuid4()}.png'} for cl in range(4)]\n",
    "    image.filter(ImageFilter.EDGE_ENHANCE).save(meta[0]['path'])\n",
    "    image.filter(ImageFilter.BoxBlur(3)).save(meta[1]['path'])\n",
    "    image.effect_spread(2).save(meta[2]['path'])\n",
    "    image.save(meta[3]['path'])\n",
    "    return meta\n",
    "    "
   ]
  },
  {
   "cell_type": "code",
   "execution_count": 211,
   "metadata": {},
   "outputs": [
    {
     "ename": "KeyError",
     "evalue": "'path'",
     "output_type": "error",
     "traceback": [
      "\u001b[0;31m---------------------------------------------------------------------------\u001b[0m",
      "\u001b[0;31mKeyError\u001b[0m                                  Traceback (most recent call last)",
      "Cell \u001b[0;32mIn[211], line 3\u001b[0m\n\u001b[1;32m      1\u001b[0m aug_dataset \u001b[38;5;241m=\u001b[39m []\n\u001b[1;32m      2\u001b[0m \u001b[38;5;28;01mfor\u001b[39;00m row \u001b[38;5;129;01min\u001b[39;00m dataset:\n\u001b[0;32m----> 3\u001b[0m     img \u001b[38;5;241m=\u001b[39m Image\u001b[38;5;241m.\u001b[39mopen(\u001b[43mrow\u001b[49m\u001b[43m[\u001b[49m\u001b[38;5;124;43m'\u001b[39;49m\u001b[38;5;124;43mpath\u001b[39;49m\u001b[38;5;124;43m'\u001b[39;49m\u001b[43m]\u001b[49m)\n\u001b[1;32m      4\u001b[0m     img \u001b[38;5;241m=\u001b[39m np\u001b[38;5;241m.\u001b[39masarray(img)\n\u001b[1;32m      5\u001b[0m     img \u001b[38;5;241m=\u001b[39m crop(img)\n",
      "\u001b[0;31mKeyError\u001b[0m: 'path'"
     ]
    }
   ],
   "source": [
    "aug_dataset = []\n",
    "for row in dataset:\n",
    "    img = Image.open(row['path'])\n",
    "    img = np.asarray(img)\n",
    "    img = crop(img)\n",
    "    img = to_shape(img)\n",
    "    aug_dataset.extend(aug(img, row['label']))"
   ]
  },
  {
   "cell_type": "code",
   "execution_count": 216,
   "metadata": {},
   "outputs": [],
   "source": [
    "aug_dataset_validate = []\n",
    "for row in dataset_val:\n",
    "    img = Image.open(row['path'])\n",
    "    img = np.asarray(img)\n",
    "    img = crop(img)\n",
    "    img = to_shape(img)\n",
    "    aug_dataset_validate.extend(aug(img, row['label'], 'aug_dataset_validate'))"
   ]
  },
  {
   "cell_type": "code",
   "execution_count": 194,
   "metadata": {},
   "outputs": [],
   "source": [
    "import pandas as pd"
   ]
  },
  {
   "cell_type": "code",
   "execution_count": 196,
   "metadata": {},
   "outputs": [],
   "source": [
    "pd.DataFrame(aug_dataset).to_csv(\"train.csv\")"
   ]
  },
  {
   "cell_type": "code",
   "execution_count": 217,
   "metadata": {},
   "outputs": [],
   "source": [
    "pd.DataFrame(aug_dataset_validate).to_csv(\"val.csv\")"
   ]
  },
  {
   "cell_type": "code",
   "execution_count": null,
   "metadata": {},
   "outputs": [],
   "source": []
  }
 ],
 "metadata": {
  "kernelspec": {
   "display_name": "local-venv",
   "language": "python",
   "name": "local-venv"
  },
  "language_info": {
   "codemirror_mode": {
    "name": "ipython",
    "version": 3
   },
   "file_extension": ".py",
   "mimetype": "text/x-python",
   "name": "python",
   "nbconvert_exporter": "python",
   "pygments_lexer": "ipython3",
   "version": "3.10.10"
  }
 },
 "nbformat": 4,
 "nbformat_minor": 2
}
