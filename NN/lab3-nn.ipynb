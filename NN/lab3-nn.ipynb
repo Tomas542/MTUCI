{
 "cells": [
  {
   "cell_type": "markdown",
   "metadata": {},
   "source": [
    "# Юдин Артём БВТ2101"
   ]
  },
  {
   "cell_type": "code",
   "execution_count": 1,
   "metadata": {
    "trusted": true
   },
   "outputs": [],
   "source": [
    "# основные библиотеки для глубокого обучения\n",
    "import torch\n",
    "import torch.nn as nn\n",
    "import torch.optim as optim\n",
    "from torch.utils.data import TensorDataset, DataLoader\n",
    "\n",
    "# отрисовка графиков\n",
    "import math as m\n",
    "from matplotlib import pyplot as plt"
   ]
  },
  {
   "cell_type": "markdown",
   "metadata": {},
   "source": [
    "Вариант у нас 2:\n",
    "- Среднее арифметическое двух любых действительных чисел"
   ]
  },
  {
   "cell_type": "code",
   "execution_count": 2,
   "metadata": {
    "trusted": true
   },
   "outputs": [],
   "source": [
    "# создаём целые числа для обучения\n",
    "x_train = torch.randint(-100000, 100000, (500000, 2)) / 1000\n",
    "\n",
    "# задаём целевую переменную\n",
    "y_train = ((x_train[:, 0] + x_train[:, 1]) / 2).unsqueeze(dim=1)\n",
    "\n",
    "# делаем то же самое для оценки\n",
    "x_test = torch.randint(-100000, 100000, (500, 2)) / 1000\n",
    "y_test = (x_test[:, 0] * 0.5 + x_test[:, 1] * 0.5).unsqueeze(dim=1)"
   ]
  },
  {
   "cell_type": "code",
   "execution_count": 3,
   "metadata": {
    "trusted": true
   },
   "outputs": [
    {
     "name": "stdout",
     "output_type": "stream",
     "text": [
      "tensor([[ 41.0380, -57.3430],\n",
      "        [  3.8970,  81.7430],\n",
      "        [ 76.5310,  14.2650],\n",
      "        [ 17.6380,  99.1400],\n",
      "        [-16.3120, -24.1270]]) \n",
      " tensor([[ -8.1525],\n",
      "        [ 42.8200],\n",
      "        [ 45.3980],\n",
      "        [ 58.3890],\n",
      "        [-20.2195]])\n"
     ]
    }
   ],
   "source": [
    "print(x_train[:5], \"\\n\", y_train[:5])"
   ]
  },
  {
   "cell_type": "markdown",
   "metadata": {},
   "source": [
    "Если разложить матричное умножение векторов X и W по элементам и добавить смещение (ещё один обучаемый параметр), то наша задача будет выглядеть как\n",
    "\n",
    "$$y=x_{1}w_{1} + x_{2}w_{2} + b$$\n",
    "\n",
    "Нам нужно привести её к виду\n",
    "\n",
    "$$y = \\frac{x_{1}+x_{2}}{2}$$\n",
    "\n",
    "Становится понятно, что цель обучения модели сводится к \n",
    "\n",
    "$$\\left\\{ \\begin{array}{cl}\n",
    "w_{1} = \\frac{1}{2}\\\\\n",
    "w_{2} = \\frac{1}{2}\\\\\n",
    "b=0\n",
    "\\end{array} \\right.$$"
   ]
  },
  {
   "cell_type": "code",
   "execution_count": 4,
   "metadata": {
    "trusted": true
   },
   "outputs": [],
   "source": [
    "# 2 нейрона х1 и х2 на вход и один у на выход. Смещение убираем, так как оно нам не нужно\n",
    "model = nn.Linear(2, 1, bias=False)\n",
    "\n",
    "# используем Adam\n",
    "optimizer = optim.Adam(model.parameters(), lr=1e-3)\n",
    "\n",
    "# используем MSE функцию потерь для задачи регрессии\n",
    "loss_fn = nn.MSELoss()\n",
    "\n",
    "# кладём наши данные в специальные классы, которые помогут разбить данные по бачам\n",
    "train_dataset = TensorDataset(x_train, y_train)\n",
    "train_dataloader = DataLoader(train_dataset, batch_size=128)\n",
    "\n",
    "# повторяем для тестовой выборки\n",
    "test_dataset = TensorDataset(x_test, y_test)\n",
    "test_dataloader = DataLoader(test_dataset, batch_size=128)"
   ]
  },
  {
   "cell_type": "markdown",
   "metadata": {},
   "source": [
    "Функция backward из предыдущих работ нам больше не будет нужна, так как модель будет сама обучаться. Сделаем только forward"
   ]
  },
  {
   "cell_type": "code",
   "execution_count": 5,
   "metadata": {
    "trusted": true
   },
   "outputs": [],
   "source": [
    "def forward(model, dataloader, optimizer, loss_fn, train=True):\n",
    "    # переводим модель в нужный режим\n",
    "    if train:\n",
    "        model.train()\n",
    "    else:\n",
    "        model.eval()\n",
    "\n",
    "    mse = 0\n",
    "\n",
    "    for features, y_true in dataloader:\n",
    "        y_pred = model(features)\n",
    "\n",
    "        loss = loss_fn(y_pred, y_true)\n",
    "        mse += loss.item()\n",
    "\n",
    "        # обучаем\n",
    "        if train:\n",
    "            optimizer.zero_grad()\n",
    "            loss.backward()\n",
    "            optimizer.step()\n",
    "\n",
    "    return mse / m.ceil(len(dataloader) / 128)"
   ]
  },
  {
   "cell_type": "code",
   "execution_count": 6,
   "metadata": {
    "trusted": true
   },
   "outputs": [
    {
     "name": "stdout",
     "output_type": "stream",
     "text": [
      "epoch 0\n",
      "Train MSE = 53089.12719945752, test MSE = 3.6951402826446156e-08\n",
      "epoch 1\n",
      "Train MSE = 3.160648154712956e-07, test MSE = 7.718507361031968e-10\n",
      "epoch 2\n",
      "Train MSE = 5.87309517444974e-09, test MSE = 0.0\n",
      "epoch 3\n",
      "Train MSE = 0.0, test MSE = 0.0\n",
      "epoch 4\n",
      "Train MSE = 0.0, test MSE = 0.0\n"
     ]
    }
   ],
   "source": [
    "# инициализируем массив для потерь\n",
    "train_mse = []\n",
    "test_mse = []\n",
    "\n",
    "for epoch in range(5):\n",
    "    print(\"epoch\", epoch)\n",
    "    tr_mse = forward(model, train_dataloader, optimizer, loss_fn, True)\n",
    "    train_mse.append(tr_mse)\n",
    "\n",
    "    te_mse = forward(model, test_dataloader, None, loss_fn, False)\n",
    "    test_mse.append(te_mse)\n",
    "\n",
    "    print(f\"Train MSE = {tr_mse}, test MSE = {te_mse}\")"
   ]
  },
  {
   "cell_type": "code",
   "execution_count": 7,
   "metadata": {
    "trusted": true
   },
   "outputs": [
    {
     "data": {
      "text/plain": [
       "Parameter containing:\n",
       "tensor([[0.5000, 0.5000]], requires_grad=True)"
      ]
     },
     "execution_count": 7,
     "metadata": {},
     "output_type": "execute_result"
    }
   ],
   "source": [
    "model.weight"
   ]
  },
  {
   "cell_type": "code",
   "execution_count": 8,
   "metadata": {},
   "outputs": [
    {
     "data": {
      "text/plain": [
       "[<matplotlib.lines.Line2D at 0x20c87241430>]"
      ]
     },
     "execution_count": 8,
     "metadata": {},
     "output_type": "execute_result"
    },
    {
     "data": {
      "image/png": "[encoded data removed]",
      "text/plain": [
       "<Figure size 640x480 with 1 Axes>"
      ]
     },
     "metadata": {},
     "output_type": "display_data"
    }
   ],
   "source": [
    "plt.plot(train_mse)\n",
    "plt.plot(test_mse)"
   ]
  },
  {
   "cell_type": "markdown",
   "metadata": {},
   "source": [
    "Как мы видим, веса получились идеальными для нашей задачи."
   ]
  },
  {
   "cell_type": "markdown",
   "metadata": {},
   "source": [
    "В ходе проделанной работы мы познакомились с фреймворком PyTorch и обучили с его помощью небольшую модель под наш вариант"
   ]
  }
 ],
 "metadata": {
  "kaggle": {
   "accelerator": "none",
   "dataSources": [],
   "dockerImageVersionId": 30698,
   "isGpuEnabled": false,
   "isInternetEnabled": true,
   "language": "python",
   "sourceType": "notebook"
  },
  "kernelspec": {
   "display_name": "Python 3",
   "language": "python",
   "name": "python3"
  },
  "language_info": {
   "codemirror_mode": {
    "name": "ipython",
    "version": 3
   },
   "file_extension": ".py",
   "mimetype": "text/x-python",
   "name": "python",
   "nbconvert_exporter": "python",
   "pygments_lexer": "ipython3",
   "version": "3.9.7"
  }
 },
 "nbformat": 4,
 "nbformat_minor": 4
}
