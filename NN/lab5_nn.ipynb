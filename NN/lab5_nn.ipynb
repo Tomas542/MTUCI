{
 "cells": [
  {
   "cell_type": "markdown",
   "metadata": {},
   "source": [
    "# Юдин Артём БВТ2101"
   ]
  },
  {
   "cell_type": "code",
   "execution_count": 2,
   "metadata": {
    "_cell_guid": "b1076dfc-b9ad-4769-8c92-a6c4dae69d19",
    "_uuid": "8f2839f25d086af736a60e9eeb907d3b93b6e0e5",
    "execution": {
     "iopub.execute_input": "2024-04-13T07:01:54.998159Z",
     "iopub.status.busy": "2024-04-13T07:01:54.997721Z",
     "iopub.status.idle": "2024-04-13T07:02:06.840200Z",
     "shell.execute_reply": "2024-04-13T07:02:06.839214Z",
     "shell.execute_reply.started": "2024-04-13T07:01:54.998099Z"
    },
    "trusted": true
   },
   "outputs": [
    {
     "name": "stderr",
     "output_type": "stream",
     "text": [
      "2024-04-13 07:02:00,611\tINFO util.py:124 -- Outdated packages:\n",
      "  ipywidgets==7.7.1 found, needs ipywidgets>=8\n",
      "Run `pip install -U ipywidgets`, then restart the notebook server for rich notebook output.\n"
     ]
    }
   ],
   "source": [
    "# для обработки данных и отрисовки изображений\n",
    "import numpy as np\n",
    "import pandas as pd\n",
    "import matplotlib.pyplot as plt\n",
    "\n",
    "# для обучения модели\n",
    "import torch\n",
    "import torch.nn as nn\n",
    "import torch.optim as optim\n",
    "\n",
    "from torch.utils.data import TensorDataset, DataLoader\n",
    "from sklearn.model_selection import train_test_split\n",
    "\n",
    "# для предобработки текстового датасета\n",
    "import re\n",
    "import spacy\n",
    "import nltk\n",
    "from collections import Counter\n",
    "\n",
    "# для отображения прогрессии\n",
    "from tqdm import tqdm\n",
    "\n",
    "tqdm.pandas()\n",
    "\n",
    "from tqdm.auto import tqdm"
   ]
  },
  {
   "cell_type": "code",
   "execution_count": 60,
   "metadata": {
    "execution": {
     "iopub.execute_input": "2024-04-13T07:47:13.624093Z",
     "iopub.status.busy": "2024-04-13T07:47:13.623711Z",
     "iopub.status.idle": "2024-04-13T07:47:16.259169Z",
     "shell.execute_reply": "2024-04-13T07:47:16.258308Z",
     "shell.execute_reply.started": "2024-04-13T07:47:13.624062Z"
    },
    "trusted": true
   },
   "outputs": [],
   "source": [
    "# параметры для обучения\n",
    "epochs = 60\n",
    "batch_size = 512\n",
    "device = \"cuda\" if torch.cuda.is_available() else \"cpu\"\n",
    "\n",
    "# языковые параметры\n",
    "embedding_dim = 50\n",
    "vocab_size = 40000\n",
    "max_tokens = 100\n",
    "\n",
    "\n",
    "# создание токенизатора и стоп-слов\n",
    "tokenizator = spacy.load(\"en_core_web_lg\")\n",
    "stopwords = set(nltk.corpus.stopwords.words(\"english\"))"
   ]
  },
  {
   "cell_type": "code",
   "execution_count": null,
   "metadata": {},
   "outputs": [],
   "source": [
    "df = pd.read_csv(\n",
    "    \"/kaggle/input/word2vec-nlp-tutorial/labeledTrainData.tsv.zip\", sep=\"\\t\"\n",
    ")"
   ]
  },
  {
   "cell_type": "markdown",
   "metadata": {},
   "source": [
    "Задачи обработки естественного языка требуют от нас предобработки текста для улучшения качества модели. Это включает себя:\n",
    "+ удаление пунктуации и цифр\n",
    "+ приведение всех слов к нижнему регистру и начальной форме для уменьшения размером словаря\n",
    "+ удаление слов, которые несут мало смысла, но занимают места (стоп слова)\n",
    "\n",
    "Все эти вещи в той или иной степени ухудшают качество модели. Напишем две функции для выполнения всех необходимых действий"
   ]
  },
  {
   "cell_type": "code",
   "execution_count": 6,
   "metadata": {
    "execution": {
     "iopub.execute_input": "2024-04-13T07:02:13.048366Z",
     "iopub.status.busy": "2024-04-13T07:02:13.048085Z",
     "iopub.status.idle": "2024-04-13T07:02:13.055176Z",
     "shell.execute_reply": "2024-04-13T07:02:13.054088Z",
     "shell.execute_reply.started": "2024-04-13T07:02:13.048342Z"
    },
    "trusted": true
   },
   "outputs": [],
   "source": [
    "def remove_stopwords(review, stopwords):\n",
    "    return [token for token in review if token not in stopwords]\n",
    "\n",
    "\n",
    "def preprocessing(review, stopwords):\n",
    "    review = review.replace([\",\", \".\"], \" \")  # убираем пунктуацию\n",
    "    review_lower = review.lower()  # приводим к нижнему регистру\n",
    "    removed_symbols = re.sub(\n",
    "        r\"[^a-z\\s]+\", \" \", review_lower\n",
    "    )  # убираем все символы, кроме букв и процессоров\n",
    "\n",
    "    tokens = tokenizator(removed_symbols)  # разделяем слова по пробелам\n",
    "\n",
    "    lemmas = [token.lemma_ for token in tokens]  # берём начальную форму слова\n",
    "\n",
    "    return remove_stopwords(lemmas, stopwords)"
   ]
  },
  {
   "cell_type": "markdown",
   "metadata": {},
   "source": [
    "Теперь посмотрим на наш токенизированный текст"
   ]
  },
  {
   "cell_type": "code",
   "execution_count": 7,
   "metadata": {
    "execution": {
     "iopub.execute_input": "2024-04-13T07:02:13.056695Z",
     "iopub.status.busy": "2024-04-13T07:02:13.056381Z",
     "iopub.status.idle": "2024-04-13T07:23:16.743886Z",
     "shell.execute_reply": "2024-04-13T07:23:16.743000Z",
     "shell.execute_reply.started": "2024-04-13T07:02:13.056671Z"
    },
    "trusted": true
   },
   "outputs": [
    {
     "data": {
      "application/vnd.jupyter.widget-view+json": {
       "model_id": "23ea95af527449f38f5a998647c73a07",
       "version_major": 2,
       "version_minor": 0
      },
      "text/plain": [
       "Pandas Apply:   0%|          | 0/25000 [00:00<?, ?it/s]"
      ]
     },
     "metadata": {},
     "output_type": "display_data"
    },
    {
     "data": {
      "text/html": [
       "<div>\n",
       "<style scoped>\n",
       "    .dataframe tbody tr th:only-of-type {\n",
       "        vertical-align: middle;\n",
       "    }\n",
       "\n",
       "    .dataframe tbody tr th {\n",
       "        vertical-align: top;\n",
       "    }\n",
       "\n",
       "    .dataframe thead th {\n",
       "        text-align: right;\n",
       "    }\n",
       "</style>\n",
       "<table border=\"1\" class=\"dataframe\">\n",
       "  <thead>\n",
       "    <tr style=\"text-align: right;\">\n",
       "      <th></th>\n",
       "      <th>id</th>\n",
       "      <th>sentiment</th>\n",
       "      <th>review</th>\n",
       "      <th>preprocessed</th>\n",
       "    </tr>\n",
       "  </thead>\n",
       "  <tbody>\n",
       "    <tr>\n",
       "      <th>17423</th>\n",
       "      <td>6851_8</td>\n",
       "      <td>1</td>\n",
       "      <td>De Palma's technique had hit its high maturity...</td>\n",
       "      <td>[de, palma, technique, hit, high, maturity, ti...</td>\n",
       "    </tr>\n",
       "    <tr>\n",
       "      <th>14441</th>\n",
       "      <td>12088_2</td>\n",
       "      <td>0</td>\n",
       "      <td>I read the reviews of this movie, and they wer...</td>\n",
       "      <td>[I, read, review, movie,  , generally, pretty,...</td>\n",
       "    </tr>\n",
       "    <tr>\n",
       "      <th>20743</th>\n",
       "      <td>11718_1</td>\n",
       "      <td>0</td>\n",
       "      <td>It is incredible!! ..yes, someone before me wr...</td>\n",
       "      <td>[incredible,   , yes,  , someone, I, write, ti...</td>\n",
       "    </tr>\n",
       "    <tr>\n",
       "      <th>3253</th>\n",
       "      <td>6529_3</td>\n",
       "      <td>0</td>\n",
       "      <td>This movie is funny and painful at the same ti...</td>\n",
       "      <td>[movie, funny, painful, time,  ,  , cinemagic,...</td>\n",
       "    </tr>\n",
       "    <tr>\n",
       "      <th>7503</th>\n",
       "      <td>5918_1</td>\n",
       "      <td>0</td>\n",
       "      <td>Carl Panzram lived an amazing life and scribbl...</td>\n",
       "      <td>[carl, panzram, live, amazing, life, scribble,...</td>\n",
       "    </tr>\n",
       "  </tbody>\n",
       "</table>\n",
       "</div>"
      ],
      "text/plain": [
       "            id  sentiment                                             review  \\\n",
       "17423   6851_8          1  De Palma's technique had hit its high maturity...   \n",
       "14441  12088_2          0  I read the reviews of this movie, and they wer...   \n",
       "20743  11718_1          0  It is incredible!! ..yes, someone before me wr...   \n",
       "3253    6529_3          0  This movie is funny and painful at the same ti...   \n",
       "7503    5918_1          0  Carl Panzram lived an amazing life and scribbl...   \n",
       "\n",
       "                                            preprocessed  \n",
       "17423  [de, palma, technique, hit, high, maturity, ti...  \n",
       "14441  [I, read, review, movie,  , generally, pretty,...  \n",
       "20743  [incredible,   , yes,  , someone, I, write, ti...  \n",
       "3253   [movie, funny, painful, time,  ,  , cinemagic,...  \n",
       "7503   [carl, panzram, live, amazing, life, scribble,...  "
      ]
     },
     "execution_count": 7,
     "metadata": {},
     "output_type": "execute_result"
    }
   ],
   "source": [
    "df[\"preprocessed\"] = df[\"review\"].progress_apply(preprocessing)\n",
    "df.head(5)"
   ]
  },
  {
   "cell_type": "markdown",
   "metadata": {},
   "source": [
    "Теперь нам нужно создать общий словарь для перевода слов в индексы"
   ]
  },
  {
   "cell_type": "code",
   "execution_count": null,
   "metadata": {
    "execution": {
     "iopub.execute_input": "2024-04-13T07:26:08.942605Z",
     "iopub.status.busy": "2024-04-13T07:26:08.941718Z",
     "iopub.status.idle": "2024-04-13T07:26:10.471646Z",
     "shell.execute_reply": "2024-04-13T07:26:10.470751Z",
     "shell.execute_reply.started": "2024-04-13T07:26:08.942561Z"
    },
    "trusted": true
   },
   "outputs": [],
   "source": [
    "# берём все токенизированные предложения и вытаскиваем их из датафрейма\n",
    "list_of_sentences = list(\" \".join(x) for x in df[\"preprocessed\"].tolist())\n",
    "\n",
    "# обхединяем все слова из предложений вместе\n",
    "all_words = \" \".join(list_of_sentences)\n",
    "\n",
    "# делаем подсчёт всех слов, чтобы потом отобрать самые часто встречающиеся\n",
    "# брать редкие слова смысла нет, так как мы не обучим на них модель, но они\n",
    "# будут генерировать случайный шум\n",
    "count_words = Counter(all_words.split())\n",
    "\n",
    "# создаём HashSet всех слов\n",
    "vocab = set(item[0] for item in count_words.most_common(vocab_size))\n",
    "\n",
    "# добавляем спец токены для неизв, начала-, конца строки и падинга\n",
    "vocab |= {\"<unk>\", \"<bos>\", \"<eos>\", \"<pad>\"}\n",
    "\n",
    "# преобразователь слов в индексы таблицы эмбедингов\n",
    "word2ind = {word: ind for ind, word in enumerate(vocab)}"
   ]
  },
  {
   "cell_type": "markdown",
   "metadata": {},
   "source": [
    "Теперь перейдём к последним 3 пунктам предобработки датасета:\n",
    "+ индексирование - замена всех слов на их индексы для последующего использования матрицы эмбедингов\n",
    "+ транкинг - обрезание слов слишком большой длины\n",
    "+ падинг - добавление значения для выравнивания последовательностей"
   ]
  },
  {
   "cell_type": "code",
   "execution_count": 23,
   "metadata": {
    "execution": {
     "iopub.execute_input": "2024-04-13T07:26:13.262477Z",
     "iopub.status.busy": "2024-04-13T07:26:13.262116Z",
     "iopub.status.idle": "2024-04-13T07:26:14.904136Z",
     "shell.execute_reply": "2024-04-13T07:26:14.903139Z",
     "shell.execute_reply.started": "2024-04-13T07:26:13.262452Z"
    },
    "trusted": true
   },
   "outputs": [
    {
     "data": {
      "application/vnd.jupyter.widget-view+json": {
       "model_id": "968685c659b04d6ca594b12c59451c1c",
       "version_major": 2,
       "version_minor": 0
      },
      "text/plain": [
       "Pandas Apply:   0%|          | 0/25000 [00:00<?, ?it/s]"
      ]
     },
     "metadata": {},
     "output_type": "display_data"
    },
    {
     "data": {
      "application/vnd.jupyter.widget-view+json": {
       "model_id": "d31086e34ceb4f3fbe7befd25481b1fe",
       "version_major": 2,
       "version_minor": 0
      },
      "text/plain": [
       "Pandas Apply:   0%|          | 0/25000 [00:00<?, ?it/s]"
      ]
     },
     "metadata": {},
     "output_type": "display_data"
    },
    {
     "data": {
      "application/vnd.jupyter.widget-view+json": {
       "model_id": "2d6b97e9b40e4b0392ca28a09deabd12",
       "version_major": 2,
       "version_minor": 0
      },
      "text/plain": [
       "Pandas Apply:   0%|          | 0/25000 [00:00<?, ?it/s]"
      ]
     },
     "metadata": {},
     "output_type": "display_data"
    },
    {
     "data": {
      "text/html": [
       "<div>\n",
       "<style scoped>\n",
       "    .dataframe tbody tr th:only-of-type {\n",
       "        vertical-align: middle;\n",
       "    }\n",
       "\n",
       "    .dataframe tbody tr th {\n",
       "        vertical-align: top;\n",
       "    }\n",
       "\n",
       "    .dataframe thead th {\n",
       "        text-align: right;\n",
       "    }\n",
       "</style>\n",
       "<table border=\"1\" class=\"dataframe\">\n",
       "  <thead>\n",
       "    <tr style=\"text-align: right;\">\n",
       "      <th></th>\n",
       "      <th>id</th>\n",
       "      <th>sentiment</th>\n",
       "      <th>review</th>\n",
       "      <th>preprocessed</th>\n",
       "      <th>tokens</th>\n",
       "      <th>trunc</th>\n",
       "      <th>padded</th>\n",
       "    </tr>\n",
       "  </thead>\n",
       "  <tbody>\n",
       "    <tr>\n",
       "      <th>3130</th>\n",
       "      <td>3910_10</td>\n",
       "      <td>1</td>\n",
       "      <td>So I'm at home, flipping channels one night, a...</td>\n",
       "      <td>[I, home,  , flip, channel, one, night,  , I, ...</td>\n",
       "      <td>[15318, 40573, 26786, 41808, 24770, 15073, 476...</td>\n",
       "      <td>[15318, 40573, 26786, 41808, 24770, 15073, 476...</td>\n",
       "      <td>[19184, 19184, 19184, 19184, 19184, 19184, 191...</td>\n",
       "    </tr>\n",
       "    <tr>\n",
       "      <th>2449</th>\n",
       "      <td>2471_2</td>\n",
       "      <td>0</td>\n",
       "      <td>I remember back when I was little when I was a...</td>\n",
       "      <td>[I, remember, back, I, little, I, away, camp, ...</td>\n",
       "      <td>[15318, 40573, 40791, 17571, 40573, 18351, 405...</td>\n",
       "      <td>[15318, 40573, 40791, 17571, 40573, 18351, 405...</td>\n",
       "      <td>[19184, 19184, 19184, 19184, 19184, 19184, 191...</td>\n",
       "    </tr>\n",
       "    <tr>\n",
       "      <th>20699</th>\n",
       "      <td>7079_1</td>\n",
       "      <td>0</td>\n",
       "      <td>No reason to bother renting this flick. From t...</td>\n",
       "      <td>[reason, bother, rent, flick,  , opening, cred...</td>\n",
       "      <td>[15318, 11897, 10671, 3631, 35863, 41808, 3402...</td>\n",
       "      <td>[15318, 11897, 10671, 3631, 35863, 41808, 3402...</td>\n",
       "      <td>[19184, 19184, 19184, 19184, 19184, 19184, 191...</td>\n",
       "    </tr>\n",
       "    <tr>\n",
       "      <th>2787</th>\n",
       "      <td>410_4</td>\n",
       "      <td>0</td>\n",
       "      <td>Unfortunately, one of the best efforts yet mad...</td>\n",
       "      <td>[unfortunately,  , one, good, effort, yet, mak...</td>\n",
       "      <td>[15318, 21047, 41808, 4760, 15163, 22730, 3947...</td>\n",
       "      <td>[15318, 21047, 41808, 4760, 15163, 22730, 3947...</td>\n",
       "      <td>[19184, 19184, 19184, 19184, 19184, 19184, 191...</td>\n",
       "    </tr>\n",
       "    <tr>\n",
       "      <th>6666</th>\n",
       "      <td>502_1</td>\n",
       "      <td>0</td>\n",
       "      <td>This movie is not only a very bad movie, with ...</td>\n",
       "      <td>[movie, bad, movie,  , awful, actor,  , presum...</td>\n",
       "      <td>[15318, 12525, 31746, 12525, 41808, 29070, 286...</td>\n",
       "      <td>[15318, 12525, 31746, 12525, 41808, 29070, 286...</td>\n",
       "      <td>[19184, 19184, 19184, 19184, 19184, 19184, 191...</td>\n",
       "    </tr>\n",
       "    <tr>\n",
       "      <th>18635</th>\n",
       "      <td>3579_8</td>\n",
       "      <td>1</td>\n",
       "      <td>The Stone Boy is an almost forgotten drama fro...</td>\n",
       "      <td>[stone, boy, almost, forget, drama,  ,  , cons...</td>\n",
       "      <td>[15318, 18479, 24113, 41664, 1210, 35099, 4180...</td>\n",
       "      <td>[15318, 18479, 24113, 41664, 1210, 35099, 4180...</td>\n",
       "      <td>[19184, 19184, 15318, 18479, 24113, 41664, 121...</td>\n",
       "    </tr>\n",
       "    <tr>\n",
       "      <th>7411</th>\n",
       "      <td>10267_1</td>\n",
       "      <td>0</td>\n",
       "      <td>This piece ain't really worth a comment.. It's...</td>\n",
       "      <td>[piece, really, worth, comment,  , simply, bad...</td>\n",
       "      <td>[15318, 24036, 35170, 32138, 11098, 41808, 196...</td>\n",
       "      <td>[15318, 24036, 35170, 32138, 11098, 41808, 196...</td>\n",
       "      <td>[19184, 19184, 19184, 19184, 19184, 19184, 191...</td>\n",
       "    </tr>\n",
       "    <tr>\n",
       "      <th>14947</th>\n",
       "      <td>10644_8</td>\n",
       "      <td>1</td>\n",
       "      <td>The second of the Why We Fight Series concentr...</td>\n",
       "      <td>[second, fight, series, concentrate, hitler, g...</td>\n",
       "      <td>[15318, 22600, 2429, 570, 6813, 28426, 3782, 4...</td>\n",
       "      <td>[15318, 22600, 2429, 570, 6813, 28426, 3782, 4...</td>\n",
       "      <td>[19184, 19184, 19184, 19184, 19184, 19184, 191...</td>\n",
       "    </tr>\n",
       "    <tr>\n",
       "      <th>11292</th>\n",
       "      <td>4643_10</td>\n",
       "      <td>1</td>\n",
       "      <td>I am currently on vacation in Israel for summe...</td>\n",
       "      <td>[I, currently, vacation, israel, summer,  , ab...</td>\n",
       "      <td>[15318, 40573, 27245, 6623, 42047, 33530, 4180...</td>\n",
       "      <td>[15318, 40573, 27245, 6623, 42047, 33530, 4180...</td>\n",
       "      <td>[19184, 19184, 15318, 40573, 27245, 6623, 4204...</td>\n",
       "    </tr>\n",
       "    <tr>\n",
       "      <th>248</th>\n",
       "      <td>9842_1</td>\n",
       "      <td>0</td>\n",
       "      <td>Seems everyone in this film is channeling Wood...</td>\n",
       "      <td>[seem, everyone, film, channel, woody, allen, ...</td>\n",
       "      <td>[15318, 29859, 5932, 4761, 15073, 16461, 29650...</td>\n",
       "      <td>[15318, 29859, 5932, 4761, 15073, 16461, 29650...</td>\n",
       "      <td>[19184, 19184, 19184, 19184, 19184, 19184, 191...</td>\n",
       "    </tr>\n",
       "  </tbody>\n",
       "</table>\n",
       "</div>"
      ],
      "text/plain": [
       "            id  sentiment                                             review  \\\n",
       "3130   3910_10          1  So I'm at home, flipping channels one night, a...   \n",
       "2449    2471_2          0  I remember back when I was little when I was a...   \n",
       "20699   7079_1          0  No reason to bother renting this flick. From t...   \n",
       "2787     410_4          0  Unfortunately, one of the best efforts yet mad...   \n",
       "6666     502_1          0  This movie is not only a very bad movie, with ...   \n",
       "18635   3579_8          1  The Stone Boy is an almost forgotten drama fro...   \n",
       "7411   10267_1          0  This piece ain't really worth a comment.. It's...   \n",
       "14947  10644_8          1  The second of the Why We Fight Series concentr...   \n",
       "11292  4643_10          1  I am currently on vacation in Israel for summe...   \n",
       "248     9842_1          0  Seems everyone in this film is channeling Wood...   \n",
       "\n",
       "                                            preprocessed  \\\n",
       "3130   [I, home,  , flip, channel, one, night,  , I, ...   \n",
       "2449   [I, remember, back, I, little, I, away, camp, ...   \n",
       "20699  [reason, bother, rent, flick,  , opening, cred...   \n",
       "2787   [unfortunately,  , one, good, effort, yet, mak...   \n",
       "6666   [movie, bad, movie,  , awful, actor,  , presum...   \n",
       "18635  [stone, boy, almost, forget, drama,  ,  , cons...   \n",
       "7411   [piece, really, worth, comment,  , simply, bad...   \n",
       "14947  [second, fight, series, concentrate, hitler, g...   \n",
       "11292  [I, currently, vacation, israel, summer,  , ab...   \n",
       "248    [seem, everyone, film, channel, woody, allen, ...   \n",
       "\n",
       "                                                  tokens  \\\n",
       "3130   [15318, 40573, 26786, 41808, 24770, 15073, 476...   \n",
       "2449   [15318, 40573, 40791, 17571, 40573, 18351, 405...   \n",
       "20699  [15318, 11897, 10671, 3631, 35863, 41808, 3402...   \n",
       "2787   [15318, 21047, 41808, 4760, 15163, 22730, 3947...   \n",
       "6666   [15318, 12525, 31746, 12525, 41808, 29070, 286...   \n",
       "18635  [15318, 18479, 24113, 41664, 1210, 35099, 4180...   \n",
       "7411   [15318, 24036, 35170, 32138, 11098, 41808, 196...   \n",
       "14947  [15318, 22600, 2429, 570, 6813, 28426, 3782, 4...   \n",
       "11292  [15318, 40573, 27245, 6623, 42047, 33530, 4180...   \n",
       "248    [15318, 29859, 5932, 4761, 15073, 16461, 29650...   \n",
       "\n",
       "                                                   trunc  \\\n",
       "3130   [15318, 40573, 26786, 41808, 24770, 15073, 476...   \n",
       "2449   [15318, 40573, 40791, 17571, 40573, 18351, 405...   \n",
       "20699  [15318, 11897, 10671, 3631, 35863, 41808, 3402...   \n",
       "2787   [15318, 21047, 41808, 4760, 15163, 22730, 3947...   \n",
       "6666   [15318, 12525, 31746, 12525, 41808, 29070, 286...   \n",
       "18635  [15318, 18479, 24113, 41664, 1210, 35099, 4180...   \n",
       "7411   [15318, 24036, 35170, 32138, 11098, 41808, 196...   \n",
       "14947  [15318, 22600, 2429, 570, 6813, 28426, 3782, 4...   \n",
       "11292  [15318, 40573, 27245, 6623, 42047, 33530, 4180...   \n",
       "248    [15318, 29859, 5932, 4761, 15073, 16461, 29650...   \n",
       "\n",
       "                                                  padded  \n",
       "3130   [19184, 19184, 19184, 19184, 19184, 19184, 191...  \n",
       "2449   [19184, 19184, 19184, 19184, 19184, 19184, 191...  \n",
       "20699  [19184, 19184, 19184, 19184, 19184, 19184, 191...  \n",
       "2787   [19184, 19184, 19184, 19184, 19184, 19184, 191...  \n",
       "6666   [19184, 19184, 19184, 19184, 19184, 19184, 191...  \n",
       "18635  [19184, 19184, 15318, 18479, 24113, 41664, 121...  \n",
       "7411   [19184, 19184, 19184, 19184, 19184, 19184, 191...  \n",
       "14947  [19184, 19184, 19184, 19184, 19184, 19184, 191...  \n",
       "11292  [19184, 19184, 15318, 40573, 27245, 6623, 4204...  \n",
       "248    [19184, 19184, 19184, 19184, 19184, 19184, 191...  "
      ]
     },
     "execution_count": 23,
     "metadata": {},
     "output_type": "execute_result"
    }
   ],
   "source": [
    "def indexing(tokens, word2ind=word2ind):\n",
    "    return (\n",
    "        [word2ind[\"<bos>\"]]\n",
    "        + [word2ind.get(x, word2ind[\"<unk>\"]) for x in tokens]\n",
    "        + [word2ind[\"<eos>\"]]\n",
    "    )\n",
    "\n",
    "\n",
    "def truncing(tokens, max_tokens=max_tokens):\n",
    "    return tokens[:max_tokens]\n",
    "\n",
    "\n",
    "def padding(tokens, max_tokens=max_tokens + 2):\n",
    "    return tokens + [word2ind[\"<pad>\"]] * (max_tokens - len(tokens))\n",
    "\n",
    "\n",
    "df[\"tokens\"] = df[\"preprocessed\"].progress_apply(indexing)\n",
    "df[\"trunc\"] = df[\"tokens\"].progress_apply(truncing)\n",
    "df[\"padded\"] = df[\"trunc\"].progress_apply(padding)\n",
    "\n",
    "df.head(10)"
   ]
  },
  {
   "cell_type": "markdown",
   "metadata": {},
   "source": [
    "Теперь разбиение данных на обучающую и тестовую выборки"
   ]
  },
  {
   "cell_type": "code",
   "execution_count": 50,
   "metadata": {
    "execution": {
     "iopub.execute_input": "2024-04-13T07:36:38.422203Z",
     "iopub.status.busy": "2024-04-13T07:36:38.421371Z",
     "iopub.status.idle": "2024-04-13T07:36:39.245869Z",
     "shell.execute_reply": "2024-04-13T07:36:39.244781Z",
     "shell.execute_reply.started": "2024-04-13T07:36:38.422159Z"
    },
    "trusted": true
   },
   "outputs": [],
   "source": [
    "features_train, features_test, y_train, y_test = train_test_split(\n",
    "    df[\"padded\"], df[\"sentiment\"], test_size=0.1\n",
    ")\n",
    "\n",
    "features_train_tens = torch.Tensor(features_train.to_list()).int().to(device)\n",
    "y_train_tens = torch.Tensor(y_train.to_list()).to(device)\n",
    "features_test_tens = torch.Tensor(features_test.to_list()).int().to(device)\n",
    "y_test_tens = torch.Tensor(y_test.to_list()).to(device)\n",
    "\n",
    "train_dataset = TensorDataset(features_train_tens, y_train_tens)\n",
    "train_dataloader = DataLoader(train_dataset, batch_size=batch_size, shuffle=True)\n",
    "test_dataset = TensorDataset(features_test_tens, y_test_tens)\n",
    "test_dataloader = DataLoader(test_dataset, batch_size=batch_size, shuffle=False)"
   ]
  },
  {
   "cell_type": "markdown",
   "metadata": {},
   "source": [
    "Модель будет состоять из:\n",
    "+ Эмбединги - кодирование слов моделью\n",
    "+ GRU - RNN слой с паматью\n",
    "+ Линейный слой для классификации\n",
    "+ Гиперболический тангенс, который используют часто с GRU\n",
    "+ Сигмоида для сглаживания значений предсказаний в диапозон [0, 1]\n",
    "+ DropOut - отключение некоторых нейронов для борьбы с переобучением\n",
    "+ Нормализация слоя, которая используется в языковых моделях и также борется с переобучением"
   ]
  },
  {
   "cell_type": "code",
   "execution_count": 27,
   "metadata": {
    "execution": {
     "iopub.execute_input": "2024-04-13T07:27:48.789013Z",
     "iopub.status.busy": "2024-04-13T07:27:48.788654Z",
     "iopub.status.idle": "2024-04-13T07:27:48.799391Z",
     "shell.execute_reply": "2024-04-13T07:27:48.798167Z",
     "shell.execute_reply.started": "2024-04-13T07:27:48.788986Z"
    },
    "trusted": true
   },
   "outputs": [],
   "source": [
    "class TextClassifier(nn.Module):\n",
    "    def __init__(self, vocab_size, embedding_dim, hidden_dim):\n",
    "        super().__init__()\n",
    "\n",
    "        # обучаемые параметры\n",
    "        self.embeddings = nn.Embedding(vocab_size, embedding_dim)\n",
    "        self.rnn = nn.GRU(\n",
    "            embedding_dim, hidden_dim, batch_first=True, bidirectional=True\n",
    "        )\n",
    "        self.classifier = nn.Linear(hidden_dim * 2, 1)\n",
    "\n",
    "        # нелинейность\n",
    "        self.tanh = nn.Tanh()\n",
    "        self.sigm = nn.Sigmoid()\n",
    "\n",
    "        # борьба с переобучением\n",
    "        self.dropout = nn.Dropout(0.2)\n",
    "        self.rnn_norm = nn.LayerNorm(hidden_dim * 2)\n",
    "\n",
    "    def forward(self, X):\n",
    "        # преобразуем наши слова в векторные представления\n",
    "        emb = self.embeddings(X)\n",
    "\n",
    "        # прогоняем наши вектора через rnn\n",
    "        output_rnn, hidden_state = self.rnn(emb)\n",
    "        output_rnn = self.dropout(self.tanh(self.rnn_norm(output_rnn)))\n",
    "\n",
    "        # берём среднее значения по последовательносте\n",
    "        output_rnn = output_rnn.mean(dim=1)\n",
    "\n",
    "        # классифицируем текст\n",
    "        output = self.sigm(self.classifier(output_rnn))\n",
    "\n",
    "        return output"
   ]
  },
  {
   "cell_type": "markdown",
   "metadata": {},
   "source": [
    "ну и циклы обучения и оценки"
   ]
  },
  {
   "cell_type": "code",
   "execution_count": 49,
   "metadata": {
    "execution": {
     "iopub.execute_input": "2024-04-13T07:36:31.248109Z",
     "iopub.status.busy": "2024-04-13T07:36:31.247220Z",
     "iopub.status.idle": "2024-04-13T07:36:31.260784Z",
     "shell.execute_reply": "2024-04-13T07:36:31.259865Z",
     "shell.execute_reply.started": "2024-04-13T07:36:31.248073Z"
    },
    "trusted": true
   },
   "outputs": [],
   "source": [
    "def train(model, optimizer, loss_fn, train_dataloader, device, epoch):\n",
    "    # перевод модели в режим обучения\n",
    "    model.train()\n",
    "    model.to(device)\n",
    "\n",
    "    accuracy, losses = 0, 0\n",
    "\n",
    "    for features, targets in tqdm(train_dataloader, desc=f\"Training epoch {epoch}\"):\n",
    "        logits = model(features)\n",
    "        loss = loss_fn(logits.squeeze(dim=1), targets)\n",
    "\n",
    "        # считаем среднюю точность на batch\n",
    "        accuracy += (\n",
    "            torch.sum(torch.round(logits.squeeze(dim=1)) == targets).item() / 512\n",
    "        )\n",
    "        losses += loss.item()\n",
    "\n",
    "        optimizer.zero_grad()\n",
    "        loss.backward()\n",
    "        optimizer.step()\n",
    "\n",
    "    # возвращаем точность и ошибку на эпоху\n",
    "    return accuracy / len(train_dataloader), losses / len(train_dataloader)\n",
    "\n",
    "\n",
    "def test(model, loss_fn, device, test_dataloader, epoch):\n",
    "    # перевод модели в режим оценки\n",
    "    model.eval()\n",
    "    model.to(device)\n",
    "\n",
    "    accuracy, losses = 0, 0\n",
    "\n",
    "    # отключаем отслеживание градиентов\n",
    "    with torch.no_grad():\n",
    "        for features, targets in tqdm(test_dataloader, desc=f\"Test epoch {epoch}\"):\n",
    "            logits = model(features)\n",
    "            loss = loss_fn(logits.squeeze(dim=1), targets)\n",
    "\n",
    "            accuracy += (\n",
    "                torch.sum(torch.round(logits.squeeze(dim=1)) == targets).item() / 512\n",
    "            )\n",
    "            losses += loss.item()\n",
    "\n",
    "    print(accuracy, losses)\n",
    "    return accuracy / len(test_dataloader), losses / len(test_dataloader)"
   ]
  },
  {
   "cell_type": "code",
   "execution_count": null,
   "metadata": {
    "execution": {
     "iopub.execute_input": "2024-04-13T07:52:45.920053Z",
     "iopub.status.busy": "2024-04-13T07:52:45.919669Z"
    },
    "trusted": true
   },
   "outputs": [
    {
     "name": "stdout",
     "output_type": "stream",
     "text": [
      "Epoch 0\n",
      "________________________________\n"
     ]
    },
    {
     "data": {
      "application/vnd.jupyter.widget-view+json": {
       "model_id": "bb8da1ad1eff4fe89b5267ad1844cc94",
       "version_major": 2,
       "version_minor": 0
      },
      "text/plain": [
       "Training epoch 0:   0%|          | 0/35 [00:00<?, ?it/s]"
      ]
     },
     "metadata": {},
     "output_type": "display_data"
    },
    {
     "data": {
      "application/vnd.jupyter.widget-view+json": {
       "model_id": "188f1f5630a8441f84bb668a7f10351e",
       "version_major": 2,
       "version_minor": 0
      },
      "text/plain": [
       "Test epoch 0:   0%|          | 0/15 [00:00<?, ?it/s]"
      ]
     },
     "metadata": {},
     "output_type": "display_data"
    },
    {
     "name": "stdout",
     "output_type": "stream",
     "text": [
      "8.89453125 10.131655931472778\n",
      "Epoch 1\n",
      "________________________________\n"
     ]
    },
    {
     "data": {
      "application/vnd.jupyter.widget-view+json": {
       "model_id": "13acc0845cb84994add34ec04260cf0e",
       "version_major": 2,
       "version_minor": 0
      },
      "text/plain": [
       "Training epoch 1:   0%|          | 0/35 [00:00<?, ?it/s]"
      ]
     },
     "metadata": {},
     "output_type": "display_data"
    },
    {
     "data": {
      "application/vnd.jupyter.widget-view+json": {
       "model_id": "0b466176a9264522a615f8aaeee42352",
       "version_major": 2,
       "version_minor": 0
      },
      "text/plain": [
       "Test epoch 1:   0%|          | 0/15 [00:00<?, ?it/s]"
      ]
     },
     "metadata": {},
     "output_type": "display_data"
    },
    {
     "name": "stdout",
     "output_type": "stream",
     "text": [
      "9.33984375 9.685358345508575\n",
      "Epoch 2\n",
      "________________________________\n"
     ]
    },
    {
     "data": {
      "application/vnd.jupyter.widget-view+json": {
       "model_id": "4a3a7f76587c406995cb489cd38dd6b0",
       "version_major": 2,
       "version_minor": 0
      },
      "text/plain": [
       "Training epoch 2:   0%|          | 0/35 [00:00<?, ?it/s]"
      ]
     },
     "metadata": {},
     "output_type": "display_data"
    },
    {
     "data": {
      "application/vnd.jupyter.widget-view+json": {
       "model_id": "1f7aeb85d7174ed4b2750783f97646c9",
       "version_major": 2,
       "version_minor": 0
      },
      "text/plain": [
       "Test epoch 2:   0%|          | 0/15 [00:00<?, ?it/s]"
      ]
     },
     "metadata": {},
     "output_type": "display_data"
    },
    {
     "name": "stdout",
     "output_type": "stream",
     "text": [
      "9.41015625 9.437826037406921\n",
      "Epoch 3\n",
      "________________________________\n"
     ]
    },
    {
     "data": {
      "application/vnd.jupyter.widget-view+json": {
       "model_id": "6fa9d4ecc37f45caafa4ec59e3ae382f",
       "version_major": 2,
       "version_minor": 0
      },
      "text/plain": [
       "Training epoch 3:   0%|          | 0/35 [00:00<?, ?it/s]"
      ]
     },
     "metadata": {},
     "output_type": "display_data"
    },
    {
     "data": {
      "application/vnd.jupyter.widget-view+json": {
       "model_id": "35788d862bef46798acbb50c010ed6be",
       "version_major": 2,
       "version_minor": 0
      },
      "text/plain": [
       "Test epoch 3:   0%|          | 0/15 [00:00<?, ?it/s]"
      ]
     },
     "metadata": {},
     "output_type": "display_data"
    },
    {
     "name": "stdout",
     "output_type": "stream",
     "text": [
      "9.470703125 9.466528475284576\n",
      "Epoch 4\n",
      "________________________________\n"
     ]
    },
    {
     "data": {
      "application/vnd.jupyter.widget-view+json": {
       "model_id": "cbf8bd0f5dc64853a0389112a71434cd",
       "version_major": 2,
       "version_minor": 0
      },
      "text/plain": [
       "Training epoch 4:   0%|          | 0/35 [00:00<?, ?it/s]"
      ]
     },
     "metadata": {},
     "output_type": "display_data"
    },
    {
     "data": {
      "application/vnd.jupyter.widget-view+json": {
       "model_id": "1974da312fce4b6eaf31838d6549c22f",
       "version_major": 2,
       "version_minor": 0
      },
      "text/plain": [
       "Test epoch 4:   0%|          | 0/15 [00:00<?, ?it/s]"
      ]
     },
     "metadata": {},
     "output_type": "display_data"
    },
    {
     "name": "stdout",
     "output_type": "stream",
     "text": [
      "10.1484375 8.740171074867249\n",
      "Epoch 5\n",
      "________________________________\n"
     ]
    },
    {
     "data": {
      "application/vnd.jupyter.widget-view+json": {
       "model_id": "e83bf809a62d42529496c595f17de4b4",
       "version_major": 2,
       "version_minor": 0
      },
      "text/plain": [
       "Training epoch 5:   0%|          | 0/35 [00:00<?, ?it/s]"
      ]
     },
     "metadata": {},
     "output_type": "display_data"
    },
    {
     "data": {
      "application/vnd.jupyter.widget-view+json": {
       "model_id": "3509d51f2cd44643b28d2d428c6c1a41",
       "version_major": 2,
       "version_minor": 0
      },
      "text/plain": [
       "Test epoch 5:   0%|          | 0/15 [00:00<?, ?it/s]"
      ]
     },
     "metadata": {},
     "output_type": "display_data"
    },
    {
     "name": "stdout",
     "output_type": "stream",
     "text": [
      "10.544921875 8.421563923358917\n",
      "Epoch 6\n",
      "________________________________\n"
     ]
    },
    {
     "data": {
      "application/vnd.jupyter.widget-view+json": {
       "model_id": "a39fc9602173410f872c5b7a19695eed",
       "version_major": 2,
       "version_minor": 0
      },
      "text/plain": [
       "Training epoch 6:   0%|          | 0/35 [00:00<?, ?it/s]"
      ]
     },
     "metadata": {},
     "output_type": "display_data"
    },
    {
     "data": {
      "application/vnd.jupyter.widget-view+json": {
       "model_id": "7a8a0e780add415793c038fff6da201a",
       "version_major": 2,
       "version_minor": 0
      },
      "text/plain": [
       "Test epoch 6:   0%|          | 0/15 [00:00<?, ?it/s]"
      ]
     },
     "metadata": {},
     "output_type": "display_data"
    },
    {
     "name": "stdout",
     "output_type": "stream",
     "text": [
      "9.783203125 8.936697661876678\n",
      "Epoch 7\n",
      "________________________________\n"
     ]
    },
    {
     "data": {
      "application/vnd.jupyter.widget-view+json": {
       "model_id": "73b55b5991d144b49a847507eef713ae",
       "version_major": 2,
       "version_minor": 0
      },
      "text/plain": [
       "Training epoch 7:   0%|          | 0/35 [00:00<?, ?it/s]"
      ]
     },
     "metadata": {},
     "output_type": "display_data"
    },
    {
     "data": {
      "application/vnd.jupyter.widget-view+json": {
       "model_id": "073bf3c5db7b43b19ce3e0269116d4a7",
       "version_major": 2,
       "version_minor": 0
      },
      "text/plain": [
       "Test epoch 7:   0%|          | 0/15 [00:00<?, ?it/s]"
      ]
     },
     "metadata": {},
     "output_type": "display_data"
    },
    {
     "name": "stdout",
     "output_type": "stream",
     "text": [
      "9.400390625 9.406665742397308\n",
      "Epoch 8\n",
      "________________________________\n"
     ]
    },
    {
     "data": {
      "application/vnd.jupyter.widget-view+json": {
       "model_id": "333c5f8ef7364444887cc6e35481decb",
       "version_major": 2,
       "version_minor": 0
      },
      "text/plain": [
       "Training epoch 8:   0%|          | 0/35 [00:00<?, ?it/s]"
      ]
     },
     "metadata": {},
     "output_type": "display_data"
    },
    {
     "data": {
      "application/vnd.jupyter.widget-view+json": {
       "model_id": "90807a79d87e40949e0a7d521e010cb4",
       "version_major": 2,
       "version_minor": 0
      },
      "text/plain": [
       "Test epoch 8:   0%|          | 0/15 [00:00<?, ?it/s]"
      ]
     },
     "metadata": {},
     "output_type": "display_data"
    },
    {
     "name": "stdout",
     "output_type": "stream",
     "text": [
      "10.9375 7.637048959732056\n",
      "Epoch 9\n",
      "________________________________\n"
     ]
    },
    {
     "data": {
      "application/vnd.jupyter.widget-view+json": {
       "model_id": "76c75292823e4242bd819194ba8537ac",
       "version_major": 2,
       "version_minor": 0
      },
      "text/plain": [
       "Training epoch 9:   0%|          | 0/35 [00:00<?, ?it/s]"
      ]
     },
     "metadata": {},
     "output_type": "display_data"
    },
    {
     "data": {
      "application/vnd.jupyter.widget-view+json": {
       "model_id": "175d04127a9a49e3ac19a342a4d353cf",
       "version_major": 2,
       "version_minor": 0
      },
      "text/plain": [
       "Test epoch 9:   0%|          | 0/15 [00:00<?, ?it/s]"
      ]
     },
     "metadata": {},
     "output_type": "display_data"
    },
    {
     "name": "stdout",
     "output_type": "stream",
     "text": [
      "10.453125 8.239320755004883\n",
      "Epoch 10\n",
      "________________________________\n"
     ]
    },
    {
     "data": {
      "application/vnd.jupyter.widget-view+json": {
       "model_id": "ad3f2be17f4746eca5d99ec01cac67d6",
       "version_major": 2,
       "version_minor": 0
      },
      "text/plain": [
       "Training epoch 10:   0%|          | 0/35 [00:00<?, ?it/s]"
      ]
     },
     "metadata": {},
     "output_type": "display_data"
    },
    {
     "data": {
      "application/vnd.jupyter.widget-view+json": {
       "model_id": "fa551431dc08469aa6dbc538dfac5f10",
       "version_major": 2,
       "version_minor": 0
      },
      "text/plain": [
       "Test epoch 10:   0%|          | 0/15 [00:00<?, ?it/s]"
      ]
     },
     "metadata": {},
     "output_type": "display_data"
    },
    {
     "name": "stdout",
     "output_type": "stream",
     "text": [
      "11.0625 7.46829280257225\n",
      "Epoch 11\n",
      "________________________________\n"
     ]
    },
    {
     "data": {
      "application/vnd.jupyter.widget-view+json": {
       "model_id": "95ec3fb3f88e4e5c85b7c57833529857",
       "version_major": 2,
       "version_minor": 0
      },
      "text/plain": [
       "Training epoch 11:   0%|          | 0/35 [00:00<?, ?it/s]"
      ]
     },
     "metadata": {},
     "output_type": "display_data"
    },
    {
     "data": {
      "application/vnd.jupyter.widget-view+json": {
       "model_id": "d4883c814f30465695e1238edf9554a4",
       "version_major": 2,
       "version_minor": 0
      },
      "text/plain": [
       "Test epoch 11:   0%|          | 0/15 [00:00<?, ?it/s]"
      ]
     },
     "metadata": {},
     "output_type": "display_data"
    },
    {
     "name": "stdout",
     "output_type": "stream",
     "text": [
      "10.029296875 8.740447759628296\n",
      "Epoch 12\n",
      "________________________________\n"
     ]
    },
    {
     "data": {
      "application/vnd.jupyter.widget-view+json": {
       "model_id": "8a4396324207474e8f85cef7fa3a20e4",
       "version_major": 2,
       "version_minor": 0
      },
      "text/plain": [
       "Training epoch 12:   0%|          | 0/35 [00:00<?, ?it/s]"
      ]
     },
     "metadata": {},
     "output_type": "display_data"
    },
    {
     "data": {
      "application/vnd.jupyter.widget-view+json": {
       "model_id": "17b7cfcacf754056b64f65cc803059a3",
       "version_major": 2,
       "version_minor": 0
      },
      "text/plain": [
       "Test epoch 12:   0%|          | 0/15 [00:00<?, ?it/s]"
      ]
     },
     "metadata": {},
     "output_type": "display_data"
    },
    {
     "name": "stdout",
     "output_type": "stream",
     "text": [
      "11.236328125 7.1751649081707\n",
      "Epoch 13\n",
      "________________________________\n"
     ]
    },
    {
     "data": {
      "application/vnd.jupyter.widget-view+json": {
       "model_id": "89ee410881b846608673f657941160dc",
       "version_major": 2,
       "version_minor": 0
      },
      "text/plain": [
       "Training epoch 13:   0%|          | 0/35 [00:00<?, ?it/s]"
      ]
     },
     "metadata": {},
     "output_type": "display_data"
    },
    {
     "data": {
      "application/vnd.jupyter.widget-view+json": {
       "model_id": "ec25f1484fe640d68db64a994841670f",
       "version_major": 2,
       "version_minor": 0
      },
      "text/plain": [
       "Test epoch 13:   0%|          | 0/15 [00:00<?, ?it/s]"
      ]
     },
     "metadata": {},
     "output_type": "display_data"
    },
    {
     "name": "stdout",
     "output_type": "stream",
     "text": [
      "11.494140625 6.8847262263298035\n",
      "Epoch 14\n",
      "________________________________\n"
     ]
    },
    {
     "data": {
      "application/vnd.jupyter.widget-view+json": {
       "model_id": "9c7d2e5311d249709f0f2818cc6b82a9",
       "version_major": 2,
       "version_minor": 0
      },
      "text/plain": [
       "Training epoch 14:   0%|          | 0/35 [00:00<?, ?it/s]"
      ]
     },
     "metadata": {},
     "output_type": "display_data"
    },
    {
     "data": {
      "application/vnd.jupyter.widget-view+json": {
       "model_id": "6a4a3fceb3fc4f6ba45087721c209f55",
       "version_major": 2,
       "version_minor": 0
      },
      "text/plain": [
       "Test epoch 14:   0%|          | 0/15 [00:00<?, ?it/s]"
      ]
     },
     "metadata": {},
     "output_type": "display_data"
    },
    {
     "name": "stdout",
     "output_type": "stream",
     "text": [
      "11.296875 7.070807129144669\n",
      "Epoch 15\n",
      "________________________________\n"
     ]
    },
    {
     "data": {
      "application/vnd.jupyter.widget-view+json": {
       "model_id": "f71c6c4617d2481ab23112d0b61d1bf9",
       "version_major": 2,
       "version_minor": 0
      },
      "text/plain": [
       "Training epoch 15:   0%|          | 0/35 [00:00<?, ?it/s]"
      ]
     },
     "metadata": {},
     "output_type": "display_data"
    },
    {
     "data": {
      "application/vnd.jupyter.widget-view+json": {
       "model_id": "e8339da9e3cd4a58ab41552bfa184714",
       "version_major": 2,
       "version_minor": 0
      },
      "text/plain": [
       "Test epoch 15:   0%|          | 0/15 [00:00<?, ?it/s]"
      ]
     },
     "metadata": {},
     "output_type": "display_data"
    },
    {
     "name": "stdout",
     "output_type": "stream",
     "text": [
      "10.83984375 7.642534494400024\n",
      "Epoch 16\n",
      "________________________________\n"
     ]
    },
    {
     "data": {
      "application/vnd.jupyter.widget-view+json": {
       "model_id": "81c78823c4764ef499fed48263bbc680",
       "version_major": 2,
       "version_minor": 0
      },
      "text/plain": [
       "Training epoch 16:   0%|          | 0/35 [00:00<?, ?it/s]"
      ]
     },
     "metadata": {},
     "output_type": "display_data"
    },
    {
     "data": {
      "application/vnd.jupyter.widget-view+json": {
       "model_id": "4ec7195774d148379c25c1c58110aa06",
       "version_major": 2,
       "version_minor": 0
      },
      "text/plain": [
       "Test epoch 16:   0%|          | 0/15 [00:00<?, ?it/s]"
      ]
     },
     "metadata": {},
     "output_type": "display_data"
    },
    {
     "name": "stdout",
     "output_type": "stream",
     "text": [
      "11.298828125 7.039727509021759\n",
      "Epoch 17\n",
      "________________________________\n"
     ]
    },
    {
     "data": {
      "application/vnd.jupyter.widget-view+json": {
       "model_id": "e1f32751153d48779c93ee1ec7b352f6",
       "version_major": 2,
       "version_minor": 0
      },
      "text/plain": [
       "Training epoch 17:   0%|          | 0/35 [00:00<?, ?it/s]"
      ]
     },
     "metadata": {},
     "output_type": "display_data"
    },
    {
     "data": {
      "application/vnd.jupyter.widget-view+json": {
       "model_id": "d9095ac61cae4f4f88f842617538047e",
       "version_major": 2,
       "version_minor": 0
      },
      "text/plain": [
       "Test epoch 17:   0%|          | 0/15 [00:00<?, ?it/s]"
      ]
     },
     "metadata": {},
     "output_type": "display_data"
    },
    {
     "name": "stdout",
     "output_type": "stream",
     "text": [
      "11.603515625 6.648838847875595\n",
      "Epoch 18\n",
      "________________________________\n"
     ]
    },
    {
     "data": {
      "application/vnd.jupyter.widget-view+json": {
       "model_id": "386cff041980479da320dc8423e421c2",
       "version_major": 2,
       "version_minor": 0
      },
      "text/plain": [
       "Training epoch 18:   0%|          | 0/35 [00:00<?, ?it/s]"
      ]
     },
     "metadata": {},
     "output_type": "display_data"
    },
    {
     "data": {
      "application/vnd.jupyter.widget-view+json": {
       "model_id": "f847179a6a77401cafa53b68bcce32c4",
       "version_major": 2,
       "version_minor": 0
      },
      "text/plain": [
       "Test epoch 18:   0%|          | 0/15 [00:00<?, ?it/s]"
      ]
     },
     "metadata": {},
     "output_type": "display_data"
    },
    {
     "name": "stdout",
     "output_type": "stream",
     "text": [
      "11.693359375 6.576460599899292\n",
      "Epoch 19\n",
      "________________________________\n"
     ]
    },
    {
     "data": {
      "application/vnd.jupyter.widget-view+json": {
       "model_id": "8b64e8c5f6934a1db232e98caa535030",
       "version_major": 2,
       "version_minor": 0
      },
      "text/plain": [
       "Training epoch 19:   0%|          | 0/35 [00:00<?, ?it/s]"
      ]
     },
     "metadata": {},
     "output_type": "display_data"
    },
    {
     "data": {
      "application/vnd.jupyter.widget-view+json": {
       "model_id": "dc4377f257cd465c861cc0740fdd5918",
       "version_major": 2,
       "version_minor": 0
      },
      "text/plain": [
       "Test epoch 19:   0%|          | 0/15 [00:00<?, ?it/s]"
      ]
     },
     "metadata": {},
     "output_type": "display_data"
    },
    {
     "name": "stdout",
     "output_type": "stream",
     "text": [
      "11.654296875 6.535683065652847\n",
      "Epoch 20\n",
      "________________________________\n"
     ]
    },
    {
     "data": {
      "application/vnd.jupyter.widget-view+json": {
       "model_id": "2c0ed2d8907c43fdb448c1b10dac1143",
       "version_major": 2,
       "version_minor": 0
      },
      "text/plain": [
       "Training epoch 20:   0%|          | 0/35 [00:00<?, ?it/s]"
      ]
     },
     "metadata": {},
     "output_type": "display_data"
    },
    {
     "data": {
      "application/vnd.jupyter.widget-view+json": {
       "model_id": "26a82225c5bb4d84b1428652135ed54f",
       "version_major": 2,
       "version_minor": 0
      },
      "text/plain": [
       "Test epoch 20:   0%|          | 0/15 [00:00<?, ?it/s]"
      ]
     },
     "metadata": {},
     "output_type": "display_data"
    },
    {
     "name": "stdout",
     "output_type": "stream",
     "text": [
      "11.806640625 6.423691362142563\n",
      "Epoch 21\n",
      "________________________________\n"
     ]
    },
    {
     "data": {
      "application/vnd.jupyter.widget-view+json": {
       "model_id": "af33f266ad194719bfe0aaaa556c1bcc",
       "version_major": 2,
       "version_minor": 0
      },
      "text/plain": [
       "Training epoch 21:   0%|          | 0/35 [00:00<?, ?it/s]"
      ]
     },
     "metadata": {},
     "output_type": "display_data"
    },
    {
     "data": {
      "application/vnd.jupyter.widget-view+json": {
       "model_id": "60f257295531407e988bc675d21a1370",
       "version_major": 2,
       "version_minor": 0
      },
      "text/plain": [
       "Test epoch 21:   0%|          | 0/15 [00:00<?, ?it/s]"
      ]
     },
     "metadata": {},
     "output_type": "display_data"
    },
    {
     "name": "stdout",
     "output_type": "stream",
     "text": [
      "11.7578125 6.409083366394043\n",
      "Epoch 22\n",
      "________________________________\n"
     ]
    },
    {
     "data": {
      "application/vnd.jupyter.widget-view+json": {
       "model_id": "8f54dd4073a14673bf326be35931e308",
       "version_major": 2,
       "version_minor": 0
      },
      "text/plain": [
       "Training epoch 22:   0%|          | 0/35 [00:00<?, ?it/s]"
      ]
     },
     "metadata": {},
     "output_type": "display_data"
    },
    {
     "data": {
      "application/vnd.jupyter.widget-view+json": {
       "model_id": "144e8ebca59b4d13873f8c2c601cfe8f",
       "version_major": 2,
       "version_minor": 0
      },
      "text/plain": [
       "Test epoch 22:   0%|          | 0/15 [00:00<?, ?it/s]"
      ]
     },
     "metadata": {},
     "output_type": "display_data"
    },
    {
     "name": "stdout",
     "output_type": "stream",
     "text": [
      "11.681640625 6.562038213014603\n",
      "Epoch 23\n",
      "________________________________\n"
     ]
    },
    {
     "data": {
      "application/vnd.jupyter.widget-view+json": {
       "model_id": "888336843c06420d99bf704cc912d4e8",
       "version_major": 2,
       "version_minor": 0
      },
      "text/plain": [
       "Training epoch 23:   0%|          | 0/35 [00:00<?, ?it/s]"
      ]
     },
     "metadata": {},
     "output_type": "display_data"
    },
    {
     "data": {
      "application/vnd.jupyter.widget-view+json": {
       "model_id": "53500453f6f042e099267b404524562c",
       "version_major": 2,
       "version_minor": 0
      },
      "text/plain": [
       "Test epoch 23:   0%|          | 0/15 [00:00<?, ?it/s]"
      ]
     },
     "metadata": {},
     "output_type": "display_data"
    },
    {
     "name": "stdout",
     "output_type": "stream",
     "text": [
      "11.79296875 6.437781870365143\n",
      "Epoch 24\n",
      "________________________________\n"
     ]
    },
    {
     "data": {
      "application/vnd.jupyter.widget-view+json": {
       "model_id": "5f5ffe6b45504373bfd7e045f4bd5852",
       "version_major": 2,
       "version_minor": 0
      },
      "text/plain": [
       "Training epoch 24:   0%|          | 0/35 [00:00<?, ?it/s]"
      ]
     },
     "metadata": {},
     "output_type": "display_data"
    },
    {
     "data": {
      "application/vnd.jupyter.widget-view+json": {
       "model_id": "af229f9136434c7392bd7ef2f871c1d5",
       "version_major": 2,
       "version_minor": 0
      },
      "text/plain": [
       "Test epoch 24:   0%|          | 0/15 [00:00<?, ?it/s]"
      ]
     },
     "metadata": {},
     "output_type": "display_data"
    },
    {
     "name": "stdout",
     "output_type": "stream",
     "text": [
      "11.62890625 6.602696508169174\n",
      "Epoch 25\n",
      "________________________________\n"
     ]
    },
    {
     "data": {
      "application/vnd.jupyter.widget-view+json": {
       "model_id": "9f37b3a1765c40a892f769b1175e28a3",
       "version_major": 2,
       "version_minor": 0
      },
      "text/plain": [
       "Training epoch 25:   0%|          | 0/35 [00:00<?, ?it/s]"
      ]
     },
     "metadata": {},
     "output_type": "display_data"
    },
    {
     "data": {
      "application/vnd.jupyter.widget-view+json": {
       "model_id": "aea19713be90458187605998aa0296cb",
       "version_major": 2,
       "version_minor": 0
      },
      "text/plain": [
       "Test epoch 25:   0%|          | 0/15 [00:00<?, ?it/s]"
      ]
     },
     "metadata": {},
     "output_type": "display_data"
    },
    {
     "name": "stdout",
     "output_type": "stream",
     "text": [
      "11.8203125 6.36228021979332\n",
      "Epoch 26\n",
      "________________________________\n"
     ]
    },
    {
     "data": {
      "application/vnd.jupyter.widget-view+json": {
       "model_id": "1d17bec8a6584203a30ad882407da2f2",
       "version_major": 2,
       "version_minor": 0
      },
      "text/plain": [
       "Training epoch 26:   0%|          | 0/35 [00:00<?, ?it/s]"
      ]
     },
     "metadata": {},
     "output_type": "display_data"
    },
    {
     "data": {
      "application/vnd.jupyter.widget-view+json": {
       "model_id": "b857353e048443b59f2e3047506fb4c3",
       "version_major": 2,
       "version_minor": 0
      },
      "text/plain": [
       "Test epoch 26:   0%|          | 0/15 [00:00<?, ?it/s]"
      ]
     },
     "metadata": {},
     "output_type": "display_data"
    },
    {
     "name": "stdout",
     "output_type": "stream",
     "text": [
      "11.8671875 6.230386823415756\n",
      "Epoch 27\n",
      "________________________________\n"
     ]
    },
    {
     "data": {
      "application/vnd.jupyter.widget-view+json": {
       "model_id": "5407d306032a47a99e71add9cd3dd615",
       "version_major": 2,
       "version_minor": 0
      },
      "text/plain": [
       "Training epoch 27:   0%|          | 0/35 [00:00<?, ?it/s]"
      ]
     },
     "metadata": {},
     "output_type": "display_data"
    },
    {
     "data": {
      "application/vnd.jupyter.widget-view+json": {
       "model_id": "847c1f2023c94cc4b1be72c94627feed",
       "version_major": 2,
       "version_minor": 0
      },
      "text/plain": [
       "Test epoch 27:   0%|          | 0/15 [00:00<?, ?it/s]"
      ]
     },
     "metadata": {},
     "output_type": "display_data"
    },
    {
     "name": "stdout",
     "output_type": "stream",
     "text": [
      "11.890625 6.18076691031456\n",
      "Epoch 28\n",
      "________________________________\n"
     ]
    },
    {
     "data": {
      "application/vnd.jupyter.widget-view+json": {
       "model_id": "0ffeacc09e684e0dab9746c0fe692b5c",
       "version_major": 2,
       "version_minor": 0
      },
      "text/plain": [
       "Training epoch 28:   0%|          | 0/35 [00:00<?, ?it/s]"
      ]
     },
     "metadata": {},
     "output_type": "display_data"
    },
    {
     "data": {
      "application/vnd.jupyter.widget-view+json": {
       "model_id": "e11fe9a756d444cdbf00b15c98eee3f9",
       "version_major": 2,
       "version_minor": 0
      },
      "text/plain": [
       "Test epoch 28:   0%|          | 0/15 [00:00<?, ?it/s]"
      ]
     },
     "metadata": {},
     "output_type": "display_data"
    },
    {
     "name": "stdout",
     "output_type": "stream",
     "text": [
      "11.650390625 6.476926773786545\n",
      "Epoch 29\n",
      "________________________________\n"
     ]
    },
    {
     "data": {
      "application/vnd.jupyter.widget-view+json": {
       "model_id": "cf1e33eb21844359b235d907eb4a62f8",
       "version_major": 2,
       "version_minor": 0
      },
      "text/plain": [
       "Training epoch 29:   0%|          | 0/35 [00:00<?, ?it/s]"
      ]
     },
     "metadata": {},
     "output_type": "display_data"
    },
    {
     "data": {
      "application/vnd.jupyter.widget-view+json": {
       "model_id": "ad139c77b8b94fcc9cbb20a788f00352",
       "version_major": 2,
       "version_minor": 0
      },
      "text/plain": [
       "Test epoch 29:   0%|          | 0/15 [00:00<?, ?it/s]"
      ]
     },
     "metadata": {},
     "output_type": "display_data"
    },
    {
     "name": "stdout",
     "output_type": "stream",
     "text": [
      "11.865234375 6.1390418112277985\n",
      "Epoch 30\n",
      "________________________________\n"
     ]
    },
    {
     "data": {
      "application/vnd.jupyter.widget-view+json": {
       "model_id": "8bb2d15ac0f74159aedaf5d8bdeea4b4",
       "version_major": 2,
       "version_minor": 0
      },
      "text/plain": [
       "Training epoch 30:   0%|          | 0/35 [00:00<?, ?it/s]"
      ]
     },
     "metadata": {},
     "output_type": "display_data"
    },
    {
     "data": {
      "application/vnd.jupyter.widget-view+json": {
       "model_id": "ced7942065734b8a821ea79b8e35b18a",
       "version_major": 2,
       "version_minor": 0
      },
      "text/plain": [
       "Test epoch 30:   0%|          | 0/15 [00:00<?, ?it/s]"
      ]
     },
     "metadata": {},
     "output_type": "display_data"
    },
    {
     "name": "stdout",
     "output_type": "stream",
     "text": [
      "11.8828125 6.152776300907135\n",
      "Epoch 31\n",
      "________________________________\n"
     ]
    },
    {
     "data": {
      "application/vnd.jupyter.widget-view+json": {
       "model_id": "f5a3f62e11dc44519b95a2d6e03afcfb",
       "version_major": 2,
       "version_minor": 0
      },
      "text/plain": [
       "Training epoch 31:   0%|          | 0/35 [00:00<?, ?it/s]"
      ]
     },
     "metadata": {},
     "output_type": "display_data"
    },
    {
     "data": {
      "application/vnd.jupyter.widget-view+json": {
       "model_id": "e53f1a5608764d4eb3cdd70dcd08029b",
       "version_major": 2,
       "version_minor": 0
      },
      "text/plain": [
       "Test epoch 31:   0%|          | 0/15 [00:00<?, ?it/s]"
      ]
     },
     "metadata": {},
     "output_type": "display_data"
    },
    {
     "name": "stdout",
     "output_type": "stream",
     "text": [
      "11.966796875 6.08906689286232\n",
      "Epoch 32\n",
      "________________________________\n"
     ]
    },
    {
     "data": {
      "application/vnd.jupyter.widget-view+json": {
       "model_id": "69f2615616fc42e3b33767e07ecc186e",
       "version_major": 2,
       "version_minor": 0
      },
      "text/plain": [
       "Training epoch 32:   0%|          | 0/35 [00:00<?, ?it/s]"
      ]
     },
     "metadata": {},
     "output_type": "display_data"
    },
    {
     "data": {
      "application/vnd.jupyter.widget-view+json": {
       "model_id": "83dbb65678b54f4b806ae7342d383130",
       "version_major": 2,
       "version_minor": 0
      },
      "text/plain": [
       "Test epoch 32:   0%|          | 0/15 [00:00<?, ?it/s]"
      ]
     },
     "metadata": {},
     "output_type": "display_data"
    },
    {
     "name": "stdout",
     "output_type": "stream",
     "text": [
      "11.9375 6.137488842010498\n",
      "Epoch 33\n",
      "________________________________\n"
     ]
    },
    {
     "data": {
      "application/vnd.jupyter.widget-view+json": {
       "model_id": "9a8e321f1c6446e5ad49d01a3fac4efc",
       "version_major": 2,
       "version_minor": 0
      },
      "text/plain": [
       "Training epoch 33:   0%|          | 0/35 [00:00<?, ?it/s]"
      ]
     },
     "metadata": {},
     "output_type": "display_data"
    },
    {
     "data": {
      "application/vnd.jupyter.widget-view+json": {
       "model_id": "28ae4936309f4d82aa360da3ff3b31a2",
       "version_major": 2,
       "version_minor": 0
      },
      "text/plain": [
       "Test epoch 33:   0%|          | 0/15 [00:00<?, ?it/s]"
      ]
     },
     "metadata": {},
     "output_type": "display_data"
    },
    {
     "name": "stdout",
     "output_type": "stream",
     "text": [
      "12.0 6.032974720001221\n",
      "Epoch 34\n",
      "________________________________\n"
     ]
    },
    {
     "data": {
      "application/vnd.jupyter.widget-view+json": {
       "model_id": "76b5c310d78f4942bfa8b8fb23889637",
       "version_major": 2,
       "version_minor": 0
      },
      "text/plain": [
       "Training epoch 34:   0%|          | 0/35 [00:00<?, ?it/s]"
      ]
     },
     "metadata": {},
     "output_type": "display_data"
    },
    {
     "data": {
      "application/vnd.jupyter.widget-view+json": {
       "model_id": "e185e1e4d4574416b25bd6c6e5d45db1",
       "version_major": 2,
       "version_minor": 0
      },
      "text/plain": [
       "Test epoch 34:   0%|          | 0/15 [00:00<?, ?it/s]"
      ]
     },
     "metadata": {},
     "output_type": "display_data"
    },
    {
     "name": "stdout",
     "output_type": "stream",
     "text": [
      "11.998046875 6.036201626062393\n",
      "Epoch 35\n",
      "________________________________\n"
     ]
    },
    {
     "data": {
      "application/vnd.jupyter.widget-view+json": {
       "model_id": "858f16666706404d8a059ffec3b28452",
       "version_major": 2,
       "version_minor": 0
      },
      "text/plain": [
       "Training epoch 35:   0%|          | 0/35 [00:00<?, ?it/s]"
      ]
     },
     "metadata": {},
     "output_type": "display_data"
    },
    {
     "data": {
      "application/vnd.jupyter.widget-view+json": {
       "model_id": "55a1b49b572d404ab652c2cfe666ca3c",
       "version_major": 2,
       "version_minor": 0
      },
      "text/plain": [
       "Test epoch 35:   0%|          | 0/15 [00:00<?, ?it/s]"
      ]
     },
     "metadata": {},
     "output_type": "display_data"
    },
    {
     "name": "stdout",
     "output_type": "stream",
     "text": [
      "11.970703125 6.070984333753586\n",
      "Epoch 36\n",
      "________________________________\n"
     ]
    },
    {
     "data": {
      "application/vnd.jupyter.widget-view+json": {
       "model_id": "d264aa46cec943a1a29b460fe0787f88",
       "version_major": 2,
       "version_minor": 0
      },
      "text/plain": [
       "Training epoch 36:   0%|          | 0/35 [00:00<?, ?it/s]"
      ]
     },
     "metadata": {},
     "output_type": "display_data"
    },
    {
     "data": {
      "application/vnd.jupyter.widget-view+json": {
       "model_id": "c97ce331cc3d4aabbe119b3631a5b182",
       "version_major": 2,
       "version_minor": 0
      },
      "text/plain": [
       "Test epoch 36:   0%|          | 0/15 [00:00<?, ?it/s]"
      ]
     },
     "metadata": {},
     "output_type": "display_data"
    },
    {
     "name": "stdout",
     "output_type": "stream",
     "text": [
      "11.92578125 6.0374272763729095\n",
      "Epoch 37\n",
      "________________________________\n"
     ]
    },
    {
     "data": {
      "application/vnd.jupyter.widget-view+json": {
       "model_id": "953b4de5516f4741acffa1ad5606f854",
       "version_major": 2,
       "version_minor": 0
      },
      "text/plain": [
       "Training epoch 37:   0%|          | 0/35 [00:00<?, ?it/s]"
      ]
     },
     "metadata": {},
     "output_type": "display_data"
    },
    {
     "data": {
      "application/vnd.jupyter.widget-view+json": {
       "model_id": "8e1f4dbeaf4a42d5bf68f2ec19282526",
       "version_major": 2,
       "version_minor": 0
      },
      "text/plain": [
       "Test epoch 37:   0%|          | 0/15 [00:00<?, ?it/s]"
      ]
     },
     "metadata": {},
     "output_type": "display_data"
    },
    {
     "name": "stdout",
     "output_type": "stream",
     "text": [
      "11.919921875 6.19370099902153\n",
      "Epoch 38\n",
      "________________________________\n"
     ]
    },
    {
     "data": {
      "application/vnd.jupyter.widget-view+json": {
       "model_id": "de2e398e97a24483af5d4fc748180ef6",
       "version_major": 2,
       "version_minor": 0
      },
      "text/plain": [
       "Training epoch 38:   0%|          | 0/35 [00:00<?, ?it/s]"
      ]
     },
     "metadata": {},
     "output_type": "display_data"
    },
    {
     "data": {
      "application/vnd.jupyter.widget-view+json": {
       "model_id": "49abcc1af56848b8942e69ac266b9883",
       "version_major": 2,
       "version_minor": 0
      },
      "text/plain": [
       "Test epoch 38:   0%|          | 0/15 [00:00<?, ?it/s]"
      ]
     },
     "metadata": {},
     "output_type": "display_data"
    },
    {
     "name": "stdout",
     "output_type": "stream",
     "text": [
      "11.83984375 6.144820272922516\n",
      "Epoch 39\n",
      "________________________________\n"
     ]
    },
    {
     "data": {
      "application/vnd.jupyter.widget-view+json": {
       "model_id": "431c9fc9f5af479e8bad84a89195909b",
       "version_major": 2,
       "version_minor": 0
      },
      "text/plain": [
       "Training epoch 39:   0%|          | 0/35 [00:00<?, ?it/s]"
      ]
     },
     "metadata": {},
     "output_type": "display_data"
    },
    {
     "data": {
      "application/vnd.jupyter.widget-view+json": {
       "model_id": "58625127c7bf45958d6289f6b75078a9",
       "version_major": 2,
       "version_minor": 0
      },
      "text/plain": [
       "Test epoch 39:   0%|          | 0/15 [00:00<?, ?it/s]"
      ]
     },
     "metadata": {},
     "output_type": "display_data"
    },
    {
     "name": "stdout",
     "output_type": "stream",
     "text": [
      "11.984375 6.018233954906464\n",
      "Epoch 40\n",
      "________________________________\n"
     ]
    },
    {
     "data": {
      "application/vnd.jupyter.widget-view+json": {
       "model_id": "01ddf7763bcd442eb02e1b945b8a18c9",
       "version_major": 2,
       "version_minor": 0
      },
      "text/plain": [
       "Training epoch 40:   0%|          | 0/35 [00:00<?, ?it/s]"
      ]
     },
     "metadata": {},
     "output_type": "display_data"
    },
    {
     "data": {
      "application/vnd.jupyter.widget-view+json": {
       "model_id": "da1e6f5d04e64ff3ab1bf1d44e0a1d47",
       "version_major": 2,
       "version_minor": 0
      },
      "text/plain": [
       "Test epoch 40:   0%|          | 0/15 [00:00<?, ?it/s]"
      ]
     },
     "metadata": {},
     "output_type": "display_data"
    },
    {
     "name": "stdout",
     "output_type": "stream",
     "text": [
      "11.93359375 6.016627013683319\n",
      "Epoch 41\n",
      "________________________________\n"
     ]
    },
    {
     "data": {
      "application/vnd.jupyter.widget-view+json": {
       "model_id": "ba67bc24cfd443998d429b74bc8bb661",
       "version_major": 2,
       "version_minor": 0
      },
      "text/plain": [
       "Training epoch 41:   0%|          | 0/35 [00:00<?, ?it/s]"
      ]
     },
     "metadata": {},
     "output_type": "display_data"
    },
    {
     "data": {
      "application/vnd.jupyter.widget-view+json": {
       "model_id": "5defc4fc5bf146f09a69146ee02f9d93",
       "version_major": 2,
       "version_minor": 0
      },
      "text/plain": [
       "Test epoch 41:   0%|          | 0/15 [00:00<?, ?it/s]"
      ]
     },
     "metadata": {},
     "output_type": "display_data"
    },
    {
     "name": "stdout",
     "output_type": "stream",
     "text": [
      "11.90234375 6.186604887247086\n",
      "Epoch 42\n",
      "________________________________\n"
     ]
    },
    {
     "data": {
      "application/vnd.jupyter.widget-view+json": {
       "model_id": "88e56a1675d14406b3930b46de562cd2",
       "version_major": 2,
       "version_minor": 0
      },
      "text/plain": [
       "Training epoch 42:   0%|          | 0/35 [00:00<?, ?it/s]"
      ]
     },
     "metadata": {},
     "output_type": "display_data"
    },
    {
     "data": {
      "application/vnd.jupyter.widget-view+json": {
       "model_id": "f2f218e7d15845a791d7dac3f9c19cbb",
       "version_major": 2,
       "version_minor": 0
      },
      "text/plain": [
       "Test epoch 42:   0%|          | 0/15 [00:00<?, ?it/s]"
      ]
     },
     "metadata": {},
     "output_type": "display_data"
    },
    {
     "name": "stdout",
     "output_type": "stream",
     "text": [
      "12.07421875 5.9157915115356445\n",
      "Epoch 43\n",
      "________________________________\n"
     ]
    },
    {
     "data": {
      "application/vnd.jupyter.widget-view+json": {
       "model_id": "93ed19147dc74b008531761fa2da2140",
       "version_major": 2,
       "version_minor": 0
      },
      "text/plain": [
       "Training epoch 43:   0%|          | 0/35 [00:00<?, ?it/s]"
      ]
     },
     "metadata": {},
     "output_type": "display_data"
    }
   ],
   "source": [
    "model = TextClassifier(\n",
    "    vocab_size=len(vocab), embedding_dim=embedding_dim, hidden_dim=64\n",
    ").to(device)\n",
    "\n",
    "optimizer = optim.Adam(params=model.parameters(), lr=1e-3)\n",
    "criterion = nn.BCELoss()\n",
    "\n",
    "\n",
    "train_accuracy = [0] * epochs\n",
    "train_losses = [0] * epochs\n",
    "test_accuracy = [0] * epochs\n",
    "test_losses = [0] * epochs\n",
    "\n",
    "for epoch in range(epochs):\n",
    "    print(f\"Epoch {epoch}\")\n",
    "    print(\"_______________________\")\n",
    "\n",
    "    train_accuracy[epoch], train_losses[epoch] = train(\n",
    "        model=model,\n",
    "        train_dataloader=train_dataloader,\n",
    "        optimizer=optimizer,\n",
    "        criterion=criterion,\n",
    "        device=device,\n",
    "        epoch=epoch,\n",
    "    )\n",
    "\n",
    "    test_accuracy[epoch], test_losses[epoch] = test(\n",
    "        model=model,\n",
    "        test_dataloader=test_dataloader,\n",
    "        criterion=criterion,\n",
    "        device=device,\n",
    "        epoch=epoch,\n",
    "    )"
   ]
  },
  {
   "cell_type": "markdown",
   "metadata": {},
   "source": [
    "Графики говна. И глянь на выводы модели выше, там говно по метрикам"
   ]
  },
  {
   "cell_type": "code",
   "execution_count": 64,
   "metadata": {
    "execution": {
     "iopub.execute_input": "2024-04-13T07:51:36.874196Z",
     "iopub.status.busy": "2024-04-13T07:51:36.873819Z",
     "iopub.status.idle": "2024-04-13T07:51:37.946600Z",
     "shell.execute_reply": "2024-04-13T07:51:37.945648Z",
     "shell.execute_reply.started": "2024-04-13T07:51:36.874165Z"
    },
    "trusted": true
   },
   "outputs": [
    {
     "data": {
      "text/plain": [
       "<matplotlib.legend.Legend at 0x7cbe3d3d36d0>"
      ]
     },
     "execution_count": 64,
     "metadata": {},
     "output_type": "execute_result"
    },
    {
     "data": {
      "image/png": "[encoded data removed]",
      "text/plain": [
       "<Figure size 1000x500 with 2 Axes>"
      ]
     },
     "metadata": {},
     "output_type": "display_data"
    }
   ],
   "source": [
    "fig, axs = plt.subplots(ncols=2, figsize=(10, 5))\n",
    "fig.tight_layout(pad=3.5)\n",
    "\n",
    "\n",
    "axs[0].plot(train_accuracy, label=\"Train accuracy\")\n",
    "axs[0].plot(test_accuracy, label=\"Test accuracy\")\n",
    "axs[1].plot(train_losses, label=\"Train losses\")\n",
    "axs[1].plot(test_losses, label=\"Test losses\")\n",
    "\n",
    "\n",
    "axs[0].set_title(f\"Train and test accuracy\")\n",
    "axs[0].set_xlabel(\"Epochs\")\n",
    "axs[0].set_ylabel(\"Accuracy\")\n",
    "\n",
    "axs[0].grid(which=\"major\", color=\"k\")\n",
    "\n",
    "axs[0].minorticks_on()\n",
    "axs[0].grid(which=\"minor\", color=\"gray\", linestyle=\":\")\n",
    "\n",
    "\n",
    "axs[1].set_title(f\"Train and test losses\")\n",
    "axs[1].set_xlabel(\"Epochs\")\n",
    "axs[1].set_ylabel(\"Losses\")\n",
    "\n",
    "axs[1].grid(which=\"major\", color=\"k\")\n",
    "\n",
    "axs[1].minorticks_on()\n",
    "axs[1].grid(which=\"minor\", color=\"gray\", linestyle=\":\")\n",
    "\n",
    "axs[0].legend()\n",
    "axs[1].legend()"
   ]
  },
  {
   "cell_type": "markdown",
   "metadata": {},
   "source": [
    "По итогу модель показывает неплохую точность и на самый большой loss\n",
    "\n",
    "В ходе проделанной работы мы познакомились с основами NLP и построили небольшую модель для классификации текста"
   ]
  }
 ],
 "metadata": {
  "kaggle": {
   "accelerator": "gpu",
   "dataSources": [
    {
     "databundleVersionId": 32703,
     "sourceId": 3971,
     "sourceType": "competition"
    },
    {
     "datasetId": 4785386,
     "sourceId": 8102868,
     "sourceType": "datasetVersion"
    }
   ],
   "dockerImageVersionId": 30684,
   "isGpuEnabled": true,
   "isInternetEnabled": true,
   "language": "python",
   "sourceType": "notebook"
  },
  "kernelspec": {
   "display_name": "Python 3",
   "language": "python",
   "name": "python3"
  },
  "language_info": {
   "codemirror_mode": {
    "name": "ipython",
    "version": 3
   },
   "file_extension": ".py",
   "mimetype": "text/x-python",
   "name": "python",
   "nbconvert_exporter": "python",
   "pygments_lexer": "ipython3",
   "version": "3.9.7"
  }
 },
 "nbformat": 4,
 "nbformat_minor": 4
}
