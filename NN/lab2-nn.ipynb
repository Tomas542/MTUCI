{
 "cells": [
  {
   "cell_type": "markdown",
   "metadata": {},
   "source": [
    "# Юдин Артём БВТ2101"
   ]
  },
  {
   "cell_type": "markdown",
   "metadata": {},
   "source": [
    "Работа аналогична предыдущей за исключением forward и backward"
   ]
  },
  {
   "cell_type": "code",
   "execution_count": 1,
   "metadata": {
    "execution": {
     "iopub.execute_input": "2024-05-01T11:23:58.356137Z",
     "iopub.status.busy": "2024-05-01T11:23:58.355723Z",
     "iopub.status.idle": "2024-05-01T11:24:05.376273Z",
     "shell.execute_reply": "2024-05-01T11:24:05.375057Z",
     "shell.execute_reply.started": "2024-05-01T11:23:58.356104Z"
    },
    "tags": [],
    "trusted": true
   },
   "outputs": [],
   "source": [
    "# основная библиотека, которой будем пользоваться\n",
    "import torch\n",
    "\n",
    "# фреймворк для скачивания датастеа\n",
    "from torchvision import datasets\n",
    "from torchvision.transforms import ToTensor\n",
    "\n",
    "# отрисовка цифр и графиков\n",
    "import matplotlib.pyplot as plt"
   ]
  },
  {
   "cell_type": "markdown",
   "metadata": {},
   "source": [
    "В качестве данных для оценки и обучения нашей модели возьмём MNIST - классический датасет с распознанием рукописных цифр"
   ]
  },
  {
   "cell_type": "code",
   "execution_count": 2,
   "metadata": {
    "execution": {
     "iopub.execute_input": "2024-05-01T11:24:05.379041Z",
     "iopub.status.busy": "2024-05-01T11:24:05.378448Z",
     "iopub.status.idle": "2024-05-01T11:25:02.087750Z",
     "shell.execute_reply": "2024-05-01T11:25:02.086643Z",
     "shell.execute_reply.started": "2024-05-01T11:24:05.379004Z"
    },
    "tags": [],
    "trusted": true
   },
   "outputs": [
    {
     "name": "stdout",
     "output_type": "stream",
     "text": [
      "Downloading http://yann.lecun.com/exdb/mnist/train-images-idx3-ubyte.gz\n",
      "Failed to download (trying next):\n",
      "HTTP Error 503: Service Unavailable\n",
      "\n",
      "Downloading https://ossci-datasets.s3.amazonaws.com/mnist/train-images-idx3-ubyte.gz\n",
      "Downloading https://ossci-datasets.s3.amazonaws.com/mnist/train-images-idx3-ubyte.gz to data/MNIST/raw/train-images-idx3-ubyte.gz\n"
     ]
    },
    {
     "name": "stderr",
     "output_type": "stream",
     "text": [
      "100%|██████████| 9912422/9912422 [00:01<00:00, 6038776.09it/s]\n"
     ]
    },
    {
     "name": "stdout",
     "output_type": "stream",
     "text": [
      "Extracting data/MNIST/raw/train-images-idx3-ubyte.gz to data/MNIST/raw\n",
      "\n",
      "Downloading http://yann.lecun.com/exdb/mnist/train-labels-idx1-ubyte.gz\n",
      "Downloading http://yann.lecun.com/exdb/mnist/train-labels-idx1-ubyte.gz to data/MNIST/raw/train-labels-idx1-ubyte.gz\n"
     ]
    },
    {
     "name": "stderr",
     "output_type": "stream",
     "text": [
      "100%|██████████| 28881/28881 [00:00<00:00, 159195.94it/s]\n"
     ]
    },
    {
     "name": "stdout",
     "output_type": "stream",
     "text": [
      "Extracting data/MNIST/raw/train-labels-idx1-ubyte.gz to data/MNIST/raw\n",
      "\n",
      "Downloading http://yann.lecun.com/exdb/mnist/t10k-images-idx3-ubyte.gz\n",
      "Downloading http://yann.lecun.com/exdb/mnist/t10k-images-idx3-ubyte.gz to data/MNIST/raw/t10k-images-idx3-ubyte.gz\n"
     ]
    },
    {
     "name": "stderr",
     "output_type": "stream",
     "text": [
      "100%|██████████| 1648877/1648877 [00:50<00:00, 32709.30it/s]\n"
     ]
    },
    {
     "name": "stdout",
     "output_type": "stream",
     "text": [
      "Extracting data/MNIST/raw/t10k-images-idx3-ubyte.gz to data/MNIST/raw\n",
      "\n",
      "Downloading http://yann.lecun.com/exdb/mnist/t10k-labels-idx1-ubyte.gz\n",
      "Downloading http://yann.lecun.com/exdb/mnist/t10k-labels-idx1-ubyte.gz to data/MNIST/raw/t10k-labels-idx1-ubyte.gz\n"
     ]
    },
    {
     "name": "stderr",
     "output_type": "stream",
     "text": [
      "100%|██████████| 4542/4542 [00:00<00:00, 6661024.04it/s]"
     ]
    },
    {
     "name": "stdout",
     "output_type": "stream",
     "text": [
      "Extracting data/MNIST/raw/t10k-labels-idx1-ubyte.gz to data/MNIST/raw\n",
      "\n"
     ]
    },
    {
     "name": "stderr",
     "output_type": "stream",
     "text": [
      "\n"
     ]
    }
   ],
   "source": [
    "train_data = datasets.MNIST(\n",
    "    root=\"data\", train=True, download=True, transform=ToTensor(), target_transform=None\n",
    ")\n",
    "\n",
    "test_data = datasets.MNIST(\n",
    "    root=\"data\", train=False, download=True, transform=ToTensor()\n",
    ")"
   ]
  },
  {
   "cell_type": "markdown",
   "metadata": {},
   "source": [
    "Зададим главный параметр  модели, который и будет обучаться - матрица весов. Его инициализируем случайно. Размер матрицы должен быть такой, чтобы при умножение входного вектора на неё мы получали вектор размера равный количеству классов"
   ]
  },
  {
   "cell_type": "code",
   "execution_count": 3,
   "metadata": {
    "execution": {
     "iopub.execute_input": "2024-05-01T11:25:02.089986Z",
     "iopub.status.busy": "2024-05-01T11:25:02.089480Z",
     "iopub.status.idle": "2024-05-01T11:25:02.123498Z",
     "shell.execute_reply": "2024-05-01T11:25:02.122427Z",
     "shell.execute_reply.started": "2024-05-01T11:25:02.089935Z"
    },
    "trusted": true
   },
   "outputs": [],
   "source": [
    "img_size = len(train_data[0][0].flatten())\n",
    "num_classes = 10\n",
    "weights = torch.rand(img_size, num_classes)"
   ]
  },
  {
   "cell_type": "markdown",
   "metadata": {},
   "source": [
    "Создадим функцию активации. Для задачи классфикации с несколькими классами используют softmax. Она превращает наши случайные значения классов в распределение вероятностей.\n",
    "\n",
    "$$ O_i = \\frac{e^{z_{i}}}{\\sum_{j}^{}e^{z_{j}}} $$ "
   ]
  },
  {
   "cell_type": "code",
   "execution_count": 4,
   "metadata": {
    "execution": {
     "iopub.execute_input": "2024-05-01T11:25:02.126488Z",
     "iopub.status.busy": "2024-05-01T11:25:02.126085Z",
     "iopub.status.idle": "2024-05-01T11:25:02.133036Z",
     "shell.execute_reply": "2024-05-01T11:25:02.131896Z",
     "shell.execute_reply.started": "2024-05-01T11:25:02.126454Z"
    },
    "tags": [],
    "trusted": true
   },
   "outputs": [],
   "source": [
    "def softmax(y_pred):\n",
    "    return torch.exp(y_pred) / torch.sum(torch.exp(y_pred))"
   ]
  },
  {
   "cell_type": "markdown",
   "metadata": {},
   "source": [
    "Все операции с моделью можно разделить на 2 условные части:\n",
    "+ прямое распространение, когда мы считаем предсказания\n",
    "+ обратное распространение, когда мы изменяем веса\n",
    "\n",
    "Создадим обе функции. При том для прямого распространения добавим флаг, чтобы применять или не применять обратное распространение в зависимости от того мы модель обучаем или оцениваем.\n",
    "\n",
    "Прямое распространение можно представить как\n",
    "$$ y_{j} = \\sum_{i}^{}x_{i}w_{ji}$$\n",
    "\n",
    "<div class=\"alert alert-block alert-info\">\n",
    "<b>Новая часть ниже</b>\n",
    "</div>\n",
    "\n",
    "Изменения в этой лабе:\n",
    "+ дельта-правило заменяем на градиент\n",
    "+ обучение по бачам\n",
    "\n",
    "Первое необходимо, так как градиент буквально сердце глубокого обучения уже многие годы.\n",
    "\n",
    "Второе нужно для большей стабильности, потому что мы сначала накапливаем изменения весов, и только потом изменяем их. Это повышает стабильности модели и меньше портит веса единичными плохими экземплярами"
   ]
  },
  {
   "cell_type": "code",
   "execution_count": 5,
   "metadata": {
    "execution": {
     "iopub.execute_input": "2024-05-01T11:25:02.135256Z",
     "iopub.status.busy": "2024-05-01T11:25:02.134770Z",
     "iopub.status.idle": "2024-05-01T11:25:02.150067Z",
     "shell.execute_reply": "2024-05-01T11:25:02.148889Z",
     "shell.execute_reply.started": "2024-05-01T11:25:02.135213Z"
    },
    "trusted": true
   },
   "outputs": [],
   "source": [
    "def forward(\n",
    "    data, weights, train=True, lr=1e-3, img_size=784, num_classes=10, batch_size=16\n",
    "):\n",
    "    # метрика отслеживания обучения модели\n",
    "    acc = 0\n",
    "\n",
    "    # переменные для аккумуляции изменений по бачам\n",
    "    dw = torch.zeros(img_size, num_classes)\n",
    "    batch_count = 0\n",
    "\n",
    "    for features, target in data:\n",
    "        # так как у нас в картинке ещё есть параметр канала, избавимся от него\n",
    "        # [1, 28, 28] -> [28, 28]\n",
    "        features = torch.squeeze(features)\n",
    "\n",
    "        # сожмём матрицу в вектор [28, 28] -> [784]\n",
    "        features = torch.flatten(features)\n",
    "\n",
    "        # нормируем значения из диапозона 0-255 в диапозон 0-1,\n",
    "        # чтобы в том числе не сломать softmax большой степенью е\n",
    "        features = features / 255\n",
    "\n",
    "        # вычисляем предсказания\n",
    "        y_pred = features @ weights.float()\n",
    "        y_soft = softmax(y_pred)\n",
    "\n",
    "        # если мы в обучение\n",
    "        if train:\n",
    "            batch_count += 1\n",
    "            dw += backward(y_soft, target, features, weights, num_classes)\n",
    "\n",
    "            # мы записали изменения с бача\n",
    "            if batch_count == batch_size:\n",
    "                # изменяем на минус градиент, потому что градиент направляет\n",
    "                # на максимизацию потерь\n",
    "                weights -= lr * dw\n",
    "\n",
    "                # обнуляем аккумуляцию\n",
    "                dw = torch.zeros(img_size, num_classes)\n",
    "                batch_count = 0\n",
    "\n",
    "        acc += target == torch.argmax(y_soft)\n",
    "\n",
    "    # у нас остались незаписанные изменения, потому что датасет не поделился\n",
    "    # на бач без остатка\n",
    "    if batch_count != 0:\n",
    "        weights -= lr * dw\n",
    "\n",
    "    # если мы не прервали цикл после получения dw\n",
    "    else:\n",
    "        return acc, weights, True\n",
    "\n",
    "    # если прервали\n",
    "    return acc, weights, False\n",
    "\n",
    "\n",
    "def backward(y_soft, target, features, weights, num_classes):\n",
    "    # кодируем правильное значение класса\n",
    "    true_tensor = torch.zeros(num_classes)\n",
    "    true_tensor[target] = 1\n",
    "\n",
    "    # считаем, в каких классах и насколько мы ошиблись\n",
    "    dE_dt = y_soft - true_tensor\n",
    "\n",
    "    # передаём дальше градиент по влиянию пикселей на ошибку\n",
    "    dE_dW = features.unsqueeze(dim=0).T @ dE_dt.unsqueeze(dim=0)\n",
    "\n",
    "    return dE_dW"
   ]
  },
  {
   "cell_type": "code",
   "execution_count": 7,
   "metadata": {
    "execution": {
     "iopub.execute_input": "2024-05-01T11:25:02.221828Z",
     "iopub.status.busy": "2024-05-01T11:25:02.221451Z",
     "iopub.status.idle": "2024-05-01T11:28:47.345866Z",
     "shell.execute_reply": "2024-05-01T11:28:47.344500Z",
     "shell.execute_reply.started": "2024-05-01T11:25:02.221798Z"
    },
    "trusted": true
   },
   "outputs": [
    {
     "name": "stdout",
     "output_type": "stream",
     "text": [
      "epoch 0\n",
      "Train accuracy = 0.4990, test accuracy = 0.6531\n",
      "epoch 1\n",
      "Train accuracy = 0.6727, test accuracy = 0.6896\n",
      "epoch 2\n",
      "Train accuracy = 0.6979, test accuracy = 0.7070\n",
      "epoch 3\n",
      "Train accuracy = 0.7115, test accuracy = 0.7183\n",
      "epoch 4\n",
      "Train accuracy = 0.7200, test accuracy = 0.7278\n",
      "epoch 5\n",
      "Train accuracy = 0.7274, test accuracy = 0.7356\n",
      "epoch 6\n",
      "Train accuracy = 0.7329, test accuracy = 0.7424\n",
      "epoch 7\n",
      "Train accuracy = 0.7379, test accuracy = 0.7484\n",
      "epoch 8\n",
      "Train accuracy = 0.7423, test accuracy = 0.7532\n",
      "epoch 9\n",
      "Train accuracy = 0.7462, test accuracy = 0.7566\n"
     ]
    }
   ],
   "source": [
    "train_acc = []\n",
    "test_acc = []\n",
    "\n",
    "for epoch in range(10):\n",
    "    print(\"epoch\", epoch)\n",
    "    tr_acc, weights, still_training = forward(\n",
    "        train_data, weights, True, 5e-2, img_size, num_classes\n",
    "    )\n",
    "\n",
    "    tr_acc = (tr_acc.float() / len(train_data)).item()\n",
    "    train_acc.append(tr_acc)\n",
    "\n",
    "    if not still_training:\n",
    "        print(\"Веса больше не обновляются\")\n",
    "        break\n",
    "\n",
    "    te_acc, weights, _ = forward(test_data, weights, False, 5e-2, img_size, num_classes)\n",
    "\n",
    "    te_acc = (te_acc.float() / len(test_data)).item()\n",
    "    test_acc.append(te_acc)\n",
    "    print(f\"Train accuracy = {tr_acc:.4f}, test accuracy = {te_acc:.4f}\")"
   ]
  },
  {
   "cell_type": "markdown",
   "metadata": {},
   "source": [
    "Отрисуем графики точности обучения"
   ]
  },
  {
   "cell_type": "code",
   "execution_count": 8,
   "metadata": {
    "execution": {
     "iopub.execute_input": "2024-05-01T11:28:47.347756Z",
     "iopub.status.busy": "2024-05-01T11:28:47.347341Z",
     "iopub.status.idle": "2024-05-01T11:28:47.638632Z",
     "shell.execute_reply": "2024-05-01T11:28:47.637532Z",
     "shell.execute_reply.started": "2024-05-01T11:28:47.347716Z"
    },
    "trusted": true
   },
   "outputs": [
    {
     "data": {
      "text/plain": [
       "[<matplotlib.lines.Line2D at 0x7cdd8b760d60>]"
      ]
     },
     "execution_count": 8,
     "metadata": {},
     "output_type": "execute_result"
    },
    {
     "data": {
      "image/png": "[encoded data removed]",
      "text/plain": [
       "<Figure size 640x480 with 1 Axes>"
      ]
     },
     "metadata": {},
     "output_type": "display_data"
    }
   ],
   "source": [
    "plt.plot(train_acc)\n",
    "plt.plot(test_acc)"
   ]
  },
  {
   "cell_type": "markdown",
   "metadata": {},
   "source": [
    "Также отрисуем первые 4 цифры в датасете и посотрим на предсказания мдели"
   ]
  },
  {
   "cell_type": "code",
   "execution_count": 9,
   "metadata": {
    "execution": {
     "iopub.execute_input": "2024-05-01T11:28:47.641089Z",
     "iopub.status.busy": "2024-05-01T11:28:47.640618Z",
     "iopub.status.idle": "2024-05-01T11:28:48.244898Z",
     "shell.execute_reply": "2024-05-01T11:28:48.243772Z",
     "shell.execute_reply.started": "2024-05-01T11:28:47.641047Z"
    },
    "tags": [],
    "trusted": true
   },
   "outputs": [
    {
     "name": "stdout",
     "output_type": "stream",
     "text": [
      "tensor([0.1153, 0.0794, 0.0954, 0.1376, 0.0682, 0.1101, 0.0949, 0.0965, 0.1142,\n",
      "        0.0885])\n",
      "tensor(3)\n",
      "tensor([0.2809, 0.0559, 0.0837, 0.0919, 0.0645, 0.0956, 0.0912, 0.0742, 0.0890,\n",
      "        0.0732])\n",
      "tensor(0)\n",
      "tensor([0.1020, 0.0661, 0.1026, 0.1034, 0.1311, 0.0896, 0.1037, 0.0929, 0.0992,\n",
      "        0.1095])\n",
      "tensor(4)\n",
      "tensor([0.0743, 0.1571, 0.1184, 0.1047, 0.0845, 0.0827, 0.0815, 0.0818, 0.1336,\n",
      "        0.0813])\n",
      "tensor(1)\n"
     ]
    },
    {
     "data": {
      "image/png": "[encoded data removed]",
      "text/plain": [
       "<Figure size 640x480 with 4 Axes>"
      ]
     },
     "metadata": {},
     "output_type": "display_data"
    }
   ],
   "source": [
    "fig, ax = plt.subplots(nrows=1, ncols=4)\n",
    "\n",
    "for i in range(4):\n",
    "    features, target = train_data[i]\n",
    "    features = torch.squeeze(features)\n",
    "\n",
    "    ax[i].imshow(features, cmap=\"gray\")\n",
    "\n",
    "    features = torch.flatten(features)\n",
    "    features = features / 255\n",
    "\n",
    "    y_pred = features @ weights.float()\n",
    "    y_soft = softmax(y_pred)\n",
    "    label = torch.argmax(y_soft, axis=0)\n",
    "\n",
    "    print(y_soft)\n",
    "    print(label)"
   ]
  },
  {
   "cell_type": "markdown",
   "metadata": {},
   "source": [
    "## Вывод\n",
    "В ходе проделанной работы мы познакомились с градиентным спуском и обучением по бачам, обучили с помощью \n",
    "этих техник простой перцептрон и получили достаточно хороший результат аналогичный тому, который получили в прошлой лабораторной."
   ]
  }
 ],
 "metadata": {
  "kaggle": {
   "accelerator": "none",
   "dataSources": [],
   "dockerImageVersionId": 30698,
   "isGpuEnabled": false,
   "isInternetEnabled": true,
   "language": "python",
   "sourceType": "notebook"
  },
  "kernelspec": {
   "display_name": "Python 3",
   "language": "python",
   "name": "python3"
  },
  "language_info": {
   "codemirror_mode": {
    "name": "ipython",
    "version": 3
   },
   "file_extension": ".py",
   "mimetype": "text/x-python",
   "name": "python",
   "nbconvert_exporter": "python",
   "pygments_lexer": "ipython3",
   "version": "3.10.13"
  }
 },
 "nbformat": 4,
 "nbformat_minor": 5
}
