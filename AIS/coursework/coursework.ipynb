{
 "cells": [
  {
   "cell_type": "code",
   "execution_count": 1,
   "metadata": {
    "_cell_guid": "b1076dfc-b9ad-4769-8c92-a6c4dae69d19",
    "_uuid": "8f2839f25d086af736a60e9eeb907d3b93b6e0e5",
    "execution": {
     "iopub.execute_input": "2024-12-23T06:41:40.482500Z",
     "iopub.status.busy": "2024-12-23T06:41:40.482199Z",
     "iopub.status.idle": "2024-12-23T06:41:47.118260Z",
     "shell.execute_reply": "2024-12-23T06:41:47.117386Z",
     "shell.execute_reply.started": "2024-12-23T06:41:40.482466Z"
    },
    "trusted": true
   },
   "outputs": [],
   "source": [
    "import torch\n",
    "from torch import nn, optim\n",
    "from torch.utils.data import Dataset, DataLoader\n",
    "from torchvision.datasets import Imagenette\n",
    "from torchvision.transforms import v2\n",
    "from torchvision.models import (\n",
    "    resnet18,\n",
    "    ResNet18_Weights,\n",
    "    squeezenet1_1,\n",
    "    SqueezeNet1_1_Weights,\n",
    "    vit_b_16,\n",
    "    ViT_B_16_Weights,\n",
    ")\n",
    "import pytorch_lightning as pl\n",
    "from tqdm.notebook import tqdm\n",
    "import matplotlib.pyplot as plt\n",
    "\n",
    "pl.seed_everything(42, workers=True)\n",
    "\n",
    "BATCH = 128\n",
    "EPOCHS = 2\n",
    "LR = 1e-3\n",
    "DEVICE = \"cuda:0\" if torch.cuda.is_available() else \"cpu\""
   ]
  },
  {
   "cell_type": "code",
   "execution_count": 2,
   "metadata": {
    "execution": {
     "iopub.execute_input": "2024-12-23T06:41:47.119587Z",
     "iopub.status.busy": "2024-12-23T06:41:47.119162Z",
     "iopub.status.idle": "2024-12-23T06:42:18.208069Z",
     "shell.execute_reply": "2024-12-23T06:42:18.207038Z",
     "shell.execute_reply.started": "2024-12-23T06:41:47.119563Z"
    },
    "trusted": true
   },
   "outputs": [
    {
     "name": "stdout",
     "output_type": "stream",
     "text": [
      "Downloading https://s3.amazonaws.com/fast-ai-imageclas/imagenette2-320.tgz to ./data/train/imagenette2-320.tgz\n"
     ]
    },
    {
     "name": "stderr",
     "output_type": "stream",
     "text": [
      "100%|██████████| 341663724/341663724 [00:09<00:00, 34415121.37it/s]\n"
     ]
    },
    {
     "name": "stdout",
     "output_type": "stream",
     "text": [
      "Extracting ./data/train/imagenette2-320.tgz to ./data/train/\n",
      "Downloading https://s3.amazonaws.com/fast-ai-imageclas/imagenette2-320.tgz to ./data/val/imagenette2-320.tgz\n"
     ]
    },
    {
     "name": "stderr",
     "output_type": "stream",
     "text": [
      "100%|██████████| 341663724/341663724 [00:09<00:00, 36286460.68it/s]\n"
     ]
    },
    {
     "name": "stdout",
     "output_type": "stream",
     "text": [
      "Extracting ./data/val/imagenette2-320.tgz to ./data/val/\n"
     ]
    }
   ],
   "source": [
    "transformations = {\n",
    "    \"train\": v2.Compose(\n",
    "        [\n",
    "            v2.RandomResizedCrop(size=224, interpolation=v2.InterpolationMode.BICUBIC),\n",
    "            v2.ToImage(),\n",
    "            v2.ToDtype(torch.float32, scale=True),\n",
    "            v2.Normalize([0.485, 0.456, 0.406], [0.229, 0.224, 0.225]),\n",
    "        ]\n",
    "    ),\n",
    "    \"val\": v2.Compose(\n",
    "        [\n",
    "            v2.Resize(size=[224, 224], interpolation=v2.InterpolationMode.BICUBIC),\n",
    "            v2.ToImage(),\n",
    "            v2.ToDtype(torch.float32, scale=True),\n",
    "            v2.Normalize([0.485, 0.456, 0.406], [0.229, 0.224, 0.225]),\n",
    "        ]\n",
    "    ),\n",
    "}\n",
    "\n",
    "\n",
    "def get_dataloader(dataset: Dataset, train: bool = False) -> DataLoader:\n",
    "    return DataLoader(\n",
    "        dataset,\n",
    "        batch_size=BATCH,\n",
    "        drop_last=True,\n",
    "        shuffle=train,\n",
    "        num_workers=4,\n",
    "        pin_memory=torch.cuda.is_available(),  # only if you have enough VRAM\n",
    "    )\n",
    "\n",
    "\n",
    "train_dataset = Imagenette(\n",
    "    root=\"./data\",\n",
    "    # download=False,\n",
    "    download=True,\n",
    "    transform=transformations[\"train\"],\n",
    "    split=\"train\",\n",
    "    size=\"320px\",\n",
    ")\n",
    "\n",
    "val_dataset = Imagenette(\n",
    "    root=\"./data\",\n",
    "    download=False,\n",
    "    # download=True,\n",
    "    transform=transformations[\"val\"],\n",
    "    split=\"val\",\n",
    "    size=\"320px\",\n",
    ")"
   ]
  },
  {
   "cell_type": "code",
   "execution_count": 3,
   "metadata": {
    "execution": {
     "iopub.execute_input": "2024-12-23T06:42:18.209606Z",
     "iopub.status.busy": "2024-12-23T06:42:18.209263Z",
     "iopub.status.idle": "2024-12-23T06:42:18.217016Z",
     "shell.execute_reply": "2024-12-23T06:42:18.216090Z",
     "shell.execute_reply.started": "2024-12-23T06:42:18.209573Z"
    },
    "trusted": true
   },
   "outputs": [],
   "source": [
    "def freeze_model(model: nn.Module) -> nn.Module:\n",
    "    for param in model.parameters():\n",
    "        param.requires_grad = False\n",
    "\n",
    "    return model\n",
    "\n",
    "\n",
    "def get_model(name: str) -> nn.Module:\n",
    "    match name:\n",
    "        case \"resnet\":\n",
    "            model = resnet18(weights=ResNet18_Weights.IMAGENET1K_V1)\n",
    "            model = freeze_model(model)\n",
    "            num_ftrs = model.fc.in_features\n",
    "            model.fc = nn.Linear(num_ftrs, 10)\n",
    "            for param in model.fc.parameters():\n",
    "                param.requires_grad = True\n",
    "\n",
    "        case \"squeezenet\":\n",
    "            model = squeezenet1_1(weights=SqueezeNet1_1_Weights.IMAGENET1K_V1)\n",
    "            model = freeze_model(model)\n",
    "            model.classifier[1] = nn.Conv2d(512, 10, kernel_size=(1, 1), stride=(1, 1))\n",
    "            for param in model.classifier[1].parameters():\n",
    "                param.requires_grad = True\n",
    "            model.num_classes = 10\n",
    "\n",
    "        case \"vit\":\n",
    "            model = vit_b_16(weights=ViT_B_16_Weights.IMAGENET1K_V1)\n",
    "            model = freeze_model(model)\n",
    "            model.heads.head = nn.Linear(768, 10)\n",
    "            for param in model.heads.head.parameters():\n",
    "                param.requires_grad = True\n",
    "\n",
    "    return model"
   ]
  },
  {
   "cell_type": "code",
   "execution_count": 12,
   "metadata": {
    "execution": {
     "iopub.execute_input": "2024-12-23T06:54:29.135910Z",
     "iopub.status.busy": "2024-12-23T06:54:29.135622Z",
     "iopub.status.idle": "2024-12-23T06:58:59.721160Z",
     "shell.execute_reply": "2024-12-23T06:58:59.720082Z",
     "shell.execute_reply.started": "2024-12-23T06:54:29.135882Z"
    },
    "trusted": true
   },
   "outputs": [
    {
     "data": {
      "application/vnd.jupyter.widget-view+json": {
       "model_id": "2f84a33ac97040029ee320a7d619dc13",
       "version_major": 2,
       "version_minor": 0
      },
      "text/plain": [
       "  0%|          | 0/73 [00:00<?, ?it/s]"
      ]
     },
     "metadata": {},
     "output_type": "display_data"
    },
    {
     "data": {
      "application/vnd.jupyter.widget-view+json": {
       "model_id": "f27834ab55664e8c860e44d938d83fcc",
       "version_major": 2,
       "version_minor": 0
      },
      "text/plain": [
       "  0%|          | 0/30 [00:00<?, ?it/s]"
      ]
     },
     "metadata": {},
     "output_type": "display_data"
    },
    {
     "data": {
      "application/vnd.jupyter.widget-view+json": {
       "model_id": "8e05ffba7ffb4f8d8cf1a7c3a81653d3",
       "version_major": 2,
       "version_minor": 0
      },
      "text/plain": [
       "  0%|          | 0/73 [00:00<?, ?it/s]"
      ]
     },
     "metadata": {},
     "output_type": "display_data"
    },
    {
     "data": {
      "application/vnd.jupyter.widget-view+json": {
       "model_id": "528a6f60e3164de98f161d0b0907cb10",
       "version_major": 2,
       "version_minor": 0
      },
      "text/plain": [
       "  0%|          | 0/30 [00:00<?, ?it/s]"
      ]
     },
     "metadata": {},
     "output_type": "display_data"
    },
    {
     "data": {
      "application/vnd.jupyter.widget-view+json": {
       "model_id": "a79d4b32474b4f49a912a96c8aba7762",
       "version_major": 2,
       "version_minor": 0
      },
      "text/plain": [
       "  0%|          | 0/73 [00:00<?, ?it/s]"
      ]
     },
     "metadata": {},
     "output_type": "display_data"
    },
    {
     "data": {
      "application/vnd.jupyter.widget-view+json": {
       "model_id": "286ea140395047fdb6d595dcd247217a",
       "version_major": 2,
       "version_minor": 0
      },
      "text/plain": [
       "  0%|          | 0/30 [00:00<?, ?it/s]"
      ]
     },
     "metadata": {},
     "output_type": "display_data"
    },
    {
     "data": {
      "application/vnd.jupyter.widget-view+json": {
       "model_id": "facbd6273ff84ff492d6507dca0b0963",
       "version_major": 2,
       "version_minor": 0
      },
      "text/plain": [
       "  0%|          | 0/73 [00:00<?, ?it/s]"
      ]
     },
     "metadata": {},
     "output_type": "display_data"
    },
    {
     "data": {
      "application/vnd.jupyter.widget-view+json": {
       "model_id": "86d0515f42e349c9ad5b71030dded113",
       "version_major": 2,
       "version_minor": 0
      },
      "text/plain": [
       "  0%|          | 0/30 [00:00<?, ?it/s]"
      ]
     },
     "metadata": {},
     "output_type": "display_data"
    },
    {
     "data": {
      "application/vnd.jupyter.widget-view+json": {
       "model_id": "915aeafe533147deb14ca01d43bb4570",
       "version_major": 2,
       "version_minor": 0
      },
      "text/plain": [
       "  0%|          | 0/73 [00:00<?, ?it/s]"
      ]
     },
     "metadata": {},
     "output_type": "display_data"
    },
    {
     "data": {
      "application/vnd.jupyter.widget-view+json": {
       "model_id": "501a7fd0323244a69e0a7c68c8e95418",
       "version_major": 2,
       "version_minor": 0
      },
      "text/plain": [
       "  0%|          | 0/30 [00:00<?, ?it/s]"
      ]
     },
     "metadata": {},
     "output_type": "display_data"
    },
    {
     "data": {
      "application/vnd.jupyter.widget-view+json": {
       "model_id": "83540882e5fd4122b8124749b57830cb",
       "version_major": 2,
       "version_minor": 0
      },
      "text/plain": [
       "  0%|          | 0/73 [00:00<?, ?it/s]"
      ]
     },
     "metadata": {},
     "output_type": "display_data"
    },
    {
     "data": {
      "application/vnd.jupyter.widget-view+json": {
       "model_id": "f8d050b45231414db977c88db18a72de",
       "version_major": 2,
       "version_minor": 0
      },
      "text/plain": [
       "  0%|          | 0/30 [00:00<?, ?it/s]"
      ]
     },
     "metadata": {},
     "output_type": "display_data"
    },
    {
     "data": {
      "image/png": "[encoded data removed]",
      "text/plain": [
       "<Figure size 1500x500 with 2 Axes>"
      ]
     },
     "metadata": {},
     "output_type": "display_data"
    }
   ],
   "source": [
    "models = [\"resnet\", \"squeezenet\", \"vit\"]\n",
    "fig, ax = plt.subplots(1, 2, figsize=(15, 5))\n",
    "for model_name in models:\n",
    "    model = get_model(model_name).to(DEVICE)\n",
    "    optimizer = optim.AdamW(model.parameters(), lr=LR)\n",
    "    criterion = nn.CrossEntropyLoss()\n",
    "    train_dataloader = get_dataloader(train_dataset, True)\n",
    "    tr_block = train_dataloader.pin_memory\n",
    "    val_dataloader = get_dataloader(val_dataset, False)\n",
    "    val_block = val_dataloader.pin_memory\n",
    "    train_accuracy, val_accuracy = [0] * EPOCHS, [0] * EPOCHS\n",
    "\n",
    "    for epoch in range(EPOCHS):\n",
    "        model.train()\n",
    "        accuracy = 0\n",
    "\n",
    "        for features, labels in tqdm(train_dataloader):\n",
    "            features = features.to(DEVICE, non_blocking=tr_block)\n",
    "            labels = labels.to(DEVICE, non_blocking=tr_block)\n",
    "            logits = model(features)\n",
    "            loss = criterion(logits, labels)\n",
    "            accuracy += torch.eq(logits.argmax(dim=-1), labels).detach().cpu().sum()\n",
    "\n",
    "            optimizer.zero_grad()\n",
    "            loss.backward()\n",
    "            optimizer.step()\n",
    "\n",
    "        train_accuracy[epoch] = (accuracy / len(train_dataset)).item()\n",
    "\n",
    "        model.eval()\n",
    "        accuracy = 0\n",
    "\n",
    "        for features, labels in tqdm(val_dataloader):\n",
    "            with torch.inference_mode():\n",
    "                features = features.to(DEVICE, non_blocking=val_block)\n",
    "                labels = labels.to(DEVICE, non_blocking=val_block)\n",
    "                logits = model(features)\n",
    "                loss = criterion(logits, labels)\n",
    "                accuracy += torch.eq(logits.argmax(dim=-1), labels).cpu().sum()\n",
    "        val_accuracy[epoch] = (accuracy / len(val_dataset)).item()\n",
    "\n",
    "    ax[0].plot(train_accuracy, label=model_name)\n",
    "    ax[1].plot(val_accuracy, label=model_name)\n",
    "\n",
    "ax[0].set_title(\"Train\")\n",
    "ax[0].set_xlabel(\"Epoch\")\n",
    "ax[0].set_ylabel(\"Accuracy\")\n",
    "ax[0].legend()\n",
    "\n",
    "ax[1].set_title(\"Val\")\n",
    "ax[1].set_xlabel(\"Epoch\")\n",
    "ax[1].set_ylabel(\"Accuracy\")\n",
    "ax[1].legend()\n",
    "plt.show()"
   ]
  }
 ],
 "metadata": {
  "kaggle": {
   "accelerator": "gpu",
   "dataSources": [],
   "dockerImageVersionId": 30823,
   "isGpuEnabled": true,
   "isInternetEnabled": true,
   "language": "python",
   "sourceType": "notebook"
  },
  "kernelspec": {
   "display_name": "Python 3",
   "language": "python",
   "name": "python3"
  },
  "language_info": {
   "codemirror_mode": {
    "name": "ipython",
    "version": 3
   },
   "file_extension": ".py",
   "mimetype": "text/x-python",
   "name": "python",
   "nbconvert_exporter": "python",
   "pygments_lexer": "ipython3",
   "version": "3.10.12"
  }
 },
 "nbformat": 4,
 "nbformat_minor": 4
}
