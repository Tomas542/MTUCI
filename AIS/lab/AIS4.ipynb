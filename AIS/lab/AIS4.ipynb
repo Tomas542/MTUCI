{
 "cells": [
  {
   "cell_type": "markdown",
   "metadata": {},
   "source": [
    "# Лабораторная работа №4\n",
    "## по предмету \"Системы искусственного интеллекта\"\n",
    "### БВТ2101 Артём Юдин\n",
    "\n",
    "Целью работы является введение и знакомство с нейронными сетями.\n"
   ]
  },
  {
   "cell_type": "code",
   "execution_count": 20,
   "metadata": {
    "_cell_guid": "b1076dfc-b9ad-4769-8c92-a6c4dae69d19",
    "_uuid": "8f2839f25d086af736a60e9eeb907d3b93b6e0e5",
    "execution": {
     "iopub.execute_input": "2024-12-20T07:14:28.795286Z",
     "iopub.status.busy": "2024-12-20T07:14:28.794576Z",
     "iopub.status.idle": "2024-12-20T07:14:28.800355Z",
     "shell.execute_reply": "2024-12-20T07:14:28.799369Z",
     "shell.execute_reply.started": "2024-12-20T07:14:28.795248Z"
    },
    "trusted": true
   },
   "outputs": [],
   "source": [
    "import torch\n",
    "from torch import nn, optim\n",
    "from torch.utils.data import DataLoader\n",
    "import torchvision\n",
    "from torchvision.transforms import v2\n",
    "from keras.datasets import mnist\n",
    "\n",
    "import numpy as np\n",
    "import matplotlib.pyplot as plt\n",
    "import seaborn as sns\n",
    "\n",
    "import numpy.typing as npt\n",
    "from collections import Counter, abc as cabc"
   ]
  },
  {
   "cell_type": "code",
   "execution_count": 21,
   "metadata": {
    "execution": {
     "iopub.execute_input": "2024-12-20T07:14:28.802069Z",
     "iopub.status.busy": "2024-12-20T07:14:28.801804Z",
     "iopub.status.idle": "2024-12-20T07:14:28.812234Z",
     "shell.execute_reply": "2024-12-20T07:14:28.811140Z",
     "shell.execute_reply.started": "2024-12-20T07:14:28.802044Z"
    },
    "trusted": true
   },
   "outputs": [],
   "source": [
    "BATCH_SIZE = 32\n",
    "EPOCHS = 10\n",
    "DEVICE = \"cuda:0\" if torch.cuda.is_available() else \"cpu\""
   ]
  },
  {
   "cell_type": "markdown",
   "metadata": {},
   "source": [
    "### Задание 1\n",
    "\n",
    "Загрузите набор данных MNIST.\n",
    "Проверьте баланс классов, нормализуйте данные."
   ]
  },
  {
   "cell_type": "code",
   "execution_count": 22,
   "metadata": {
    "execution": {
     "iopub.execute_input": "2024-12-20T07:14:28.881230Z",
     "iopub.status.busy": "2024-12-20T07:14:28.880536Z",
     "iopub.status.idle": "2024-12-20T07:14:28.976781Z",
     "shell.execute_reply": "2024-12-20T07:14:28.975771Z",
     "shell.execute_reply.started": "2024-12-20T07:14:28.881200Z"
    },
    "trusted": true
   },
   "outputs": [],
   "source": [
    "transforms = v2.Compose(\n",
    "    [\n",
    "        v2.ToImage(),\n",
    "        v2.Resize(size=[32], interpolation=v2.InterpolationMode.BICUBIC),\n",
    "        v2.ToDtype(torch.float32, scale=True),\n",
    "    ]\n",
    ")\n",
    "\n",
    "train_dataset = torchvision.datasets.MNIST(\n",
    "    root=\"./tmp\", train=True, download=True, transform=transforms\n",
    ")\n",
    "test_dataset = torchvision.datasets.MNIST(\n",
    "    root=\"./tmp\", train=False, download=True, transform=transforms\n",
    ")"
   ]
  },
  {
   "cell_type": "code",
   "execution_count": 23,
   "metadata": {
    "execution": {
     "iopub.execute_input": "2024-12-20T07:14:28.979293Z",
     "iopub.status.busy": "2024-12-20T07:14:28.978669Z",
     "iopub.status.idle": "2024-12-20T07:14:29.240558Z",
     "shell.execute_reply": "2024-12-20T07:14:29.239511Z",
     "shell.execute_reply.started": "2024-12-20T07:14:28.979240Z"
    },
    "trusted": true
   },
   "outputs": [
    {
     "data": {
      "text/plain": [
       "7"
      ]
     },
     "execution_count": 23,
     "metadata": {},
     "output_type": "execute_result"
    },
    {
     "data": {
      "image/png": "[encoded data removed]",
      "text/plain": [
       "<Figure size 640x480 with 1 Axes>"
      ]
     },
     "metadata": {},
     "output_type": "display_data"
    }
   ],
   "source": [
    "plt.imshow(\n",
    "    test_dataset[0][0].view(\n",
    "        test_dataset[0][0].shape[2],\n",
    "        test_dataset[0][0].shape[1],\n",
    "        test_dataset[0][0].shape[0],\n",
    "    ),\n",
    "    cmap=\"gray\",\n",
    ")\n",
    "test_dataset[0][1]"
   ]
  },
  {
   "cell_type": "code",
   "execution_count": 24,
   "metadata": {
    "execution": {
     "iopub.execute_input": "2024-12-20T07:14:29.242045Z",
     "iopub.status.busy": "2024-12-20T07:14:29.241757Z",
     "iopub.status.idle": "2024-12-20T07:14:29.520601Z",
     "shell.execute_reply": "2024-12-20T07:14:29.519725Z",
     "shell.execute_reply.started": "2024-12-20T07:14:29.242011Z"
    },
    "trusted": true
   },
   "outputs": [
    {
     "name": "stderr",
     "output_type": "stream",
     "text": [
      "/opt/conda/lib/python3.10/site-packages/torchvision/datasets/mnist.py:66: UserWarning: train_labels has been renamed targets\n",
      "  warnings.warn(\"train_labels has been renamed targets\")\n",
      "/opt/conda/lib/python3.10/site-packages/seaborn/_oldcore.py:1765: FutureWarning: unique with argument that is not not a Series, Index, ExtensionArray, or np.ndarray is deprecated and will raise in a future version.\n",
      "  order = pd.unique(vector)\n"
     ]
    },
    {
     "data": {
      "text/plain": [
       "<Axes: >"
      ]
     },
     "execution_count": 24,
     "metadata": {},
     "output_type": "execute_result"
    },
    {
     "data": {
      "image/png": "[encoded data removed]",
      "text/plain": [
       "<Figure size 640x480 with 1 Axes>"
      ]
     },
     "metadata": {},
     "output_type": "display_data"
    }
   ],
   "source": [
    "sns.barplot(\n",
    "    x=list(range(10)),\n",
    "    y=[\n",
    "        y[1]\n",
    "        for y in sorted(\n",
    "            Counter(test_dataset.train_labels.numpy()).items(), key=lambda x: x[0]\n",
    "        )\n",
    "    ],\n",
    ")"
   ]
  },
  {
   "cell_type": "code",
   "execution_count": 25,
   "metadata": {
    "execution": {
     "iopub.execute_input": "2024-12-20T07:14:29.522162Z",
     "iopub.status.busy": "2024-12-20T07:14:29.521800Z",
     "iopub.status.idle": "2024-12-20T07:14:29.937465Z",
     "shell.execute_reply": "2024-12-20T07:14:29.936589Z",
     "shell.execute_reply.started": "2024-12-20T07:14:29.522087Z"
    },
    "trusted": true
   },
   "outputs": [],
   "source": [
    "(X_train, y_train), (X_test, y_test) = mnist.load_data()\n",
    "X_train = X_train / 255.0\n",
    "X_test = X_test / 255.0\n",
    "\n",
    "X_train_flat = X_train.reshape(X_train.shape[0], X_train.shape[1] * X_train.shape[2])\n",
    "X_test_flat = X_test.reshape(X_test.shape[0], X_test.shape[1] * X_test.shape[2])"
   ]
  },
  {
   "cell_type": "markdown",
   "metadata": {},
   "source": [
    "### Задание 2\n",
    "\n",
    "Реализуйте однослойный перцептрон с применением алгоритма градиентного спуска для обучения."
   ]
  },
  {
   "cell_type": "code",
   "execution_count": 26,
   "metadata": {
    "execution": {
     "iopub.execute_input": "2024-12-20T07:14:29.939725Z",
     "iopub.status.busy": "2024-12-20T07:14:29.939431Z",
     "iopub.status.idle": "2024-12-20T07:15:01.195422Z",
     "shell.execute_reply": "2024-12-20T07:15:01.193599Z",
     "shell.execute_reply.started": "2024-12-20T07:14:29.939697Z"
    },
    "trusted": true
   },
   "outputs": [
    {
     "name": "stdout",
     "output_type": "stream",
     "text": [
      "Epoch 0\n",
      "Epoch 1\n",
      "Epoch 2\n",
      "Epoch 3\n",
      "Epoch 4\n",
      "Epoch 5\n",
      "Epoch 6\n",
      "Epoch 7\n",
      "Epoch 8\n",
      "Epoch 9\n"
     ]
    },
    {
     "data": {
      "text/plain": [
       "0.8568"
      ]
     },
     "execution_count": 26,
     "metadata": {},
     "output_type": "execute_result"
    }
   ],
   "source": [
    "def get_acc(y_pred: np.ndarray, y_true: np.ndarray) -> float:\n",
    "    return np.sum(np.argmax(y_pred, axis=1) == y_true) / y_true.shape[0]\n",
    "\n",
    "\n",
    "class LogisticRegression:\n",
    "    def __init__(self) -> None:\n",
    "        self.w = None\n",
    "\n",
    "    def _ohe(self, y: np.ndarray) -> np.ndarray:\n",
    "        y_ohe = np.zeros((y.shape[0], np.unique(y).shape[0]))\n",
    "        y_ohe[np.arange(y.size), y] = 1\n",
    "        return y_ohe\n",
    "\n",
    "    def _softmax(self, preds: np.ndarray) -> np.ndarray:\n",
    "        preds = np.log(np.maximum(preds, 1e-9))\n",
    "        return np.exp(preds) / np.sum(np.exp(preds))\n",
    "\n",
    "    def predict(self, X: np.ndarray) -> np.ndarray:\n",
    "        return self._softmax(X @ self.w)\n",
    "\n",
    "    def fit(\n",
    "        self, X: npt.ArrayLike, y: npt.ArrayLike, epochs: int = 10, lr: float = 1e-2\n",
    "    ) -> None:\n",
    "        X = np.array(X)\n",
    "        y = np.array(y)\n",
    "        y = self._ohe(y)\n",
    "\n",
    "        if self.w is None:\n",
    "            self.w = np.random.random((X.shape[1], y.shape[1]))\n",
    "\n",
    "        for epoch in range(epochs):\n",
    "            print(f\"Epoch {epoch}\")\n",
    "            for X_s, y_s in zip(X, y):\n",
    "                probs = self.predict(X_s)\n",
    "                grads = np.expand_dims(X_s, axis=0).T @ np.expand_dims(\n",
    "                    (probs - y_s), axis=0\n",
    "                )\n",
    "                self.w -= grads * lr\n",
    "\n",
    "\n",
    "model = LogisticRegression()\n",
    "model.fit(X_train_flat, y_train, epochs=EPOCHS)\n",
    "get_acc(model.predict(X_test_flat), y_test)"
   ]
  },
  {
   "cell_type": "markdown",
   "metadata": {},
   "source": [
    "### Задание 3\n",
    "\n",
    "Изучите документацию библиотеки PyTorch, посмотрите, как создаются сверточные, полносвязные слои и слои пуллинга. Напишите свою нейронную сеть, поэксперементируйте со слоями. Обучите ее на основе набора данных MNIST."
   ]
  },
  {
   "cell_type": "code",
   "execution_count": 30,
   "metadata": {
    "execution": {
     "iopub.execute_input": "2024-12-20T07:15:23.125998Z",
     "iopub.status.busy": "2024-12-20T07:15:23.125177Z",
     "iopub.status.idle": "2024-12-20T07:15:23.141163Z",
     "shell.execute_reply": "2024-12-20T07:15:23.140146Z",
     "shell.execute_reply.started": "2024-12-20T07:15:23.125957Z"
    },
    "trusted": true
   },
   "outputs": [
    {
     "data": {
      "text/plain": [
       "LeNet5(\n",
       "  (conv1): Conv2d(1, 6, kernel_size=(5, 5), stride=(1, 1))\n",
       "  (avg1): AvgPool2d(kernel_size=2, stride=2, padding=0)\n",
       "  (conv2): Conv2d(6, 16, kernel_size=(5, 5), stride=(1, 1))\n",
       "  (avg2): AvgPool2d(kernel_size=2, stride=2, padding=0)\n",
       "  (conv3): Conv2d(16, 120, kernel_size=(5, 5), stride=(1, 1))\n",
       "  (fc1): Linear(in_features=120, out_features=84, bias=True)\n",
       "  (fc2): Linear(in_features=84, out_features=10, bias=True)\n",
       "  (act): Tanh()\n",
       ")"
      ]
     },
     "execution_count": 30,
     "metadata": {},
     "output_type": "execute_result"
    }
   ],
   "source": [
    "class LeNet5(nn.Module):\n",
    "    def __init__(self) -> None:\n",
    "        super(LeNet5, self).__init__()\n",
    "        self.conv1 = nn.Conv2d(1, 6, 5)\n",
    "        self.avg1 = nn.AvgPool2d(2)\n",
    "        self.conv2 = nn.Conv2d(6, 16, 5)\n",
    "        self.avg2 = nn.AvgPool2d(2)\n",
    "        self.conv3 = nn.Conv2d(16, 120, 5)\n",
    "\n",
    "        self.fc1 = nn.Linear(120, 84)\n",
    "        self.fc2 = nn.Linear(84, 10)\n",
    "\n",
    "        self.act = nn.Tanh()\n",
    "\n",
    "    def forward(self, X: torch.Tensor) -> torch.Tensor:\n",
    "        X = self.act(self.conv1(X))\n",
    "        X = self.avg1(X)\n",
    "\n",
    "        X = self.act(self.conv2(X))\n",
    "        X = self.avg2(X)\n",
    "\n",
    "        X = self.act(self.conv3(X))\n",
    "        X = X.flatten(start_dim=1)\n",
    "\n",
    "        X = self.act(self.fc1(X))\n",
    "        out = self.fc2(X)\n",
    "        return out\n",
    "\n",
    "\n",
    "model = LeNet5().to(DEVICE)\n",
    "optimizer = optim.Adam(model.parameters(), 1e-3)\n",
    "criterion = nn.CrossEntropyLoss()\n",
    "model\n"
   ]
  },
  {
   "cell_type": "code",
   "execution_count": 28,
   "metadata": {
    "execution": {
     "iopub.execute_input": "2024-12-20T07:15:01.234529Z",
     "iopub.status.busy": "2024-12-20T07:15:01.234000Z",
     "iopub.status.idle": "2024-12-20T07:15:01.252786Z",
     "shell.execute_reply": "2024-12-20T07:15:01.251290Z",
     "shell.execute_reply.started": "2024-12-20T07:15:01.234474Z"
    },
    "trusted": true
   },
   "outputs": [],
   "source": [
    "train_dl = DataLoader(\n",
    "    train_dataset,\n",
    "    batch_size=BATCH_SIZE,\n",
    "    shuffle=True,\n",
    "    pin_memory=torch.cuda.is_available(),  # only with GPU\n",
    "    num_workers=2,\n",
    "    drop_last=True,\n",
    ")\n",
    "\n",
    "test_dl = DataLoader(\n",
    "    test_dataset,\n",
    "    batch_size=BATCH_SIZE,\n",
    "    shuffle=False,\n",
    "    pin_memory=torch.cuda.is_available(),  # only with GPU\n",
    "    num_workers=2,\n",
    "    drop_last=True,\n",
    ")"
   ]
  },
  {
   "cell_type": "code",
   "execution_count": 31,
   "metadata": {
    "execution": {
     "iopub.execute_input": "2024-12-20T07:15:25.400592Z",
     "iopub.status.busy": "2024-12-20T07:15:25.399893Z",
     "iopub.status.idle": "2024-12-20T07:17:12.335644Z",
     "shell.execute_reply": "2024-12-20T07:17:12.334504Z",
     "shell.execute_reply.started": "2024-12-20T07:15:25.400558Z"
    },
    "trusted": true
   },
   "outputs": [
    {
     "name": "stdout",
     "output_type": "stream",
     "text": [
      "Train loss: 0.23400 | Train accuracy: 92.97%\n",
      "Test loss: 0.09455 | Test accuracy: 97.04%\n",
      "\n",
      "Train loss: 0.07686 | Train accuracy: 97.65%\n",
      "Test loss: 0.06736 | Test accuracy: 97.88%\n",
      "\n",
      "Train loss: 0.05677 | Train accuracy: 98.23%\n",
      "Test loss: 0.05889 | Test accuracy: 98.19%\n",
      "\n",
      "Train loss: 0.04242 | Train accuracy: 98.68%\n",
      "Test loss: 0.04897 | Test accuracy: 98.52%\n",
      "\n",
      "Train loss: 0.03502 | Train accuracy: 98.90%\n",
      "Test loss: 0.04738 | Test accuracy: 98.57%\n",
      "\n"
     ]
    }
   ],
   "source": [
    "def accuracy_fn(y_true, y_pred):\n",
    "    correct = torch.eq(y_true, y_pred).sum().item()\n",
    "    acc = (correct / len(y_pred)) * 100\n",
    "    return acc\n",
    "\n",
    "\n",
    "def train_step(\n",
    "    model: nn.Module,\n",
    "    criterion: nn.Module,\n",
    "    optimizer: optim.Optimizer,\n",
    "    data_loader: DataLoader,\n",
    "    accuracy_fn: cabc.Callable[[torch.Tensor, torch.Tensor], torch.Tensor],\n",
    "    device: torch.device | str = DEVICE,\n",
    "):\n",
    "    train_loss, train_acc = 0, 0\n",
    "    model.train()\n",
    "    for X, y in data_loader:\n",
    "        X, y = X.to(device), y.to(device)\n",
    "        y_pred = model(X)\n",
    "        loss = criterion(y_pred, y)\n",
    "        train_loss += loss\n",
    "        train_acc += accuracy_fn(y_true=y, y_pred=y_pred.argmax(dim=1))\n",
    "\n",
    "        optimizer.zero_grad()\n",
    "        loss.backward()\n",
    "        optimizer.step()\n",
    "\n",
    "    train_loss /= len(data_loader)\n",
    "    train_acc /= len(data_loader)\n",
    "    print(f\"Train loss: {train_loss:.5f} | Train accuracy: {train_acc:.2f}%\")\n",
    "\n",
    "\n",
    "def test_step(\n",
    "    model: nn.Module,\n",
    "    criterion: nn.Module,\n",
    "    data_loader: DataLoader,\n",
    "    accuracy_fn: cabc.Callable[[torch.Tensor, torch.Tensor], torch.Tensor],\n",
    "    device: torch.device | str = DEVICE,\n",
    "):\n",
    "    test_loss, test_acc = 0, 0\n",
    "    model.eval()\n",
    "    with torch.inference_mode():\n",
    "        for X, y in data_loader:\n",
    "            X, y = X.to(device), y.to(device)\n",
    "            test_pred = model(X)\n",
    "            test_loss += criterion(test_pred, y)\n",
    "            test_acc += accuracy_fn(y_true=y, y_pred=test_pred.argmax(dim=1))\n",
    "\n",
    "        test_loss /= len(data_loader)\n",
    "        test_acc /= len(data_loader)\n",
    "        print(f\"Test loss: {test_loss:.5f} | Test accuracy: {test_acc:.2f}%\\n\")\n",
    "\n",
    "\n",
    "for epoch in range(EPOCHS // 2):\n",
    "    train_step(\n",
    "        data_loader=train_dl,\n",
    "        model=model,\n",
    "        criterion=criterion,\n",
    "        optimizer=optimizer,\n",
    "        accuracy_fn=accuracy_fn,\n",
    "        device=DEVICE,\n",
    "    )\n",
    "    test_step(\n",
    "        data_loader=test_dl,\n",
    "        model=model,\n",
    "        criterion=criterion,\n",
    "        accuracy_fn=accuracy_fn,\n",
    "        device=DEVICE,\n",
    "    )"
   ]
  }
 ],
 "metadata": {
  "kaggle": {
   "accelerator": "gpu",
   "dataSources": [],
   "dockerImageVersionId": 30805,
   "isGpuEnabled": true,
   "isInternetEnabled": true,
   "language": "python",
   "sourceType": "notebook"
  },
  "kernelspec": {
   "display_name": ".venv",
   "language": "python",
   "name": "python3"
  },
  "language_info": {
   "codemirror_mode": {
    "name": "ipython",
    "version": 3
   },
   "file_extension": ".py",
   "mimetype": "text/x-python",
   "name": "python",
   "nbconvert_exporter": "python",
   "pygments_lexer": "ipython3",
   "version": "3.9.7"
  }
 },
 "nbformat": 4,
 "nbformat_minor": 4
}
