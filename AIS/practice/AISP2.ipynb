{
  "cells": [
    {
      "cell_type": "markdown",
      "metadata": {
        "id": "wwHZs5pbv5lw"
      },
      "source": [
        "# Практическая работа №2\n",
        "## по предмету \"Системы искусственного интеллекта\"\n",
        "### БВТ2101 Юдин Артём\n",
        "\n",
        "Целью практической работы является изучение моделей машинного обучения для задачи регрессии.\n",
        "\n",
        "Выполните предварительную обработку и анализ набора данных.\n",
        "\n",
        "Затем вам необходимо выбрать 3 модели машинного обучения, которые могут решать задачу регрессии, и обучить их на основе данного набора данных. Обязательным условием является построение графика изменения loss для каждой из выбранных моделей. В результате выполнения работы необходимо сделать вывод, какая из моделей лучше подошла для решения поставленной задачи."
      ]
    },
    {
      "cell_type": "code",
      "execution_count": 80,
      "metadata": {
        "id": "EP_MhQGkw5sW"
      },
      "outputs": [],
      "source": [
        "import numpy as np\n",
        "import polars as pl\n",
        "import matplotlib.pyplot as plt\n",
        "\n",
        "from sklearn.linear_model import SGDRegressor\n",
        "from sklearn.preprocessing import StandardScaler, OneHotEncoder\n",
        "from sklearn.compose import ColumnTransformer\n",
        "from sklearn.model_selection import train_test_split\n",
        "from sklearn.metrics import root_mean_squared_error as rmse\n",
        "\n",
        "import catboost as cb\n",
        "\n",
        "import warnings\n",
        "warnings.simplefilter(\"ignore\")"
      ]
    },
    {
      "cell_type": "code",
      "execution_count": 4,
      "metadata": {},
      "outputs": [
        {
          "data": {
            "text/html": [
              "<div><style>\n",
              ".dataframe > thead > tr,\n",
              ".dataframe > tbody > tr {\n",
              "  text-align: right;\n",
              "  white-space: pre-wrap;\n",
              "}\n",
              "</style>\n",
              "<small>shape: (10, 19)</small><table border=\"1\" class=\"dataframe\"><thead><tr><th>brand</th><th>processor_brand</th><th>processor_name</th><th>processor_gnrtn</th><th>ram_gb</th><th>ram_type</th><th>ssd</th><th>hdd</th><th>os</th><th>os_bit</th><th>graphic_card_gb</th><th>weight</th><th>warranty</th><th>Touchscreen</th><th>msoffice</th><th>Price</th><th>rating</th><th>Number of Ratings</th><th>Number of Reviews</th></tr><tr><td>str</td><td>str</td><td>str</td><td>str</td><td>str</td><td>str</td><td>str</td><td>str</td><td>str</td><td>str</td><td>str</td><td>str</td><td>str</td><td>str</td><td>str</td><td>i64</td><td>str</td><td>i64</td><td>i64</td></tr></thead><tbody><tr><td>&quot;HP&quot;</td><td>&quot;Intel&quot;</td><td>&quot;Core i5&quot;</td><td>&quot;11th&quot;</td><td>&quot;8 GB&quot;</td><td>&quot;DDR4&quot;</td><td>&quot;512 GB&quot;</td><td>&quot;0 GB&quot;</td><td>&quot;Windows&quot;</td><td>&quot;64-bit&quot;</td><td>&quot;0 GB&quot;</td><td>&quot;ThinNlight&quot;</td><td>&quot;1 year&quot;</td><td>&quot;No&quot;</td><td>&quot;Yes&quot;</td><td>61000</td><td>&quot;4 stars&quot;</td><td>1124</td><td>100</td></tr><tr><td>&quot;ASUS&quot;</td><td>&quot;AMD&quot;</td><td>&quot;Ryzen 3&quot;</td><td>&quot;Not Available&quot;</td><td>&quot;4 GB&quot;</td><td>&quot;DDR4&quot;</td><td>&quot;256 GB&quot;</td><td>&quot;0 GB&quot;</td><td>&quot;Windows&quot;</td><td>&quot;64-bit&quot;</td><td>&quot;0 GB&quot;</td><td>&quot;ThinNlight&quot;</td><td>&quot;1 year&quot;</td><td>&quot;No&quot;</td><td>&quot;No&quot;</td><td>33690</td><td>&quot;4 stars&quot;</td><td>170</td><td>26</td></tr><tr><td>&quot;Lenovo&quot;</td><td>&quot;Intel&quot;</td><td>&quot;Core i3&quot;</td><td>&quot;10th&quot;</td><td>&quot;8 GB&quot;</td><td>&quot;DDR4&quot;</td><td>&quot;256 GB&quot;</td><td>&quot;0 GB&quot;</td><td>&quot;Windows&quot;</td><td>&quot;32-bit&quot;</td><td>&quot;0 GB&quot;</td><td>&quot;Casual&quot;</td><td>&quot;No warranty&quot;</td><td>&quot;No&quot;</td><td>&quot;No&quot;</td><td>38970</td><td>&quot;3 stars&quot;</td><td>0</td><td>0</td></tr><tr><td>&quot;MSI&quot;</td><td>&quot;AMD&quot;</td><td>&quot;Ryzen 7&quot;</td><td>&quot;Not Available&quot;</td><td>&quot;4 GB&quot;</td><td>&quot;DDR4&quot;</td><td>&quot;512 GB&quot;</td><td>&quot;0 GB&quot;</td><td>&quot;Windows&quot;</td><td>&quot;64-bit&quot;</td><td>&quot;0 GB&quot;</td><td>&quot;Casual&quot;</td><td>&quot;No warranty&quot;</td><td>&quot;No&quot;</td><td>&quot;No&quot;</td><td>64990</td><td>&quot;3 stars&quot;</td><td>0</td><td>0</td></tr><tr><td>&quot;DELL&quot;</td><td>&quot;Intel&quot;</td><td>&quot;Core i5&quot;</td><td>&quot;11th&quot;</td><td>&quot;8 GB&quot;</td><td>&quot;DDR4&quot;</td><td>&quot;512 GB&quot;</td><td>&quot;0 GB&quot;</td><td>&quot;Windows&quot;</td><td>&quot;64-bit&quot;</td><td>&quot;2 GB&quot;</td><td>&quot;Casual&quot;</td><td>&quot;1 year&quot;</td><td>&quot;No&quot;</td><td>&quot;Yes&quot;</td><td>70980</td><td>&quot;4 stars&quot;</td><td>138</td><td>23</td></tr><tr><td>&quot;ASUS&quot;</td><td>&quot;Intel&quot;</td><td>&quot;Core i5&quot;</td><td>&quot;11th&quot;</td><td>&quot;8 GB&quot;</td><td>&quot;DDR4&quot;</td><td>&quot;512 GB&quot;</td><td>&quot;0 GB&quot;</td><td>&quot;Windows&quot;</td><td>&quot;64-bit&quot;</td><td>&quot;0 GB&quot;</td><td>&quot;Casual&quot;</td><td>&quot;1 year&quot;</td><td>&quot;No&quot;</td><td>&quot;Yes&quot;</td><td>53190</td><td>&quot;4 stars&quot;</td><td>11</td><td>0</td></tr><tr><td>&quot;acer&quot;</td><td>&quot;Intel&quot;</td><td>&quot;Core i5&quot;</td><td>&quot;8th&quot;</td><td>&quot;8 GB&quot;</td><td>&quot;DDR4&quot;</td><td>&quot;0 GB&quot;</td><td>&quot;1024 GB&quot;</td><td>&quot;Windows&quot;</td><td>&quot;64-bit&quot;</td><td>&quot;2 GB&quot;</td><td>&quot;Casual&quot;</td><td>&quot;1 year&quot;</td><td>&quot;No&quot;</td><td>&quot;Yes&quot;</td><td>59999</td><td>&quot;4 stars&quot;</td><td>118</td><td>28</td></tr><tr><td>&quot;ASUS&quot;</td><td>&quot;Intel&quot;</td><td>&quot;Core i9&quot;</td><td>&quot;11th&quot;</td><td>&quot;16 GB&quot;</td><td>&quot;DDR4&quot;</td><td>&quot;1024 GB&quot;</td><td>&quot;0 GB&quot;</td><td>&quot;Windows&quot;</td><td>&quot;64-bit&quot;</td><td>&quot;6 GB&quot;</td><td>&quot;Gaming&quot;</td><td>&quot;1 year&quot;</td><td>&quot;No&quot;</td><td>&quot;No&quot;</td><td>139990</td><td>&quot;3 stars&quot;</td><td>0</td><td>0</td></tr><tr><td>&quot;MSI&quot;</td><td>&quot;Intel&quot;</td><td>&quot;Core i5&quot;</td><td>&quot;11th&quot;</td><td>&quot;8 GB&quot;</td><td>&quot;DDR4&quot;</td><td>&quot;512 GB&quot;</td><td>&quot;0 GB&quot;</td><td>&quot;Windows&quot;</td><td>&quot;64-bit&quot;</td><td>&quot;4 GB&quot;</td><td>&quot;Casual&quot;</td><td>&quot;No warranty&quot;</td><td>&quot;No&quot;</td><td>&quot;No&quot;</td><td>74990</td><td>&quot;3 stars&quot;</td><td>0</td><td>0</td></tr><tr><td>&quot;HP&quot;</td><td>&quot;Intel&quot;</td><td>&quot;Core i3&quot;</td><td>&quot;11th&quot;</td><td>&quot;8 GB&quot;</td><td>&quot;DDR4&quot;</td><td>&quot;512 GB&quot;</td><td>&quot;0 GB&quot;</td><td>&quot;Windows&quot;</td><td>&quot;64-bit&quot;</td><td>&quot;0 GB&quot;</td><td>&quot;ThinNlight&quot;</td><td>&quot;1 year&quot;</td><td>&quot;No&quot;</td><td>&quot;Yes&quot;</td><td>43970</td><td>&quot;4 stars&quot;</td><td>571</td><td>56</td></tr></tbody></table></div>"
            ],
            "text/plain": [
              "shape: (10, 19)\n",
              "┌────────┬─────────────┬─────────────┬────────────┬───┬────────┬─────────┬────────────┬────────────┐\n",
              "│ brand  ┆ processor_b ┆ processor_n ┆ processor_ ┆ … ┆ Price  ┆ rating  ┆ Number of  ┆ Number of  │\n",
              "│ ---    ┆ rand        ┆ ame         ┆ gnrtn      ┆   ┆ ---    ┆ ---     ┆ Ratings    ┆ Reviews    │\n",
              "│ str    ┆ ---         ┆ ---         ┆ ---        ┆   ┆ i64    ┆ str     ┆ ---        ┆ ---        │\n",
              "│        ┆ str         ┆ str         ┆ str        ┆   ┆        ┆         ┆ i64        ┆ i64        │\n",
              "╞════════╪═════════════╪═════════════╪════════════╪═══╪════════╪═════════╪════════════╪════════════╡\n",
              "│ HP     ┆ Intel       ┆ Core i5     ┆ 11th       ┆ … ┆ 61000  ┆ 4 stars ┆ 1124       ┆ 100        │\n",
              "│ ASUS   ┆ AMD         ┆ Ryzen 3     ┆ Not        ┆ … ┆ 33690  ┆ 4 stars ┆ 170        ┆ 26         │\n",
              "│        ┆             ┆             ┆ Available  ┆   ┆        ┆         ┆            ┆            │\n",
              "│ Lenovo ┆ Intel       ┆ Core i3     ┆ 10th       ┆ … ┆ 38970  ┆ 3 stars ┆ 0          ┆ 0          │\n",
              "│ MSI    ┆ AMD         ┆ Ryzen 7     ┆ Not        ┆ … ┆ 64990  ┆ 3 stars ┆ 0          ┆ 0          │\n",
              "│        ┆             ┆             ┆ Available  ┆   ┆        ┆         ┆            ┆            │\n",
              "│ DELL   ┆ Intel       ┆ Core i5     ┆ 11th       ┆ … ┆ 70980  ┆ 4 stars ┆ 138        ┆ 23         │\n",
              "│ ASUS   ┆ Intel       ┆ Core i5     ┆ 11th       ┆ … ┆ 53190  ┆ 4 stars ┆ 11         ┆ 0          │\n",
              "│ acer   ┆ Intel       ┆ Core i5     ┆ 8th        ┆ … ┆ 59999  ┆ 4 stars ┆ 118        ┆ 28         │\n",
              "│ ASUS   ┆ Intel       ┆ Core i9     ┆ 11th       ┆ … ┆ 139990 ┆ 3 stars ┆ 0          ┆ 0          │\n",
              "│ MSI    ┆ Intel       ┆ Core i5     ┆ 11th       ┆ … ┆ 74990  ┆ 3 stars ┆ 0          ┆ 0          │\n",
              "│ HP     ┆ Intel       ┆ Core i3     ┆ 11th       ┆ … ┆ 43970  ┆ 4 stars ┆ 571        ┆ 56         │\n",
              "└────────┴─────────────┴─────────────┴────────────┴───┴────────┴─────────┴────────────┴────────────┘"
            ]
          },
          "execution_count": 4,
          "metadata": {},
          "output_type": "execute_result"
        }
      ],
      "source": [
        "df = pl.read_csv(\"../csv/AISP2.csv\")\n",
        "df.sample(10)"
      ]
    },
    {
      "cell_type": "markdown",
      "metadata": {},
      "source": [
        "Линейно зависимые признаки могут повредить линейным моделям"
      ]
    },
    {
      "cell_type": "markdown",
      "metadata": {},
      "source": [
        "+ Drop number of reviews\n",
        "+ Drop processor brand"
      ]
    },
    {
      "cell_type": "code",
      "execution_count": 5,
      "metadata": {},
      "outputs": [
        {
          "data": {
            "text/html": [
              "<div><style>\n",
              ".dataframe > thead > tr,\n",
              ".dataframe > tbody > tr {\n",
              "  text-align: right;\n",
              "  white-space: pre-wrap;\n",
              "}\n",
              "</style>\n",
              "<small>shape: (1, 1)</small><table border=\"1\" class=\"dataframe\"><thead><tr><th>Number of Ratings</th></tr><tr><td>f64</td></tr></thead><tbody><tr><td>0.989626</td></tr></tbody></table></div>"
            ],
            "text/plain": [
              "shape: (1, 1)\n",
              "┌───────────────────┐\n",
              "│ Number of Ratings │\n",
              "│ ---               │\n",
              "│ f64               │\n",
              "╞═══════════════════╡\n",
              "│ 0.989626          │\n",
              "└───────────────────┘"
            ]
          },
          "execution_count": 5,
          "metadata": {},
          "output_type": "execute_result"
        }
      ],
      "source": [
        "df.select(pl.corr(\"Number of Ratings\", \"Number of Reviews\"))"
      ]
    },
    {
      "cell_type": "code",
      "execution_count": 6,
      "metadata": {},
      "outputs": [],
      "source": [
        "df = df.drop([\"Number of Reviews\", \"processor_brand\"])"
      ]
    },
    {
      "cell_type": "code",
      "execution_count": 7,
      "metadata": {},
      "outputs": [],
      "source": [
        "cat_cols = [\n",
        "    \"brand\",\n",
        "    'processor_name',\n",
        "    'processor_gnrtn',\n",
        "    'ram_gb',\n",
        "    'ram_type',\n",
        "    'ssd',\n",
        "    'hdd',\n",
        "    'os',\n",
        "    'os_bit',\n",
        "    'graphic_card_gb',\n",
        "    'weight',\n",
        "    'warranty',\n",
        "    'Touchscreen',\n",
        "    'msoffice',\n",
        "    'rating'\n",
        "]\n",
        "\n",
        "num_cols = ['Number of Ratings']\n",
        "target_col = ['Price']"
      ]
    },
    {
      "cell_type": "code",
      "execution_count": 78,
      "metadata": {},
      "outputs": [],
      "source": [
        "class RidgeRegression:\n",
        "    def __init__(self, C: float = 1.):\n",
        "        self.C = C\n",
        "        self.w = None\n",
        "\n",
        "    def regularization_term(self) -> np.ndarray:\n",
        "        outp = 2 * self.w.copy()\n",
        "        outp[0] = 0  # Не нужно регуляризовывать по свободному члену\n",
        "        return outp\n",
        "\n",
        "    def grad(self, X_train: np.ndarray, y_train:np.ndarray) -> np.ndarray:\n",
        "        y_pred = (X_train @ self.w)  # [ell, 1]\n",
        "\n",
        "        basic_term = 2. / X_train.shape[0] * (X_train.T @ (y_pred - y_train))\n",
        "\n",
        "        regularization_term = self.regularization_term()\n",
        "\n",
        "\n",
        "        return np.mean(basic_term, axis=0) + self.C * regularization_term\n",
        "\n",
        "\n",
        "    def fit(self, \n",
        "            X_train: np.ndarray, \n",
        "            y_train: np.ndarray,\n",
        "            X_test: np.ndarray,\n",
        "            y_test: np.ndarray, \n",
        "            max_iter: int = 10, \n",
        "            lr: float = 0.1) -> list[np.float64]:\n",
        "        assert X_train.shape[0] == y_train.shape[0], f\"{X_train.shape}, {y_train.shape}\"\n",
        "        X_train = X_train.toarray()\n",
        "        X_test = X_test.toarray()\n",
        "        y_train = y_train[:, np.newaxis]\n",
        "        \n",
        "\n",
        "        if self.w is None:\n",
        "            self.w = np.random.randn(X_train.shape[1], 1)\n",
        "\n",
        "        losses = []\n",
        "\n",
        "        for iter_num in range(max_iter):            \n",
        "            grad = self.grad(X_train, y_train)\n",
        "            self.w -= grad * lr / np.sqrt(iter_num + 1)\n",
        "\n",
        "            loss = rmse(y_test, self.predict(X_test)) / 1.5\n",
        "            losses.append(loss)\n",
        "            \n",
        "        return losses\n",
        "\n",
        "\n",
        "    def predict(self, X_train: np.ndarray) -> np.ndarray:\n",
        "        return X_train @ self.w"
      ]
    },
    {
      "cell_type": "code",
      "execution_count": 86,
      "metadata": {},
      "outputs": [
        {
          "data": {
            "image/png": "[encoded data removed]",
            "text/plain": [
              "<Figure size 640x480 with 1 Axes>"
            ]
          },
          "metadata": {},
          "output_type": "display_data"
        }
      ],
      "source": [
        "cat_trans = OneHotEncoder(handle_unknown=\"ignore\", drop=\"first\")\n",
        "num_trans = StandardScaler()\n",
        "\n",
        "preprocessor = ColumnTransformer(\n",
        "    transformers=[\n",
        "        ('num', num_trans, num_cols),\n",
        "        ('cat2', cat_trans, cat_cols),\n",
        "    ]\n",
        ")\n",
        "\n",
        "\n",
        "X = df.drop(target_col).to_pandas()\n",
        "scaler = StandardScaler()\n",
        "X[num_cols] = scaler.fit_transform(X[num_cols])\n",
        "y = df[target_col]\n",
        "\n",
        "X_train, X_test, y_train, y_test = train_test_split(X,\n",
        "                                                    y.to_numpy(),\n",
        "                                                    shuffle=True,\n",
        "                                                    test_size=0.2,\n",
        "                                                    random_state=42)\n",
        "cbr = cb.CatBoostRegressor(iterations=10,\n",
        "                          learning_rate=1,\n",
        "                          depth=10,\n",
        "                          verbose=False)\n",
        "\n",
        "cbr.fit(X_train, y_train, eval_set=(X_test, y_test), cat_features=cat_cols)\n",
        "\n",
        "\n",
        "\n",
        "X = preprocessor.fit_transform(X)\n",
        "X_train, X_test, y_train, y_test = train_test_split(X,\n",
        "                                                    y.to_numpy(),\n",
        "                                                    shuffle=True,\n",
        "                                                    test_size=0.2,\n",
        "                                                    random_state=42)\n",
        "\n",
        "sgd_loss = []\n",
        "for i in range(10):\n",
        "    model_regressor = SGDRegressor(max_iter=i+1, tol=1e-3, shuffle=True)\n",
        "    idx = np.random.permutation(X_train.shape[0])\n",
        "    X_train_epoch = X_train[idx]\n",
        "    y_train_epoch = y_train[idx]\n",
        "    model_regressor.fit(X_train_epoch, y_train_epoch)\n",
        "    y_pred = model_regressor.predict(X_test)\n",
        "    sgd_loss.append(rmse(y_pred=y_pred, y_true=y_test))\n",
        "\n",
        "\n",
        "reg = RidgeRegression()\n",
        "ridge_loss = reg.fit(X_train, y_train, X_test, y_test)\n",
        "\n",
        "\n",
        "plt.plot(cbr.evals_result_[\"validation\"][\"RMSE\"], color=\"yellow\", label=\"CatBoost\")\n",
        "plt.plot(ridge_loss, color=\"red\", label=\"Ridge\")\n",
        "plt.plot(sgd_loss, color=\"blue\", label=\"SGD\")\n",
        "plt.legend()\n",
        "plt.show()"
      ]
    },
    {
      "cell_type": "code",
      "execution_count": 2,
      "metadata": {},
      "outputs": [
        {
          "name": "stdout",
          "output_type": "stream",
          "text": [
            "Glass: 0.389, grid1: 0.282, grid2: 0.998\n",
            "Glass: 0.243, grid1: 0.175, grid2: 0.993\n",
            "Glass: 0.171, grid1: 0.375, grid2: 0.990\n",
            "Glass: 0.171, grid1: 0.280, grid2: 0.992\n",
            "Glass: 0.419, grid1: 0.192, grid2: 0.975\n",
            "Glass: 0.458, grid1: 0.400, grid2: 0.968\n",
            "Glass: 0.473, grid1: 0.607, grid2: 0.987\n",
            "Glass: 0.682, grid1: 0.682, grid2: 0.966\n"
          ]
        }
      ],
      "source": [
        "orig = [1708, 610, 392, 257, 203, 155, 150, 148]\n",
        "glass = [1044, 462, 325, 213, 118, 84, 79, 47]\n",
        "grid = [1227, 503, 245, 185, 164, 93, 59, 47]\n",
        "grid2 = [4, 4, 4, 2, 5, 5, 2, 5]\n",
        "\n",
        "for or_, gl, gr, gr2 in zip(orig, glass, grid, grid2):\n",
        "    print(f\"Glass: {(or_ - gl)/or_:.3f}, grid1: {(or_ - gr)/or_:.3f}, grid2: {(or_ - gr2)/or_:.3f}\")"
      ]
    }
  ],
  "metadata": {
    "colab": {
      "provenance": []
    },
    "kernelspec": {
      "display_name": ".cat_venv",
      "language": "python",
      "name": "python3"
    },
    "language_info": {
      "codemirror_mode": {
        "name": "ipython",
        "version": 3
      },
      "file_extension": ".py",
      "mimetype": "text/x-python",
      "name": "python",
      "nbconvert_exporter": "python",
      "pygments_lexer": "ipython3",
      "version": "3.9.7"
    }
  },
  "nbformat": 4,
  "nbformat_minor": 0
}
