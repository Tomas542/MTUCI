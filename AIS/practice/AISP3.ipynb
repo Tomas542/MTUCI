{
 "cells": [
  {
   "cell_type": "markdown",
   "metadata": {
    "id": "wwHZs5pbv5lw"
   },
   "source": [
    "# Практическая работа №3\n",
    "## по предмету \"Системы искусственного интеллекта\"\n",
    "### БВТ2101 Юдин Артём\n",
    "\n",
    "Целью практической работы является изучение методов регрессии.\n",
    "\n",
    "В данно работе вам необходимо:\n",
    "1. используя библиотеку sklearn, обучить линейную регрессию без использования регуляризации\n",
    "2. изучить работу класса Lasso для регуляризации, подобрать наилучший параметр для данного набора данных.\n",
    "3. изучить работу класса Ridge для регуляризации, подобрать наилучший параметр альфа для данного набора данных."
   ]
  },
  {
   "cell_type": "code",
   "execution_count": 1,
   "metadata": {
    "id": "EP_MhQGkw5sW"
   },
   "outputs": [
    {
     "data": {
      "text/html": [
       "<div>\n",
       "<style scoped>\n",
       "    .dataframe tbody tr th:only-of-type {\n",
       "        vertical-align: middle;\n",
       "    }\n",
       "\n",
       "    .dataframe tbody tr th {\n",
       "        vertical-align: top;\n",
       "    }\n",
       "\n",
       "    .dataframe thead th {\n",
       "        text-align: right;\n",
       "    }\n",
       "</style>\n",
       "<table border=\"1\" class=\"dataframe\">\n",
       "  <thead>\n",
       "    <tr style=\"text-align: right;\">\n",
       "      <th></th>\n",
       "      <th>brand</th>\n",
       "      <th>processor_brand</th>\n",
       "      <th>processor_name</th>\n",
       "      <th>processor_gnrtn</th>\n",
       "      <th>ram_gb</th>\n",
       "      <th>ram_type</th>\n",
       "      <th>ssd</th>\n",
       "      <th>hdd</th>\n",
       "      <th>os</th>\n",
       "      <th>os_bit</th>\n",
       "      <th>graphic_card_gb</th>\n",
       "      <th>weight</th>\n",
       "      <th>warranty</th>\n",
       "      <th>Touchscreen</th>\n",
       "      <th>msoffice</th>\n",
       "      <th>Price</th>\n",
       "      <th>rating</th>\n",
       "      <th>Number of Ratings</th>\n",
       "      <th>Number of Reviews</th>\n",
       "    </tr>\n",
       "  </thead>\n",
       "  <tbody>\n",
       "    <tr>\n",
       "      <th>411</th>\n",
       "      <td>ASUS</td>\n",
       "      <td>Intel</td>\n",
       "      <td>Core i5</td>\n",
       "      <td>11th</td>\n",
       "      <td>8 GB</td>\n",
       "      <td>DDR4</td>\n",
       "      <td>1024 GB</td>\n",
       "      <td>0 GB</td>\n",
       "      <td>Windows</td>\n",
       "      <td>64-bit</td>\n",
       "      <td>4 GB</td>\n",
       "      <td>Casual</td>\n",
       "      <td>No warranty</td>\n",
       "      <td>No</td>\n",
       "      <td>No</td>\n",
       "      <td>84500</td>\n",
       "      <td>4 stars</td>\n",
       "      <td>3</td>\n",
       "      <td>0</td>\n",
       "    </tr>\n",
       "    <tr>\n",
       "      <th>260</th>\n",
       "      <td>DELL</td>\n",
       "      <td>Intel</td>\n",
       "      <td>Core i5</td>\n",
       "      <td>10th</td>\n",
       "      <td>16 GB</td>\n",
       "      <td>DDR4</td>\n",
       "      <td>512 GB</td>\n",
       "      <td>0 GB</td>\n",
       "      <td>Windows</td>\n",
       "      <td>64-bit</td>\n",
       "      <td>4 GB</td>\n",
       "      <td>Casual</td>\n",
       "      <td>1 year</td>\n",
       "      <td>No</td>\n",
       "      <td>No</td>\n",
       "      <td>79990</td>\n",
       "      <td>3 stars</td>\n",
       "      <td>0</td>\n",
       "      <td>0</td>\n",
       "    </tr>\n",
       "    <tr>\n",
       "      <th>24</th>\n",
       "      <td>ASUS</td>\n",
       "      <td>Intel</td>\n",
       "      <td>Core i3</td>\n",
       "      <td>11th</td>\n",
       "      <td>4 GB</td>\n",
       "      <td>DDR4</td>\n",
       "      <td>256 GB</td>\n",
       "      <td>0 GB</td>\n",
       "      <td>Windows</td>\n",
       "      <td>64-bit</td>\n",
       "      <td>0 GB</td>\n",
       "      <td>ThinNlight</td>\n",
       "      <td>No warranty</td>\n",
       "      <td>No</td>\n",
       "      <td>No</td>\n",
       "      <td>34429</td>\n",
       "      <td>4 stars</td>\n",
       "      <td>37</td>\n",
       "      <td>6</td>\n",
       "    </tr>\n",
       "    <tr>\n",
       "      <th>22</th>\n",
       "      <td>HP</td>\n",
       "      <td>Intel</td>\n",
       "      <td>Core i3</td>\n",
       "      <td>7th</td>\n",
       "      <td>4 GB</td>\n",
       "      <td>DDR4</td>\n",
       "      <td>0 GB</td>\n",
       "      <td>1024 GB</td>\n",
       "      <td>Windows</td>\n",
       "      <td>64-bit</td>\n",
       "      <td>0 GB</td>\n",
       "      <td>Casual</td>\n",
       "      <td>No warranty</td>\n",
       "      <td>No</td>\n",
       "      <td>No</td>\n",
       "      <td>32955</td>\n",
       "      <td>4 stars</td>\n",
       "      <td>311</td>\n",
       "      <td>27</td>\n",
       "    </tr>\n",
       "    <tr>\n",
       "      <th>364</th>\n",
       "      <td>DELL</td>\n",
       "      <td>Intel</td>\n",
       "      <td>Core i5</td>\n",
       "      <td>11th</td>\n",
       "      <td>8 GB</td>\n",
       "      <td>DDR4</td>\n",
       "      <td>512 GB</td>\n",
       "      <td>0 GB</td>\n",
       "      <td>Windows</td>\n",
       "      <td>64-bit</td>\n",
       "      <td>2 GB</td>\n",
       "      <td>Casual</td>\n",
       "      <td>1 year</td>\n",
       "      <td>Yes</td>\n",
       "      <td>Yes</td>\n",
       "      <td>82990</td>\n",
       "      <td>4 stars</td>\n",
       "      <td>21</td>\n",
       "      <td>2</td>\n",
       "    </tr>\n",
       "  </tbody>\n",
       "</table>\n",
       "</div>"
      ],
      "text/plain": [
       "    brand processor_brand processor_name processor_gnrtn ram_gb ram_type  \\\n",
       "411  ASUS           Intel        Core i5            11th   8 GB     DDR4   \n",
       "260  DELL           Intel        Core i5            10th  16 GB     DDR4   \n",
       "24   ASUS           Intel        Core i3            11th   4 GB     DDR4   \n",
       "22     HP           Intel        Core i3             7th   4 GB     DDR4   \n",
       "364  DELL           Intel        Core i5            11th   8 GB     DDR4   \n",
       "\n",
       "         ssd      hdd       os  os_bit graphic_card_gb      weight  \\\n",
       "411  1024 GB     0 GB  Windows  64-bit            4 GB      Casual   \n",
       "260   512 GB     0 GB  Windows  64-bit            4 GB      Casual   \n",
       "24    256 GB     0 GB  Windows  64-bit            0 GB  ThinNlight   \n",
       "22      0 GB  1024 GB  Windows  64-bit            0 GB      Casual   \n",
       "364   512 GB     0 GB  Windows  64-bit            2 GB      Casual   \n",
       "\n",
       "        warranty Touchscreen msoffice  Price   rating  Number of Ratings  \\\n",
       "411  No warranty          No       No  84500  4 stars                  3   \n",
       "260       1 year          No       No  79990  3 stars                  0   \n",
       "24   No warranty          No       No  34429  4 stars                 37   \n",
       "22   No warranty          No       No  32955  4 stars                311   \n",
       "364       1 year         Yes      Yes  82990  4 stars                 21   \n",
       "\n",
       "     Number of Reviews  \n",
       "411                  0  \n",
       "260                  0  \n",
       "24                   6  \n",
       "22                  27  \n",
       "364                  2  "
      ]
     },
     "execution_count": 1,
     "metadata": {},
     "output_type": "execute_result"
    }
   ],
   "source": [
    "import numpy as np\n",
    "import pandas as pd\n",
    "import matplotlib.pyplot as plt\n",
    "\n",
    "from sklearn.metrics import root_mean_squared_error as rmse\n",
    "from sklearn.linear_model import LinearRegression, Lasso, Ridge\n",
    "from sklearn.preprocessing import StandardScaler, OneHotEncoder\n",
    "from sklearn.model_selection import train_test_split, GridSearchCV\n",
    "from sklearn.compose import ColumnTransformer\n",
    "from sklearn.pipeline import Pipeline\n",
    "\n",
    "import warnings\n",
    "warnings.filterwarnings(\"ignore\")\n",
    "\n",
    "df = pd.read_csv(\"../csv/AISP2.csv\")\n",
    "df.sample(5)"
   ]
  },
  {
   "cell_type": "code",
   "execution_count": 2,
   "metadata": {},
   "outputs": [],
   "source": [
    "df = pd.read_csv(\"../csv/AISP2.csv\")\n",
    "df = df.drop([\"Number of Reviews\", \"processor_brand\",], axis=\"columns\")\n",
    "\n",
    "cat_cols = [\n",
    "    \"brand\",\n",
    "    'processor_name',\n",
    "    'processor_gnrtn',\n",
    "    'ram_gb',\n",
    "    'ram_type',\n",
    "    'ssd',\n",
    "    'hdd',\n",
    "    'os',\n",
    "    'os_bit',\n",
    "    'graphic_card_gb',\n",
    "    'weight',\n",
    "    'warranty',\n",
    "    'Touchscreen',\n",
    "    'msoffice',\n",
    "    'rating'\n",
    "]\n",
    "\n",
    "num_cols = ['Number of Ratings']\n",
    "target_col = ['Price']\n",
    "\n",
    "X_train, X_test, y_train, y_test = train_test_split(df.drop(target_col, axis=\"columns\"),\n",
    "                                                    df[target_col],\n",
    "                                                    test_size=0.1,\n",
    "                                                    shuffle=True,\n",
    "                                                    random_state=42)"
   ]
  },
  {
   "cell_type": "code",
   "execution_count": 3,
   "metadata": {},
   "outputs": [],
   "source": [
    "cat_trans = OneHotEncoder(handle_unknown=\"ignore\", drop=\"first\")\n",
    "num_trans = StandardScaler()\n",
    "\n",
    "preprocessor = ColumnTransformer(\n",
    "    transformers=[\n",
    "        ('num', num_trans, num_cols),\n",
    "        ('cat2', cat_trans, cat_cols),\n",
    "    ]\n",
    ")\n",
    "\n",
    "rmse_reg = [1e+10] * 3\n",
    "alpha = [-1] * 2\n",
    "\n",
    "alphas = np.arange(0, 5, 0.1)\n",
    "param_grid = {\"regr__alpha\": alphas}"
   ]
  },
  {
   "cell_type": "code",
   "execution_count": 4,
   "metadata": {},
   "outputs": [
    {
     "data": {
      "text/plain": [
       "23059.743978397513"
      ]
     },
     "execution_count": 4,
     "metadata": {},
     "output_type": "execute_result"
    }
   ],
   "source": [
    "lin_reg_sk = LinearRegression()\n",
    "lin_reg_sk.fit(preprocessor.fit_transform(X_train), y_train)\n",
    "rmse_reg[0] = rmse(y_test, lin_reg_sk.predict(preprocessor.transform(X_test)))\n",
    "rmse_reg[0]"
   ]
  },
  {
   "cell_type": "code",
   "execution_count": 5,
   "metadata": {},
   "outputs": [
    {
     "name": "stdout",
     "output_type": "stream",
     "text": [
      "GreadSearch RMSE Lasso: 22732.726005559452\n",
      "Best alpha param from GridSearch Lasso: 4.9\n"
     ]
    }
   ],
   "source": [
    "model_lasso = Lasso()\n",
    "pipeline_lasso = Pipeline([(\"preprocessor\", preprocessor), (\"regr\", model_lasso)])\n",
    "lasso_grid = GridSearchCV(pipeline_lasso, param_grid=param_grid, cv=5, scoring=\"neg_root_mean_squared_error\")\n",
    "lasso_grid.fit(X_train, y_train)\n",
    "\n",
    "rmse_reg[1] = rmse(y_test, lasso_grid.best_estimator_.predict(X_test))\n",
    "alpha[0] = lasso_grid.best_params_[\"regr__alpha\"]\n",
    "\n",
    "print(\"GreadSearch RMSE Lasso:\", rmse_reg[1])\n",
    "print(\"Best alpha param from GridSearch Lasso:\", alpha[0])\n"
   ]
  },
  {
   "cell_type": "code",
   "execution_count": 6,
   "metadata": {},
   "outputs": [
    {
     "name": "stdout",
     "output_type": "stream",
     "text": [
      "GreadSearch RMSE Ridge: 22717.682343637225\n",
      "Best alpha param from GridSearch Ridge: 0.6000000000000001\n"
     ]
    }
   ],
   "source": [
    "model_ridge = Ridge()\n",
    "pipeline_ridge = Pipeline([(\"preprocessor\", preprocessor), (\"regr\", model_ridge)])\n",
    "ridge_grid = GridSearchCV(pipeline_ridge, param_grid=param_grid, cv=5, scoring=\"neg_root_mean_squared_error\")\n",
    "ridge_grid.fit(X_train, y_train)\n",
    "\n",
    "rmse_reg[2] = rmse(y_test, ridge_grid.best_estimator_.predict(X_test))\n",
    "alpha[1] = ridge_grid.best_params_[\"regr__alpha\"]\n",
    "\n",
    "print(\"GreadSearch RMSE Ridge:\", rmse_reg[2])\n",
    "print(\"Best alpha param from GridSearch Ridge:\", alpha[1])"
   ]
  },
  {
   "cell_type": "code",
   "execution_count": 7,
   "metadata": {},
   "outputs": [
    {
     "data": {
      "image/png": "[encoded data removed]",
      "text/plain": [
       "<Figure size 1500x400 with 2 Axes>"
      ]
     },
     "metadata": {},
     "output_type": "display_data"
    }
   ],
   "source": [
    "fig, ax = plt.subplots(1, 2, figsize=(15, 4))\n",
    "\n",
    "ax[0].plot(rmse_reg)\n",
    "ax[0].set_ylim((0, 24_000))\n",
    "ax[0].grid()\n",
    "\n",
    "ax[1].plot(rmse_reg)\n",
    "ax[1].grid()\n",
    "plt.show()"
   ]
  }
 ],
 "metadata": {
  "colab": {
   "provenance": []
  },
  "kernelspec": {
   "display_name": ".venv",
   "language": "python",
   "name": "python3"
  },
  "language_info": {
   "codemirror_mode": {
    "name": "ipython",
    "version": 3
   },
   "file_extension": ".py",
   "mimetype": "text/x-python",
   "name": "python",
   "nbconvert_exporter": "python",
   "pygments_lexer": "ipython3",
   "version": "3.9.7"
  }
 },
 "nbformat": 4,
 "nbformat_minor": 0
}
