{
 "cells": [
  {
   "cell_type": "code",
   "execution_count": 1,
   "metadata": {},
   "outputs": [],
   "source": [
    "import cv2 as cv\n",
    "import numpy as np\n",
    "import matplotlib.pyplot as plt\n",
    "\n",
    "path = \"..\\\\img\\\\photo_2023-07-31_23-02-41.jpg\""
   ]
  },
  {
   "cell_type": "markdown",
   "metadata": {},
   "source": [
    "# [Basic Operations on Images](https://docs.opencv.org/4.10.0/d3/df2/tutorial_py_basic_ops.html)"
   ]
  },
  {
   "cell_type": "code",
   "execution_count": 2,
   "metadata": {},
   "outputs": [],
   "source": [
    "img = cv.imread(path)\n",
    "assert img is not None, \"file could not be read, check with os.path.exists()\""
   ]
  },
  {
   "cell_type": "code",
   "execution_count": 3,
   "metadata": {},
   "outputs": [
    {
     "name": "stdout",
     "output_type": "stream",
     "text": [
      "[197 214 233]\n",
      "197\n",
      "[255 255 255]\n"
     ]
    }
   ],
   "source": [
    "px = img[100, 100]\n",
    "print(px)\n",
    "\n",
    "blue = img[100, 100, 0]\n",
    "print(blue)\n",
    "\n",
    "img[100, 100] = [255, 255, 255]\n",
    "print(img[100, 100])"
   ]
  },
  {
   "cell_type": "code",
   "execution_count": 4,
   "metadata": {},
   "outputs": [
    {
     "data": {
      "text/plain": [
       "238"
      ]
     },
     "execution_count": 4,
     "metadata": {},
     "output_type": "execute_result"
    }
   ],
   "source": [
    "img.item(10, 10, 2)\n"
   ]
  },
  {
   "cell_type": "code",
   "execution_count": 5,
   "metadata": {},
   "outputs": [
    {
     "data": {
      "text/plain": [
       "100"
      ]
     },
     "execution_count": 5,
     "metadata": {},
     "output_type": "execute_result"
    }
   ],
   "source": [
    "img[(10, 10, 2)] = 100\n",
    "img.item(10, 10, 2)"
   ]
  },
  {
   "cell_type": "code",
   "execution_count": 6,
   "metadata": {},
   "outputs": [
    {
     "name": "stdout",
     "output_type": "stream",
     "text": [
      "(980, 802, 3)\n",
      "2357880\n",
      "uint8\n"
     ]
    }
   ],
   "source": [
    "print(img.shape)\n",
    "print(img.size)\n",
    "print(img.dtype)"
   ]
  },
  {
   "cell_type": "code",
   "execution_count": 7,
   "metadata": {},
   "outputs": [],
   "source": [
    "ball = img[280:340, 330:390]\n",
    "img[273:333, 100:160] = ball\n",
    "cv.imshow(\"Display window\", img)\n",
    "k = cv.waitKey(0)"
   ]
  },
  {
   "cell_type": "code",
   "execution_count": 8,
   "metadata": {},
   "outputs": [],
   "source": [
    "b, g, r = cv.split(img)\n",
    "img = cv.merge((b, g, r))\n",
    "\n",
    "# b = img[:,:,0]"
   ]
  },
  {
   "cell_type": "code",
   "execution_count": null,
   "metadata": {},
   "outputs": [],
   "source": [
    "BLUE = [255, 0, 0]\n",
    "\n",
    "img1 = cv.imread(path)\n",
    "assert img1 is not None, \"file could not be read, check with os.path.exists()\"\n",
    "\n",
    "replicate = cv.copyMakeBorder(img1, 50, 50, 50, 50, cv.BORDER_REPLICATE)\n",
    "reflect = cv.copyMakeBorder(img1, 50, 50, 50, 50, cv.BORDER_REFLECT)\n",
    "reflect101 = cv.copyMakeBorder(img1, 50, 50, 50, 50, cv.BORDER_REFLECT_101)\n",
    "wrap = cv.copyMakeBorder(img1, 50, 50, 50, 50, cv.BORDER_WRAP)\n",
    "constant = cv.copyMakeBorder(img1, 50, 50, 50, 50, cv.BORDER_CONSTANT, value=BLUE)\n",
    "\n",
    "plt.subplot(231), plt.imshow(img1, \"gray\"), plt.title(\"ORIGINAL\")\n",
    "plt.subplot(232), plt.imshow(replicate, \"gray\"), plt.title(\"REPLICATE\")\n",
    "plt.subplot(233), plt.imshow(reflect, \"gray\"), plt.title(\"REFLECT\")\n",
    "plt.subplot(234), plt.imshow(reflect101, \"gray\"), plt.title(\"REFLECT_101\")\n",
    "plt.subplot(235), plt.imshow(wrap, \"gray\"), plt.title(\"WRAP\")\n",
    "plt.subplot(236), plt.imshow(constant, \"gray\"), plt.title(\"CONSTANT\")\n",
    "\n",
    "plt.show()"
   ]
  },
  {
   "cell_type": "markdown",
   "metadata": {},
   "source": [
    "# [Arithmetic Operations on Images](https://docs.opencv.org/4.10.0/d0/d86/tutorial_py_image_arithmetics.html)"
   ]
  },
  {
   "cell_type": "code",
   "execution_count": 10,
   "metadata": {},
   "outputs": [
    {
     "name": "stdout",
     "output_type": "stream",
     "text": [
      "[[260.]\n",
      " [  0.]\n",
      " [  0.]\n",
      " [  0.]]\n",
      "[4]\n"
     ]
    }
   ],
   "source": [
    "x = np.uint8([250])\n",
    "y = np.uint8([10])\n",
    "\n",
    "print(cv.add(x, y))  # 250+10 = 260 => 255\n",
    "print(x + y)  # 250+10 = 260 % 256 = 4"
   ]
  },
  {
   "cell_type": "code",
   "execution_count": 11,
   "metadata": {},
   "outputs": [],
   "source": [
    "img1 = cv.imread(path)\n",
    "img2 = cv.imread(\"..\\\\img\\\\sponge.jpg\")\n",
    "assert img1 is not None, \"file could not be read, check with os.path.exists()\"\n",
    "assert img2 is not None, \"file could not be read, check with os.path.exists()\"\n",
    "\n",
    "\n",
    "down_width, down_height, _ = img2.shape\n",
    "down_points = (down_width, down_height)\n",
    "img1 = cv.resize(img1, down_points, interpolation=cv.INTER_LINEAR)\n",
    "\n",
    "dst = cv.addWeighted(img1, 0.7, img2, 0.3, 0)\n",
    "\n",
    "cv.imshow(\"dst\", dst)\n",
    "cv.waitKey(0)\n",
    "cv.destroyAllWindows()"
   ]
  },
  {
   "cell_type": "code",
   "execution_count": 13,
   "metadata": {},
   "outputs": [],
   "source": [
    "img1 = cv.imread(path)\n",
    "img2 = cv.imread(\"..\\\\img\\\\sponge.jpg\")\n",
    "assert img1 is not None, \"file could not be read, check with os.path.exists()\"\n",
    "assert img2 is not None, \"file could not be read, check with os.path.exists()\"\n",
    "\n",
    "down_width, down_height, _ = img2.shape\n",
    "down_points = (down_width, down_height)\n",
    "img1 = cv.resize(img1, down_points, interpolation=cv.INTER_LINEAR)\n",
    "\n",
    "# I want to put logo on top-left corner, So I create a ROI\n",
    "rows, cols, channels = img2.shape\n",
    "roi = img1[0:rows, 0:cols]\n",
    "\n",
    "# Now create a mask of logo and create its inverse mask also\n",
    "img2gray = cv.cvtColor(img2, cv.COLOR_BGR2GRAY)\n",
    "ret, mask = cv.threshold(img2gray, 100, 255, cv.THRESH_BINARY)\n",
    "mask_inv = cv.bitwise_not(mask)\n",
    "\n",
    "# Now black-out the area of logo in ROI\n",
    "img1_bg = cv.bitwise_and(roi, roi, mask=mask_inv)\n",
    "\n",
    "# Take only region of logo from logo image.\n",
    "img2_fg = cv.bitwise_and(img2, img2, mask=mask)\n",
    "\n",
    "# Put logo in ROI and modify the main image\n",
    "dst = cv.add(img1_bg, img2_fg)\n",
    "img1[0:rows, 0:cols] = dst\n",
    "\n",
    "cv.imshow(\"res\", img1)\n",
    "cv.waitKey(0)\n",
    "cv.destroyAllWindows()"
   ]
  },
  {
   "cell_type": "markdown",
   "metadata": {},
   "source": [
    "# [Geometric Transformations of Images](https://docs.opencv.org/4.10.0/da/d6e/tutorial_py_geometric_transformations.html)"
   ]
  },
  {
   "cell_type": "code",
   "execution_count": null,
   "metadata": {},
   "outputs": [],
   "source": [
    "img = cv.imread(path)\n",
    "assert img1 is not None, \"file could not be read, check with os.path.exists()\"\n",
    "\n",
    "res = cv.resize(img, None, fx=2, fy=2, interpolation=cv.INTER_CUBIC)\n",
    "\n",
    "# OR\n",
    "\n",
    "# height, width = img.shape[:2]\n",
    "# res = cv.resize(img,(2*width, 2*height), interpolation = cv.INTER_CUBIC)\n",
    "fig, ax = plt.subplots(nrows=1, ncols=2)\n",
    "ax[0].imshow(img)\n",
    "ax[1].imshow(res)"
   ]
  },
  {
   "cell_type": "code",
   "execution_count": 15,
   "metadata": {},
   "outputs": [],
   "source": [
    "img = cv.imread(path, cv.IMREAD_GRAYSCALE)\n",
    "assert img is not None, \"file could not be read, check with os.path.exists()\"\n",
    "rows, cols = img.shape\n",
    "\n",
    "M = np.float32([[1, 0, 100], [0, 1, 50]])\n",
    "dst = cv.warpAffine(img, M, (cols, rows))\n",
    "\n",
    "cv.imshow(\"img\", dst)\n",
    "cv.waitKey(0)\n",
    "cv.destroyAllWindows()"
   ]
  },
  {
   "cell_type": "code",
   "execution_count": null,
   "metadata": {},
   "outputs": [],
   "source": [
    "img = cv.imread(path, cv.IMREAD_GRAYSCALE)\n",
    "assert img is not None, \"file could not be read, check with os.path.exists()\"\n",
    "rows, cols = img.shape\n",
    "\n",
    "# cols-1 and rows-1 are the coordinate limits.\n",
    "M = cv.getRotationMatrix2D(((cols - 1) / 2.0, (rows - 1) / 2.0), 90, 1)\n",
    "dst = cv.warpAffine(img, M, (cols, rows))\n",
    "\n",
    "fig, ax = plt.subplots(nrows=1, ncols=2)\n",
    "ax[0].imshow(img, cmap=\"gray\")\n",
    "ax[1].imshow(dst, cmap=\"gray\")"
   ]
  },
  {
   "cell_type": "code",
   "execution_count": null,
   "metadata": {},
   "outputs": [],
   "source": [
    "img = cv.imread(path)\n",
    "assert img is not None, \"file could not be read, check with os.path.exists()\"\n",
    "rows, cols, ch = img.shape\n",
    "\n",
    "pts1 = np.float32([[50, 50], [200, 50], [50, 200]])\n",
    "pts2 = np.float32([[10, 100], [200, 50], [100, 250]])\n",
    "\n",
    "M = cv.getAffineTransform(pts1, pts2)\n",
    "\n",
    "dst = cv.warpAffine(img, M, (cols, rows))\n",
    "\n",
    "plt.subplot(121), plt.imshow(img), plt.title(\"Input\")\n",
    "plt.subplot(122), plt.imshow(dst), plt.title(\"Output\")\n",
    "plt.show()"
   ]
  },
  {
   "cell_type": "code",
   "execution_count": null,
   "metadata": {},
   "outputs": [],
   "source": [
    "img = cv.imread(path)\n",
    "assert img is not None, \"file could not be read, check with os.path.exists()\"\n",
    "rows, cols, ch = img.shape\n",
    "\n",
    "pts1 = np.float32([[56, 65], [368, 52], [28, 387], [389, 390]])\n",
    "pts2 = np.float32([[0, 0], [300, 0], [0, 300], [300, 300]])\n",
    "\n",
    "M = cv.getPerspectiveTransform(pts1, pts2)\n",
    "\n",
    "dst = cv.warpPerspective(img, M, (300, 300))\n",
    "\n",
    "plt.subplot(121), plt.imshow(img), plt.title(\"Input\")\n",
    "plt.subplot(122), plt.imshow(dst), plt.title(\"Output\")\n",
    "plt.show()"
   ]
  }
 ],
 "metadata": {
  "kernelspec": {
   "display_name": ".venv",
   "language": "python",
   "name": "python3"
  },
  "language_info": {
   "codemirror_mode": {
    "name": "ipython",
    "version": 3
   },
   "file_extension": ".py",
   "mimetype": "text/x-python",
   "name": "python",
   "nbconvert_exporter": "python",
   "pygments_lexer": "ipython3",
   "version": "3.9.7"
  }
 },
 "nbformat": 4,
 "nbformat_minor": 2
}
