{
 "cells": [
  {
   "cell_type": "markdown",
   "metadata": {},
   "source": [
    "# Artyom Iudin BVT2101"
   ]
  },
  {
   "cell_type": "code",
   "execution_count": 45,
   "metadata": {},
   "outputs": [],
   "source": [
    "from tensorflow import keras\n",
    "import tensorflow as tf\n",
    "import numpy as np\n",
    "import matplotlib.pyplot as plt\n",
    "\n",
    "import itertools\n",
    "import random\n",
    "import warnings\n",
    "\n",
    "tf.get_logger().setLevel('INFO')\n",
    "warnings.filterwarnings('ignore')"
   ]
  },
  {
   "cell_type": "markdown",
   "metadata": {},
   "source": [
    "## (a and b) or (a and c)"
   ]
  },
  {
   "cell_type": "markdown",
   "metadata": {},
   "source": [
    "Необходимо реализовать нейронную сеть вычисляющую результат заданной логической операции. Затем реализовать функции, которые будут симулировать работу построенной модели. Функции должны принимать тензор входных данных и список весов. Должно быть реализовано 2 функции:\n",
    "\n",
    "Функция, в которой все операции реализованы как поэлементные операции над тензорами\n",
    "\n",
    "Функция, в которой все операции реализованы с использованием операций над тензорами из NumPy\n",
    "\n",
    "Для проверки корректности работы функций необходимо:\n",
    "- Инициализировать модель и получить из нее веса \n",
    "- Прогнать датасет через не обученную модель и реализованные 2 функции. Сравнить результат.\n",
    "- Обучить модель и получить веса после обучения\n",
    "- Прогнать датасет через обученную модель и реализованные 2 функции. Сравнить результат.\n",
    "\n",
    "Примечание: так как множество всех наблюдений ограничен, то обучение проводить можно на всем датасете без контроля."
   ]
  },
  {
   "cell_type": "code",
   "execution_count": 46,
   "metadata": {},
   "outputs": [
    {
     "data": {
      "text/plain": [
       "(array([[0, 1, 1],\n",
       "        [0, 0, 0],\n",
       "        [0, 1, 0],\n",
       "        [0, 1, 1],\n",
       "        [0, 0, 1]]),\n",
       " array([False, False, False, False, False]))"
      ]
     },
     "execution_count": 46,
     "metadata": {},
     "output_type": "execute_result"
    }
   ],
   "source": [
    "random.seed(42)\n",
    "np.random.seed(42)\n",
    "tf.random.set_seed(42)\n",
    "\n",
    "n_vars = 3\n",
    "values = [0, 1]\n",
    "\n",
    "# create all possible combinations\n",
    "combinations = np.array(list(itertools.product(values, repeat=n_vars)))\n",
    "\n",
    "# repeat them to get data\n",
    "x = np.repeat(combinations, 10, axis=0)\n",
    "\n",
    "# compute labels\n",
    "y = np.logical_or(np.logical_and(x[:, 0], x[:, 1]), np.logical_and(x[:, 0], x[:, 2]))\n",
    "\n",
    "# shuffle them\n",
    "order = np.random.permutation(x.shape[0])\n",
    "x = x[order]\n",
    "y = y[order]\n",
    "\n",
    "x[:5], y[:5]"
   ]
  },
  {
   "cell_type": "code",
   "execution_count": 47,
   "metadata": {},
   "outputs": [
    {
     "data": {
      "text/plain": [
       "[array([[ 0.8773805 ],\n",
       "        [ 0.3983569 ],\n",
       "        [-0.34608656]], dtype=float32),\n",
       " array([0.], dtype=float32)]"
      ]
     },
     "execution_count": 47,
     "metadata": {},
     "output_type": "execute_result"
    }
   ],
   "source": [
    "model = keras.models.Sequential()\n",
    "model.add(keras.layers.Dense(1, activation='sigmoid', input_shape=(3,)))\n",
    "\n",
    "# we need lr large, then default, so initialize model\n",
    "optimizer = keras.optimizers.Adam(learning_rate=1e-1)\n",
    "model.compile(loss='binary_crossentropy', optimizer=optimizer, metrics=['accuracy'])\n",
    "\n",
    "# weights and bias before training\n",
    "wandb_bt = model.get_weights().copy()\n",
    "wandb_bt"
   ]
  },
  {
   "cell_type": "code",
   "execution_count": 48,
   "metadata": {},
   "outputs": [
    {
     "name": "stdout",
     "output_type": "stream",
     "text": [
      "Scratch 0.625\n",
      "NumPy 0.625\n",
      "Keras 0.625\n"
     ]
    }
   ],
   "source": [
    "def scratch(wandb, x):\n",
    "    # iterate over features' rows, multiple values on weights, add bias\n",
    "    # why greater than 0 - look at sigmoid plot\n",
    "    return [\n",
    "        (sum(xi * wi for xi, wi in zip(x[i], wandb[0][:, 0])) + wandb[1][0]) > 0 \n",
    "        for i in range(len(x))\n",
    "    ]\n",
    "\n",
    "def np_fn(wandb, x):\n",
    "    # the same as scratch\n",
    "    return (x @ wandb[0] + wandb[1]) > 0\n",
    "\n",
    "sc_predictions = scratch(wandb_bt, x)\n",
    "\n",
    "# calculate how many times we predicted and devide by number of labels\n",
    "print(\"Scratch\", sum(sc_predictions[i] == y[i] for i in range(len(sc_predictions))) / y.shape[0])\n",
    "print(\"NumPy\", np.sum(np_fn(wandb_bt, x)[:, 0] == y) / y.shape[0])\n",
    "\n",
    "                                 # no logging         cause sigmoid\n",
    "print(\"Keras\", ((model.predict(x, verbose=False)[:, 0] > 0.5) == y).sum() / y.shape[0])\n"
   ]
  },
  {
   "cell_type": "code",
   "execution_count": 49,
   "metadata": {},
   "outputs": [],
   "source": [
    "# store metrics for plot\n",
    "h = model.fit(x, y, epochs=45, verbose=False)\n",
    "\n",
    "# weights and bias after training\n",
    "wandb_at = model.get_weights().copy()"
   ]
  },
  {
   "cell_type": "code",
   "execution_count": 50,
   "metadata": {},
   "outputs": [
    {
     "name": "stdout",
     "output_type": "stream",
     "text": [
      "Scratch 1.0\n",
      "NumPy 1.0\n",
      "Keras 1.0\n"
     ]
    }
   ],
   "source": [
    "sc_predictions = scratch(wandb_at, x)\n",
    "\n",
    "print(\"Scratch\", sum(sc_predictions[i] == y[i] for i in range(len(sc_predictions))) / y.shape[0])\n",
    "print(\"NumPy\", np.sum(np_fn(wandb_at, x)[:, 0] == y) / y.shape[0])\n",
    "print(\"Keras\", ((model.predict(x, verbose=False)[:, 0] > 0.5) == y).sum() / y.shape[0])"
   ]
  },
  {
   "cell_type": "code",
   "execution_count": 51,
   "metadata": {},
   "outputs": [
    {
     "data": {
      "image/png": "[encoded data removed]",
      "text/plain": [
       "<Figure size 1300x300 with 2 Axes>"
      ]
     },
     "metadata": {},
     "output_type": "display_data"
    }
   ],
   "source": [
    "fig, ax = plt.subplots(1, 2, figsize=(13, 3))\n",
    "\n",
    "ax[0].plot(h.history[\"accuracy\"])\n",
    "ax[0].set_title(\"Accuracy\")\n",
    "\n",
    "ax[1].plot(h.history[\"loss\"])\n",
    "ax[1].set_title(\"Loss\")\n",
    "\n",
    "plt.show()"
   ]
  }
 ],
 "metadata": {
  "kernelspec": {
   "display_name": ".venv",
   "language": "python",
   "name": "python3"
  },
  "language_info": {
   "codemirror_mode": {
    "name": "ipython",
    "version": 3
   },
   "file_extension": ".py",
   "mimetype": "text/x-python",
   "name": "python",
   "nbconvert_exporter": "python",
   "pygments_lexer": "ipython3",
   "version": "3.9.7"
  }
 },
 "nbformat": 4,
 "nbformat_minor": 2
}
