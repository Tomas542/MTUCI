{
 "cells": [
  {
   "cell_type": "markdown",
   "metadata": {},
   "source": [
    "# Artyom Iudin BVT2101"
   ]
  },
  {
   "cell_type": "code",
   "execution_count": 58,
   "metadata": {},
   "outputs": [
    {
     "data": {
      "text/plain": [
       "3"
      ]
     },
     "execution_count": 58,
     "metadata": {},
     "output_type": "execute_result"
    }
   ],
   "source": [
    "from collections import Counter\n",
    "from typing import Union\n",
    "\n",
    "\n",
    "def vowel(s: str):\n",
    "    c = Counter(s)\n",
    "    vowels = \"aeiou\"\n",
    "    ans = sum(c[char] for char in vowels)\n",
    "    return ans\n",
    "\n",
    "s = \"sadasfdad\"\n",
    "vowel(s)\n"
   ]
  },
  {
   "cell_type": "code",
   "execution_count": 10,
   "metadata": {},
   "outputs": [
    {
     "data": {
      "text/plain": [
       "True"
      ]
     },
     "execution_count": 10,
     "metadata": {},
     "output_type": "execute_result"
    }
   ],
   "source": [
    "def sec(s: str) -> bool:\n",
    "    s_set = set(s)\n",
    "    return len(s) == len(s_set)\n",
    "\n",
    "\n",
    "s=\"adsfg\"\n",
    "sec(s)"
   ]
  },
  {
   "cell_type": "code",
   "execution_count": 17,
   "metadata": {},
   "outputs": [
    {
     "name": "stdout",
     "output_type": "stream",
     "text": [
      "1\n"
     ]
    }
   ],
   "source": [
    "def third(n: int) -> None:\n",
    "    a = sum(1 for c in bin(n)[2:] if c == \"1\")\n",
    "    print(a)\n",
    "\n",
    "third(2)"
   ]
  },
  {
   "cell_type": "code",
   "execution_count": 22,
   "metadata": {},
   "outputs": [
    {
     "data": {
      "text/plain": [
       "4"
      ]
     },
     "execution_count": 22,
     "metadata": {},
     "output_type": "execute_result"
    }
   ],
   "source": [
    "def forth(n: int) -> int:\n",
    "    n = str(n)\n",
    "    counter = 0\n",
    "    while len(n) > 1:\n",
    "        counter += 1\n",
    "        curr = 1\n",
    "        for c in n:\n",
    "            curr *= int(c)\n",
    "        n = str(curr)\n",
    "    return counter\n",
    "\n",
    "forth(999)\n",
    "        "
   ]
  },
  {
   "cell_type": "code",
   "execution_count": 23,
   "metadata": {},
   "outputs": [
    {
     "data": {
      "text/plain": [
       "9.0"
      ]
     },
     "execution_count": 23,
     "metadata": {},
     "output_type": "execute_result"
    }
   ],
   "source": [
    "def fifth(vec1: list[Union[float, int]], \n",
    "          vec2: list[Union[float, int]]) -> float:\n",
    "    diff = sum((v1 - v2) ** 2 for v1, v2 in zip(vec1, vec2)) / len(vec1)\n",
    "\n",
    "    return diff ** (0.5)\n",
    "\n",
    "fifth([1,2,3], [4,5,6])"
   ]
  },
  {
   "cell_type": "code",
   "execution_count": 24,
   "metadata": {},
   "outputs": [
    {
     "name": "stdout",
     "output_type": "stream",
     "text": [
      "2.0 0.816496580927726\n"
     ]
    }
   ],
   "source": [
    "def sixth(foo: list[int]) -> None:\n",
    "    mat = sum(foo) / len(foo)\n",
    "    sko = (sum((xi - mat)**2 for xi in foo) / len(foo)) ** (0.5)\n",
    "    print(mat, sko)\n",
    "\n",
    "\n",
    "sixth([1,2,3])\n"
   ]
  },
  {
   "cell_type": "code",
   "execution_count": 1,
   "metadata": {},
   "outputs": [
    {
     "data": {
      "text/plain": [
       "'(2**5)(5)(7**2)(11)'"
      ]
     },
     "execution_count": 1,
     "metadata": {},
     "output_type": "execute_result"
    }
   ],
   "source": [
    "def seventh(n: int) -> str:\n",
    "    i = 2\n",
    "    d = {}\n",
    "    while i * i <= n:\n",
    "        if n % i:\n",
    "            i += 1\n",
    "        else:\n",
    "            n //= i\n",
    "            d[i] = d.get(i, 0) + 1\n",
    "    if n > 1:\n",
    "        d[n] = d.get(n, 0) + 1\n",
    "    return '(' + ''.join(f'{k}**{v})(' if v > 1 else f'{k})(' for k,v in d.items())[:-1]\n",
    "\n",
    "seventh(86240)\n"
   ]
  },
  {
   "cell_type": "code",
   "execution_count": 39,
   "metadata": {},
   "outputs": [
    {
     "data": {
      "text/plain": [
       "\"net_add='192.128.0.122', broadcast='192.128.255.250'\""
      ]
     },
     "execution_count": 39,
     "metadata": {},
     "output_type": "execute_result"
    }
   ],
   "source": [
    "def eigth(ip: str, mask: str) -> str:\n",
    "    net_add = \".\".join(str(int(a) & int(b)) for a, b in zip(ip.split('.'), mask.split('.')))\n",
    "    reverse_mask = \".\".join(str(~int(m)+256) for m in mask.split('.'))\n",
    "    broadcast = '.'.join(str(int(n) ^ int(m)) for n, m in zip(net_add.split('.'), reverse_mask.split('.')))\n",
    "    return f\"{net_add=}, {broadcast=}\" \n",
    "\n",
    "eigth(\"192.128.199.122\", \"255.255.0.127\")"
   ]
  },
  {
   "cell_type": "code",
   "execution_count": 41,
   "metadata": {},
   "outputs": [
    {
     "data": {
      "text/plain": [
       "False"
      ]
     },
     "execution_count": 41,
     "metadata": {},
     "output_type": "execute_result"
    }
   ],
   "source": [
    "def ninth(n: int) -> Union[int, str]:\n",
    "    curr = 0\n",
    "    last = 1\n",
    "    while curr < n:\n",
    "        curr += last * last\n",
    "        last += 1\n",
    "    \n",
    "    return last if curr == n else \"It's Impossible\"\n",
    "\n",
    "ninth(6)"
   ]
  },
  {
   "cell_type": "code",
   "execution_count": 56,
   "metadata": {},
   "outputs": [
    {
     "data": {
      "text/plain": [
       "False"
      ]
     },
     "execution_count": 56,
     "metadata": {},
     "output_type": "execute_result"
    }
   ],
   "source": [
    "def tenth(n: int) -> bool:\n",
    "    n = list(map(int, str(n)))\n",
    "    N = len(n)\n",
    "\n",
    "    if N % 2 == 0:\n",
    "        return sum(n[:N//2-1]) == sum(n[N//2+1:])\n",
    "    else:\n",
    "        return sum(n[:N//2]) == sum(n[N//2+1:])\n",
    "    \n",
    "\n",
    "tenth(123456 )"
   ]
  },
  {
   "cell_type": "code",
   "execution_count": 59,
   "metadata": {},
   "outputs": [
    {
     "data": {
      "text/plain": [
       "([['a', 1, 2], ['b', 5, 6], ['c', 9, 10]],\n",
       " [['a', 3, 4], ['b', 7, 8], ['c', 11, 12]])"
      ]
     },
     "execution_count": 59,
     "metadata": {},
     "output_type": "execute_result"
    }
   ],
   "source": [
    "def eleventh(M: list[list[Union[str, int]]], r: float) -> tuple[list[list[Union[str, int]]]]:\n",
    "    d = {}\n",
    "    for i, (label, *_) in enumerate(M):\n",
    "        d[label] = d.get(label,[])+[i]\n",
    "    mas_new=[[],[]]\n",
    "    for label,row in d.items():\n",
    "        l1 = int(len(row)*r)\n",
    "        for i,j in enumerate(row):\n",
    "            mas_new[i>=l1].append(M[j])\n",
    "    return mas_new[0],mas_new[1]\n",
    "\n",
    "\n",
    "eleventh([['a', 1, 2],\n",
    "          ['a', 3, 4],\n",
    "          ['b', 5, 6],\n",
    "          ['b', 7, 8],\n",
    "          ['c', 9, 10],\n",
    "          ['c', 11, 12]], 0.5)"
   ]
  }
 ],
 "metadata": {
  "kernelspec": {
   "display_name": ".venv",
   "language": "python",
   "name": "python3"
  },
  "language_info": {
   "codemirror_mode": {
    "name": "ipython",
    "version": 3
   },
   "file_extension": ".py",
   "mimetype": "text/x-python",
   "name": "python",
   "nbconvert_exporter": "python",
   "pygments_lexer": "ipython3",
   "version": "3.9.7"
  }
 },
 "nbformat": 4,
 "nbformat_minor": 2
}
