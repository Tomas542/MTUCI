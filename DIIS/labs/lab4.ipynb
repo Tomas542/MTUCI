{
 "cells": [
  {
   "cell_type": "code",
   "execution_count": 1,
   "metadata": {},
   "outputs": [],
   "source": [
    "# nn\n",
    "import jax\n",
    "from jax import numpy as jnp\n",
    "from flax import nnx\n",
    "import optax\n",
    "from tensorflow import keras\n",
    "\n",
    "# type annotations and functions\n",
    "from functools import partial\n",
    "import typing as tp\n",
    "import math\n",
    "import chex\n",
    "\n",
    "# data manipulatin and visualization\n",
    "import numpy as np\n",
    "import matplotlib.pyplot as plt\n",
    "from scipy.ndimage import center_of_mass\n",
    "import cv2\n",
    "\n",
    "from utils import (\n",
    "    _init_metrics_hisory,\n",
    "    Accuracy,\n",
    "    MLP,\n",
    "    batch\n",
    ")"
   ]
  },
  {
   "cell_type": "code",
   "execution_count": 2,
   "metadata": {},
   "outputs": [],
   "source": [
    "mnist = keras.datasets.mnist\n",
    "(train_images, train_labels), (test_images, test_labels) = mnist.load_data()"
   ]
  },
  {
   "cell_type": "code",
   "execution_count": 3,
   "metadata": {},
   "outputs": [],
   "source": [
    "idx_to_augment = np.random.randint(0, train_images.shape[0], 15000)\n",
    "img_aug = train_images[idx_to_augment]\n",
    "labels_aug = train_labels[idx_to_augment]\n",
    "\n",
    "flip = keras.layers.RandomFlip(\"horizontal_and_vertical\")\n",
    "rotate = keras.layers.RandomRotation(0.2)\n",
    "for i in range(len(img_aug)):\n",
    "    aug_type = np.random.random()\n",
    "    if aug_type > 0.5:\n",
    "        img_aug[i] = flip(np.expand_dims(img_aug[i], axis=-1)).numpy().squeeze()\n",
    "    else:\n",
    "        img_aug[i] = rotate(np.expand_dims(img_aug[i], axis=-1)).numpy().squeeze()\n",
    "\n",
    "train_images = np.concatenate((train_images, img_aug), axis=0)\n",
    "train_labels = np.concatenate((train_labels, labels_aug), axis=0)"
   ]
  },
  {
   "cell_type": "code",
   "execution_count": 4,
   "metadata": {},
   "outputs": [],
   "source": [
    "idx_to_augment = np.random.randint(0, test_images.shape[0], 1000)\n",
    "img_aug = test_images[idx_to_augment]\n",
    "labels_aug = test_labels[idx_to_augment]\n",
    "\n",
    "for i in range(len(img_aug)):\n",
    "    aug_type = np.random.random()\n",
    "    if aug_type > 0.5:\n",
    "        img_aug[i] = flip(np.expand_dims(img_aug[i], axis=-1)).numpy().squeeze()\n",
    "    else:\n",
    "        img_aug[i] = rotate(np.expand_dims(img_aug[i], axis=-1)).numpy().squeeze()\n",
    "\n",
    "test_images = np.concatenate((test_images, img_aug), axis=0)\n",
    "test_labels = np.concatenate((test_labels, labels_aug), axis=0)"
   ]
  },
  {
   "cell_type": "code",
   "execution_count": 5,
   "metadata": {},
   "outputs": [
    {
     "data": {
      "image/png": "[encoded data removed]",
      "text/plain": [
       "<Figure size 640x480 with 1 Axes>"
      ]
     },
     "metadata": {},
     "output_type": "display_data"
    },
    {
     "name": "stdout",
     "output_type": "stream",
     "text": [
      "5\n"
     ]
    }
   ],
   "source": [
    "plt.imshow(train_images[0], cmap=\"grey\")\n",
    "plt.show()\n",
    "print(train_labels[0])"
   ]
  },
  {
   "cell_type": "code",
   "execution_count": 6,
   "metadata": {},
   "outputs": [
    {
     "data": {
      "image/png": "[encoded data removed]",
      "text/plain": [
       "<Figure size 640x480 with 1 Axes>"
      ]
     },
     "metadata": {},
     "output_type": "display_data"
    },
    {
     "name": "stdout",
     "output_type": "stream",
     "text": [
      "5\n"
     ]
    }
   ],
   "source": [
    "plt.imshow(train_images[60002], cmap=\"grey\")\n",
    "plt.show()\n",
    "print(train_labels[60002])"
   ]
  },
  {
   "cell_type": "code",
   "execution_count": 7,
   "metadata": {},
   "outputs": [],
   "source": [
    "train_images = train_images / 255\n",
    "test_images = test_images / 255"
   ]
  },
  {
   "cell_type": "code",
   "execution_count": 8,
   "metadata": {},
   "outputs": [],
   "source": [
    "class FlattenedMLP(MLP):\n",
    "    \"\"\"Simple MLP with variable hidden layers' size\n",
    "    \n",
    "    Args:\n",
    "        - input_dim (int) - num of input features. Default: 60\n",
    "        - hidden (tuple[int]) - optional sizes of hidden layers. Default: None\n",
    "        - output_dim (int) - num of output features. Default: 10\n",
    "        - rngs (nnx.Rngs) - random generator.\n",
    "    \n",
    "    Example:\n",
    "    >>> import jax.numpy as jnp\n",
    "    >>> from flax import nnx\n",
    "    >>> model = MLP(input_dim=60, hidden=(5,), output_dim=10, rngs=nnx.Rngs(42))\n",
    "    >>> y = jnp.ones(60)\n",
    "    >>> model(y)\n",
    "    Array([0.1900208], dtype=float32)\n",
    "    \"\"\"\n",
    "\n",
    "    def __call__(self, x: chex.Array) -> chex.Array:\n",
    "        x = x.flatten()\n",
    "        x = self.nn(x)\n",
    "        return x    \n",
    "    \n",
    "    \n",
    "class ImageClassifier(nnx.Module):\n",
    "    \"\"\"Image Classifier with convolution layers for MNIST\n",
    "    \n",
    "    Args:\n",
    "        - rngs (nnx.Rngs) - random generator.\n",
    "    \n",
    "    Example:\n",
    "    >>> import jax.numpy as jnp\n",
    "    >>> from flax import nnx\n",
    "    >>> model = ImageClassifier(rngs=nnx.Rngs(42))\n",
    "    >>> y = jnp.ones((28, 28, 1))\n",
    "    >>> model(y)\n",
    "    Array([-0.04220704,  0.03935139,  0.01222464,  0.1371675 , -0.05824947,\n",
    "           -0.00577586, -0.00873756,  0.24104787, -0.13278076, -0.01037526],      dtype=float32)\n",
    "    \"\"\"\n",
    "    def __init__(self, rngs: tp.Optional[nnx.Rngs] = None) -> None:\n",
    "        if rngs is None:\n",
    "            rngs = nnx.Rngs(42)\n",
    "\n",
    "        self.cnn1 = nnx.Conv(1, 16, (3,3), rngs=rngs)\n",
    "        self.cnn2 = nnx.Conv(16, 32, (3,3), padding='VALID', rngs=rngs)\n",
    "        self.cnn3 = nnx.Conv(32, 16, (3,3), rngs=rngs)\n",
    "        \n",
    "        self.avg_pooling = partial(nnx.avg_pool, window_shape=(2,2), strides=(2,2))\n",
    "\n",
    "        self.linear = nnx.Linear(144, 64, rngs=rngs)\n",
    "        self.clf = nnx.Linear(64, 10, rngs=rngs)\n",
    "\n",
    "        self.act = nnx.swish\n",
    "\n",
    "    \n",
    "    def __call__(self, x: chex.Array) -> chex.Array:\n",
    "        # [28, 28, 1] -> [28, 28, 16] -> [14, 14, 16]\n",
    "        x = self.avg_pooling(self.act(self.cnn1(x)))\n",
    "        # [14, 14, 16] -> [12, 12, 32] -> [6, 6, 32]\n",
    "        x = self.avg_pooling(self.act(self.cnn2(x)))\n",
    "        # [6, 6, 32] -> [6, 6, 16] -> [3, 3, 16]\n",
    "        x = self.avg_pooling(self.act(self.cnn3(x)))\n",
    "        # [3, 3, 16] -> [144]\n",
    "        x = x.flatten()\n",
    "        x = self.act(self.linear(x))\n",
    "        x = self.clf(x)\n",
    "        return x\n",
    "    "
   ]
  },
  {
   "cell_type": "code",
   "execution_count": 35,
   "metadata": {},
   "outputs": [],
   "source": [
    "@nnx.jit # only now profitable\n",
    "def loss_fn(model: tp.Union[MLP, ImageClassifier],\n",
    "            features: chex.ArrayBatched, \n",
    "            labels: chex.ArrayBatched) -> tuple[chex.ArrayBatched]:\n",
    "    \"\"\"Computes CE-Loss with optax. Returns loss and logits\"\"\"\n",
    "    \n",
    "    logits = nnx.vmap(model)(features)\n",
    "    loss = jnp.mean(\n",
    "        optax.softmax_cross_entropy_with_integer_labels(\n",
    "            logits=logits, labels=labels\n",
    "        )\n",
    "    )\n",
    "    return loss, logits\n",
    "\n",
    "\n",
    "@partial(jax.jit, static_argnums=0)\n",
    "def train_step(graphdef: nnx.GraphDef, \n",
    "               state: nnx.GraphState,   \n",
    "               features: chex.ArrayBatched, \n",
    "               labels: chex.ArrayBatched) -> nnx.GraphState:\n",
    "    \"\"\"Train for a single step.\"\"\"\n",
    "    model, optimizer, metrics = nnx.merge(graphdef, state)\n",
    "    grad_fn = nnx.value_and_grad(loss_fn, has_aux=True)\n",
    "    (loss, logits), grads = grad_fn(model, features, labels)\n",
    "    metrics.update(loss=loss, logits=logits, labels=labels)\n",
    "    optimizer.update(grads)\n",
    "    _, state = nnx.split((model, optimizer, metrics))\n",
    "    return state\n",
    "\n",
    "\n",
    "@partial(jax.jit, static_argnums=0)\n",
    "def eval_step(graphdef: nnx.GraphDef, \n",
    "              state: nnx.GraphState,   \n",
    "              features: chex.ArrayBatched,\n",
    "              labels: chex.ArrayBatched) -> nnx.GraphState:\n",
    "    \"\"\"Eval for single step\"\"\"\n",
    "    model, optimizer, metrics = nnx.merge(graphdef, state)\n",
    "    loss, logits = loss_fn(model, features, labels)\n",
    "    metrics.update(loss=loss, logits=logits, labels=labels)\n",
    "    _, state = nnx.split((model, optimizer, metrics))\n",
    "    return state\n"
   ]
  },
  {
   "cell_type": "code",
   "execution_count": 33,
   "metadata": {},
   "outputs": [],
   "source": [
    "def run(X_train: chex.ArrayNumpy,\n",
    "        y_train: chex.ArrayNumpy,\n",
    "        X_test: chex.ArrayNumpy,\n",
    "        y_test: chex.ArrayNumpy,\n",
    "        model: tp.Union[MLP, ImageClassifier],\n",
    "        batch_size: int = 8,\n",
    "        key: tp.Optional[chex.PRNGKey] = None,\n",
    "        num_epochs: int = 10) -> tuple[tp.Union[MLP, ImageClassifier], dict[str, chex.Array], nnx.State, nnx.State]:\n",
    "    \"\"\"Inits model and it's components and run train and test\"\"\"\n",
    "    if key is None:\n",
    "        key = jax.random.key(42)\n",
    "    batch_key = jax.random.split(key)[0]\n",
    "    # get model and default weights of the first layer\n",
    "    optimizer = nnx.Optimizer(model, optax.adamw(5e-3, 0.9))\n",
    "    metrics_history = _init_metrics_hisory()\n",
    "    metrics = nnx.MultiMetric(\n",
    "        accuracy=Accuracy(),\n",
    "        loss=nnx.metrics.Average('loss'),\n",
    "    )\n",
    "\n",
    "    for i in range(num_epochs):\n",
    "        # train\n",
    "        model.train()\n",
    "        graphdef, state = nnx.split((model, optimizer, metrics))\n",
    "\n",
    "        # new order for shuffle\n",
    "        batch_key = jax.random.split(batch_key)[0]\n",
    "        for X_batched, y_batched in batch(X=X_train,\n",
    "                                          y=y_train,\n",
    "                                          batch_size=batch_size,\n",
    "                                          key=batch_key,\n",
    "                                          train=True):\n",
    "            state = train_step(graphdef=graphdef,\n",
    "                               state=state,\n",
    "                               features=X_batched,\n",
    "                               labels=y_batched)\n",
    "\n",
    "        # if flax >= 0.10.0\n",
    "        # nnx.update((model, optimizer, metrics), state)\n",
    "\n",
    "        # else\n",
    "        model, optimizer, metrics = nnx.merge(graphdef, state)\n",
    "        # store train metrics\n",
    "        for metric, value in metrics.compute().items():     \n",
    "            metrics_history[f'train_{metric}'].append(value)\n",
    "        metrics.reset()\n",
    "\n",
    "        # eval\n",
    "        model.eval()\n",
    "        graphdef, state = nnx.split((model, optimizer, metrics))\n",
    "        for X_batched, y_batched in batch(X=X_test,\n",
    "                                          y=y_test,\n",
    "                                          batch_size=batch_size,\n",
    "                                          key=batch_key,\n",
    "                                          train=False):\n",
    "            state = eval_step(graphdef=graphdef,\n",
    "                             state=state,\n",
    "                             features=X_batched, \n",
    "                             labels=y_batched)\n",
    "        \n",
    "        # if flax >= 0.10.0\n",
    "        # nnx.update((model, optimizer, metrics), state)\n",
    "        \n",
    "        # else\n",
    "        model, optimizer, metrics = nnx.merge(graphdef, state)\n",
    "        # store eval metrics\n",
    "        for metric, value in metrics.compute().items():    \n",
    "            metrics_history[f'test_{metric}'].append(value)\n",
    "        metrics.reset() \n",
    "\n",
    "        print(\n",
    "            f\"[train] eposh: {i}, \"\n",
    "            f\"loss: {metrics_history['train_loss'][-1]}, \"\n",
    "            f\"accuracy: {metrics_history['train_accuracy'][-1] * 100}\"\n",
    "        )\n",
    "        print(\n",
    "            f\"[test] epoch: {i}, \"\n",
    "            f\"loss: {metrics_history['test_loss'][-1]}, \"\n",
    "            f\"accuracy: {metrics_history['test_accuracy'][-1] * 100}\"\n",
    "        )\n",
    "    \n",
    "    return model, metrics_history\n"
   ]
  },
  {
   "cell_type": "code",
   "execution_count": 11,
   "metadata": {},
   "outputs": [],
   "source": [
    "model = FlattenedMLP(input_dim=28*28, \n",
    "                     hidden=(256,), \n",
    "                     output_dim=10,\n",
    "                     rngs=nnx.Rngs(42))"
   ]
  },
  {
   "cell_type": "code",
   "execution_count": 12,
   "metadata": {},
   "outputs": [
    {
     "name": "stdout",
     "output_type": "stream",
     "text": [
      "[train] eposh: 0, loss: 0.34272241592407227, accuracy: 89.51866912841797\n",
      "[test] epoch: 0, loss: 0.14873529970645905, accuracy: 95.4454574584961\n",
      "[train] eposh: 1, loss: 0.1623435765504837, accuracy: 95.01333618164062\n",
      "[test] epoch: 1, loss: 0.13170558214187622, accuracy: 95.85454559326172\n",
      "[train] eposh: 2, loss: 0.11590994149446487, accuracy: 96.34666442871094\n",
      "[test] epoch: 2, loss: 0.15467728674411774, accuracy: 95.65454864501953\n",
      "[train] eposh: 3, loss: 0.09269726276397705, accuracy: 97.02266693115234\n",
      "[test] epoch: 3, loss: 0.14252163469791412, accuracy: 95.85454559326172\n",
      "[train] eposh: 4, loss: 0.07457534223794937, accuracy: 97.55733489990234\n",
      "[test] epoch: 4, loss: 0.14617206156253815, accuracy: 96.32727813720703\n",
      "[train] eposh: 5, loss: 0.06400306522846222, accuracy: 97.86933135986328\n",
      "[test] epoch: 5, loss: 0.18371300399303436, accuracy: 95.63636016845703\n",
      "[train] eposh: 6, loss: 0.059816475957632065, accuracy: 98.02400207519531\n",
      "[test] epoch: 6, loss: 0.1591157466173172, accuracy: 96.21817779541016\n",
      "[train] eposh: 7, loss: 0.046814560890197754, accuracy: 98.48400115966797\n",
      "[test] epoch: 7, loss: 0.18721170723438263, accuracy: 95.96363830566406\n",
      "[train] eposh: 8, loss: 0.0419699028134346, accuracy: 98.63866424560547\n",
      "[test] epoch: 8, loss: 0.17380386590957642, accuracy: 96.25454711914062\n",
      "[train] eposh: 9, loss: 0.04028382524847984, accuracy: 98.67066955566406\n",
      "[test] epoch: 9, loss: 0.1904449611902237, accuracy: 96.55455017089844\n"
     ]
    }
   ],
   "source": [
    "trained_mlp, metrics_history = run(X_train=train_images, \n",
    "                                   y_train=train_labels, \n",
    "                                   X_test=test_images, \n",
    "                                   y_test=test_labels,\n",
    "                                   model=model,\n",
    "                                   batch_size=125,\n",
    "                                   key=jax.random.key(42),\n",
    "                                   num_epochs=10)"
   ]
  },
  {
   "cell_type": "code",
   "execution_count": 30,
   "metadata": {},
   "outputs": [
    {
     "data": {
      "text/plain": [
       "Array([-0.04220704,  0.03935139,  0.01222464,  0.1371675 , -0.05824947,\n",
       "       -0.00577586, -0.00873756,  0.24104787, -0.13278076, -0.01037526],      dtype=float32)"
      ]
     },
     "execution_count": 30,
     "metadata": {},
     "output_type": "execute_result"
    }
   ],
   "source": [
    "model = ImageClassifier(rngs=nnx.Rngs(42))\n",
    "y = jnp.ones((28, 28, 1))\n",
    "model(y)"
   ]
  },
  {
   "cell_type": "code",
   "execution_count": 37,
   "metadata": {},
   "outputs": [
    {
     "name": "stdout",
     "output_type": "stream",
     "text": [
      "[train] eposh: 0, loss: 0.36246049404144287, accuracy: 89.06266784667969\n",
      "[test] epoch: 0, loss: 0.102608822286129, accuracy: 96.84545135498047\n",
      "[train] eposh: 1, loss: 0.12750084698200226, accuracy: 95.97332763671875\n",
      "[test] epoch: 1, loss: 0.0810973271727562, accuracy: 97.43636322021484\n",
      "[train] eposh: 2, loss: 0.09069305658340454, accuracy: 97.13333129882812\n",
      "[test] epoch: 2, loss: 0.060367777943611145, accuracy: 98.08181762695312\n"
     ]
    },
    {
     "ename": "KeyboardInterrupt",
     "evalue": "",
     "output_type": "error",
     "traceback": [
      "\u001b[1;31m---------------------------------------------------------------------------\u001b[0m",
      "\u001b[1;31mKeyboardInterrupt\u001b[0m                         Traceback (most recent call last)",
      "Cell \u001b[1;32mIn[37], line 1\u001b[0m\n\u001b[1;32m----> 1\u001b[0m trained_cnn, metrics_history, \u001b[38;5;241m*\u001b[39m_ \u001b[38;5;241m=\u001b[39m \u001b[43mrun\u001b[49m\u001b[43m(\u001b[49m\u001b[43mX_train\u001b[49m\u001b[38;5;241;43m=\u001b[39;49m\u001b[43mnp\u001b[49m\u001b[38;5;241;43m.\u001b[39;49m\u001b[43mexpand_dims\u001b[49m\u001b[43m(\u001b[49m\u001b[43mtrain_images\u001b[49m\u001b[43m,\u001b[49m\u001b[43m \u001b[49m\u001b[43maxis\u001b[49m\u001b[38;5;241;43m=\u001b[39;49m\u001b[38;5;241;43m-\u001b[39;49m\u001b[38;5;241;43m1\u001b[39;49m\u001b[43m)\u001b[49m\u001b[43m,\u001b[49m\u001b[43m \u001b[49m\n\u001b[0;32m      2\u001b[0m \u001b[43m                                       \u001b[49m\u001b[43my_train\u001b[49m\u001b[38;5;241;43m=\u001b[39;49m\u001b[43mtrain_labels\u001b[49m\u001b[43m,\u001b[49m\u001b[43m \u001b[49m\n\u001b[0;32m      3\u001b[0m \u001b[43m                                       \u001b[49m\u001b[43mX_test\u001b[49m\u001b[38;5;241;43m=\u001b[39;49m\u001b[43mnp\u001b[49m\u001b[38;5;241;43m.\u001b[39;49m\u001b[43mexpand_dims\u001b[49m\u001b[43m(\u001b[49m\u001b[43mtest_images\u001b[49m\u001b[43m,\u001b[49m\u001b[43m \u001b[49m\u001b[43maxis\u001b[49m\u001b[38;5;241;43m=\u001b[39;49m\u001b[38;5;241;43m-\u001b[39;49m\u001b[38;5;241;43m1\u001b[39;49m\u001b[43m)\u001b[49m\u001b[43m,\u001b[49m\u001b[43m \u001b[49m\n\u001b[0;32m      4\u001b[0m \u001b[43m                                       \u001b[49m\u001b[43my_test\u001b[49m\u001b[38;5;241;43m=\u001b[39;49m\u001b[43mtest_labels\u001b[49m\u001b[43m,\u001b[49m\n\u001b[0;32m      5\u001b[0m \u001b[43m                                       \u001b[49m\u001b[43mmodel\u001b[49m\u001b[38;5;241;43m=\u001b[39;49m\u001b[43mmodel\u001b[49m\u001b[43m,\u001b[49m\n\u001b[0;32m      6\u001b[0m \u001b[43m                                       \u001b[49m\u001b[43mbatch_size\u001b[49m\u001b[38;5;241;43m=\u001b[39;49m\u001b[38;5;241;43m125\u001b[39;49m\u001b[43m,\u001b[49m\n\u001b[0;32m      7\u001b[0m \u001b[43m                                       \u001b[49m\u001b[43mkey\u001b[49m\u001b[38;5;241;43m=\u001b[39;49m\u001b[43mjax\u001b[49m\u001b[38;5;241;43m.\u001b[39;49m\u001b[43mrandom\u001b[49m\u001b[38;5;241;43m.\u001b[39;49m\u001b[43mkey\u001b[49m\u001b[43m(\u001b[49m\u001b[38;5;241;43m42\u001b[39;49m\u001b[43m)\u001b[49m\u001b[43m,\u001b[49m\n\u001b[0;32m      8\u001b[0m \u001b[43m                                       \u001b[49m\u001b[43mnum_epochs\u001b[49m\u001b[38;5;241;43m=\u001b[39;49m\u001b[38;5;241;43m5\u001b[39;49m\u001b[43m)\u001b[49m\n",
      "Cell \u001b[1;32mIn[33], line 33\u001b[0m, in \u001b[0;36mrun\u001b[1;34m(X_train, y_train, X_test, y_test, model, batch_size, key, num_epochs)\u001b[0m\n\u001b[0;32m     27\u001b[0m batch_key \u001b[38;5;241m=\u001b[39m jax\u001b[38;5;241m.\u001b[39mrandom\u001b[38;5;241m.\u001b[39msplit(batch_key)[\u001b[38;5;241m0\u001b[39m]\n\u001b[0;32m     28\u001b[0m \u001b[38;5;28;01mfor\u001b[39;00m X_batched, y_batched \u001b[38;5;129;01min\u001b[39;00m batch(X\u001b[38;5;241m=\u001b[39mX_train,\n\u001b[0;32m     29\u001b[0m                                   y\u001b[38;5;241m=\u001b[39my_train,\n\u001b[0;32m     30\u001b[0m                                   batch_size\u001b[38;5;241m=\u001b[39mbatch_size,\n\u001b[0;32m     31\u001b[0m                                   key\u001b[38;5;241m=\u001b[39mbatch_key,\n\u001b[0;32m     32\u001b[0m                                   train\u001b[38;5;241m=\u001b[39m\u001b[38;5;28;01mTrue\u001b[39;00m):\n\u001b[1;32m---> 33\u001b[0m     state \u001b[38;5;241m=\u001b[39m \u001b[43mtrain_step\u001b[49m\u001b[43m(\u001b[49m\u001b[43mgraphdef\u001b[49m\u001b[38;5;241;43m=\u001b[39;49m\u001b[43mgraphdef\u001b[49m\u001b[43m,\u001b[49m\n\u001b[0;32m     34\u001b[0m \u001b[43m                       \u001b[49m\u001b[43mstate\u001b[49m\u001b[38;5;241;43m=\u001b[39;49m\u001b[43mstate\u001b[49m\u001b[43m,\u001b[49m\n\u001b[0;32m     35\u001b[0m \u001b[43m                       \u001b[49m\u001b[43mfeatures\u001b[49m\u001b[38;5;241;43m=\u001b[39;49m\u001b[43mX_batched\u001b[49m\u001b[43m,\u001b[49m\n\u001b[0;32m     36\u001b[0m \u001b[43m                       \u001b[49m\u001b[43mlabels\u001b[49m\u001b[38;5;241;43m=\u001b[39;49m\u001b[43my_batched\u001b[49m\u001b[43m)\u001b[49m\n\u001b[0;32m     38\u001b[0m \u001b[38;5;66;03m# if flax >= 0.10.0\u001b[39;00m\n\u001b[0;32m     39\u001b[0m \u001b[38;5;66;03m# nnx.update((model, optimizer, metrics), state)\u001b[39;00m\n\u001b[0;32m     40\u001b[0m \n\u001b[0;32m     41\u001b[0m \u001b[38;5;66;03m# else\u001b[39;00m\n\u001b[0;32m     42\u001b[0m model, optimizer, metrics \u001b[38;5;241m=\u001b[39m nnx\u001b[38;5;241m.\u001b[39mmerge(graphdef, state)\n",
      "File \u001b[1;32mc:\\Users\\Артём\\Desktop\\лекции\\DIIS\\.venv\\lib\\site-packages\\flax\\nnx\\nnx\\variables.py:839\u001b[0m, in \u001b[0;36m_variable_state_unflatten\u001b[1;34m(static, children)\u001b[0m\n\u001b[0;32m    834\u001b[0m     node \u001b[38;5;241m=\u001b[39m x\u001b[38;5;241m.\u001b[39mvalue\n\u001b[0;32m    836\u001b[0m   \u001b[38;5;28;01mreturn\u001b[39;00m (node,), (x\u001b[38;5;241m.\u001b[39mtype, metadata)\n\u001b[1;32m--> 839\u001b[0m \u001b[38;5;28;01mdef\u001b[39;00m \u001b[38;5;21m_variable_state_unflatten\u001b[39m(\n\u001b[0;32m    840\u001b[0m   static: \u001b[38;5;28mtuple\u001b[39m[\u001b[38;5;28mtype\u001b[39m[Variable[A]], \u001b[38;5;28mtuple\u001b[39m[\u001b[38;5;28mtuple\u001b[39m[\u001b[38;5;28mstr\u001b[39m, tp\u001b[38;5;241m.\u001b[39mAny], \u001b[38;5;241m.\u001b[39m\u001b[38;5;241m.\u001b[39m\u001b[38;5;241m.\u001b[39m]],\n\u001b[0;32m    841\u001b[0m   children: \u001b[38;5;28mtuple\u001b[39m[A],\n\u001b[0;32m    842\u001b[0m ) \u001b[38;5;241m-\u001b[39m\u001b[38;5;241m>\u001b[39m VariableState[A]:\n\u001b[0;32m    843\u001b[0m   \u001b[38;5;28;01mreturn\u001b[39;00m VariableState(\n\u001b[0;32m    844\u001b[0m     \u001b[38;5;28mtype\u001b[39m\u001b[38;5;241m=\u001b[39mstatic[\u001b[38;5;241m0\u001b[39m],\n\u001b[0;32m    845\u001b[0m     value\u001b[38;5;241m=\u001b[39mchildren[\u001b[38;5;241m0\u001b[39m],\n\u001b[0;32m    846\u001b[0m     \u001b[38;5;241m*\u001b[39m\u001b[38;5;241m*\u001b[39m\u001b[38;5;28mdict\u001b[39m(static[\u001b[38;5;241m1\u001b[39m]),\n\u001b[0;32m    847\u001b[0m   )\n\u001b[0;32m    850\u001b[0m jtu\u001b[38;5;241m.\u001b[39mregister_pytree_with_keys(\n\u001b[0;32m    851\u001b[0m   VariableState,\n\u001b[0;32m    852\u001b[0m   partial(_variable_state_flatten, with_keys\u001b[38;5;241m=\u001b[39m\u001b[38;5;28;01mTrue\u001b[39;00m),  \u001b[38;5;66;03m# type: ignore\u001b[39;00m\n\u001b[0;32m    853\u001b[0m   _variable_state_unflatten,  \u001b[38;5;66;03m# type: ignore\u001b[39;00m\n\u001b[0;32m    854\u001b[0m   flatten_func\u001b[38;5;241m=\u001b[39mpartial(_variable_state_flatten, with_keys\u001b[38;5;241m=\u001b[39m\u001b[38;5;28;01mFalse\u001b[39;00m),  \u001b[38;5;66;03m# type: ignore\u001b[39;00m\n\u001b[0;32m    855\u001b[0m )\n",
      "\u001b[1;31mKeyboardInterrupt\u001b[0m: "
     ]
    }
   ],
   "source": [
    "trained_cnn, metrics_history, *_ = run(X_train=np.expand_dims(train_images, axis=-1), \n",
    "                                       y_train=train_labels, \n",
    "                                       X_test=np.expand_dims(test_images, axis=-1), \n",
    "                                       y_test=test_labels,\n",
    "                                       model=model,\n",
    "                                       batch_size=125,\n",
    "                                       key=jax.random.key(42),\n",
    "                                       num_epochs=5)"
   ]
  },
  {
   "cell_type": "code",
   "execution_count": 15,
   "metadata": {},
   "outputs": [],
   "source": [
    "# # DOES NOT WORK, NO ORBAX ON WINDOWS\n",
    "\n",
    "# import orbax.checkpoint as ocp\n",
    "\n",
    "# ckpt_dir = ocp.test_utils.erase_and_create_empty('./ckpt/')\n",
    "# checkpointer = ocp.StandardCheckpointer()\n",
    "\n",
    "# _, state = nnx.split(trained_cnn)\n",
    "# checkpointer.save(ckpt_dir / \"state\", state)\n",
    "\n",
    "# abs_model = nnx.eval_shape(lambda: ImageClassifier(nnx.Rngs(0)))\n",
    "# graphdef, abs_state = nnx.split(abs_model)\n",
    "\n",
    "# state_restored = checkpointer.restore(ckpt_dir / 'state', abs_state)\n",
    "# jax.tree.map(np.testing.assert_array_equal, state, state_restored)\n",
    "# model = nnx.merge(graphdef, state_restored)"
   ]
  },
  {
   "cell_type": "code",
   "execution_count": 16,
   "metadata": {},
   "outputs": [],
   "source": [
    "# # DOES NOT WORK AS INTENDED, NO SPEED UP !!!\n",
    "# # MAYBE WORTH TESTING ON GPU/TPU\n",
    "\n",
    "# import time\n",
    "\n",
    "# @nnx.jit\n",
    "# def re_loss_fn(model, data):\n",
    "#         features, labels = data\n",
    "#         logits = nnx.vmap(model)(features)\n",
    "#         loss = jnp.mean(jax.vmap(\n",
    "#             optax.softmax_cross_entropy_with_integer_labels)\n",
    "#             (logits=logits, labels=labels)\n",
    "#         )\n",
    "\n",
    "#         return loss, logits\n",
    "\n",
    "\n",
    "# def re_train_step(graph, state, data):\n",
    "#     nn, opt, metrics = nnx.merge(graph, state)\n",
    "#     _, labels = data\n",
    "#     (loss, logits), grad = nnx.value_and_grad(re_loss_fn, has_aux=True)(nn, data)\n",
    "#     metrics.update(loss=loss, logits=logits, labels=labels)\n",
    "    \n",
    "#     opt.update(grad)\n",
    "#     # graph, state = nnx.split((model, opt, metrics))\n",
    "#     return nnx.split((model, opt, metrics))\n",
    "\n",
    "# def re_run(X_train: chex.ArrayNumpy,\n",
    "#         y_train: chex.ArrayNumpy,\n",
    "#         model: tp.Union[MLP, ImageClassifier],\n",
    "#         batch_size: int = 8,\n",
    "#         key: tp.Optional[chex.PRNGKey] = None,\n",
    "#         num_epochs: int = 10) -> tuple[tp.Union[MLP, ImageClassifier], dict[str, chex.Array], nnx.State, nnx.State]:\n",
    "    \n",
    "#     if key is None:\n",
    "#         key = jax.random.key(42)\n",
    "#     batch_key = jax.random.split(key)[0]\n",
    "#     # get model and default weights of the first layer\n",
    "#     optimizer = nnx.Optimizer(model, optax.adamw(5e-3, 0.9))\n",
    "#     metrics_history = _init_metrics_hisory()\n",
    "#     metrics = nnx.MultiMetric(\n",
    "#         accuracy=Accuracy(),\n",
    "#         loss=nnx.metrics.Average('loss'),\n",
    "#     )\n",
    "#     X_train = jnp.array(X_train)\n",
    "#     y_train = jnp.array(y_train)\n",
    "    \n",
    "\n",
    "#     train_multiple_steps_with_idxs = (\n",
    "#         lambda gr, st, dat, idxs: nnx.scan(\n",
    "#             lambda st, idxs: (st, re_train_step(gr, st, jax.tree.map(lambda a: a[idxs], dat)))\n",
    "#         )(st, idxs)\n",
    "#     )\n",
    "#     model.train()\n",
    "#     for i in range(num_epochs):\n",
    "#         graphdef, state = nnx.split((model, optimizer, metrics))\n",
    "#         order = jax.random.permutation(batch_key, len(y_train)).reshape(-1, batch_size)\n",
    "#         start = time.time()\n",
    "#         foo, (graphdef, state) = train_multiple_steps_with_idxs(graphdef, state, (X_train, y_train), order)\n",
    "#         print(time.time() - start)\n",
    "\n",
    "#         model, optimizer, metrics = nnx.merge(graphdef, state)\n",
    "#         # store train metrics\n",
    "#         for metric, value in metrics.compute().items():     \n",
    "#             metrics_history[f'train_{metric}'].append(value)\n",
    "#         metrics.reset()\n",
    "\n",
    "#         print(\n",
    "#             f\"[train] eposh: {i}, \"\n",
    "#             f\"loss: {metrics_history['train_loss'][-1]}, \"\n",
    "#             f\"accuracy: {metrics_history['train_accuracy'][-1] * 100}\"\n",
    "#         )\n",
    "    \n",
    "#     return model, metrics_history\n",
    "\n",
    "# test_model = FlattenedMLP(input_dim=28*28, \n",
    "#                      hidden=(256,), \n",
    "#                      output_dim=10,\n",
    "#                      rngs=nnx.Rngs(42))\n",
    "\n",
    "# _, metrics_history = re_run(X_train=train_images, \n",
    "#                                    y_train=train_labels, \n",
    "#                                    model=test_model,\n",
    "#                                    batch_size=125,\n",
    "#                                    key=jax.random.key(42),\n",
    "#                                    num_epochs=10)\n"
   ]
  },
  {
   "cell_type": "code",
   "execution_count": 17,
   "metadata": {},
   "outputs": [],
   "source": [
    "def get_best_shift(img: np.ndarray) -> tuple[np.int64]:\n",
    "    cy, cx = center_of_mass(img)\n",
    "    \n",
    "    rows,cols = img.shape\n",
    "    shiftx = np.round(cols/2.0-cx).astype(int)\n",
    "    shifty = np.round(rows/2.0-cy).astype(int)\n",
    "\n",
    "    return shiftx,shifty\n",
    "  \n",
    "def shift(img: np.ndarray, sx: np.int64, sy: np.int64) -> np.ndarray:\n",
    "    rows,cols = img.shape\n",
    "    M = np.float32([[1, 0, sx],[0, 1, sy]])\n",
    "    shifted = cv2.warpAffine(img, M, (cols, rows))\n",
    "    return shifted\n",
    "  \n",
    "def rec_digit(model: tp.Union[MLP, ImageClassifier], \n",
    "              img_path: str) -> None:\n",
    "    img = cv2.imread(img_path, cv2.IMREAD_GRAYSCALE)\n",
    "    gray = 255 - img\n",
    "    # threshholding\n",
    "    _, gray = cv2.threshold(gray, 128, 255, cv2.THRESH_BINARY | cv2.THRESH_OTSU)\n",
    "    \n",
    "    # cutting edges\n",
    "    while np.sum(gray[0]) == 0:\n",
    "        gray = gray[1:]\n",
    "    while np.sum(gray[:,0]) == 0:\n",
    "        gray = np.delete(gray,0,1)\n",
    "    while np.sum(gray[-1]) == 0:\n",
    "        gray = gray[:-1]\n",
    "    while np.sum(gray[:,-1]) == 0:\n",
    "        gray = np.delete(gray,-1,1)\n",
    "    rows,cols = gray.shape\n",
    "    \n",
    "    # resize number to 20*20\n",
    "    if rows > cols:\n",
    "        factor = 20.0 / rows\n",
    "        rows = 20\n",
    "        cols = int(round(cols * factor))\n",
    "        gray = cv2.resize(gray, (cols, rows))\n",
    "    else:\n",
    "        factor = 20.0 / cols\n",
    "        cols = 20\n",
    "        rows = int(round(rows*factor))\n",
    "        gray = cv2.resize(gray, (cols, rows))\n",
    "\n",
    "    # resize with padding\n",
    "    colsPadding = (int(math.ceil((28 - cols) / 2.0)), int(math.floor((28 - cols) / 2.0)))\n",
    "    rowsPadding = (int(math.ceil((28 - rows) / 2.0)), int(math.floor((28 - rows) / 2.0)))\n",
    "    gray = np.lib.pad(gray, (rowsPadding, colsPadding), 'constant')\n",
    "\n",
    "    # centering\n",
    "    shiftx,shifty = get_best_shift(gray)\n",
    "    shifted = shift(gray,shiftx,shifty)\n",
    "    gray = shifted\n",
    "    \n",
    "    img = gray / 255.0\n",
    "    plt.imshow(img, cmap=\"gray\")\n",
    "    print(np.argmax(model(np.expand_dims(img, axis=-1))))"
   ]
  },
  {
   "cell_type": "code",
   "execution_count": 18,
   "metadata": {},
   "outputs": [
    {
     "name": "stdout",
     "output_type": "stream",
     "text": [
      "2\n"
     ]
    },
    {
     "data": {
      "image/png": "[encoded data removed]",
      "text/plain": [
       "<Figure size 640x480 with 1 Axes>"
      ]
     },
     "metadata": {},
     "output_type": "display_data"
    }
   ],
   "source": [
    "rec_digit(trained_cnn, \"../img/2.png\")"
   ]
  },
  {
   "cell_type": "code",
   "execution_count": 19,
   "metadata": {},
   "outputs": [
    {
     "name": "stdout",
     "output_type": "stream",
     "text": [
      "5\n"
     ]
    },
    {
     "data": {
      "image/png": "[encoded data removed]",
      "text/plain": [
       "<Figure size 640x480 with 1 Axes>"
      ]
     },
     "metadata": {},
     "output_type": "display_data"
    }
   ],
   "source": [
    "rec_digit(trained_cnn, \"../img/8.png\")"
   ]
  },
  {
   "cell_type": "code",
   "execution_count": 20,
   "metadata": {},
   "outputs": [
    {
     "name": "stdout",
     "output_type": "stream",
     "text": [
      "8\n"
     ]
    },
    {
     "data": {
      "image/png": "[encoded data removed]",
      "text/plain": [
       "<Figure size 640x480 with 1 Axes>"
      ]
     },
     "metadata": {},
     "output_type": "display_data"
    }
   ],
   "source": [
    "rec_digit(trained_cnn, \"../img/8_2.png\")"
   ]
  },
  {
   "cell_type": "code",
   "execution_count": 21,
   "metadata": {},
   "outputs": [
    {
     "name": "stdout",
     "output_type": "stream",
     "text": [
      "1\n"
     ]
    },
    {
     "data": {
      "image/png": "[encoded data removed]",
      "text/plain": [
       "<Figure size 640x480 with 1 Axes>"
      ]
     },
     "metadata": {},
     "output_type": "display_data"
    }
   ],
   "source": [
    "rec_digit(trained_cnn, \"../img/1.png\")"
   ]
  },
  {
   "cell_type": "code",
   "execution_count": 22,
   "metadata": {},
   "outputs": [
    {
     "name": "stdout",
     "output_type": "stream",
     "text": [
      "4\n"
     ]
    },
    {
     "data": {
      "image/png": "[encoded data removed]",
      "text/plain": [
       "<Figure size 640x480 with 1 Axes>"
      ]
     },
     "metadata": {},
     "output_type": "display_data"
    }
   ],
   "source": [
    "rec_digit(trained_cnn, \"../img/4.png\")"
   ]
  },
  {
   "cell_type": "code",
   "execution_count": 23,
   "metadata": {},
   "outputs": [
    {
     "name": "stdout",
     "output_type": "stream",
     "text": [
      "8\n"
     ]
    },
    {
     "data": {
      "image/png": "[encoded data removed]",
      "text/plain": [
       "<Figure size 640x480 with 1 Axes>"
      ]
     },
     "metadata": {},
     "output_type": "display_data"
    }
   ],
   "source": [
    "rec_digit(trained_cnn, \"../img/draw.png\")"
   ]
  }
 ],
 "metadata": {
  "kernelspec": {
   "display_name": ".venv",
   "language": "python",
   "name": "python3"
  },
  "language_info": {
   "codemirror_mode": {
    "name": "ipython",
    "version": 3
   },
   "file_extension": ".py",
   "mimetype": "text/x-python",
   "name": "python",
   "nbconvert_exporter": "python",
   "pygments_lexer": "ipython3",
   "version": "3.9.7"
  }
 },
 "nbformat": 4,
 "nbformat_minor": 2
}
