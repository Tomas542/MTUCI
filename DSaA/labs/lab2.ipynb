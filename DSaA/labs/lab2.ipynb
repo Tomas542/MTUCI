{
  "cells": [
    {
      "attachments": {},
      "cell_type": "markdown",
      "id": "fifteen-sailing",
      "metadata": {
        "id": "fifteen-sailing"
      },
      "source": [
        "# Лабораторная работа №2\n",
        "## Выполнил студент группы БВТ2104 Юдин Артём Андреевич"
      ]
    },
    {
      "cell_type": "markdown",
      "id": "arctic-stocks",
      "metadata": {
        "id": "arctic-stocks"
      },
      "source": [
        "Реализовать следующие структуры данных:\n",
        "  \n",
        "● <b> Стек (stack): </b>  \n",
        "Операции для стека: \n",
        "<i> инициализация, проверка на пустоту, добавление нового элемента в начало, извлечение элемента из начала;  </i>  \n",
        "  \n",
        "● <b> Дек (двусторонняя очередь, deque):  </b>  \n",
        "Операции для дека: \n",
        "<i> инициализация, проверка на пустоту, добавление нового элемента в начало, добавление нового элемента в конец, извлечение элемента из начала, извлечение элемента из конца. </i>  \n",
        "  \n",
        "<i> Разработать программу обработки данных, содержащихся в заранее подготовленном txt-файле, в соответствии с заданиями, применив указанную в задании структуру данных. Результат работы программы вывести на экран и сохранить в отдельном txt-файле. </i>"
      ]
    },
    {
      "cell_type": "code",
      "execution_count": 1,
      "id": "827d82f5",
      "metadata": {},
      "outputs": [],
      "source": [
        "class Stack:\n",
        "    def __init__(self):\n",
        "        self.items = []\n",
        "\n",
        "    def isEmpty(self):\n",
        "        return self.items == []\n",
        "    \n",
        "    def add(self, s):\n",
        "        self.items.insert(0, s)\n",
        "\n",
        "    def pop(self):\n",
        "        return self.items.pop(0)\n",
        "\n",
        "    def leftValue(self):\n",
        "        return self.items[0]\n",
        "    \n",
        "    def values(self):\n",
        "        return self.items\n",
        "    \n",
        "    def size(self):\n",
        "        return len(self.items)\n",
        "    \n",
        "    def rightValue(self):\n",
        "        return self.items[-1]\n",
        "\n",
        "class Deque:\n",
        "    def __init__(self):\n",
        "        self.items = []\n",
        "\n",
        "    def isEmpty(self):\n",
        "        return self.items == []\n",
        "    \n",
        "    def add(self, s):\n",
        "        self.items.append(s)\n",
        "\n",
        "    def addLeft(self, s):\n",
        "        self.items.insert(0, s)\n",
        "\n",
        "    def pop(self):\n",
        "        return self.items.pop()\n",
        "    \n",
        "    def popLeft(self):\n",
        "        return self.items.pop(0)\n",
        "    \n",
        "    def leftValue(self):\n",
        "        return self.items[0]\n",
        "    \n",
        "    def rightValue(self):\n",
        "        return self.items[-1]\n",
        "    \n",
        "    def values(self):\n",
        "        return self.items\n",
        "    \n",
        "    def size(self):\n",
        "        return len(self.items)\n"
      ]
    },
    {
      "attachments": {},
      "cell_type": "markdown",
      "id": "deb22b48",
      "metadata": {},
      "source": [
        "### Задание №0.1\n",
        "Создание тестового файлика\n"
      ]
    },
    {
      "cell_type": "code",
      "execution_count": 2,
      "id": "a4ce890c",
      "metadata": {},
      "outputs": [],
      "source": [
        "import numpy as np\n",
        "\n",
        "s = ''\n",
        "\n",
        "for i in range(10):\n",
        "    word = chr(np.random.randint(65,91))\n",
        "\n",
        "    for j in range(np.random.randint(1,10)):\n",
        "        word += word.join(chr(np.random.randint(97,123)))\n",
        "\n",
        "    s += word + \"\\n\"\n",
        "\n",
        "with open (\"lab2_txt/test1.txt\", \"w\") as file:\n",
        "    file.write(s)"
      ]
    },
    {
      "cell_type": "markdown",
      "id": "5d7edb08",
      "metadata": {
        "id": "5d7edb08",
        "scrolled": true
      },
      "source": [
        "### Задание №1\n",
        "Отсортировать строки файла, содержащие названия книг, в алфавитном порядке с использованием двух деков."
      ]
    },
    {
      "cell_type": "code",
      "execution_count": 3,
      "id": "17702ade",
      "metadata": {
        "id": "17702ade"
      },
      "outputs": [
        {
          "name": "stdout",
          "output_type": "stream",
          "text": [
            "['Cefqrj', 'Ckwukdbob', 'Cvcxn', 'Gdqbp', 'Hvyuklfq', 'Ixxnpq', 'Jucp', 'Oljipzdkcs', 'Pgpzfq', 'Waf']\n"
          ]
        }
      ],
      "source": [
        "with open (\"lab2_txt/test1.txt\", \"r\") as file:\n",
        "    s = file.readlines()\n",
        "\n",
        "for i in range(len(s)):\n",
        "    s[i] = s[i].replace(\"\\n\", \"\")\n",
        "\n",
        "deque = Deque()\n",
        "\n",
        "for i in s:\n",
        "    deque.add(i)\n",
        "\n",
        "deque2 = Deque()\n",
        "deque2.add(deque.popLeft())\n",
        "counter = 0\n",
        "\n",
        "while deque.size() != 0:\n",
        "    word_deq_frst = deque.leftValue()\n",
        "    word_deq_scnd = deque2.rightValue()\n",
        "\n",
        "    for i, j in zip(word_deq_scnd, word_deq_frst):\n",
        "        if ord(i) < ord(j):\n",
        "            deque2.add(deque.popLeft())\n",
        "\n",
        "            for k in range(counter):\n",
        "                deque2.add(deque.pop())\n",
        "            \n",
        "            counter = 0\n",
        "            break;\n",
        "        \n",
        "        elif ord(i) > ord(j):\n",
        "            deque.add(deque2.pop())\n",
        "            counter += 1\n",
        "            break;\n",
        "    \n",
        "    else:\n",
        "        deque.add(deque2.pop())\n",
        "        counter += 1\n",
        "\n",
        "    if deque2.size() == 0:\n",
        "        deque2.add(deque.popLeft())\n",
        "\n",
        "        for i in range(counter):\n",
        "            deque2.add(deque.pop()) \n",
        "\n",
        "        counter = 0\n",
        "\n",
        "print(deque2.values())\n",
        "\n",
        "\n"
      ]
    },
    {
      "cell_type": "markdown",
      "id": "49fbd2a0",
      "metadata": {
        "id": "49fbd2a0"
      },
      "source": [
        "### Задание №2\n",
        "Дек содержит последовательность символов для шифровки сообщений. Дан текстовый файл, содержащий зашифрованное сообщение. Пользуясь деком, расшифровать текст. \n",
        "Известно, что при шифровке каждый символ сообщения заменялся следующим за ним в деке по часовой стрелке через один."
      ]
    },
    {
      "cell_type": "code",
      "execution_count": 4,
      "id": "81cab7a8",
      "metadata": {
        "id": "81cab7a8"
      },
      "outputs": [
        {
          "name": "stdout",
          "output_type": "stream",
          "text": [
            "успех\n"
          ]
        }
      ],
      "source": [
        "with open (\"lab2_txt/test2.txt\", encoding = 'utf-8', mode = 'r') as file:\n",
        "    s = file.readline()\n",
        "\n",
        "alf = \"абвгдеёжзийклмнопрстуфхцчшщъыьэюя\"\n",
        "#успех\n",
        "#спнгу\n",
        "deque = Deque()\n",
        "\n",
        "for i in alf:\n",
        "    deque.add(i)\n",
        "\n",
        "def decode(message: str) -> str:\n",
        "    result = \"\"\n",
        "\n",
        "    for i in message:\n",
        "        for j in range(deque.size()):\n",
        "            deque.addLeft(deque.pop())\n",
        "\n",
        "            if i == deque.leftValue():\n",
        "                deque.addLeft(deque.pop())\n",
        "                result += deque.rightValue()\n",
        "                break\n",
        "\n",
        "    return result\n",
        "\n",
        "print(decode(s))\n"
      ]
    },
    {
      "cell_type": "markdown",
      "id": "c0894f47",
      "metadata": {
        "id": "c0894f47"
      },
      "source": [
        "### Задание №3\n",
        "Даны три стержня и n дисков различного размера. Диски можно надевать на стержни, образуя из них башни. Перенести n дисков со стержня А на стержень С, сохранив их первоначальный порядок. При переносе дисков необходимо соблюдать следующие правила:\n",
        "- на каждом шаге со стержня на стержень переносить только один диск;\n",
        "- диск нельзя помещать на диск меньшего размера;\n",
        "- для промежуточного хранения можно использовать стержень В.\n",
        "Реализовать алгоритм, используя три стека вместо стержней А, В, С. Информация о дисках хранится в исходном файле."
      ]
    },
    {
      "cell_type": "code",
      "execution_count": 5,
      "id": "9e91a9d4",
      "metadata": {
        "id": "9e91a9d4"
      },
      "outputs": [
        {
          "name": "stdout",
          "output_type": "stream",
          "text": [
            "[1, 2, 3, 4, 5, 6]\n"
          ]
        }
      ],
      "source": [
        "A = Stack()\n",
        "B = Stack()\n",
        "C = Stack()\n",
        "n = 6\n",
        "\n",
        "for i in range(n, 0, -1):\n",
        "    A.add(i)\n",
        "    \n",
        "def move(a: int, b: int) -> None:\n",
        "    if a.size() == 0 and b.size() > 0:\n",
        "        a.add(b.leftValue())\n",
        "        b.pop()\n",
        "\n",
        "    elif a.size() > 0 and b.size() == 0:\n",
        "        b.add(a.leftValue())\n",
        "        a.pop()\n",
        "\n",
        "    elif a.leftValue() > b.leftValue():\n",
        "        a.add(b.leftValue())\n",
        "        b.pop()\n",
        "        \n",
        "    else:\n",
        "        b.add(a.leftValue())\n",
        "        a.pop()\n",
        "        \n",
        "if n % 2 == 0:\n",
        "    while C.size() != n:\n",
        "        move(A, B)\n",
        "        move(A, C)\n",
        "        move(B, C)\n",
        "else:\n",
        "    while C.size() != n:\n",
        "        move(A, C)\n",
        "        move(A, B)\n",
        "        move(B, C)\n",
        "\n",
        "print(C.values())"
      ]
    },
    {
      "cell_type": "markdown",
      "id": "e5b0be17",
      "metadata": {
        "id": "e5b0be17"
      },
      "source": [
        "### Задание №4\n",
        "Дан текстовый файл с программой на алгоритмическом языке. За один просмотр файла проверить баланс круглых скобок в тексте, используя стек."
      ]
    },
    {
      "cell_type": "code",
      "execution_count": 6,
      "id": "5b1df60a",
      "metadata": {
        "id": "5b1df60a"
      },
      "outputs": [
        {
          "name": "stdout",
          "output_type": "stream",
          "text": [
            "False\n",
            "True\n"
          ]
        }
      ],
      "source": [
        "with open (\"lab2_txt/test4_false.txt\", encoding = 'utf-8', mode = 'r') as file:\n",
        "    s = file.readline()\n",
        "\n",
        "stack = Stack()\n",
        "\n",
        "def balance(s: str) -> bool:\n",
        "    for i in s:\n",
        "        if i == '(':\n",
        "            stack.add(i)\n",
        "\n",
        "        elif i == ')':\n",
        "            try:\n",
        "                stack.pop()\n",
        "                \n",
        "            except:\n",
        "                return False\n",
        "    \n",
        "    return stack.isEmpty()\n",
        "\n",
        "print(balance(s))\n",
        "\n",
        "with open (\"lab2_txt/test4_true.txt\", encoding = 'utf-8', mode = 'r') as file:\n",
        "    s = file.readline()\n",
        "    \n",
        "print(balance(s))\n"
      ]
    },
    {
      "cell_type": "markdown",
      "id": "c44cdd6b",
      "metadata": {
        "id": "c44cdd6b"
      },
      "source": [
        "### Задание №5\n",
        "Дан текстовый файл с программой на алгоритмическом языке. За один просмотр файла проверить баланс квадратных скобок в тексте, используя дек."
      ]
    },
    {
      "cell_type": "code",
      "execution_count": 7,
      "id": "36b8f400",
      "metadata": {
        "id": "36b8f400"
      },
      "outputs": [
        {
          "name": "stdout",
          "output_type": "stream",
          "text": [
            "True\n"
          ]
        }
      ],
      "source": [
        "deque = Deque()\n",
        "\n",
        "with open (\"lab2_txt/test5.txt\", encoding = 'utf-8', mode = 'r') as file:\n",
        "    s = file.readline()\n",
        "\n",
        "def square_balance(s: str) -> bool:\n",
        "    balance = 0\n",
        "\n",
        "    for i in s:\n",
        "        if i == '[':\n",
        "            balance += 1\n",
        "\n",
        "            if balance >= 0:\n",
        "                deque.addLeft('[')\n",
        "\n",
        "            else:\n",
        "                deque.pop()\n",
        "\n",
        "        elif i == ']':\n",
        "            balance -= 1\n",
        "\n",
        "            if balance < 0:\n",
        "                deque.add(']')\n",
        "            \n",
        "            else:\n",
        "                deque.popLeft()\n",
        "\n",
        "    return deque.isEmpty()\n",
        "\n",
        "print(square_balance(s))\n"
      ]
    },
    {
      "cell_type": "markdown",
      "id": "59d13dc7",
      "metadata": {
        "id": "59d13dc7"
      },
      "source": [
        "### Задание №6\n",
        "Дан файл из символов. Используя стек, за один просмотр файла напечатать сначала все цифры, затем все буквы, и, наконец, все остальные символы, сохраняя исходный порядок в каждой группе символов."
      ]
    },
    {
      "cell_type": "code",
      "execution_count": 8,
      "id": "297e36c2",
      "metadata": {
        "id": "297e36c2"
      },
      "outputs": [
        {
          "name": "stdout",
          "output_type": "stream",
          "text": [
            "['@', '!', 'q', 'a', 'g', '4', '3', '1']\n"
          ]
        }
      ],
      "source": [
        "main = Stack()\n",
        "helper = Stack()\n",
        "\n",
        "ch=\"a, b, c, d, e, f, g, h, i, j, k, l, m, n, o, p, q, r, s, t, u, v, w, x, y, z\"\n",
        "ch.replace(\", \", \"\")\n",
        "chars = 0\n",
        "others = 0\n",
        "\n",
        "\n",
        "with open (\"lab2_txt/test6.txt\", \"r\") as file:\n",
        "    for s in file.read():\n",
        "        if s.isdecimal():\n",
        "            for i in range(others):\n",
        "                helper.add(main.pop())\n",
        "\n",
        "            for i in range(chars):\n",
        "                helper.add(main.pop())\n",
        "            \n",
        "            main.add(s)\n",
        "\n",
        "            for i in range(chars):\n",
        "                main.add(helper.pop())\n",
        "\n",
        "            for i in range(others):\n",
        "                main.add(helper.pop())\n",
        "\n",
        "        elif s in ch:\n",
        "            chars += 1\n",
        "            for i in range(others):\n",
        "                helper.add(main.pop())\n",
        "\n",
        "            main.add(s)\n",
        "\n",
        "            for i in range(others):\n",
        "                main.add(helper.pop())\n",
        "\n",
        "        else:\n",
        "            others += 1\n",
        "            main.add(s)\n",
        "\n",
        "    print(main.items)\n",
        "\n",
        "\n",
        "\n",
        "\n",
        "        "
      ]
    },
    {
      "cell_type": "markdown",
      "id": "973f68bd",
      "metadata": {
        "id": "973f68bd"
      },
      "source": [
        "### Задание №7\n",
        "Дан файл из целых чисел. Используя дек, за один просмотр файла напечатать сначала все отрицательные числа, затем все положительные числа, сохраняя исходный порядок в каждой группе."
      ]
    },
    {
      "cell_type": "code",
      "execution_count": 9,
      "id": "c56fad66",
      "metadata": {
        "id": "c56fad66"
      },
      "outputs": [
        {
          "name": "stdout",
          "output_type": "stream",
          "text": [
            "[-1, -4, 2, 5, 4]\n"
          ]
        }
      ],
      "source": [
        "deque = Deque()\n",
        "neg = 0\n",
        "\n",
        "with open (\"lab2_txt/test7.txt\", encoding = 'utf-8', mode = 'r') as file:\n",
        "    for line in file.readlines():\n",
        "        if int(line) < 0:\n",
        "            for i in range(neg):\n",
        "                deque.add(deque.popLeft())\n",
        "\n",
        "            deque.addLeft(int(line))\n",
        "\n",
        "            for i in range(neg):\n",
        "                deque.addLeft(deque.pop())\n",
        "\n",
        "            neg += 1\n",
        "\n",
        "        else:\n",
        "            deque.add(int(line))\n",
        "\n",
        "print(deque.values())\n",
        "\n"
      ]
    },
    {
      "cell_type": "markdown",
      "id": "b9228191",
      "metadata": {
        "id": "b9228191"
      },
      "source": [
        "### Задание №8\n",
        "Дан текстовый файл. Используя стек, сформировать новый текстовый файл, содержащий строки исходного файла, записанные в обратном порядке: первая строка становится последней, вторая – предпоследней и т.д."
      ]
    },
    {
      "cell_type": "code",
      "execution_count": 10,
      "id": "981fbdfe",
      "metadata": {
        "id": "981fbdfe"
      },
      "outputs": [],
      "source": [
        "stack = Stack()\n",
        "\n",
        "with open (\"lab2_txt/test8.txt\", encoding = 'utf-8', mode = 'r') as file:\n",
        "    for line in file.readlines():\n",
        "        stack.add(line)\n",
        "        \n",
        "with open (\"lab2_txt/out8.txt\", \"w\") as file:\n",
        "    for i in range(stack.size()):\n",
        "        file.write(stack.pop())\n"
      ]
    },
    {
      "cell_type": "markdown",
      "id": "rental-jerusalem",
      "metadata": {
        "id": "rental-jerusalem"
      },
      "source": [
        "### Вывод\n"
      ]
    },
    {
      "cell_type": "markdown",
      "id": "0c2b8899",
      "metadata": {
        "id": "0c2b8899"
      },
      "source": []
    }
  ],
  "metadata": {
    "colab": {
      "provenance": []
    },
    "kernelspec": {
      "display_name": ".venv",
      "language": "python",
      "name": "python3"
    },
    "language_info": {
      "codemirror_mode": {
        "name": "ipython",
        "version": 3
      },
      "file_extension": ".py",
      "mimetype": "text/x-python",
      "name": "python",
      "nbconvert_exporter": "python",
      "pygments_lexer": "ipython3",
      "version": "3.9.7"
    },
    "vscode": {
      "interpreter": {
        "hash": "9868f2bdb0a7b38d0be3e4ec6a752692d5785b6ab8744dac3289f65e29953b76"
      }
    }
  },
  "nbformat": 4,
  "nbformat_minor": 5
}
