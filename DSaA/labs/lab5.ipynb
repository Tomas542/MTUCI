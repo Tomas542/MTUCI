{
  "cells": [
    {
      "attachments": {},
      "cell_type": "markdown",
      "id": "db4b50f0",
      "metadata": {
        "id": "db4b50f0"
      },
      "source": [
        "# Лабораторная работа №5\n",
        "## Выполнил студент группы БВТ2104 Юдин Артём"
      ]
    },
    {
      "attachments": {},
      "cell_type": "markdown",
      "id": "annual-symbol",
      "metadata": {
        "id": "annual-symbol"
      },
      "source": [
        "### Оглавление\n",
        "1. [Задание 1](#Задание-№1)\n",
        "2. [Задание 2](#Задание-№2)\n",
        "4. [Вывод](#Вывод)"
      ]
    },
    {
      "attachments": {},
      "cell_type": "markdown",
      "id": "independent-spirit",
      "metadata": {
        "id": "independent-spirit"
      },
      "source": [
        "> Дополнительные модули, использованные при выполнение лабораторной"
      ]
    },
    {
      "cell_type": "code",
      "execution_count": 13,
      "id": "4839be2b",
      "metadata": {
        "id": "4839be2b"
      },
      "outputs": [],
      "source": [
        "import time\n",
        "import numpy as np"
      ]
    },
    {
      "attachments": {},
      "cell_type": "markdown",
      "id": "inclusive-motorcycle",
      "metadata": {
        "id": "inclusive-motorcycle"
      },
      "source": [
        "### Задание №1\n",
        "Реализовать методы поиска подстроки в строке. Добавить возможность ввода строки и подстроки с клавиатуры. Предусмотреть возможность существования пробела. Реализовать возможность выбора опции чувствительности или нечувствительности к регистру. Оценить время работы каждого алгоритма поиска и сравнить его со временем работы стандартной функции поиска, используемой в выбранном языке программирования."
      ]
    },
    {
      "cell_type": "code",
      "execution_count": 14,
      "id": "88f51878",
      "metadata": {},
      "outputs": [],
      "source": [
        "string = input(\"Write down the string:\")\n",
        "#\"Hi there and welcome. This is a special hidden file with a secret. I don't want to tell you The Secret, but I do want to secretly tell you that I have one\"\n",
        "substring = input(\"Write down the substring:\")\n",
        "#one\n",
        "space = input(\"Delete spaces? y/n:\")\n",
        "case = input(\"Register? y/n:\")\n",
        "\n",
        "if space == \"y\":\n",
        "    string.replace(\" \", \"\")\n",
        "    substring.replace(\" \", \"\")\n",
        "\n",
        "if case == \"y\":\n",
        "    string = string.lower()\n",
        "    substring = substring.lower()"
      ]
    },
    {
      "attachments": {},
      "cell_type": "markdown",
      "id": "interracial-communication",
      "metadata": {
        "id": "interracial-communication"
      },
      "source": [
        "#### Алгоритм Кнута-Морриса-Пратта"
      ]
    },
    {
      "cell_type": "code",
      "execution_count": 15,
      "id": "presidential-level",
      "metadata": {
        "id": "presidential-level"
      },
      "outputs": [],
      "source": [
        "def knuth_morris_pratt(n:int, m:int) -> None:\n",
        "    pi = [0] * m\n",
        "    j = 0\n",
        "    i = 1\n",
        "\n",
        "    while i < m:\n",
        "        if substring[j] != substring[i]:\n",
        "            if j == 0:\n",
        "                pi[i] = 0\n",
        "                i += 1\n",
        "        \n",
        "            else:\n",
        "                j = pi[j-1]\n",
        "\n",
        "        else:\n",
        "            j += 1\n",
        "            pi[i] = j\n",
        "            i += 1\n",
        "            \n",
        "    print(pi)\n",
        "\n",
        "    i = 0\n",
        "    j = 0\n",
        "    ans = 0\n",
        "\n",
        "    while i < n:\n",
        "        if string[i] == substring[j]:\n",
        "            i += 1\n",
        "            j += 1\n",
        "\n",
        "            if j == m:\n",
        "                ans = i - m\n",
        "                break\n",
        "\n",
        "        else:\n",
        "            if j > 0:\n",
        "                j = pi[j - 1]\n",
        "\n",
        "            else:\n",
        "                i += 1\n",
        "\n",
        "    if i == n and j != m:\n",
        "        print(-1)\n",
        "\n",
        "    else:\n",
        "        print(ans)\n",
        "        print(string[ans:ans + j])\n"
      ]
    },
    {
      "attachments": {},
      "cell_type": "markdown",
      "id": "downtown-option",
      "metadata": {
        "id": "downtown-option"
      },
      "source": [
        "#### Упрощенный алгоритм Бойера-Мура"
      ]
    },
    {
      "cell_type": "code",
      "execution_count": 16,
      "id": "respective-reggae",
      "metadata": {
        "id": "respective-reggae"
      },
      "outputs": [],
      "source": [
        "def boyer_moore(n:int, m:int) -> None:\n",
        "    set_substring = set()  \n",
        "    d = {}     \n",
        "\n",
        "    for i in range(m - 2, -1, -1):\n",
        "        if substring[i] not in set_substring:\n",
        "            d[substring[i]] = m - i - 1\n",
        "            set_substring.add(substring[i])\n",
        "\n",
        "    if substring[m - 1] not in set_substring:\n",
        "        d[substring[m - 1]] = m\n",
        "\n",
        "    d['*'] = m\n",
        "    print(d)\n",
        "\n",
        "    i = m - 1\n",
        "    ans = 0\n",
        "\n",
        "    while(i < n):\n",
        "        k = 0\n",
        "        j = 0\n",
        "        check = False\n",
        "\n",
        "        for j in range(m - 1, -1, -1):\n",
        "            if string[i - k] != substring[j]:\n",
        "                if j == m - 1:\n",
        "                    if d.get(string[i], False):\n",
        "\n",
        "                        char_offset = d[string[i]]\n",
        "                    else:\n",
        "                        char_offset = d['*']\n",
        "\n",
        "                else:\n",
        "                    char_offset = d[substring[j]]\n",
        "\n",
        "                i += char_offset\n",
        "                check = True\n",
        "                break\n",
        "\n",
        "            k += 1         \n",
        "\n",
        "        if not check:\n",
        "            ans = i - k + 1\n",
        "            print(ans)\n",
        "            print(string[ans:ans + k])\n",
        "            break\n",
        "\n",
        "    else:\n",
        "        print(-1)"
      ]
    },
    {
      "cell_type": "code",
      "execution_count": 19,
      "id": "d0f144b6",
      "metadata": {},
      "outputs": [
        {
          "name": "stdout",
          "output_type": "stream",
          "text": [
            "Knutt-Morris-Pratt:\n",
            "[0, 0, 0]\n",
            "152\n",
            "one\n",
            "Time:  0.00013327598571777344\n",
            "\n",
            "Boyer-Moore:\n",
            "{'n': 1, 'o': 2, 'e': 3, '*': 3}\n",
            "152\n",
            "one\n",
            "Time:  0.0\n",
            "\n",
            "Buit-in func:\n",
            "152\n",
            "Time:  0.0\n"
          ]
        }
      ],
      "source": [
        "if len(string) < len(substring):\n",
        "    print(\"Subsrting is too long\")\n",
        "\n",
        "else:\n",
        "    print(\"Knutt-Morris-Pratt:\")\n",
        "    start_time = time.time()\n",
        "    knuth_morris_pratt(len(string), len(substring))\n",
        "    print(\"Time: \", time.time() - start_time)\n",
        "    print()\n",
        "    print(\"Boyer-Moore:\")\n",
        "    start_time = time.time()\n",
        "    boyer_moore(len(string), len(substring))\n",
        "    print(\"Time: \", time.time() - start_time)\n",
        "    print()\n",
        "    print(\"Buit-in func:\")\n",
        "    start_time = time.time()\n",
        "    print(string.find(substring))\n",
        "    print(\"Time: \", time.time() - start_time)\n",
        "    "
      ]
    },
    {
      "attachments": {},
      "cell_type": "markdown",
      "id": "hybrid-memorial",
      "metadata": {
        "id": "hybrid-memorial"
      },
      "source": [
        "### Задание №2\n",
        "Написать программу, определяющую, является ли данное\n",
        "расположение «решаемым», то есть можно ли из него за конечное число\n",
        "шагов перейти к правильному. Если это возможно, то необходимо найти хотя\n",
        "бы одно решение - последовательность движений, после которой числа будут\n",
        "расположены в правильном порядке.\n",
        "#### Входные данные: массив чисел, представляющий собой расстановку в\n",
        "Порядке «слева направо, сверху вниз». Число 0 обозначает пустое поле.\n",
        "Например, массив [1, 2, 3, 4, 5, 6, 7, 8, 9, 10, 11, 12, 13, 14, 15, 0] представляет\n",
        "собой «решенную» позицию элементов.\n",
        "#### Выходные данные: если решения нет, то функция должна вернуть\n",
        "Пустой массив []. Если решение есть, то необходимо представить решение —\n",
        "для каждого шага записывается номер передвигаемого на данном шаге\n",
        "элемента. "
      ]
    },
    {
      "cell_type": "code",
      "execution_count": 18,
      "id": "eleven-generic",
      "metadata": {
        "id": "eleven-generic"
      },
      "outputs": [
        {
          "name": "stdout",
          "output_type": "stream",
          "text": [
            "[3, 4, 0, 2, 5, 6, 7, 1]\n",
            "Moved 2 from cell 3 to cell 2\n",
            "Moved 3 from cell 0 to cell 3\n",
            "Moved 1 from cell 7 to cell 0\n",
            "Moved 7 from cell 6 to cell 7\n",
            "Moved 6 from cell 5 to cell 6\n",
            "Moved 5 from cell 4 to cell 5\n",
            "Moved 4 from cell 1 to cell 4\n",
            "Moved 1 from cell 0 to cell 1\n",
            "\n",
            "[0, 1, 2, 3, 4, 5, 6, 7]\n",
            "And everyone moved to the left!\n",
            "[1, 2, 3, 4, 5, 6, 7, 0]\n"
          ]
        }
      ],
      "source": [
        "arr = [0, 1, 2, 3, 4, 5, 6, 7]\n",
        "np.random.shuffle(arr)\n",
        "print(arr)\n",
        "solution = \"\"\n",
        "\n",
        "for _ in range(len(arr) * 2):\n",
        "    current_index = arr.index(0)\n",
        "\n",
        "    if current_index == 0:\n",
        "        for j in range(len(arr)-1, 0, -1):\n",
        "            if j != arr[j]:\n",
        "                arr[0] = arr[j]\n",
        "                arr[j] = 0\n",
        "                solution += f\"Moved {arr[0]} from cell {j} to cell 0\" + '\\n'\n",
        "                break\n",
        "        continue\n",
        "\n",
        "    next_index = arr.index(current_index)\n",
        "    arr[current_index] = arr[next_index]\n",
        "    arr[next_index] = 0\n",
        "    solution += f\"Moved {arr[current_index]} from cell {next_index} to cell {current_index}\" + '\\n'\n",
        "    \n",
        "    if arr == sorted(arr):\n",
        "        break\n",
        "\n",
        "test_val = sorted(arr)\n",
        "\n",
        "if arr == test_val:\n",
        "    print(solution)\n",
        "    print(arr)\n",
        "    arr.append(arr.pop(0))\n",
        "    print(\"And everyone moved to the left!\")\n",
        "    print(arr)\n",
        "    \n",
        "else:\n",
        "    print([])"
      ]
    },
    {
      "attachments": {},
      "cell_type": "markdown",
      "id": "arbitrary-amazon",
      "metadata": {
        "id": "arbitrary-amazon"
      },
      "source": [
        "### Вывод"
      ]
    },
    {
      "attachments": {},
      "cell_type": "markdown",
      "id": "71bc58bf",
      "metadata": {
        "id": "71bc58bf"
      },
      "source": []
    }
  ],
  "metadata": {
    "colab": {
      "provenance": []
    },
    "kernelspec": {
      "display_name": "Python 3 (ipykernel)",
      "language": "python",
      "name": "python3"
    },
    "language_info": {
      "codemirror_mode": {
        "name": "ipython",
        "version": 3
      },
      "file_extension": ".py",
      "mimetype": "text/x-python",
      "name": "python",
      "nbconvert_exporter": "python",
      "pygments_lexer": "ipython3",
      "version": "3.9.7"
    }
  },
  "nbformat": 4,
  "nbformat_minor": 5
}
