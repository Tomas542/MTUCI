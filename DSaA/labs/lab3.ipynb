{
  "cells": [
    {
      "cell_type": "markdown",
      "metadata": {
        "id": "0z3KlfKDn4_K"
      },
      "source": [
        "# Лабораторная работа 3. \n",
        "# Сетевые алгоритмы. Динамические алгоритмы поиска путей.\n"
      ]
    },
    {
      "attachments": {},
      "cell_type": "markdown",
      "metadata": {
        "id": "96Gi_LEvmSVH"
      },
      "source": [
        "## Выполнил студент группы БВТ2104 Юдин Артём \n",
        "***"
      ]
    },
    {
      "attachments": {},
      "cell_type": "markdown",
      "metadata": {
        "id": "GjdIp8aToKIe"
      },
      "source": [
        "### Задание\n",
        "\n",
        "1.  Реализовать алгоритмы поиска кратчайшего расстояния между двумя вершинами ориентированного взвешенного графа. \n",
        "\n",
        "2.  Предусмотреть задание графа в виде матрицы смежности/инцидентности, читаемой из файла, либо графически с помощью пользовательского интерфейса. \n",
        "\n",
        "3.  Разработать графический интерфейс пользователя с визуализацией графа и отображением кратчайшего расстояния между задаваемыми пользователем вершинами.\n",
        "\n",
        "4. По результатам работы проанализировать временную сложность работы заданного алгоритма в зависимости от числа узлов и ребер графа.\n",
        "Данные представить в виде таблицы.\n",
        "\n"
      ]
    },
    {
      "cell_type": "markdown",
      "metadata": {
        "id": "LhhUXrAmotIA"
      },
      "source": [
        "### Алгоритмы:\n",
        "\n",
        "Алгоритм Флойда-Уоршелла| Алгоритм Дейкстры | Алгоритм Беллмана-Форда | Алгоритм Джонсона| Алгоритм Левита | Алгоритм Йена\n",
        "\n"
      ]
    },
    {
      "cell_type": "markdown",
      "metadata": {
        "id": "Wggfn8l7nG72"
      },
      "source": [
        "### Выполнение:"
      ]
    },
    {
      "cell_type": "code",
      "execution_count": 12,
      "metadata": {},
      "outputs": [],
      "source": [
        "import numpy as np\n",
        "from copy import deepcopy\n",
        "from collections import deque"
      ]
    },
    {
      "cell_type": "code",
      "execution_count": 13,
      "metadata": {},
      "outputs": [],
      "source": [
        "class Graph:\n",
        "    def __init__(self, vertices:int) -> None:\n",
        "        self.V = vertices\n",
        "        self.graph = []\n",
        "\n",
        "    def add_edge(self, u:int, v:int, w:int) -> None:\n",
        "        self.graph.append([u, v, w])\n",
        "\n",
        "    def delete_edge(self):\n",
        "        self.graph.pop()\n",
        "        \n",
        "\n",
        "    def print_graph(self, dist:list[int], p:list[int], f:int) -> None:\n",
        "        path = []\n",
        "        path.append(f)\n",
        "        next_key = p[f]\n",
        "\n",
        "        while next_key:\n",
        "            path.append(next_key)\n",
        "            next_key = p[next_key]\n",
        "\n",
        "        path.append(next_key)\n",
        "        path.reverse()\n",
        "\n",
        "        print(\"Distances from the source:\")\n",
        "        \n",
        "        for i in range(len(dist)):\n",
        "            print(f\"Vertice: {i}, Distance: {dist[i]}\")\n",
        "\n",
        "        print(\"Path: \", path)\n",
        "\n",
        "        "
      ]
    },
    {
      "cell_type": "code",
      "execution_count": 14,
      "metadata": {},
      "outputs": [],
      "source": [
        "g = Graph(4)\n",
        "g.add_edge(0, 1, 10)\n",
        "g.add_edge(0, 2, -6)\n",
        "g.add_edge(1, 2, 7)\n",
        "g.add_edge(1, 3, 53)\n",
        "g.add_edge(2, 1, -2)\n",
        "g.add_edge(2, 3, 6)"
      ]
    },
    {
      "attachments": {},
      "cell_type": "markdown",
      "metadata": {},
      "source": [
        "### Алгоритм Флойда-Уоршелла\n",
        "\n",
        "Проходимся по всему графу и заносим все значения в массив, а также при хождение более короткого маршрута заменяем значения родителей. Сложность в V раз больше Дейкстре = O(v^3)"
      ]
    },
    {
      "cell_type": "code",
      "execution_count": 15,
      "metadata": {},
      "outputs": [],
      "source": [
        "def floyd_warshall(gr, src:int, fin:int) -> None:\n",
        "    distance = np.array([np.inf] * gr.V * gr.V).reshape(gr.V, gr.V)\n",
        "    pred = np.array([-1] * gr.V * gr.V).reshape(gr.V, gr.V)\n",
        "    for i in range(gr.V):\n",
        "        for j in range(gr.V):\n",
        "            if i == j:\n",
        "                distance[i][j] = 0\n",
        "                pred[i][j] = 0\n",
        "            \n",
        "    for a, b, c in gr.graph:\n",
        "        distance[a][b] = c\n",
        "        pred[a][b] = b\n",
        "    \n",
        "    for k in range(gr.V):\n",
        "        for i in range(gr.V):\n",
        "            for j in range(gr.V):\n",
        "                \n",
        "                #проверяем, не нашли ли мы более короткий путь\n",
        "                if distance[i][j] > distance[i][k] + distance[k][j]:\n",
        "                    distance[i][j] = distance[i][k] + distance[k][j]\n",
        "                    pred[i][j] = k #новый родитель\n",
        "\n",
        "    print(distance)\n",
        "    print(get_path_floyd_warshall(pred, src, fin))\n",
        "\n",
        "#восстанавливаем путь\n",
        "def get_path_floyd_warshall(P, u:int, v:int) -> list[int]:\n",
        "    path = [u]\n",
        "\n",
        "    while u != v:\n",
        "        u = P[u][v]\n",
        "        path.append(u)\n",
        "\n",
        "    return path"
      ]
    },
    {
      "attachments": {},
      "cell_type": "markdown",
      "metadata": {},
      "source": [
        "### Алгоритм Дейкстры\n",
        "\n",
        "Алгоритм поиска кратчайшего пути между 2 вершинами взвешенного графа O((V + E) * log(V)) \n",
        "\n",
        "*ещё есть реализация для плотных графов O(V^2 + E)"
      ]
    },
    {
      "cell_type": "code",
      "execution_count": 16,
      "metadata": {},
      "outputs": [],
      "source": [
        "def dijkstra(gr, src:int) -> None:\n",
        "    map_heap = {}\n",
        "\n",
        "    for i in range(gr.V):\n",
        "        map_heap[i] = np.inf\n",
        "\n",
        "    map_heap.pop(src)\n",
        "    distance = [np.inf] * gr.V\n",
        "    distance[src] = 0\n",
        "    pred = [-1] * gr.V\n",
        "    pred[src] = None\n",
        "\n",
        "    for a, b, c in gr.graph:\n",
        "        if a == src:\n",
        "            map_heap[b] = c\n",
        "            pred[b] = src\n",
        "\n",
        "    while map_heap:\n",
        "        smallest = min(map_heap.values())\n",
        "        temp_key = list(map_heap.keys())[list(map_heap.values()).index(smallest)]\n",
        "        distance[temp_key] = map_heap.pop(temp_key)\n",
        "        \n",
        "        for a, b, c in gr.graph:\n",
        "            if a == temp_key and b in map_heap.keys():\n",
        "                if map_heap[b] > distance[temp_key] + c:\n",
        "                    map_heap[b] = distance[temp_key] + c\n",
        "                    pred[b] = temp_key\n",
        "\n",
        "    gr.print_graph(distance, pred, 3)"
      ]
    },
    {
      "attachments": {},
      "cell_type": "markdown",
      "metadata": {},
      "source": [
        "### Алгоритм Беллмана-Форда"
      ]
    },
    {
      "cell_type": "code",
      "execution_count": 17,
      "metadata": {},
      "outputs": [],
      "source": [
        "def bellman_ford(gr:list[int], src:int) -> None:\n",
        "        \n",
        "    distance = [np.inf] * gr.V\n",
        "    distance[src] = 0\n",
        "    pred = [-1] * gr.V\n",
        "    pred[src] = None\n",
        "\n",
        "    for _ in range(gr.V - 1):\n",
        "        for a, b, c in gr.graph:\n",
        "            if distance[a] != np.inf and distance[a] + c < distance[b]:\n",
        "                distance[b] = distance[a] + c\n",
        "                pred[b] = a\n",
        "\n",
        "    for a, b, c in gr.graph:\n",
        "        if distance[a] != np.inf and distance[a] + c < distance[b]:\n",
        "            print(\"Graph contains negative weight cycle\")\n",
        "\n",
        "            return\n",
        "\n",
        "    gr.print_graph(distance, pred, 3)\n",
        "    \n",
        "    return distance"
      ]
    },
    {
      "attachments": {},
      "cell_type": "markdown",
      "metadata": {},
      "source": [
        "### Алгоритм Джонсона"
      ]
    },
    {
      "cell_type": "code",
      "execution_count": 18,
      "metadata": {},
      "outputs": [],
      "source": [
        "def johnson(gr, src):\n",
        "    new_graph = deepcopy(gr.graph)\n",
        "    \n",
        "    for i in range(gr.V):\n",
        "        gr.add_edge(gr.V, i, 0)\n",
        "\n",
        "    gr.V += 1\n",
        "    h = bellman_ford(gr, gr.V -1)\n",
        "    h.pop(-1)\n",
        "    gr.V -= 1\n",
        "    gr.graph = deepcopy(new_graph)\n",
        "    gr.graph = []\n",
        "\n",
        "    for a,b,c in new_graph:\n",
        "        new_w = c + h[a] - h[b]\n",
        "        gr.add_edge(a, b, new_w)\n",
        "\n",
        "    print(gr.graph)\n",
        "    dijkstra(gr, src)\n"
      ]
    },
    {
      "cell_type": "code",
      "execution_count": 19,
      "metadata": {},
      "outputs": [
        {
          "name": "stdout",
          "output_type": "stream",
          "text": [
            "Distances from the source:\n",
            "Vertice: 0, Distance: 0\n",
            "Vertice: 1, Distance: -8\n",
            "Vertice: 2, Distance: -6\n",
            "Vertice: 3, Distance: 0\n",
            "Vertice: 4, Distance: 0\n",
            "Path:  [None, 4, 3]\n",
            "[[0, 1, 18], [0, 2, 0], [1, 2, 5], [1, 3, 45], [2, 1, 0], [2, 3, 0]]\n",
            "Distances from the source:\n",
            "Vertice: 0, Distance: 0\n",
            "Vertice: 1, Distance: 0\n",
            "Vertice: 2, Distance: 0\n",
            "Vertice: 3, Distance: 0\n",
            "Path:  [0, 2, 3]\n"
          ]
        }
      ],
      "source": [
        "johnson(g, 0)"
      ]
    },
    {
      "attachments": {},
      "cell_type": "markdown",
      "metadata": {},
      "source": [
        "### Алгоритм Левита"
      ]
    },
    {
      "cell_type": "code",
      "execution_count": 20,
      "metadata": {},
      "outputs": [],
      "source": [
        "def levit(gr, src):\n",
        "    m0 = []\n",
        "    m1 = deque()\n",
        "    m2 = [x for x in range(gr.V)]\n",
        "    m1.append(m2.pop(src))\n",
        "    dist = [np.inf for _ in range(gr.V)]\n",
        "    dist[src] = 0\n",
        "    pred = [-1 for _ in range(gr.V)]\n",
        "    pred[src] = None\n",
        "    \n",
        "    while m1:\n",
        "        current = m1.popleft()\n",
        "\n",
        "        for a, b, c in gr.graph:\n",
        "            if a == current:\n",
        "                if b in m2:\n",
        "                    dist[b] = dist[a] + c\n",
        "                    m2.remove(b)\n",
        "                    m1.append(b)\n",
        "                    pred[b] = a\n",
        "                \n",
        "                elif b in m1:\n",
        "                    if dist[b] >= dist[a] + c:\n",
        "                        dist[b] = dist[a] + c\n",
        "                        pred[b] = a\n",
        "\n",
        "                elif b in m0:\n",
        "                    if dist[b] > dist[a] + c:\n",
        "                        dist[b] = dist[a] + c\n",
        "                        pred[b] = a\n",
        "                        m0.remove(b)\n",
        "                        m1.appendleft(b)\n",
        "        \n",
        "        m0.append(current)\n",
        "        \n",
        "    gr.print_graph(dist, pred, 3)"
      ]
    },
    {
      "attachments": {},
      "cell_type": "markdown",
      "metadata": {},
      "source": [
        "### Алгоритм Йена"
      ]
    },
    {
      "cell_type": "code",
      "execution_count": 21,
      "metadata": {},
      "outputs": [
        {
          "ename": "IndentationError",
          "evalue": "expected an indented block (2529190076.py, line 2)",
          "output_type": "error",
          "traceback": [
            "\u001b[1;36m  Cell \u001b[1;32mIn[21], line 2\u001b[1;36m\u001b[0m\n\u001b[1;33m    \u001b[0m\n\u001b[1;37m    ^\u001b[0m\n\u001b[1;31mIndentationError\u001b[0m\u001b[1;31m:\u001b[0m expected an indented block\n"
          ]
        }
      ],
      "source": [
        "def yen(gr, src):\n",
        "    "
      ]
    },
    {
      "cell_type": "markdown",
      "metadata": {
        "id": "diOb-K7LnO5a"
      },
      "source": [
        "### Вывод"
      ]
    }
  ],
  "metadata": {
    "colab": {
      "provenance": []
    },
    "kernelspec": {
      "display_name": "Python 3 (ipykernel)",
      "language": "python",
      "name": "python3"
    },
    "language_info": {
      "codemirror_mode": {
        "name": "ipython",
        "version": 3
      },
      "file_extension": ".py",
      "mimetype": "text/x-python",
      "name": "python",
      "nbconvert_exporter": "python",
      "pygments_lexer": "ipython3",
      "version": "3.9.7"
    }
  },
  "nbformat": 4,
  "nbformat_minor": 0
}
