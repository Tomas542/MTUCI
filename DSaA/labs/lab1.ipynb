{
  "cells": [
    {
      "attachments": {},
      "cell_type": "markdown",
      "id": "fifteen-sailing",
      "metadata": {
        "id": "fifteen-sailing"
      },
      "source": [
        "# Лабораторная работа №1\n",
        "## Выполнил студент группы БВТ2104 Юдин Артём Андреевич"
      ]
    },
    {
      "attachments": {},
      "cell_type": "markdown",
      "id": "particular-syndicate",
      "metadata": {
        "id": "particular-syndicate"
      },
      "source": [
        "### Оглавление\n",
        "1. [Задание 1](#Задание-№1)\n",
        "2. [Задание 2](#Задание-№2)\n",
        "3. [Задание 3](#Задание-№3)\n",
        "4. [Вывод](#Вывод)"
      ]
    },
    {
      "attachments": {},
      "cell_type": "markdown",
      "id": "arctic-stocks",
      "metadata": {
        "id": "arctic-stocks"
      },
      "source": [
        "### Задание №1\n",
        "<i> Вызвать функцию print() и передать туда строку Hello, World! </i>"
      ]
    },
    {
      "cell_type": "code",
      "execution_count": 1,
      "id": "caring-truck",
      "metadata": {
        "id": "caring-truck",
        "scrolled": true
      },
      "outputs": [
        {
          "name": "stdout",
          "output_type": "stream",
          "text": [
            "Hello, World!\n"
          ]
        }
      ],
      "source": [
        "print(\"Hello, World!\")"
      ]
    },
    {
      "attachments": {},
      "cell_type": "markdown",
      "id": "maritime-conversation",
      "metadata": {
        "id": "maritime-conversation"
      },
      "source": [
        "### Задание №2\n",
        "Написать генератор случайных матриц(многомерных), который принимает\n",
        "опциональные параметры <b>m</b>, <b>n</b>, <b>min_limit</b>, <b>max_limit</b>, где <b>m</b> и <b>n</b> указывают размер\n",
        "матрицы, а <b>min_lim</b> и <b>max_lim</b> - минимальное и максимальное значение для\n",
        "генерируемого числа."
      ]
    },
    {
      "cell_type": "code",
      "execution_count": 1,
      "id": "built-contact",
      "metadata": {
        "id": "built-contact"
      },
      "outputs": [],
      "source": [
        "import time\n",
        "import copy\n",
        "import numpy as np\n",
        "import matplotlib.pyplot as plt"
      ]
    },
    {
      "cell_type": "code",
      "execution_count": 2,
      "id": "8d35c5a4",
      "metadata": {},
      "outputs": [],
      "source": [
        "def matrix(n: int, m: int, min_limit: int, max_limit: int) -> list[int]:\n",
        "    mat = []\n",
        "\n",
        "    for i in range(m):\n",
        "        mat.append([])\n",
        "\n",
        "        for j in range(n):\n",
        "            mat[i].append(np.random.randint(min_limit, max_limit))\n",
        "    \n",
        "    return mat\n"
      ]
    },
    {
      "attachments": {},
      "cell_type": "markdown",
      "id": "catholic-roots",
      "metadata": {
        "id": "catholic-roots"
      },
      "source": [
        "### Задание №3\n",
        "Реализовать методы сортировки строк числовой матрицы в соответствии с\n",
        "заданием. Оценить время работы каждого алгоритма сортировки и сравнить его со\n",
        "временем стандартной функции сортировки. Испытания проводить на сгенерированных\n",
        "матрицах."
      ]
    },
    {
      "cell_type": "code",
      "execution_count": 4,
      "id": "cleared-anniversary",
      "metadata": {
        "id": "cleared-anniversary",
        "outputId": "b7c76c60-4acb-4c14-9bfb-d4f8d71093a1"
      },
      "outputs": [],
      "source": [
        "# Сортировка выбором.\n",
        "# Берётся срез массива, в котором минимальный элемент переносят в самый левый угол,\n",
        "# после чего срез уменьшается и цикл повторяется.\n",
        "def choose_sort(arr: list[int]) -> list[int]:\n",
        "    sorted_numbers = 0\n",
        "\n",
        "    while sorted_numbers != len(arr) - 1:\n",
        "        cut_array = arr[sorted_numbers:]\n",
        "        array_min = max_limit + 1\n",
        "\n",
        "        for i in range(len(cut_array)):\n",
        "            if array_min > cut_array[i]:\n",
        "                array_min = cut_array[i]\n",
        "                min_ind = i\n",
        "\n",
        "        cut_array[0], cut_array[min_ind] = cut_array[min_ind], cut_array[0]\n",
        "        arr = arr[:sorted_numbers] + cut_array\n",
        "\n",
        "        sorted_numbers += 1\n",
        "\n",
        "    return arr\n"
      ]
    },
    {
      "cell_type": "code",
      "execution_count": 5,
      "id": "roman-silly",
      "metadata": {
        "id": "roman-silly",
        "outputId": "84666b71-fb68-4c07-d27d-e716af29fcbb",
        "scrolled": true
      },
      "outputs": [],
      "source": [
        "# Сортировка вставкой.\n",
        "\n",
        "def ins(arr: list[int]) -> list[int]:\n",
        "    for i in range(1, len(arr)):\n",
        "        value = arr[i]\n",
        "        j = i - 1 \n",
        "\n",
        "        while(j >= 0 and value < arr[j]):\n",
        "            arr[j + 1] = arr[j]\n",
        "            j -= 1\n",
        "\n",
        "        arr[j + 1] = value\n",
        "\n",
        "    return arr\n"
      ]
    },
    {
      "cell_type": "code",
      "execution_count": 13,
      "id": "vital-implementation",
      "metadata": {
        "id": "vital-implementation",
        "outputId": "7b648bf5-37a5-4d47-926d-b799f7a23be2"
      },
      "outputs": [],
      "source": [
        "# Сортировка обменом. || Сортировка пузырьком.\n",
        "\n",
        "def bubble (arr: list[int]) -> list[int]:\n",
        "    for i in range(len(arr) - 1):\n",
        "        swap_check = True\n",
        "\n",
        "        for j in range(len(arr) - i - 1):\n",
        "            if arr[j] > arr[j + 1]:\n",
        "                arr[j], arr[j + 1] = arr[j + 1], arr[j]\n",
        "                swap_check = False\n",
        "\n",
        "        if swap_check:\n",
        "            break\n",
        "\n",
        "    return arr\n"
      ]
    },
    {
      "cell_type": "code",
      "execution_count": 7,
      "id": "veterinary-glory",
      "metadata": {
        "id": "veterinary-glory",
        "outputId": "9cc2a9ff-ec7a-43de-e4a8-47945d030986"
      },
      "outputs": [],
      "source": [
        "# Сортировка Шелла.\n",
        "\n",
        "def shell(arr: list[int]) -> list[int]:\n",
        "    count = 0\n",
        "    interval = len(arr) // 2 - 1\n",
        "\n",
        "    while interval > 0:\n",
        "        for i in range(interval, len(arr)):\n",
        "            j = i\n",
        "            current = arr[i]\n",
        "\n",
        "            while (interval <= j and arr[j - interval] > current):\n",
        "                arr[j] = arr[j - interval]\n",
        "                j -= interval                \n",
        "\n",
        "            arr[j] = current\n",
        "    \n",
        "        count += 1\n",
        "        interval = len(arr) // 2 - 1 - count\n",
        "\n",
        "    return arr\n"
      ]
    },
    {
      "attachments": {},
      "cell_type": "markdown",
      "id": "correct-chaos",
      "metadata": {
        "id": "correct-chaos",
        "outputId": "f4d9aef1-8a2f-46a0-def0-4c9e049f5c77"
      },
      "source": [
        "# Быстрая сортировка.\n",
        "\n",
        "def quicksort(arr: list[int]) -> list[int]:\n",
        "    if len(arr) <= 1:\n",
        "        return arr\n",
        "    \n",
        "    else:\n",
        "        choice = np.random.choice(arr)\n",
        "        smaller_numbers = []\n",
        "        chosen_number = []\n",
        "        larger_numbers = []\n",
        "        \n",
        "\n",
        "        for i in range(len(arr)):\n",
        "            if arr[i] < choice:\n",
        "                smaller_numbers.append(arr[i])\n",
        "\n",
        "            elif arr[i] > choice:\n",
        "                larger_numbers.append(arr[i])\n",
        "\n",
        "            else:\n",
        "                chosen_number.append(arr[i])\n",
        "\n",
        "        return quicksort(smaller_numbers) + chosen_number + quicksort(larger_numbers)\n",
        "        \n",
        "        "
      ]
    },
    {
      "cell_type": "code",
      "execution_count": 87,
      "id": "7e1a471b",
      "metadata": {},
      "outputs": [
        {
          "data": {
            "text/plain": [
              "array([-748, -645, -977, ..., -517, -380, -123])"
            ]
          },
          "execution_count": 87,
          "metadata": {},
          "output_type": "execute_result"
        }
      ],
      "source": [
        "import numpy as np\n",
        "start_time = time.time()\n",
        "a = np.random.randint(-1000, 1000, 200000).tolist()\n",
        "a.sort()\n",
        "print((time.time() - start_time) * 1000)"
      ]
    },
    {
      "cell_type": "code",
      "execution_count": 66,
      "id": "a472fbc0",
      "metadata": {},
      "outputs": [],
      "source": [
        "# Быстрая сортировка.\n",
        "\n",
        "def quicksort_np(arr: list[int]) -> list[int]:\n",
        "    if len(arr) <= 1:\n",
        "        return arr\n",
        "    \n",
        "    else:\n",
        "        choice = np.random.choice(arr)\n",
        "        arr_np = np.array(arr, dtype=\"u4\")\n",
        "        smaller_numbers = arr_np[arr_np < choice].tolist()\n",
        "        chosen_number = arr_np[arr_np == choice].tolist()\n",
        "        larger_numbers = arr_np[arr_np > choice].tolist()\n",
        "        arr = quicksort_np(smaller_numbers) + chosen_number + quicksort_np(larger_numbers)\n",
        "        \n",
        "        return arr"
      ]
    },
    {
      "cell_type": "code",
      "execution_count": 86,
      "id": "1c0f8bfc",
      "metadata": {},
      "outputs": [
        {
          "name": "stdout",
          "output_type": "stream",
          "text": [
            "19899.01614189148\n"
          ]
        },
        {
          "data": {
            "text/plain": [
              "array([-1000, -1000, -1000, ...,   999,   999,   999])"
            ]
          },
          "execution_count": 86,
          "metadata": {},
          "output_type": "execute_result"
        }
      ],
      "source": [
        "start_time = time.time()\n",
        "a = np.array(quicksort_np(a))\n",
        "print((time.time() - start_time) * 1000)\n",
        "a"
      ]
    },
    {
      "cell_type": "code",
      "execution_count": 88,
      "id": "cc500d3d",
      "metadata": {},
      "outputs": [
        {
          "name": "stdout",
          "output_type": "stream",
          "text": [
            "36295.23825645447\n"
          ]
        },
        {
          "data": {
            "text/plain": [
              "array([-1000, -1000, -1000, ...,   999,   999,   999])"
            ]
          },
          "execution_count": 88,
          "metadata": {},
          "output_type": "execute_result"
        }
      ],
      "source": [
        "start_time = time.time()\n",
        "a = np.array(quicksort(a))\n",
        "print((time.time() - start_time) * 1000)\n",
        "a"
      ]
    },
    {
      "cell_type": "code",
      "execution_count": 9,
      "id": "french-czech",
      "metadata": {
        "colab": {
          "base_uri": "https://localhost:8080/",
          "height": 217
        },
        "id": "french-czech",
        "outputId": "7e38b779-8bbf-4955-c3ad-2a6be0ee386a"
      },
      "outputs": [],
      "source": [
        "# Турнирная сортировка.\n",
        "\n",
        "def tour(arr: list[int]) -> list[int]:\n",
        "    while len(arr) > 1:\n",
        "        win_nums = []\n",
        "\n",
        "        if len(arr) % 2 != 0:\n",
        "            arr.append(max(arr) + 1)\n",
        "\n",
        "        for i in range(0, len(arr), 2):\n",
        "            if arr[i] > arr[i+1]:\n",
        "                win_nums.append(arr[i+1])\n",
        "\n",
        "            else:\n",
        "                win_nums.append(arr[i])\n",
        "\n",
        "        arr = copy.copy(win_nums)\n",
        "\n",
        "    return arr\n",
        "\n",
        "def toursort(arr: list[int]) -> list[int]:\n",
        "    sorted_arr = []\n",
        "\n",
        "    while (len(arr) > 0):\n",
        "        winner = tour(copy.copy(arr))[0]\n",
        "        arr.remove(winner)\n",
        "        sorted_arr.append(winner)\n",
        "\n",
        "    return sorted_arr\n",
        "    "
      ]
    },
    {
      "attachments": {},
      "cell_type": "markdown",
      "id": "9776a003",
      "metadata": {},
      "source": [
        "Класс для тестрирования времени сортировок, который принимает функцию сортировки, прогоняет её и замеряет время сортировки"
      ]
    },
    {
      "cell_type": "code",
      "execution_count": 10,
      "id": "07c1d18f",
      "metadata": {},
      "outputs": [],
      "source": [
        "class MySort:\n",
        "    def __init__(self, f, name=None) -> None:\n",
        "        self.name = f.__name__ if name is None else name\n",
        "        self.f = f\n",
        "        self.times = []\n",
        "\n",
        "    def __call__(self, arr: list[int]) -> float:\n",
        "        test = sorted(arr)\n",
        "        start_time = time.time()\n",
        "        res = self.f(arr)\n",
        "        time_s = time.time() - start_time\n",
        "\n",
        "        if test != res:\n",
        "            print(self.name, arr, test, res, sep=\"\\n\")\n",
        "\n",
        "        return round(time_s * 1000)\n",
        "        \n",
        "\n"
      ]
    },
    {
      "attachments": {},
      "cell_type": "markdown",
      "id": "f74b315e",
      "metadata": {},
      "source": [
        "Помещение в массивы sorts все наши сортировки с классами, затем прогон создания матриц 5 строк на i элементов в строке с последующим вычислением среднего времени сортировки"
      ]
    },
    {
      "cell_type": "code",
      "execution_count": 11,
      "id": "20befdb6",
      "metadata": {},
      "outputs": [],
      "source": [
        "sorts = [MySort(choose_sort), MySort(ins), MySort(bubble), MySort(quicksort), MySort(shell), MySort(toursort), MySort(sorted)]\n",
        "\n",
        "for i in range(1, 3002, 500):\n",
        "    user_m, user_n = 5, i\n",
        "    user_min_limit = np.random.randint(0, 200)\n",
        "    user_max_limit = np.random.randint(4000, 6000)\n",
        "    sample_orig = matrix(user_n, user_m, user_min_limit, user_max_limit)\n",
        "\n",
        "    for my_sort in sorts:\n",
        "        sample = copy.deepcopy(sample_orig)\n",
        "        time_spend_row = 0\n",
        "\n",
        "        for row in sample:\n",
        "            time_spend_row += my_sort(row)\n",
        "        \n",
        "        #вычисление среднего времени сортировки строки матрицы\n",
        "        my_sort.times.append(time_spend_row / 5) \n",
        "        "
      ]
    },
    {
      "cell_type": "code",
      "execution_count": 13,
      "id": "32970883",
      "metadata": {},
      "outputs": [
        {
          "data": {
            "image/png": "[encoded data removed]",
            "text/plain": [
              "<Figure size 640x480 with 1 Axes>"
            ]
          },
          "metadata": {},
          "output_type": "display_data"
        }
      ],
      "source": [
        "fig, ax = plt.subplots()\n",
        "\n",
        "#цикл отрисовки графиков\n",
        "for my_sort in sorts:\n",
        "    x = range(1, 3002, 500)\n",
        "    y = my_sort.times\n",
        "    ax.plot(x, y, linewidth = 2.5, label = my_sort.name)\n",
        "\n",
        "plt.legend()\n",
        "ax.set_xlabel(\"n\")\n",
        "ax.set_ylabel(\"t, мс\")\n",
        "ax.grid(which='major', color = 'k')\n",
        "\n",
        "ax.minorticks_on()\n",
        "ax.grid(which='minor', color = 'gray', linestyle = '-')\n"
      ]
    },
    {
      "attachments": {},
      "cell_type": "markdown",
      "id": "rental-jerusalem",
      "metadata": {
        "id": "rental-jerusalem"
      },
      "source": [
        "### Вывод\n"
      ]
    },
    {
      "attachments": {},
      "cell_type": "markdown",
      "id": "9d108a0a",
      "metadata": {
        "id": "9d108a0a"
      },
      "source": [
        "На графиках мы можем видеть, что каждая сортировка имеет свою облатсь применения в зависимости от длины массива. Наболее быстрым является quicksort, встроенный в python, далее наш quicksort с небольшим отстованием.\n",
        "\n",
        "В ходе проделанной работы мы научились работать с jupyter-notebook, писать 6 различных видов сортировок и замерять их время выполнения"
      ]
    }
  ],
  "metadata": {
    "colab": {
      "provenance": []
    },
    "kernelspec": {
      "display_name": ".venv",
      "language": "python",
      "name": "python3"
    },
    "language_info": {
      "codemirror_mode": {
        "name": "ipython",
        "version": 3
      },
      "file_extension": ".py",
      "mimetype": "text/x-python",
      "name": "python",
      "nbconvert_exporter": "python",
      "pygments_lexer": "ipython3",
      "version": "3.9.7"
    },
    "vscode": {
      "interpreter": {
        "hash": "9868f2bdb0a7b38d0be3e4ec6a752692d5785b6ab8744dac3289f65e29953b76"
      }
    }
  },
  "nbformat": 4,
  "nbformat_minor": 5
}
