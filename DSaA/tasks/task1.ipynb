{
 "cells": [
  {
   "cell_type": "code",
   "execution_count": 2,
   "metadata": {},
   "outputs": [],
   "source": [
    "from typing import List\n",
    "import numpy as np"
   ]
  },
  {
   "attachments": {},
   "cell_type": "markdown",
   "metadata": {},
   "source": [
    "### Задача 1. «Треугольник с максимальным периметром»\n",
    "Массив A состоит из целых положительных чисел длин отрезков. Составьте из трех отрез\n",
    "ков такой треугольник, чтобы его периметр был максимально возможным. Если невозможно\n",
    "составить треугольник с положительной площадью функция возвращает 0."
   ]
  },
  {
   "cell_type": "code",
   "execution_count": 3,
   "metadata": {},
   "outputs": [
    {
     "name": "stdout",
     "output_type": "stream",
     "text": [
      "5\n",
      "0\n",
      "10\n",
      "8\n"
     ]
    }
   ],
   "source": [
    "def triangle(array:List[int]) -> int:\n",
    "    if len(array) < 3:\n",
    "        return 0\n",
    "    \n",
    "    array.sort()\n",
    "    array.reverse()\n",
    "\n",
    "    for i in range(len(array) - 2):\n",
    "        if array[i + 1] + array[i + 2] > array[i]:\n",
    "            return array[i + 1] + array[i + 2] + array[i]\n",
    "    \n",
    "    return 0\n",
    "\n",
    "print(triangle([2, 1, 2]))\n",
    "print(triangle([1, 2, 1]))\n",
    "print(triangle([3, 2, 3, 4]))\n",
    "print(triangle([3, 6, 2, 3]))"
   ]
  },
  {
   "attachments": {},
   "cell_type": "markdown",
   "metadata": {},
   "source": [
    "### Задача 2. «Максимальное число»\n",
    "Дан массив неотрицательных целых чисел nums. Расположите их в таком порядке, чтобы\n",
    "вместе они образовали максимально возможное число.\n",
    "\n",
    "Замечание: Результат может быть очень большим числом, поэтому представьте его как\n",
    "string, а не integer."
   ]
  },
  {
   "cell_type": "code",
   "execution_count": 39,
   "metadata": {},
   "outputs": [
    {
     "data": {
      "text/plain": [
       "'9534330'"
      ]
     },
     "execution_count": 39,
     "metadata": {},
     "output_type": "execute_result"
    }
   ],
   "source": [
    "def largest_num(array:List[int]) -> str:\n",
    "    if len(array) == 1:\n",
    "        return str(array[0])\n",
    "    \n",
    "    array = list(map(str, array))\n",
    "    \n",
    "    for i in range(len(array)):\n",
    "        for j in range(1+i,len(array)):\n",
    "            if array[j]+array[i]>array[i]+array[j]:\n",
    "                array[i],array[j]=array[j],array[i]\n",
    "\n",
    "    result=''.join(array)\n",
    "\n",
    "    if(set(result) == '0'):\n",
    "        return '0'\n",
    "    \n",
    "    else:\n",
    "        return result\n",
    "    \n",
    "largest_num([3,30,34,5,9])\n",
    "    "
   ]
  },
  {
   "attachments": {},
   "cell_type": "markdown",
   "metadata": {},
   "source": [
    "### Задача 3. «Сортировка диагоналей в матрице»\n",
    "Дана матрица mat размером m * n, значения целочисленные. Напишите функцию, сор\n",
    "тирующую каждую диагональ матрицы по возрастанию и возвращающую получившуюся мат\n",
    "рицу."
   ]
  },
  {
   "cell_type": "code",
   "execution_count": 40,
   "metadata": {},
   "outputs": [
    {
     "name": "stdout",
     "output_type": "stream",
     "text": [
      "[[ 1  4  5  7  8 11]\n",
      " [11 22 23 25 25 27]\n",
      " [14 28 36 44 45 50]\n",
      " [15 31 52 58 66 68]\n",
      " [17 33 55 69 75 84]]\n"
     ]
    }
   ],
   "source": [
    "def mat_sort(mat:List[List[int]]) -> List[List[int]]:\n",
    "    m = len(mat)\n",
    "    n = len(mat[0])\n",
    "    arr = sorted(np.array(mat).flatten().tolist())\n",
    "    ans = np.reshape([0] * n * m, (m, n))\n",
    "    i=0\n",
    "    j=0\n",
    "    l = 0\n",
    "    count = 0\n",
    "\n",
    "\n",
    "    while i + j < n + m:\n",
    "        k = j\n",
    "        \n",
    "        while k < n:\n",
    "            ans[i][k] = arr[count]\n",
    "            count += 1\n",
    "            k += 1\n",
    "        \n",
    "        l = i + 1\n",
    "\n",
    "        while l < m:\n",
    "            ans[l][j] = arr[count]\n",
    "            l += 1\n",
    "            count += 1\n",
    "        \n",
    "        i += 1\n",
    "        j += 1\n",
    "\n",
    "        if i == m or j == n:\n",
    "            break\n",
    "\n",
    "    print(ans)\n",
    "    \n",
    "\n",
    "\n",
    "matrix = [[11, 25, 66, 1, 69, 7], [23, 55, 17, 45, 15, 52], [75, 31, 36,44, 58, 8], [22, 27, 33, 25, 68, 4], [84, 28, 14, 11, 5, 50]]\n",
    "mat_sort(matrix)"
   ]
  }
 ],
 "metadata": {
  "kernelspec": {
   "display_name": ".venv",
   "language": "python",
   "name": "python3"
  },
  "language_info": {
   "codemirror_mode": {
    "name": "ipython",
    "version": 3
   },
   "file_extension": ".py",
   "mimetype": "text/x-python",
   "name": "python",
   "nbconvert_exporter": "python",
   "pygments_lexer": "ipython3",
   "version": "3.9.7"
  },
  "orig_nbformat": 4
 },
 "nbformat": 4,
 "nbformat_minor": 2
}
