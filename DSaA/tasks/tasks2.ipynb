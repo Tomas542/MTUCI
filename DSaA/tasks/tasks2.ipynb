{
 "cells": [
  {
   "attachments": {},
   "cell_type": "markdown",
   "metadata": {},
   "source": [
    "# ЗАДАЧА 1\n",
    "Даны две строки: s1 и s2 с одинаковым размером, проверьте, может ли\n",
    "некоторая перестановка строки s1 “победить” некоторую перестановку\n",
    "строки s2 или наоборот.\n",
    "Строка x может “победить” строку y (обе имеют размер n), если x[i]> = y\n",
    "[i] (в алфавитном порядке) для всех i от 0 до n-1."
   ]
  },
  {
   "cell_type": "code",
   "execution_count": 5,
   "metadata": {},
   "outputs": [],
   "source": [
    "def winner(string1: str, string2: str) -> bool:\n",
    "    if len(str1) != len(str2):\n",
    "        return False\n",
    "    \n",
    "    str1 = sorted(string1)\n",
    "    str2 = sorted(string2)\n",
    "    counter1 = 0\n",
    "    counter2 = 0\n",
    "\n",
    "    for i in range(len(str1)):\n",
    "        if str1[i] >= str2[i]:\n",
    "            counter1 += 1\n",
    "            \n",
    "        if str1[i] <= str2[i]:\n",
    "            counter2 += 1\n",
    "        \n",
    "    return counter1 == len(str1) or counter2 == len(str1)\n"
   ]
  },
  {
   "attachments": {},
   "cell_type": "markdown",
   "metadata": {},
   "source": [
    "# ЗАДАЧА 2\n",
    "Дана строка s, вернуть самую длинную полиндромную подстроку в s."
   ]
  },
  {
   "cell_type": "code",
   "execution_count": 2,
   "metadata": {},
   "outputs": [
    {
     "data": {
      "text/plain": [
       "'abba'"
      ]
     },
     "execution_count": 2,
     "metadata": {},
     "output_type": "execute_result"
    }
   ],
   "source": [
    "def longest_palindrome(s: str) -> str:\n",
    "      ans = \"\"\n",
    "      sub_len = 0\n",
    "\n",
    "      for i in range(len(s)):\n",
    "\n",
    "            l = r = i\n",
    "            while l >= 0 and r < len(s) and s[r] == s[l]:\n",
    "                  if sub_len < r - l + 1:\n",
    "                        sub_len = r - l + 1\n",
    "                        ans = s[l:r + 1]\n",
    "                  l -= 1\n",
    "                  r += 1\n",
    "            \n",
    "            l = i\n",
    "            r = i + 1\n",
    "            while l >= 0 and r < len(s) and s[r] == s[l]:\n",
    "                  if sub_len < r - l + 1:\n",
    "                        sub_len = r - l + 1\n",
    "                        ans = s[l:r + 1]\n",
    "\n",
    "                  r += 1\n",
    "                  l -= 1\n",
    "      \n",
    "      return ans\n",
    "\n",
    "longest_palindrome(\"babba\")"
   ]
  },
  {
   "attachments": {},
   "cell_type": "markdown",
   "metadata": {},
   "source": [
    "# ЗАДАЧА 3\n",
    "Вернуть количество отдельных непустых подстрок текста, которые могут\n",
    "быть записаны как конкатенация некоторой строки с самой собой (т.е. она\n",
    "может быть записана, как a + a, где a - некоторая строка)."
   ]
  },
  {
   "cell_type": "code",
   "execution_count": 18,
   "metadata": {},
   "outputs": [
    {
     "data": {
      "text/plain": [
       "6"
      ]
     },
     "execution_count": 18,
     "metadata": {},
     "output_type": "execute_result"
    }
   ],
   "source": [
    "def concant(s: str) -> int:\n",
    "    ans = list()\n",
    "    \n",
    "    for i in range(len(s)):\n",
    "        j = i\n",
    "        count = 0\n",
    "\n",
    "        while count <= len(s[i:]) // 2 + 1:\n",
    "            if s[i:j] * 2 == s[i:j+count]:\n",
    "                ans.append(s[i:j])\n",
    "\n",
    "            count += 1\n",
    "            j += 1\n",
    "    \n",
    "    return len(set(ans)) - 1\n",
    "\n",
    "concant(\"ababbababba\")"
   ]
  }
 ],
 "metadata": {
  "kernelspec": {
   "display_name": ".venv",
   "language": "python",
   "name": "python3"
  },
  "language_info": {
   "codemirror_mode": {
    "name": "ipython",
    "version": 3
   },
   "file_extension": ".py",
   "mimetype": "text/x-python",
   "name": "python",
   "nbconvert_exporter": "python",
   "pygments_lexer": "ipython3",
   "version": "3.9.7"
  },
  "orig_nbformat": 4
 },
 "nbformat": 4,
 "nbformat_minor": 2
}
