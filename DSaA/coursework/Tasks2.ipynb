{
  "nbformat": 4,
  "nbformat_minor": 0,
  "metadata": {
    "colab": {
      "provenance": []
    },
    "kernelspec": {
      "name": "python3",
      "display_name": "Python 3"
    },
    "language_info": {
      "name": "python"
    }
  },
  "cells": [
    {
      "cell_type": "markdown",
      "source": [
        "# Контрольные задачи по дисциплине СиАОД №2\n",
        "# Выполнила студентка нруппы БВТ2104 Бухонова Арина"
      ],
      "metadata": {
        "id": "_mxdPvKv0j5H"
      }
    },
    {
      "cell_type": "markdown",
      "source": [
        "**Задача 1.**\n",
        "\n",
        "Даны две строки: s1 и s2 с одинаковым размером, проверьте, может ли\n",
        "некоторая перестановка строки s1 “победить” некоторую перестановку\n",
        "строки s2 или наоборот.\n",
        "Строка x может “победить” строку y (обе имеют размер n), если x[i]> = y\n",
        "[i] (в алфавитном порядке) для всех i от 0 до n-1.\n"
      ],
      "metadata": {
        "id": "LwRw1D4q0uWx"
      }
    },
    {
      "cell_type": "markdown",
      "source": [
        "* s1.length == n\n",
        "\n",
        "* s2.length == n\n",
        "\n",
        "* 1 <= n <= 10^5"
      ],
      "metadata": {
        "id": "GUhMNefn08n2"
      }
    },
    {
      "cell_type": "code",
      "source": [
        "def win_str(s1, s2):\n",
        "  s1 = list(s1)\n",
        "  s2 = list(s2)\n",
        "  s1.sort()\n",
        "  s2.sort()\n",
        "  flag = 1\n",
        "  for i in range(len(s1)):\n",
        "    if s1[i] < s2[i]:\n",
        "      flag = 0\n",
        "  if flag == 0:\n",
        "    flag = 1\n",
        "    for i in range(len(s1)):\n",
        "      if s2[i] < s1[i]:\n",
        "        flag = 0\n",
        "  return flag == 1"
      ],
      "metadata": {
        "id": "4Pc9S2qT1G8K"
      },
      "execution_count": null,
      "outputs": []
    },
    {
      "cell_type": "code",
      "source": [
        "print(win_str('abc','xya'))\n",
        "print(win_str('abe','acd'))"
      ],
      "metadata": {
        "colab": {
          "base_uri": "https://localhost:8080/"
        },
        "id": "bZb8EVO41L0s",
        "outputId": "a0b3c07c-5410-43a4-ff5e-553b7a9229a6"
      },
      "execution_count": null,
      "outputs": [
        {
          "output_type": "stream",
          "name": "stdout",
          "text": [
            "True\n",
            "False\n"
          ]
        }
      ]
    },
    {
      "cell_type": "markdown",
      "source": [
        "**Задача 2.**\n",
        "\n",
        "Дана строка s, вернуть самую длинную полиндромную подстроку в s."
      ],
      "metadata": {
        "id": "8VYRgMzh1gyL"
      }
    },
    {
      "cell_type": "code",
      "source": [
        "def longest_palindrome(s):\n",
        "  n = len(s)\n",
        "  max_len = 0\n",
        "  start = 0\n",
        "\n",
        "  for i in range(n):\n",
        "    # для нечетных палиндромов\n",
        "    left = right = i\n",
        "    while left >= 0 and right < n and s[left] == s[right]:\n",
        "      if right - left + 1 > max_len:\n",
        "        max_len = right - left + 1\n",
        "        start = left\n",
        "      left -= 1\n",
        "      right += 1\n",
        "\n",
        "    # для четных палиндромов\n",
        "    left = i\n",
        "    right = i + 1\n",
        "    while left >= 0 and right < n and s[left] == s[right]:\n",
        "      if right - left + 1 > max_len:\n",
        "        max_len = right - left + 1\n",
        "        start = left\n",
        "      left -= 1\n",
        "      right += 1\n",
        "      \n",
        "  return s[start:start + max_len]"
      ],
      "metadata": {
        "id": "HMq5zrMj17ST"
      },
      "execution_count": null,
      "outputs": []
    },
    {
      "cell_type": "code",
      "source": [
        "print(longest_palindrome('babad'))\n",
        "print(longest_palindrome('cbbd'))"
      ],
      "metadata": {
        "colab": {
          "base_uri": "https://localhost:8080/"
        },
        "id": "0f0rAieN2a7Z",
        "outputId": "9b58d21e-0560-4b3c-b3cc-e18549586692"
      },
      "execution_count": null,
      "outputs": [
        {
          "output_type": "stream",
          "name": "stdout",
          "text": [
            "bab\n",
            "bb\n"
          ]
        }
      ]
    },
    {
      "cell_type": "markdown",
      "source": [
        "**Задача 3.**\n",
        "\n",
        "\n",
        "Вернуть количество отдельных непустых подстрок текста, которые могут\n",
        "быть записаны как конкатенация некоторой строки с самой собой (т.е. она\n",
        "может быть записана, как a + a, где a - некоторая строка).\n"
      ],
      "metadata": {
        "id": "4e7m9Qxd2uTM"
      }
    },
    {
      "cell_type": "code",
      "source": [
        "def number_str(s):\n",
        "    number = []\n",
        "    for i in range(len(s) - 1):\n",
        "        f = 2\n",
        "        while f <= len(s):\n",
        "            if s[i: i+ f // 2] == s[i + f //2: i + f]:\n",
        "                number.append(s[i: i+ f // 2])\n",
        "            f +=2\n",
        "    return len(set(number))"
      ],
      "metadata": {
        "id": "WzyBn0M_3UaU"
      },
      "execution_count": null,
      "outputs": []
    },
    {
      "cell_type": "code",
      "source": [
        "print(number_str('abcabcabc'))"
      ],
      "metadata": {
        "colab": {
          "base_uri": "https://localhost:8080/"
        },
        "id": "FievGNai3fy1",
        "outputId": "3d111309-6cda-4592-c051-d0d2afb0fb39"
      },
      "execution_count": null,
      "outputs": [
        {
          "output_type": "stream",
          "name": "stdout",
          "text": [
            "3\n"
          ]
        }
      ]
    }
  ]
}